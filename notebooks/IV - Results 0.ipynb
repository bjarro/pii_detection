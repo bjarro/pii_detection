{
 "cells": [
  {
   "cell_type": "markdown",
   "id": "7ea9e0da-8ad2-4187-aee2-bd286530b328",
   "metadata": {
    "tags": []
   },
   "source": [
    "# Imports"
   ]
  },
  {
   "cell_type": "code",
   "execution_count": 2,
   "id": "e3b8c903-f1ee-43af-9191-0869e873f6e8",
   "metadata": {},
   "outputs": [
    {
     "name": "stderr",
     "output_type": "stream",
     "text": [
      "D:\\Anaconda3\\envs\\nlp_torch\\Lib\\site-packages\\tqdm\\auto.py:21: TqdmWarning: IProgress not found. Please update jupyter and ipywidgets. See https://ipywidgets.readthedocs.io/en/stable/user_install.html\n",
      "  from .autonotebook import tqdm as notebook_tqdm\n"
     ]
    }
   ],
   "source": [
    "from datasets import load_dataset, load_from_disk\n",
    "from collections import Counter\n",
    "import functools"
   ]
  },
  {
   "cell_type": "code",
   "execution_count": 3,
   "id": "8dfa6ec2-e5a3-4137-9380-4ab9db6440c1",
   "metadata": {},
   "outputs": [],
   "source": [
    "# %load_ext autoreload\n",
    "# %autoreload 2"
   ]
  },
  {
   "cell_type": "code",
   "execution_count": 4,
   "id": "b428f603-3fc9-433d-8af7-00f7a511bdad",
   "metadata": {},
   "outputs": [],
   "source": [
    "%run PII_Util.py"
   ]
  },
  {
   "cell_type": "markdown",
   "id": "24d6a718-767d-4d72-8c02-0d2d5d71fab1",
   "metadata": {},
   "source": [
    "# Initialize Model Adapter"
   ]
  },
  {
   "cell_type": "code",
   "execution_count": 5,
   "id": "745e2fad-ee99-4b45-b9cb-9ec7c226e1ae",
   "metadata": {},
   "outputs": [],
   "source": [
    "model_adapter = Yanis_Adapter(threshold = 0.01, config_only=True)"
   ]
  },
  {
   "cell_type": "markdown",
   "id": "7eddebac-ebd9-40f6-b6b6-7f7fd7c11665",
   "metadata": {},
   "source": [
    "# Data"
   ]
  },
  {
   "cell_type": "code",
   "execution_count": 6,
   "id": "02585870-9205-48a6-aca9-eeb229fb63db",
   "metadata": {},
   "outputs": [
    {
     "name": "stdout",
     "output_type": "stream",
     "text": [
      "CPU times: total: 0 ns\n",
      "Wall time: 2.52 s\n"
     ]
    }
   ],
   "source": [
    "%%time\n",
    "preprocessed_dataset = load_from_disk(\"./in/tokenized_datasets\")\n",
    "# preprocessed_dataset = load_from_disk(\"./in/preprocessed_dataset_2\")"
   ]
  },
  {
   "cell_type": "code",
   "execution_count": 7,
   "id": "bbacca15-8b49-44ce-89ac-44a9e7adc60c",
   "metadata": {},
   "outputs": [
    {
     "name": "stdout",
     "output_type": "stream",
     "text": [
      "CPU times: total: 1.39 s\n",
      "Wall time: 20.7 s\n"
     ]
    }
   ],
   "source": [
    "%%time\n",
    "loaded_predictions = np.load(\"./in/preds01.npy\")"
   ]
  },
  {
   "cell_type": "code",
   "execution_count": 8,
   "id": "6d3ab549-056b-47dd-89eb-b2589401c5dd",
   "metadata": {},
   "outputs": [],
   "source": [
    "temp_labels = preprocessed_dataset[0]['labels']"
   ]
  },
  {
   "cell_type": "code",
   "execution_count": 9,
   "id": "0277443b-1cf9-4616-a2c9-6987cc82d801",
   "metadata": {},
   "outputs": [
    {
     "data": {
      "text/plain": [
       "(array([0, 2]), array([709,   9], dtype=int64))"
      ]
     },
     "execution_count": 9,
     "metadata": {},
     "output_type": "execute_result"
    }
   ],
   "source": [
    "np.unique(temp_labels, return_counts=True)"
   ]
  },
  {
   "cell_type": "markdown",
   "id": "bd2a23c9-6a5f-4a09-a1c1-72cd94ba7702",
   "metadata": {},
   "source": [
    "# Compute Metrics"
   ]
  },
  {
   "cell_type": "markdown",
   "id": "59b3cc1e-4222-463b-b8da-f01737e60096",
   "metadata": {},
   "source": [
    "## Label Names"
   ]
  },
  {
   "cell_type": "code",
   "execution_count": 30,
   "id": "faaf6f4a-2f4c-4915-9f85-472d8d11f46d",
   "metadata": {},
   "outputs": [],
   "source": [
    "def col_id2label(col_name):\n",
    "    list_name = col_name.split('_')\n",
    "    \n",
    "    \n",
    "    if list_name[-1].isdigit():\n",
    "        label_id = int(list_name[-1])\n",
    "        \n",
    "        if list_name[0] == 'token':\n",
    "            list_name[-1] = model_adapter.config.id2label[label_id]\n",
    "        else:\n",
    "            list_name[-1] = id2classes[label_id]\n",
    "        return '_'.join(list_name)\n",
    "        \n",
    "    else:\n",
    "        return col_name"
   ]
  },
  {
   "cell_type": "code",
   "execution_count": 11,
   "id": "e79237f5-93d0-4aa3-a278-651b663ce21f",
   "metadata": {},
   "outputs": [
    {
     "data": {
      "text/plain": [
       "[1, 3, 5, 6, 7, 9, 11, 13, 15, 16, 17]"
      ]
     },
     "execution_count": 11,
     "metadata": {},
     "output_type": "execute_result"
    }
   ],
   "source": [
    "model_adapter.labels_irrelevant"
   ]
  },
  {
   "cell_type": "code",
   "execution_count": 12,
   "id": "e73e526d-5e84-4ad3-8009-81142a69a082",
   "metadata": {},
   "outputs": [],
   "source": [
    "labels_padded = pad_lists(preprocessed_dataset['labels'], -100, loaded_predictions.shape[1])"
   ]
  },
  {
   "cell_type": "code",
   "execution_count": 21,
   "id": "63f2b268-5340-4e1b-97e8-ac93b21b30e5",
   "metadata": {
    "tags": []
   },
   "outputs": [
    {
     "name": "stdout",
     "output_type": "stream",
     "text": [
      "CPU times: total: 484 ms\n",
      "Wall time: 980 ms\n"
     ]
    }
   ],
   "source": [
    "%%time\n",
    "%run PII_Util.py\n",
    "threshold = 0.18\n",
    "# model_adapter = Yanis_Adapter(threshold = 0.01, config_only=True)\n",
    "model_adapter = Yanis_Adapter(threshold = threshold, config_only=True, will_bio_tokens=False, will_bio_words=True)\n",
    "compute_metrics = functools.partial(compute_metrics_base, preprocessed_dataset=preprocessed_dataset, model_adapter=model_adapter, threshold=0.01, return_processed=True)"
   ]
  },
  {
   "cell_type": "code",
   "execution_count": 22,
   "id": "2680c9b4-2e55-42e0-8f40-857555d0de23",
   "metadata": {},
   "outputs": [
    {
     "name": "stdout",
     "output_type": "stream",
     "text": [
      "CPU times: total: 1min 1s\n",
      "Wall time: 1min 1s\n"
     ]
    }
   ],
   "source": [
    "%%time\n",
    "eval_preds = (loaded_predictions, labels_padded, None)\n",
    "dict_all_scores, dict_processed = compute_metrics(eval_preds)"
   ]
  },
  {
   "cell_type": "code",
   "execution_count": 24,
   "id": "bab2f13d-32be-4aec-8b4c-086e1c0debee",
   "metadata": {},
   "outputs": [],
   "source": [
    "del loaded_predictions, labels_padded"
   ]
  },
  {
   "cell_type": "code",
   "execution_count": 26,
   "id": "8f985403-b4bc-4979-a97a-bc9f1b69dcf9",
   "metadata": {},
   "outputs": [
    {
     "data": {
      "text/plain": [
       "1384"
      ]
     },
     "execution_count": 26,
     "metadata": {},
     "output_type": "execute_result"
    }
   ],
   "source": [
    "import gc\n",
    "gc.collect()"
   ]
  },
  {
   "cell_type": "code",
   "execution_count": 28,
   "id": "58a73a24-4846-4b1c-b7a0-cdc76c2e028e",
   "metadata": {},
   "outputs": [],
   "source": [
    "flat_label_ids = dict_processed['flat_label_ids']\n",
    "flat_true_labels_id =  dict_processed['flat_true_labels_id']\n",
    "flat_word_label_ids =  dict_processed['flat_word_label_ids']\n",
    "flat_word_true_labels_id =  dict_processed['flat_word_true_labels_id']\n",
    "token_confusion_matrix = dict_all_scores.pop('token_confusion_matrix')\n",
    "word_confusion_matrix = dict_all_scores.pop('word_confusion_matrix')"
   ]
  },
  {
   "cell_type": "code",
   "execution_count": 31,
   "id": "f96e59ad-e95b-4d33-b154-1ca3ec0f487f",
   "metadata": {
    "collapsed": true,
    "jupyter": {
     "outputs_hidden": true
    },
    "tags": []
   },
   "outputs": [
    {
     "name": "stdout",
     "output_type": "stream",
     "text": [
      "CPU times: total: 31.2 ms\n",
      "Wall time: 538 ms\n"
     ]
    },
    {
     "data": {
      "text/html": [
       "<div>\n",
       "<style scoped>\n",
       "    .dataframe tbody tr th:only-of-type {\n",
       "        vertical-align: middle;\n",
       "    }\n",
       "\n",
       "    .dataframe tbody tr th {\n",
       "        vertical-align: top;\n",
       "    }\n",
       "\n",
       "    .dataframe thead th {\n",
       "        text-align: right;\n",
       "    }\n",
       "</style>\n",
       "<table border=\"1\" class=\"dataframe\">\n",
       "  <thead>\n",
       "    <tr style=\"text-align: right;\">\n",
       "      <th></th>\n",
       "      <th>precision</th>\n",
       "      <th>recall</th>\n",
       "      <th>f_beta</th>\n",
       "      <th>tp</th>\n",
       "      <th>fp</th>\n",
       "      <th>fn</th>\n",
       "    </tr>\n",
       "  </thead>\n",
       "  <tbody>\n",
       "    <tr>\n",
       "      <th>token_total_metrics</th>\n",
       "      <td>0.067975</td>\n",
       "      <td>0.877603</td>\n",
       "      <td>0.601879</td>\n",
       "      <td>3413.0</td>\n",
       "      <td>46797.0</td>\n",
       "      <td>476.0</td>\n",
       "    </tr>\n",
       "    <tr>\n",
       "      <th>word_total_metrics</th>\n",
       "      <td>0.106270</td>\n",
       "      <td>0.892296</td>\n",
       "      <td>0.694675</td>\n",
       "      <td>2444.0</td>\n",
       "      <td>20554.0</td>\n",
       "      <td>295.0</td>\n",
       "    </tr>\n",
       "    <tr>\n",
       "      <th>token_O</th>\n",
       "      <td>0.999970</td>\n",
       "      <td>0.990187</td>\n",
       "      <td>0.990560</td>\n",
       "      <td>4688006.0</td>\n",
       "      <td>139.0</td>\n",
       "      <td>46460.0</td>\n",
       "    </tr>\n",
       "    <tr>\n",
       "      <th>token_Racial or ethnic information</th>\n",
       "      <td>0.000000</td>\n",
       "      <td>0.000000</td>\n",
       "      <td>0.000000</td>\n",
       "      <td>0.0</td>\n",
       "      <td>0.0</td>\n",
       "      <td>0.0</td>\n",
       "    </tr>\n",
       "    <tr>\n",
       "      <th>token_Name</th>\n",
       "      <td>0.082514</td>\n",
       "      <td>0.972301</td>\n",
       "      <td>0.687261</td>\n",
       "      <td>3089.0</td>\n",
       "      <td>34347.0</td>\n",
       "      <td>88.0</td>\n",
       "    </tr>\n",
       "    <tr>\n",
       "      <th>token_Sexual orientation</th>\n",
       "      <td>0.000000</td>\n",
       "      <td>0.000000</td>\n",
       "      <td>0.000000</td>\n",
       "      <td>0.0</td>\n",
       "      <td>0.0</td>\n",
       "      <td>0.0</td>\n",
       "    </tr>\n",
       "    <tr>\n",
       "      <th>token_Phone Numbers</th>\n",
       "      <td>0.027374</td>\n",
       "      <td>0.980000</td>\n",
       "      <td>0.419079</td>\n",
       "      <td>49.0</td>\n",
       "      <td>1741.0</td>\n",
       "      <td>1.0</td>\n",
       "    </tr>\n",
       "    <tr>\n",
       "      <th>token_Health insurance information</th>\n",
       "      <td>0.000000</td>\n",
       "      <td>0.000000</td>\n",
       "      <td>0.000000</td>\n",
       "      <td>0.0</td>\n",
       "      <td>0.0</td>\n",
       "      <td>0.0</td>\n",
       "    </tr>\n",
       "    <tr>\n",
       "      <th>token_Religious beliefs</th>\n",
       "      <td>0.000000</td>\n",
       "      <td>0.000000</td>\n",
       "      <td>0.000000</td>\n",
       "      <td>0.0</td>\n",
       "      <td>0.0</td>\n",
       "      <td>0.0</td>\n",
       "    </tr>\n",
       "    <tr>\n",
       "      <th>token_Political opinions</th>\n",
       "      <td>0.000000</td>\n",
       "      <td>0.000000</td>\n",
       "      <td>0.000000</td>\n",
       "      <td>0.0</td>\n",
       "      <td>0.0</td>\n",
       "      <td>0.0</td>\n",
       "    </tr>\n",
       "    <tr>\n",
       "      <th>token_Social Security number</th>\n",
       "      <td>0.000000</td>\n",
       "      <td>0.000000</td>\n",
       "      <td>0.000000</td>\n",
       "      <td>0.0</td>\n",
       "      <td>737.0</td>\n",
       "      <td>0.0</td>\n",
       "    </tr>\n",
       "    <tr>\n",
       "      <th>token_Civil state</th>\n",
       "      <td>0.000000</td>\n",
       "      <td>0.000000</td>\n",
       "      <td>0.000000</td>\n",
       "      <td>0.0</td>\n",
       "      <td>0.0</td>\n",
       "      <td>0.0</td>\n",
       "    </tr>\n",
       "    <tr>\n",
       "      <th>token_Medical record numbers</th>\n",
       "      <td>0.029940</td>\n",
       "      <td>0.013333</td>\n",
       "      <td>0.013624</td>\n",
       "      <td>5.0</td>\n",
       "      <td>162.0</td>\n",
       "      <td>370.0</td>\n",
       "    </tr>\n",
       "    <tr>\n",
       "      <th>token_Trade union membership</th>\n",
       "      <td>0.000000</td>\n",
       "      <td>0.000000</td>\n",
       "      <td>0.000000</td>\n",
       "      <td>0.0</td>\n",
       "      <td>0.0</td>\n",
       "      <td>0.0</td>\n",
       "    </tr>\n",
       "    <tr>\n",
       "      <th>token_Physical addresses</th>\n",
       "      <td>0.003632</td>\n",
       "      <td>0.625000</td>\n",
       "      <td>0.082452</td>\n",
       "      <td>15.0</td>\n",
       "      <td>4115.0</td>\n",
       "      <td>9.0</td>\n",
       "    </tr>\n",
       "    <tr>\n",
       "      <th>token_Philosophical beliefs</th>\n",
       "      <td>0.000000</td>\n",
       "      <td>0.000000</td>\n",
       "      <td>0.000000</td>\n",
       "      <td>0.0</td>\n",
       "      <td>0.0</td>\n",
       "      <td>0.0</td>\n",
       "    </tr>\n",
       "    <tr>\n",
       "      <th>token_Email address</th>\n",
       "      <td>0.042857</td>\n",
       "      <td>0.969582</td>\n",
       "      <td>0.529341</td>\n",
       "      <td>255.0</td>\n",
       "      <td>5695.0</td>\n",
       "      <td>8.0</td>\n",
       "    </tr>\n",
       "    <tr>\n",
       "      <th>token_Genetic information</th>\n",
       "      <td>0.000000</td>\n",
       "      <td>0.000000</td>\n",
       "      <td>0.000000</td>\n",
       "      <td>0.0</td>\n",
       "      <td>0.0</td>\n",
       "      <td>0.0</td>\n",
       "    </tr>\n",
       "    <tr>\n",
       "      <th>token_Financial information</th>\n",
       "      <td>0.000000</td>\n",
       "      <td>0.000000</td>\n",
       "      <td>0.000000</td>\n",
       "      <td>0.0</td>\n",
       "      <td>0.0</td>\n",
       "      <td>0.0</td>\n",
       "    </tr>\n",
       "    <tr>\n",
       "      <th>token_Biometric infomration</th>\n",
       "      <td>0.000000</td>\n",
       "      <td>0.000000</td>\n",
       "      <td>0.000000</td>\n",
       "      <td>0.0</td>\n",
       "      <td>0.0</td>\n",
       "      <td>0.0</td>\n",
       "    </tr>\n",
       "    <tr>\n",
       "      <th>word_O</th>\n",
       "      <td>0.999985</td>\n",
       "      <td>0.995925</td>\n",
       "      <td>0.996080</td>\n",
       "      <td>4969460.0</td>\n",
       "      <td>75.0</td>\n",
       "      <td>20334.0</td>\n",
       "    </tr>\n",
       "    <tr>\n",
       "      <th>word_B-EMAIL</th>\n",
       "      <td>0.025161</td>\n",
       "      <td>1.000000</td>\n",
       "      <td>0.401584</td>\n",
       "      <td>39.0</td>\n",
       "      <td>1511.0</td>\n",
       "      <td>0.0</td>\n",
       "    </tr>\n",
       "    <tr>\n",
       "      <th>word_B-ID_NUM</th>\n",
       "      <td>0.005181</td>\n",
       "      <td>0.012821</td>\n",
       "      <td>0.012133</td>\n",
       "      <td>1.0</td>\n",
       "      <td>192.0</td>\n",
       "      <td>77.0</td>\n",
       "    </tr>\n",
       "    <tr>\n",
       "      <th>word_B-NAME_STUDENT</th>\n",
       "      <td>0.107253</td>\n",
       "      <td>0.968498</td>\n",
       "      <td>0.739963</td>\n",
       "      <td>1322.0</td>\n",
       "      <td>11004.0</td>\n",
       "      <td>43.0</td>\n",
       "    </tr>\n",
       "    <tr>\n",
       "      <th>word_B-PHONE_NUM</th>\n",
       "      <td>0.015267</td>\n",
       "      <td>1.000000</td>\n",
       "      <td>0.287293</td>\n",
       "      <td>6.0</td>\n",
       "      <td>387.0</td>\n",
       "      <td>0.0</td>\n",
       "    </tr>\n",
       "    <tr>\n",
       "      <th>word_B-STREET_ADDRESS</th>\n",
       "      <td>0.000000</td>\n",
       "      <td>0.000000</td>\n",
       "      <td>0.000000</td>\n",
       "      <td>0.0</td>\n",
       "      <td>2178.0</td>\n",
       "      <td>2.0</td>\n",
       "    </tr>\n",
       "    <tr>\n",
       "      <th>word_B-URL_PERSONAL</th>\n",
       "      <td>0.000000</td>\n",
       "      <td>0.000000</td>\n",
       "      <td>0.000000</td>\n",
       "      <td>0.0</td>\n",
       "      <td>0.0</td>\n",
       "      <td>110.0</td>\n",
       "    </tr>\n",
       "    <tr>\n",
       "      <th>word_B-USERNAME</th>\n",
       "      <td>0.000000</td>\n",
       "      <td>0.000000</td>\n",
       "      <td>0.000000</td>\n",
       "      <td>0.0</td>\n",
       "      <td>0.0</td>\n",
       "      <td>6.0</td>\n",
       "    </tr>\n",
       "    <tr>\n",
       "      <th>word_I-ID_NUM</th>\n",
       "      <td>0.000000</td>\n",
       "      <td>0.000000</td>\n",
       "      <td>0.000000</td>\n",
       "      <td>0.0</td>\n",
       "      <td>193.0</td>\n",
       "      <td>1.0</td>\n",
       "    </tr>\n",
       "    <tr>\n",
       "      <th>word_I-NAME_STUDENT</th>\n",
       "      <td>0.213301</td>\n",
       "      <td>0.959854</td>\n",
       "      <td>0.845973</td>\n",
       "      <td>1052.0</td>\n",
       "      <td>3880.0</td>\n",
       "      <td>44.0</td>\n",
       "    </tr>\n",
       "    <tr>\n",
       "      <th>word_I-PHONE_NUM</th>\n",
       "      <td>0.118110</td>\n",
       "      <td>1.000000</td>\n",
       "      <td>0.776892</td>\n",
       "      <td>15.0</td>\n",
       "      <td>112.0</td>\n",
       "      <td>0.0</td>\n",
       "    </tr>\n",
       "    <tr>\n",
       "      <th>word_I-STREET_ADDRESS</th>\n",
       "      <td>0.008137</td>\n",
       "      <td>0.450000</td>\n",
       "      <td>0.145704</td>\n",
       "      <td>9.0</td>\n",
       "      <td>1097.0</td>\n",
       "      <td>11.0</td>\n",
       "    </tr>\n",
       "    <tr>\n",
       "      <th>word_I-URL_PERSONAL</th>\n",
       "      <td>0.000000</td>\n",
       "      <td>0.000000</td>\n",
       "      <td>0.000000</td>\n",
       "      <td>0.0</td>\n",
       "      <td>0.0</td>\n",
       "      <td>1.0</td>\n",
       "    </tr>\n",
       "  </tbody>\n",
       "</table>\n",
       "</div>"
      ],
      "text/plain": [
       "                                    precision    recall    f_beta         tp  \\\n",
       "token_total_metrics                  0.067975  0.877603  0.601879     3413.0   \n",
       "word_total_metrics                   0.106270  0.892296  0.694675     2444.0   \n",
       "token_O                              0.999970  0.990187  0.990560  4688006.0   \n",
       "token_Racial or ethnic information   0.000000  0.000000  0.000000        0.0   \n",
       "token_Name                           0.082514  0.972301  0.687261     3089.0   \n",
       "token_Sexual orientation             0.000000  0.000000  0.000000        0.0   \n",
       "token_Phone Numbers                  0.027374  0.980000  0.419079       49.0   \n",
       "token_Health insurance information   0.000000  0.000000  0.000000        0.0   \n",
       "token_Religious beliefs              0.000000  0.000000  0.000000        0.0   \n",
       "token_Political opinions             0.000000  0.000000  0.000000        0.0   \n",
       "token_Social Security number         0.000000  0.000000  0.000000        0.0   \n",
       "token_Civil state                    0.000000  0.000000  0.000000        0.0   \n",
       "token_Medical record numbers         0.029940  0.013333  0.013624        5.0   \n",
       "token_Trade union membership         0.000000  0.000000  0.000000        0.0   \n",
       "token_Physical addresses             0.003632  0.625000  0.082452       15.0   \n",
       "token_Philosophical beliefs          0.000000  0.000000  0.000000        0.0   \n",
       "token_Email address                  0.042857  0.969582  0.529341      255.0   \n",
       "token_Genetic information            0.000000  0.000000  0.000000        0.0   \n",
       "token_Financial information          0.000000  0.000000  0.000000        0.0   \n",
       "token_Biometric infomration          0.000000  0.000000  0.000000        0.0   \n",
       "word_O                               0.999985  0.995925  0.996080  4969460.0   \n",
       "word_B-EMAIL                         0.025161  1.000000  0.401584       39.0   \n",
       "word_B-ID_NUM                        0.005181  0.012821  0.012133        1.0   \n",
       "word_B-NAME_STUDENT                  0.107253  0.968498  0.739963     1322.0   \n",
       "word_B-PHONE_NUM                     0.015267  1.000000  0.287293        6.0   \n",
       "word_B-STREET_ADDRESS                0.000000  0.000000  0.000000        0.0   \n",
       "word_B-URL_PERSONAL                  0.000000  0.000000  0.000000        0.0   \n",
       "word_B-USERNAME                      0.000000  0.000000  0.000000        0.0   \n",
       "word_I-ID_NUM                        0.000000  0.000000  0.000000        0.0   \n",
       "word_I-NAME_STUDENT                  0.213301  0.959854  0.845973     1052.0   \n",
       "word_I-PHONE_NUM                     0.118110  1.000000  0.776892       15.0   \n",
       "word_I-STREET_ADDRESS                0.008137  0.450000  0.145704        9.0   \n",
       "word_I-URL_PERSONAL                  0.000000  0.000000  0.000000        0.0   \n",
       "\n",
       "                                         fp       fn  \n",
       "token_total_metrics                 46797.0    476.0  \n",
       "word_total_metrics                  20554.0    295.0  \n",
       "token_O                               139.0  46460.0  \n",
       "token_Racial or ethnic information      0.0      0.0  \n",
       "token_Name                          34347.0     88.0  \n",
       "token_Sexual orientation                0.0      0.0  \n",
       "token_Phone Numbers                  1741.0      1.0  \n",
       "token_Health insurance information      0.0      0.0  \n",
       "token_Religious beliefs                 0.0      0.0  \n",
       "token_Political opinions                0.0      0.0  \n",
       "token_Social Security number          737.0      0.0  \n",
       "token_Civil state                       0.0      0.0  \n",
       "token_Medical record numbers          162.0    370.0  \n",
       "token_Trade union membership            0.0      0.0  \n",
       "token_Physical addresses             4115.0      9.0  \n",
       "token_Philosophical beliefs             0.0      0.0  \n",
       "token_Email address                  5695.0      8.0  \n",
       "token_Genetic information               0.0      0.0  \n",
       "token_Financial information             0.0      0.0  \n",
       "token_Biometric infomration             0.0      0.0  \n",
       "word_O                                 75.0  20334.0  \n",
       "word_B-EMAIL                         1511.0      0.0  \n",
       "word_B-ID_NUM                         192.0     77.0  \n",
       "word_B-NAME_STUDENT                 11004.0     43.0  \n",
       "word_B-PHONE_NUM                      387.0      0.0  \n",
       "word_B-STREET_ADDRESS                2178.0      2.0  \n",
       "word_B-URL_PERSONAL                     0.0    110.0  \n",
       "word_B-USERNAME                         0.0      6.0  \n",
       "word_I-ID_NUM                         193.0      1.0  \n",
       "word_I-NAME_STUDENT                  3880.0     44.0  \n",
       "word_I-PHONE_NUM                      112.0      0.0  \n",
       "word_I-STREET_ADDRESS                1097.0     11.0  \n",
       "word_I-URL_PERSONAL                     0.0      1.0  "
      ]
     },
     "execution_count": 31,
     "metadata": {},
     "output_type": "execute_result"
    }
   ],
   "source": [
    "%%time\n",
    "df_all_metrics = pd.DataFrame(dict_all_scores)\n",
    "df_all_metrics.columns = df_all_metrics.columns.map(col_id2label)\n",
    "df_all_metrics = df_all_metrics.T\n",
    "df_all_metrics"
   ]
  },
  {
   "cell_type": "markdown",
   "id": "fa761075-bd9b-498e-a082-89266b050021",
   "metadata": {},
   "source": [
    "## Debug"
   ]
  },
  {
   "cell_type": "code",
   "execution_count": 20,
   "id": "d7d19321-9875-4c8b-870f-5184ce3f7287",
   "metadata": {},
   "outputs": [],
   "source": [
    "def compute_metrics_base(eval_preds, preprocessed_dataset, model_adapter, threshold = 0.1, return_processed=False):\n",
    "    \n",
    "    global flat_label_ids, list_word_true_labels\n",
    "    \n",
    "    np_probs, true_labels_id, inputs = eval_preds\n",
    "    \n",
    "    #---- Token Preds\n",
    "    np_label_ids, flat_true_labels_id, flat_label_ids = get_tokens_thresholding(np_probs, true_labels_id, threshold, model_adapter)\n",
    "\n",
    "    #---- Word Preds\n",
    "\n",
    "    list_word_ids = [[word_id if word_id is not None else -100 for word_id in word_ids] for word_ids in preprocessed_dataset['word_ids'] ]\n",
    "    word_ids_padded = pad_lists(list_word_ids, -100,  np_probs.shape[1])\n",
    "    \n",
    "    list_pred_words = get_word_preds(np_label_ids, word_ids_padded, model_adapter, preprocessed_dataset)\n",
    "     \n",
    "    #Overrides BIO if id already in BIO (BIO -> Entity -> BIO) or (non-BIO -> Entity -> BIO)\n",
    "    #- implemented inside get_word_preds\n",
    "    \n",
    "#     list_pred_words_mapped = [to_bio_vect(pred_words,  model_adapter.np_model_id2cur_entity_id) for pred_words in list_pred_words]\n",
    "    \n",
    "    flat_word_label_ids = np.concatenate(list_pred_words)\n",
    "    \n",
    "    list_word_true_labels = preprocessed_dataset['word_labels']\n",
    "    \n",
    "    flat_word_true_labels_id = np.array([classes2id[word] for list_words in list_word_true_labels for word in list_words], dtype='int8')\n",
    "    \n",
    " \n",
    "    total_metrics, class_metrics, confusion_matrix = compute_micro_metrics(predictions = flat_label_ids, labels = flat_true_labels_id, \n",
    "                                                                       #    num_classes = len(model_adapter.labels), pos_labels=model_adapter.label_pos_ids, beta=5, prefix='token_')\n",
    "                                                                            num_classes = model_adapter.n_token_labels, pos_labels=model_adapter.label_pos_ids, beta=5, prefix='token_')\n",
    "    \n",
    "    total_metrics_w, class_metrics_w, confusion_matrix_w = compute_micro_metrics(predictions = flat_word_label_ids, labels = flat_word_true_labels_id, \n",
    "                                                                                 num_classes = len(classes), pos_labels=classes_pos_id, beta=5, prefix='word_')\n",
    "    \n",
    "    dict_scores = {'token_confusion_matrix' : confusion_matrix,\n",
    "                  'word_confusion_matrix' : confusion_matrix_w,\n",
    "                   'token_total_metrics' : total_metrics,\n",
    "                   'word_total_metrics' : total_metrics_w}\n",
    "    \n",
    "    dict_scores.update(class_metrics)\n",
    "    dict_scores.update(class_metrics_w)\n",
    "\n",
    "#     dict_scores = {}\n",
    "\n",
    "    if return_processed:\n",
    "        dict_processed = {'flat_label_ids' : flat_label_ids,\n",
    "                  'flat_true_labels_id' : flat_true_labels_id,\n",
    "                   'flat_word_label_ids' : flat_word_label_ids,\n",
    "                   'flat_word_true_labels_id' : flat_word_true_labels_id}\n",
    "        \n",
    "        return dict_scores, dict_processed\n",
    "    \n",
    "    return dict_scores\n",
    "    \n",
    "    "
   ]
  },
  {
   "cell_type": "code",
   "execution_count": 139,
   "id": "baf957c9-4d78-4cb8-93fb-cc558c6c115a",
   "metadata": {},
   "outputs": [
    {
     "name": "stdout",
     "output_type": "stream",
     "text": [
      "CPU times: total: 453 ms\n",
      "Wall time: 964 ms\n"
     ]
    }
   ],
   "source": [
    "%%time\n",
    "\n",
    "threshold = 0.18\n",
    "model_adapter = Yanis_Adapter(threshold = threshold, config_only=True, will_bio_tokens=False, will_bio_words=True)\n",
    "# model_adapter = Yanis_Adapter(threshold = threshold, config_only=True, will_bio_tokens=True, will_bio_words=True)\n",
    "compute_metrics = functools.partial(compute_metrics_base, preprocessed_dataset=preprocessed_dataset, model_adapter=model_adapter, threshold=threshold)"
   ]
  },
  {
   "cell_type": "code",
   "execution_count": 140,
   "id": "c4a96802-96e2-47a3-9093-8c22e554daf2",
   "metadata": {},
   "outputs": [
    {
     "name": "stdout",
     "output_type": "stream",
     "text": [
      "CPU times: total: 1min 1s\n",
      "Wall time: 1min 1s\n"
     ]
    }
   ],
   "source": [
    "%%time\n",
    "eval_preds = (loaded_predictions, labels_padded, None)\n",
    "dict_all_scores = compute_metrics(eval_preds)"
   ]
  },
  {
   "cell_type": "code",
   "execution_count": 141,
   "id": "20622869-ac09-4058-beab-a587e3cd354c",
   "metadata": {},
   "outputs": [
    {
     "data": {
      "text/plain": [
       "(array([ 0,  2,  4,  8, 10, 12, 14], dtype=int64),\n",
       " array([4718157,   12811,     900,     122,     130,    2946,    3289],\n",
       "       dtype=int64))"
      ]
     },
     "execution_count": 141,
     "metadata": {},
     "output_type": "execute_result"
    }
   ],
   "source": [
    "temp_counts = np.unique(flat_label_ids, return_counts=True)\n",
    "temp_counts"
   ]
  },
  {
   "cell_type": "code",
   "execution_count": 142,
   "id": "5ecc9029-4cef-43f9-82ec-b37880420264",
   "metadata": {},
   "outputs": [],
   "source": [
    "token_confusion_matrix = dict_all_scores.pop('token_confusion_matrix')\n",
    "word_confusion_matrix = dict_all_scores.pop('word_confusion_matrix')"
   ]
  },
  {
   "cell_type": "markdown",
   "id": "3de8cfc6-0064-4dcd-a7f6-7808e3d11c17",
   "metadata": {},
   "source": [
    "### will_bio_tokens = False = will_bio_words = True"
   ]
  },
  {
   "cell_type": "code",
   "execution_count": 143,
   "id": "bfa205f1-f7d4-4028-bcb2-532efdc17bc6",
   "metadata": {},
   "outputs": [],
   "source": [
    "def col_id2label(col_name):\n",
    "    list_name = col_name.split('_')\n",
    "    \n",
    "    \n",
    "    if list_name[-1].isdigit():\n",
    "        label_id = int(list_name[-1])\n",
    "        \n",
    "        if list_name[0] == 'token':\n",
    "            list_name[-1] = model_adapter.config.id2label[label_id]\n",
    "        else:\n",
    "            list_name[-1] = id2classes[label_id]\n",
    "        return '_'.join(list_name)\n",
    "        \n",
    "    else:\n",
    "        return col_name"
   ]
  },
  {
   "cell_type": "code",
   "execution_count": 144,
   "id": "cc914d48-b898-4bb1-9714-3393550f3e1e",
   "metadata": {},
   "outputs": [
    {
     "name": "stdout",
     "output_type": "stream",
     "text": [
      "CPU times: total: 15.6 ms\n",
      "Wall time: 4 ms\n"
     ]
    },
    {
     "data": {
      "text/html": [
       "<div>\n",
       "<style scoped>\n",
       "    .dataframe tbody tr th:only-of-type {\n",
       "        vertical-align: middle;\n",
       "    }\n",
       "\n",
       "    .dataframe tbody tr th {\n",
       "        vertical-align: top;\n",
       "    }\n",
       "\n",
       "    .dataframe thead th {\n",
       "        text-align: right;\n",
       "    }\n",
       "</style>\n",
       "<table border=\"1\" class=\"dataframe\">\n",
       "  <thead>\n",
       "    <tr style=\"text-align: right;\">\n",
       "      <th></th>\n",
       "      <th>precision</th>\n",
       "      <th>recall</th>\n",
       "      <th>f_beta</th>\n",
       "      <th>tp</th>\n",
       "      <th>fp</th>\n",
       "      <th>fn</th>\n",
       "    </tr>\n",
       "  </thead>\n",
       "  <tbody>\n",
       "    <tr>\n",
       "      <th>token_total_metrics</th>\n",
       "      <td>0.165115</td>\n",
       "      <td>0.857547</td>\n",
       "      <td>0.738441</td>\n",
       "      <td>3335.0</td>\n",
       "      <td>16863.0</td>\n",
       "      <td>554.0</td>\n",
       "    </tr>\n",
       "    <tr>\n",
       "      <th>word_total_metrics</th>\n",
       "      <td>0.203410</td>\n",
       "      <td>0.871121</td>\n",
       "      <td>0.773468</td>\n",
       "      <td>2386.0</td>\n",
       "      <td>9344.0</td>\n",
       "      <td>353.0</td>\n",
       "    </tr>\n",
       "    <tr>\n",
       "      <th>token_O</th>\n",
       "      <td>0.999950</td>\n",
       "      <td>0.996506</td>\n",
       "      <td>0.996638</td>\n",
       "      <td>4717922.0</td>\n",
       "      <td>235.0</td>\n",
       "      <td>16544.0</td>\n",
       "    </tr>\n",
       "    <tr>\n",
       "      <th>token_Racial or ethnic information</th>\n",
       "      <td>0.000000</td>\n",
       "      <td>0.000000</td>\n",
       "      <td>0.000000</td>\n",
       "      <td>0.0</td>\n",
       "      <td>0.0</td>\n",
       "      <td>0.0</td>\n",
       "    </tr>\n",
       "    <tr>\n",
       "      <th>token_Name</th>\n",
       "      <td>0.235735</td>\n",
       "      <td>0.950582</td>\n",
       "      <td>0.851295</td>\n",
       "      <td>3020.0</td>\n",
       "      <td>9791.0</td>\n",
       "      <td>157.0</td>\n",
       "    </tr>\n",
       "    <tr>\n",
       "      <th>token_Sexual orientation</th>\n",
       "      <td>0.000000</td>\n",
       "      <td>0.000000</td>\n",
       "      <td>0.000000</td>\n",
       "      <td>0.0</td>\n",
       "      <td>0.0</td>\n",
       "      <td>0.0</td>\n",
       "    </tr>\n",
       "    <tr>\n",
       "      <th>token_Phone Numbers</th>\n",
       "      <td>0.046667</td>\n",
       "      <td>0.840000</td>\n",
       "      <td>0.507907</td>\n",
       "      <td>42.0</td>\n",
       "      <td>858.0</td>\n",
       "      <td>8.0</td>\n",
       "    </tr>\n",
       "    <tr>\n",
       "      <th>token_Health insurance information</th>\n",
       "      <td>0.000000</td>\n",
       "      <td>0.000000</td>\n",
       "      <td>0.000000</td>\n",
       "      <td>0.0</td>\n",
       "      <td>0.0</td>\n",
       "      <td>0.0</td>\n",
       "    </tr>\n",
       "    <tr>\n",
       "      <th>token_Religious beliefs</th>\n",
       "      <td>0.000000</td>\n",
       "      <td>0.000000</td>\n",
       "      <td>0.000000</td>\n",
       "      <td>0.0</td>\n",
       "      <td>0.0</td>\n",
       "      <td>0.0</td>\n",
       "    </tr>\n",
       "    <tr>\n",
       "      <th>token_Political opinions</th>\n",
       "      <td>0.000000</td>\n",
       "      <td>0.000000</td>\n",
       "      <td>0.000000</td>\n",
       "      <td>0.0</td>\n",
       "      <td>0.0</td>\n",
       "      <td>0.0</td>\n",
       "    </tr>\n",
       "    <tr>\n",
       "      <th>token_Social Security number</th>\n",
       "      <td>0.000000</td>\n",
       "      <td>0.000000</td>\n",
       "      <td>0.000000</td>\n",
       "      <td>0.0</td>\n",
       "      <td>122.0</td>\n",
       "      <td>0.0</td>\n",
       "    </tr>\n",
       "    <tr>\n",
       "      <th>token_Civil state</th>\n",
       "      <td>0.000000</td>\n",
       "      <td>0.000000</td>\n",
       "      <td>0.000000</td>\n",
       "      <td>0.0</td>\n",
       "      <td>0.0</td>\n",
       "      <td>0.0</td>\n",
       "    </tr>\n",
       "    <tr>\n",
       "      <th>token_Medical record numbers</th>\n",
       "      <td>0.038462</td>\n",
       "      <td>0.013333</td>\n",
       "      <td>0.013677</td>\n",
       "      <td>5.0</td>\n",
       "      <td>125.0</td>\n",
       "      <td>370.0</td>\n",
       "    </tr>\n",
       "    <tr>\n",
       "      <th>token_Trade union membership</th>\n",
       "      <td>0.000000</td>\n",
       "      <td>0.000000</td>\n",
       "      <td>0.000000</td>\n",
       "      <td>0.0</td>\n",
       "      <td>0.0</td>\n",
       "      <td>0.0</td>\n",
       "    </tr>\n",
       "    <tr>\n",
       "      <th>token_Physical addresses</th>\n",
       "      <td>0.005092</td>\n",
       "      <td>0.625000</td>\n",
       "      <td>0.109983</td>\n",
       "      <td>15.0</td>\n",
       "      <td>2931.0</td>\n",
       "      <td>9.0</td>\n",
       "    </tr>\n",
       "    <tr>\n",
       "      <th>token_Philosophical beliefs</th>\n",
       "      <td>0.000000</td>\n",
       "      <td>0.000000</td>\n",
       "      <td>0.000000</td>\n",
       "      <td>0.0</td>\n",
       "      <td>0.0</td>\n",
       "      <td>0.0</td>\n",
       "    </tr>\n",
       "    <tr>\n",
       "      <th>token_Email address</th>\n",
       "      <td>0.076923</td>\n",
       "      <td>0.961977</td>\n",
       "      <td>0.666869</td>\n",
       "      <td>253.0</td>\n",
       "      <td>3036.0</td>\n",
       "      <td>10.0</td>\n",
       "    </tr>\n",
       "    <tr>\n",
       "      <th>token_Genetic information</th>\n",
       "      <td>0.000000</td>\n",
       "      <td>0.000000</td>\n",
       "      <td>0.000000</td>\n",
       "      <td>0.0</td>\n",
       "      <td>0.0</td>\n",
       "      <td>0.0</td>\n",
       "    </tr>\n",
       "    <tr>\n",
       "      <th>token_Financial information</th>\n",
       "      <td>0.000000</td>\n",
       "      <td>0.000000</td>\n",
       "      <td>0.000000</td>\n",
       "      <td>0.0</td>\n",
       "      <td>0.0</td>\n",
       "      <td>0.0</td>\n",
       "    </tr>\n",
       "    <tr>\n",
       "      <th>token_Biometric infomration</th>\n",
       "      <td>0.000000</td>\n",
       "      <td>0.000000</td>\n",
       "      <td>0.000000</td>\n",
       "      <td>0.0</td>\n",
       "      <td>0.0</td>\n",
       "      <td>0.0</td>\n",
       "    </tr>\n",
       "    <tr>\n",
       "      <th>word_O</th>\n",
       "      <td>0.999966</td>\n",
       "      <td>0.998165</td>\n",
       "      <td>0.998234</td>\n",
       "      <td>4980636.0</td>\n",
       "      <td>167.0</td>\n",
       "      <td>9158.0</td>\n",
       "    </tr>\n",
       "    <tr>\n",
       "      <th>word_B-EMAIL</th>\n",
       "      <td>0.057315</td>\n",
       "      <td>0.974359</td>\n",
       "      <td>0.603175</td>\n",
       "      <td>38.0</td>\n",
       "      <td>625.0</td>\n",
       "      <td>1.0</td>\n",
       "    </tr>\n",
       "    <tr>\n",
       "      <th>word_B-ID_NUM</th>\n",
       "      <td>0.010101</td>\n",
       "      <td>0.012821</td>\n",
       "      <td>0.012689</td>\n",
       "      <td>1.0</td>\n",
       "      <td>98.0</td>\n",
       "      <td>77.0</td>\n",
       "    </tr>\n",
       "    <tr>\n",
       "      <th>word_B-NAME_STUDENT</th>\n",
       "      <td>0.249230</td>\n",
       "      <td>0.947985</td>\n",
       "      <td>0.855711</td>\n",
       "      <td>1294.0</td>\n",
       "      <td>3898.0</td>\n",
       "      <td>71.0</td>\n",
       "    </tr>\n",
       "    <tr>\n",
       "      <th>word_B-PHONE_NUM</th>\n",
       "      <td>0.026316</td>\n",
       "      <td>0.666667</td>\n",
       "      <td>0.344371</td>\n",
       "      <td>4.0</td>\n",
       "      <td>148.0</td>\n",
       "      <td>2.0</td>\n",
       "    </tr>\n",
       "    <tr>\n",
       "      <th>word_B-STREET_ADDRESS</th>\n",
       "      <td>0.000000</td>\n",
       "      <td>0.000000</td>\n",
       "      <td>0.000000</td>\n",
       "      <td>0.0</td>\n",
       "      <td>1549.0</td>\n",
       "      <td>2.0</td>\n",
       "    </tr>\n",
       "    <tr>\n",
       "      <th>word_B-URL_PERSONAL</th>\n",
       "      <td>0.000000</td>\n",
       "      <td>0.000000</td>\n",
       "      <td>0.000000</td>\n",
       "      <td>0.0</td>\n",
       "      <td>0.0</td>\n",
       "      <td>110.0</td>\n",
       "    </tr>\n",
       "    <tr>\n",
       "      <th>word_B-USERNAME</th>\n",
       "      <td>0.000000</td>\n",
       "      <td>0.000000</td>\n",
       "      <td>0.000000</td>\n",
       "      <td>0.0</td>\n",
       "      <td>0.0</td>\n",
       "      <td>6.0</td>\n",
       "    </tr>\n",
       "    <tr>\n",
       "      <th>word_I-ID_NUM</th>\n",
       "      <td>0.000000</td>\n",
       "      <td>0.000000</td>\n",
       "      <td>0.000000</td>\n",
       "      <td>0.0</td>\n",
       "      <td>8.0</td>\n",
       "      <td>1.0</td>\n",
       "    </tr>\n",
       "    <tr>\n",
       "      <th>word_I-NAME_STUDENT</th>\n",
       "      <td>0.316893</td>\n",
       "      <td>0.937956</td>\n",
       "      <td>0.872210</td>\n",
       "      <td>1028.0</td>\n",
       "      <td>2216.0</td>\n",
       "      <td>68.0</td>\n",
       "    </tr>\n",
       "    <tr>\n",
       "      <th>word_I-PHONE_NUM</th>\n",
       "      <td>0.235294</td>\n",
       "      <td>0.800000</td>\n",
       "      <td>0.732394</td>\n",
       "      <td>12.0</td>\n",
       "      <td>39.0</td>\n",
       "      <td>3.0</td>\n",
       "    </tr>\n",
       "    <tr>\n",
       "      <th>word_I-STREET_ADDRESS</th>\n",
       "      <td>0.011658</td>\n",
       "      <td>0.450000</td>\n",
       "      <td>0.183962</td>\n",
       "      <td>9.0</td>\n",
       "      <td>763.0</td>\n",
       "      <td>11.0</td>\n",
       "    </tr>\n",
       "    <tr>\n",
       "      <th>word_I-URL_PERSONAL</th>\n",
       "      <td>0.000000</td>\n",
       "      <td>0.000000</td>\n",
       "      <td>0.000000</td>\n",
       "      <td>0.0</td>\n",
       "      <td>0.0</td>\n",
       "      <td>1.0</td>\n",
       "    </tr>\n",
       "  </tbody>\n",
       "</table>\n",
       "</div>"
      ],
      "text/plain": [
       "                                    precision    recall    f_beta         tp  \\\n",
       "token_total_metrics                  0.165115  0.857547  0.738441     3335.0   \n",
       "word_total_metrics                   0.203410  0.871121  0.773468     2386.0   \n",
       "token_O                              0.999950  0.996506  0.996638  4717922.0   \n",
       "token_Racial or ethnic information   0.000000  0.000000  0.000000        0.0   \n",
       "token_Name                           0.235735  0.950582  0.851295     3020.0   \n",
       "token_Sexual orientation             0.000000  0.000000  0.000000        0.0   \n",
       "token_Phone Numbers                  0.046667  0.840000  0.507907       42.0   \n",
       "token_Health insurance information   0.000000  0.000000  0.000000        0.0   \n",
       "token_Religious beliefs              0.000000  0.000000  0.000000        0.0   \n",
       "token_Political opinions             0.000000  0.000000  0.000000        0.0   \n",
       "token_Social Security number         0.000000  0.000000  0.000000        0.0   \n",
       "token_Civil state                    0.000000  0.000000  0.000000        0.0   \n",
       "token_Medical record numbers         0.038462  0.013333  0.013677        5.0   \n",
       "token_Trade union membership         0.000000  0.000000  0.000000        0.0   \n",
       "token_Physical addresses             0.005092  0.625000  0.109983       15.0   \n",
       "token_Philosophical beliefs          0.000000  0.000000  0.000000        0.0   \n",
       "token_Email address                  0.076923  0.961977  0.666869      253.0   \n",
       "token_Genetic information            0.000000  0.000000  0.000000        0.0   \n",
       "token_Financial information          0.000000  0.000000  0.000000        0.0   \n",
       "token_Biometric infomration          0.000000  0.000000  0.000000        0.0   \n",
       "word_O                               0.999966  0.998165  0.998234  4980636.0   \n",
       "word_B-EMAIL                         0.057315  0.974359  0.603175       38.0   \n",
       "word_B-ID_NUM                        0.010101  0.012821  0.012689        1.0   \n",
       "word_B-NAME_STUDENT                  0.249230  0.947985  0.855711     1294.0   \n",
       "word_B-PHONE_NUM                     0.026316  0.666667  0.344371        4.0   \n",
       "word_B-STREET_ADDRESS                0.000000  0.000000  0.000000        0.0   \n",
       "word_B-URL_PERSONAL                  0.000000  0.000000  0.000000        0.0   \n",
       "word_B-USERNAME                      0.000000  0.000000  0.000000        0.0   \n",
       "word_I-ID_NUM                        0.000000  0.000000  0.000000        0.0   \n",
       "word_I-NAME_STUDENT                  0.316893  0.937956  0.872210     1028.0   \n",
       "word_I-PHONE_NUM                     0.235294  0.800000  0.732394       12.0   \n",
       "word_I-STREET_ADDRESS                0.011658  0.450000  0.183962        9.0   \n",
       "word_I-URL_PERSONAL                  0.000000  0.000000  0.000000        0.0   \n",
       "\n",
       "                                         fp       fn  \n",
       "token_total_metrics                 16863.0    554.0  \n",
       "word_total_metrics                   9344.0    353.0  \n",
       "token_O                               235.0  16544.0  \n",
       "token_Racial or ethnic information      0.0      0.0  \n",
       "token_Name                           9791.0    157.0  \n",
       "token_Sexual orientation                0.0      0.0  \n",
       "token_Phone Numbers                   858.0      8.0  \n",
       "token_Health insurance information      0.0      0.0  \n",
       "token_Religious beliefs                 0.0      0.0  \n",
       "token_Political opinions                0.0      0.0  \n",
       "token_Social Security number          122.0      0.0  \n",
       "token_Civil state                       0.0      0.0  \n",
       "token_Medical record numbers          125.0    370.0  \n",
       "token_Trade union membership            0.0      0.0  \n",
       "token_Physical addresses             2931.0      9.0  \n",
       "token_Philosophical beliefs             0.0      0.0  \n",
       "token_Email address                  3036.0     10.0  \n",
       "token_Genetic information               0.0      0.0  \n",
       "token_Financial information             0.0      0.0  \n",
       "token_Biometric infomration             0.0      0.0  \n",
       "word_O                                167.0   9158.0  \n",
       "word_B-EMAIL                          625.0      1.0  \n",
       "word_B-ID_NUM                          98.0     77.0  \n",
       "word_B-NAME_STUDENT                  3898.0     71.0  \n",
       "word_B-PHONE_NUM                      148.0      2.0  \n",
       "word_B-STREET_ADDRESS                1549.0      2.0  \n",
       "word_B-URL_PERSONAL                     0.0    110.0  \n",
       "word_B-USERNAME                         0.0      6.0  \n",
       "word_I-ID_NUM                           8.0      1.0  \n",
       "word_I-NAME_STUDENT                  2216.0     68.0  \n",
       "word_I-PHONE_NUM                       39.0      3.0  \n",
       "word_I-STREET_ADDRESS                 763.0     11.0  \n",
       "word_I-URL_PERSONAL                     0.0      1.0  "
      ]
     },
     "execution_count": 144,
     "metadata": {},
     "output_type": "execute_result"
    }
   ],
   "source": [
    "%%time\n",
    "df_all_metrics = pd.DataFrame(dict_all_scores)\n",
    "df_all_metrics.columns = df_all_metrics.columns.map(col_id2label)\n",
    "df_all_metrics = df_all_metrics.T\n",
    "df_all_metrics"
   ]
  },
  {
   "cell_type": "markdown",
   "id": "486359a9-1bc3-47b4-8374-39c666f31086",
   "metadata": {},
   "source": [
    "#### Dup"
   ]
  },
  {
   "cell_type": "code",
   "execution_count": 136,
   "id": "9750251c-f36f-4dc5-86f4-bbd87d11ab7b",
   "metadata": {},
   "outputs": [
    {
     "name": "stdout",
     "output_type": "stream",
     "text": [
      "CPU times: total: 31.2 ms\n",
      "Wall time: 3 ms\n"
     ]
    },
    {
     "data": {
      "text/html": [
       "<div>\n",
       "<style scoped>\n",
       "    .dataframe tbody tr th:only-of-type {\n",
       "        vertical-align: middle;\n",
       "    }\n",
       "\n",
       "    .dataframe tbody tr th {\n",
       "        vertical-align: top;\n",
       "    }\n",
       "\n",
       "    .dataframe thead th {\n",
       "        text-align: right;\n",
       "    }\n",
       "</style>\n",
       "<table border=\"1\" class=\"dataframe\">\n",
       "  <thead>\n",
       "    <tr style=\"text-align: right;\">\n",
       "      <th></th>\n",
       "      <th>precision</th>\n",
       "      <th>recall</th>\n",
       "      <th>f_beta</th>\n",
       "      <th>tp</th>\n",
       "      <th>fp</th>\n",
       "      <th>fn</th>\n",
       "    </tr>\n",
       "  </thead>\n",
       "  <tbody>\n",
       "    <tr>\n",
       "      <th>token_total_metrics</th>\n",
       "      <td>0.165115</td>\n",
       "      <td>0.857547</td>\n",
       "      <td>0.738441</td>\n",
       "      <td>3335.0</td>\n",
       "      <td>16863.0</td>\n",
       "      <td>554.0</td>\n",
       "    </tr>\n",
       "    <tr>\n",
       "      <th>word_total_metrics</th>\n",
       "      <td>0.203410</td>\n",
       "      <td>0.871121</td>\n",
       "      <td>0.773468</td>\n",
       "      <td>2386.0</td>\n",
       "      <td>9344.0</td>\n",
       "      <td>353.0</td>\n",
       "    </tr>\n",
       "    <tr>\n",
       "      <th>token_O</th>\n",
       "      <td>0.999950</td>\n",
       "      <td>0.996506</td>\n",
       "      <td>0.996638</td>\n",
       "      <td>4717922.0</td>\n",
       "      <td>235.0</td>\n",
       "      <td>16544.0</td>\n",
       "    </tr>\n",
       "    <tr>\n",
       "      <th>token_Racial or ethnic information</th>\n",
       "      <td>0.000000</td>\n",
       "      <td>0.000000</td>\n",
       "      <td>0.000000</td>\n",
       "      <td>0.0</td>\n",
       "      <td>0.0</td>\n",
       "      <td>0.0</td>\n",
       "    </tr>\n",
       "    <tr>\n",
       "      <th>token_Name</th>\n",
       "      <td>0.235735</td>\n",
       "      <td>0.950582</td>\n",
       "      <td>0.851295</td>\n",
       "      <td>3020.0</td>\n",
       "      <td>9791.0</td>\n",
       "      <td>157.0</td>\n",
       "    </tr>\n",
       "    <tr>\n",
       "      <th>token_Sexual orientation</th>\n",
       "      <td>0.000000</td>\n",
       "      <td>0.000000</td>\n",
       "      <td>0.000000</td>\n",
       "      <td>0.0</td>\n",
       "      <td>0.0</td>\n",
       "      <td>0.0</td>\n",
       "    </tr>\n",
       "    <tr>\n",
       "      <th>token_Phone Numbers</th>\n",
       "      <td>0.046667</td>\n",
       "      <td>0.840000</td>\n",
       "      <td>0.507907</td>\n",
       "      <td>42.0</td>\n",
       "      <td>858.0</td>\n",
       "      <td>8.0</td>\n",
       "    </tr>\n",
       "    <tr>\n",
       "      <th>token_Health insurance information</th>\n",
       "      <td>0.000000</td>\n",
       "      <td>0.000000</td>\n",
       "      <td>0.000000</td>\n",
       "      <td>0.0</td>\n",
       "      <td>0.0</td>\n",
       "      <td>0.0</td>\n",
       "    </tr>\n",
       "    <tr>\n",
       "      <th>token_Religious beliefs</th>\n",
       "      <td>0.000000</td>\n",
       "      <td>0.000000</td>\n",
       "      <td>0.000000</td>\n",
       "      <td>0.0</td>\n",
       "      <td>0.0</td>\n",
       "      <td>0.0</td>\n",
       "    </tr>\n",
       "    <tr>\n",
       "      <th>token_Political opinions</th>\n",
       "      <td>0.000000</td>\n",
       "      <td>0.000000</td>\n",
       "      <td>0.000000</td>\n",
       "      <td>0.0</td>\n",
       "      <td>0.0</td>\n",
       "      <td>0.0</td>\n",
       "    </tr>\n",
       "    <tr>\n",
       "      <th>token_Social Security number</th>\n",
       "      <td>0.000000</td>\n",
       "      <td>0.000000</td>\n",
       "      <td>0.000000</td>\n",
       "      <td>0.0</td>\n",
       "      <td>122.0</td>\n",
       "      <td>0.0</td>\n",
       "    </tr>\n",
       "    <tr>\n",
       "      <th>token_Civil state</th>\n",
       "      <td>0.000000</td>\n",
       "      <td>0.000000</td>\n",
       "      <td>0.000000</td>\n",
       "      <td>0.0</td>\n",
       "      <td>0.0</td>\n",
       "      <td>0.0</td>\n",
       "    </tr>\n",
       "    <tr>\n",
       "      <th>token_Medical record numbers</th>\n",
       "      <td>0.038462</td>\n",
       "      <td>0.013333</td>\n",
       "      <td>0.013677</td>\n",
       "      <td>5.0</td>\n",
       "      <td>125.0</td>\n",
       "      <td>370.0</td>\n",
       "    </tr>\n",
       "    <tr>\n",
       "      <th>token_Trade union membership</th>\n",
       "      <td>0.000000</td>\n",
       "      <td>0.000000</td>\n",
       "      <td>0.000000</td>\n",
       "      <td>0.0</td>\n",
       "      <td>0.0</td>\n",
       "      <td>0.0</td>\n",
       "    </tr>\n",
       "    <tr>\n",
       "      <th>token_Physical addresses</th>\n",
       "      <td>0.005092</td>\n",
       "      <td>0.625000</td>\n",
       "      <td>0.109983</td>\n",
       "      <td>15.0</td>\n",
       "      <td>2931.0</td>\n",
       "      <td>9.0</td>\n",
       "    </tr>\n",
       "    <tr>\n",
       "      <th>token_Philosophical beliefs</th>\n",
       "      <td>0.000000</td>\n",
       "      <td>0.000000</td>\n",
       "      <td>0.000000</td>\n",
       "      <td>0.0</td>\n",
       "      <td>0.0</td>\n",
       "      <td>0.0</td>\n",
       "    </tr>\n",
       "    <tr>\n",
       "      <th>token_Email address</th>\n",
       "      <td>0.076923</td>\n",
       "      <td>0.961977</td>\n",
       "      <td>0.666869</td>\n",
       "      <td>253.0</td>\n",
       "      <td>3036.0</td>\n",
       "      <td>10.0</td>\n",
       "    </tr>\n",
       "    <tr>\n",
       "      <th>token_Genetic information</th>\n",
       "      <td>0.000000</td>\n",
       "      <td>0.000000</td>\n",
       "      <td>0.000000</td>\n",
       "      <td>0.0</td>\n",
       "      <td>0.0</td>\n",
       "      <td>0.0</td>\n",
       "    </tr>\n",
       "    <tr>\n",
       "      <th>token_Financial information</th>\n",
       "      <td>0.000000</td>\n",
       "      <td>0.000000</td>\n",
       "      <td>0.000000</td>\n",
       "      <td>0.0</td>\n",
       "      <td>0.0</td>\n",
       "      <td>0.0</td>\n",
       "    </tr>\n",
       "    <tr>\n",
       "      <th>token_Biometric infomration</th>\n",
       "      <td>0.000000</td>\n",
       "      <td>0.000000</td>\n",
       "      <td>0.000000</td>\n",
       "      <td>0.0</td>\n",
       "      <td>0.0</td>\n",
       "      <td>0.0</td>\n",
       "    </tr>\n",
       "    <tr>\n",
       "      <th>word_O</th>\n",
       "      <td>0.999966</td>\n",
       "      <td>0.998165</td>\n",
       "      <td>0.998234</td>\n",
       "      <td>4980636.0</td>\n",
       "      <td>167.0</td>\n",
       "      <td>9158.0</td>\n",
       "    </tr>\n",
       "    <tr>\n",
       "      <th>word_B-EMAIL</th>\n",
       "      <td>0.057315</td>\n",
       "      <td>0.974359</td>\n",
       "      <td>0.603175</td>\n",
       "      <td>38.0</td>\n",
       "      <td>625.0</td>\n",
       "      <td>1.0</td>\n",
       "    </tr>\n",
       "    <tr>\n",
       "      <th>word_B-ID_NUM</th>\n",
       "      <td>0.010101</td>\n",
       "      <td>0.012821</td>\n",
       "      <td>0.012689</td>\n",
       "      <td>1.0</td>\n",
       "      <td>98.0</td>\n",
       "      <td>77.0</td>\n",
       "    </tr>\n",
       "    <tr>\n",
       "      <th>word_B-NAME_STUDENT</th>\n",
       "      <td>0.249230</td>\n",
       "      <td>0.947985</td>\n",
       "      <td>0.855711</td>\n",
       "      <td>1294.0</td>\n",
       "      <td>3898.0</td>\n",
       "      <td>71.0</td>\n",
       "    </tr>\n",
       "    <tr>\n",
       "      <th>word_B-PHONE_NUM</th>\n",
       "      <td>0.026316</td>\n",
       "      <td>0.666667</td>\n",
       "      <td>0.344371</td>\n",
       "      <td>4.0</td>\n",
       "      <td>148.0</td>\n",
       "      <td>2.0</td>\n",
       "    </tr>\n",
       "    <tr>\n",
       "      <th>word_B-STREET_ADDRESS</th>\n",
       "      <td>0.000000</td>\n",
       "      <td>0.000000</td>\n",
       "      <td>0.000000</td>\n",
       "      <td>0.0</td>\n",
       "      <td>1549.0</td>\n",
       "      <td>2.0</td>\n",
       "    </tr>\n",
       "    <tr>\n",
       "      <th>word_B-URL_PERSONAL</th>\n",
       "      <td>0.000000</td>\n",
       "      <td>0.000000</td>\n",
       "      <td>0.000000</td>\n",
       "      <td>0.0</td>\n",
       "      <td>0.0</td>\n",
       "      <td>110.0</td>\n",
       "    </tr>\n",
       "    <tr>\n",
       "      <th>word_B-USERNAME</th>\n",
       "      <td>0.000000</td>\n",
       "      <td>0.000000</td>\n",
       "      <td>0.000000</td>\n",
       "      <td>0.0</td>\n",
       "      <td>0.0</td>\n",
       "      <td>6.0</td>\n",
       "    </tr>\n",
       "    <tr>\n",
       "      <th>word_I-ID_NUM</th>\n",
       "      <td>0.000000</td>\n",
       "      <td>0.000000</td>\n",
       "      <td>0.000000</td>\n",
       "      <td>0.0</td>\n",
       "      <td>8.0</td>\n",
       "      <td>1.0</td>\n",
       "    </tr>\n",
       "    <tr>\n",
       "      <th>word_I-NAME_STUDENT</th>\n",
       "      <td>0.316893</td>\n",
       "      <td>0.937956</td>\n",
       "      <td>0.872210</td>\n",
       "      <td>1028.0</td>\n",
       "      <td>2216.0</td>\n",
       "      <td>68.0</td>\n",
       "    </tr>\n",
       "    <tr>\n",
       "      <th>word_I-PHONE_NUM</th>\n",
       "      <td>0.235294</td>\n",
       "      <td>0.800000</td>\n",
       "      <td>0.732394</td>\n",
       "      <td>12.0</td>\n",
       "      <td>39.0</td>\n",
       "      <td>3.0</td>\n",
       "    </tr>\n",
       "    <tr>\n",
       "      <th>word_I-STREET_ADDRESS</th>\n",
       "      <td>0.011658</td>\n",
       "      <td>0.450000</td>\n",
       "      <td>0.183962</td>\n",
       "      <td>9.0</td>\n",
       "      <td>763.0</td>\n",
       "      <td>11.0</td>\n",
       "    </tr>\n",
       "    <tr>\n",
       "      <th>word_I-URL_PERSONAL</th>\n",
       "      <td>0.000000</td>\n",
       "      <td>0.000000</td>\n",
       "      <td>0.000000</td>\n",
       "      <td>0.0</td>\n",
       "      <td>0.0</td>\n",
       "      <td>1.0</td>\n",
       "    </tr>\n",
       "  </tbody>\n",
       "</table>\n",
       "</div>"
      ],
      "text/plain": [
       "                                    precision    recall    f_beta         tp  \\\n",
       "token_total_metrics                  0.165115  0.857547  0.738441     3335.0   \n",
       "word_total_metrics                   0.203410  0.871121  0.773468     2386.0   \n",
       "token_O                              0.999950  0.996506  0.996638  4717922.0   \n",
       "token_Racial or ethnic information   0.000000  0.000000  0.000000        0.0   \n",
       "token_Name                           0.235735  0.950582  0.851295     3020.0   \n",
       "token_Sexual orientation             0.000000  0.000000  0.000000        0.0   \n",
       "token_Phone Numbers                  0.046667  0.840000  0.507907       42.0   \n",
       "token_Health insurance information   0.000000  0.000000  0.000000        0.0   \n",
       "token_Religious beliefs              0.000000  0.000000  0.000000        0.0   \n",
       "token_Political opinions             0.000000  0.000000  0.000000        0.0   \n",
       "token_Social Security number         0.000000  0.000000  0.000000        0.0   \n",
       "token_Civil state                    0.000000  0.000000  0.000000        0.0   \n",
       "token_Medical record numbers         0.038462  0.013333  0.013677        5.0   \n",
       "token_Trade union membership         0.000000  0.000000  0.000000        0.0   \n",
       "token_Physical addresses             0.005092  0.625000  0.109983       15.0   \n",
       "token_Philosophical beliefs          0.000000  0.000000  0.000000        0.0   \n",
       "token_Email address                  0.076923  0.961977  0.666869      253.0   \n",
       "token_Genetic information            0.000000  0.000000  0.000000        0.0   \n",
       "token_Financial information          0.000000  0.000000  0.000000        0.0   \n",
       "token_Biometric infomration          0.000000  0.000000  0.000000        0.0   \n",
       "word_O                               0.999966  0.998165  0.998234  4980636.0   \n",
       "word_B-EMAIL                         0.057315  0.974359  0.603175       38.0   \n",
       "word_B-ID_NUM                        0.010101  0.012821  0.012689        1.0   \n",
       "word_B-NAME_STUDENT                  0.249230  0.947985  0.855711     1294.0   \n",
       "word_B-PHONE_NUM                     0.026316  0.666667  0.344371        4.0   \n",
       "word_B-STREET_ADDRESS                0.000000  0.000000  0.000000        0.0   \n",
       "word_B-URL_PERSONAL                  0.000000  0.000000  0.000000        0.0   \n",
       "word_B-USERNAME                      0.000000  0.000000  0.000000        0.0   \n",
       "word_I-ID_NUM                        0.000000  0.000000  0.000000        0.0   \n",
       "word_I-NAME_STUDENT                  0.316893  0.937956  0.872210     1028.0   \n",
       "word_I-PHONE_NUM                     0.235294  0.800000  0.732394       12.0   \n",
       "word_I-STREET_ADDRESS                0.011658  0.450000  0.183962        9.0   \n",
       "word_I-URL_PERSONAL                  0.000000  0.000000  0.000000        0.0   \n",
       "\n",
       "                                         fp       fn  \n",
       "token_total_metrics                 16863.0    554.0  \n",
       "word_total_metrics                   9344.0    353.0  \n",
       "token_O                               235.0  16544.0  \n",
       "token_Racial or ethnic information      0.0      0.0  \n",
       "token_Name                           9791.0    157.0  \n",
       "token_Sexual orientation                0.0      0.0  \n",
       "token_Phone Numbers                   858.0      8.0  \n",
       "token_Health insurance information      0.0      0.0  \n",
       "token_Religious beliefs                 0.0      0.0  \n",
       "token_Political opinions                0.0      0.0  \n",
       "token_Social Security number          122.0      0.0  \n",
       "token_Civil state                       0.0      0.0  \n",
       "token_Medical record numbers          125.0    370.0  \n",
       "token_Trade union membership            0.0      0.0  \n",
       "token_Physical addresses             2931.0      9.0  \n",
       "token_Philosophical beliefs             0.0      0.0  \n",
       "token_Email address                  3036.0     10.0  \n",
       "token_Genetic information               0.0      0.0  \n",
       "token_Financial information             0.0      0.0  \n",
       "token_Biometric infomration             0.0      0.0  \n",
       "word_O                                167.0   9158.0  \n",
       "word_B-EMAIL                          625.0      1.0  \n",
       "word_B-ID_NUM                          98.0     77.0  \n",
       "word_B-NAME_STUDENT                  3898.0     71.0  \n",
       "word_B-PHONE_NUM                      148.0      2.0  \n",
       "word_B-STREET_ADDRESS                1549.0      2.0  \n",
       "word_B-URL_PERSONAL                     0.0    110.0  \n",
       "word_B-USERNAME                         0.0      6.0  \n",
       "word_I-ID_NUM                           8.0      1.0  \n",
       "word_I-NAME_STUDENT                  2216.0     68.0  \n",
       "word_I-PHONE_NUM                       39.0      3.0  \n",
       "word_I-STREET_ADDRESS                 763.0     11.0  \n",
       "word_I-URL_PERSONAL                     0.0      1.0  "
      ]
     },
     "execution_count": 136,
     "metadata": {},
     "output_type": "execute_result"
    }
   ],
   "source": [
    "%%time\n",
    "df_all_metrics = pd.DataFrame(dict_all_scores)\n",
    "df_all_metrics.columns = df_all_metrics.columns.map(col_id2label)\n",
    "df_all_metrics = df_all_metrics.T\n",
    "df_all_metrics"
   ]
  },
  {
   "cell_type": "markdown",
   "id": "1ee3a788-cbd5-4faf-8a25-bc3f2e0d707e",
   "metadata": {},
   "source": [
    "### will_bio_tokens=True, will_bio_words=True"
   ]
  },
  {
   "cell_type": "code",
   "execution_count": 107,
   "id": "f0206d92-771c-4d73-82d5-db43521e0067",
   "metadata": {
    "tags": []
   },
   "outputs": [
    {
     "name": "stdout",
     "output_type": "stream",
     "text": [
      "CPU times: total: 0 ns\n",
      "Wall time: 3 ms\n"
     ]
    },
    {
     "data": {
      "text/html": [
       "<div>\n",
       "<style scoped>\n",
       "    .dataframe tbody tr th:only-of-type {\n",
       "        vertical-align: middle;\n",
       "    }\n",
       "\n",
       "    .dataframe tbody tr th {\n",
       "        vertical-align: top;\n",
       "    }\n",
       "\n",
       "    .dataframe thead th {\n",
       "        text-align: right;\n",
       "    }\n",
       "</style>\n",
       "<table border=\"1\" class=\"dataframe\">\n",
       "  <thead>\n",
       "    <tr style=\"text-align: right;\">\n",
       "      <th></th>\n",
       "      <th>precision</th>\n",
       "      <th>recall</th>\n",
       "      <th>f_beta</th>\n",
       "      <th>tp</th>\n",
       "      <th>fp</th>\n",
       "      <th>fn</th>\n",
       "    </tr>\n",
       "  </thead>\n",
       "  <tbody>\n",
       "    <tr>\n",
       "      <th>token_total_metrics</th>\n",
       "      <td>0.145163</td>\n",
       "      <td>0.503175</td>\n",
       "      <td>0.459581</td>\n",
       "      <td>2932.0</td>\n",
       "      <td>17266.0</td>\n",
       "      <td>2895.0</td>\n",
       "    </tr>\n",
       "    <tr>\n",
       "      <th>word_total_metrics</th>\n",
       "      <td>0.203410</td>\n",
       "      <td>0.871121</td>\n",
       "      <td>0.773468</td>\n",
       "      <td>2386.0</td>\n",
       "      <td>9344.0</td>\n",
       "      <td>353.0</td>\n",
       "    </tr>\n",
       "    <tr>\n",
       "      <th>token_O</th>\n",
       "      <td>0.999755</td>\n",
       "      <td>0.996720</td>\n",
       "      <td>0.996836</td>\n",
       "      <td>4717003.0</td>\n",
       "      <td>1154.0</td>\n",
       "      <td>15525.0</td>\n",
       "    </tr>\n",
       "    <tr>\n",
       "      <th>token_B-EMAIL</th>\n",
       "      <td>0.076923</td>\n",
       "      <td>0.961977</td>\n",
       "      <td>0.666869</td>\n",
       "      <td>253.0</td>\n",
       "      <td>3036.0</td>\n",
       "      <td>10.0</td>\n",
       "    </tr>\n",
       "    <tr>\n",
       "      <th>token_B-ID_NUM</th>\n",
       "      <td>0.020942</td>\n",
       "      <td>0.010753</td>\n",
       "      <td>0.010958</td>\n",
       "      <td>4.0</td>\n",
       "      <td>187.0</td>\n",
       "      <td>368.0</td>\n",
       "    </tr>\n",
       "    <tr>\n",
       "      <th>token_B-NAME_STUDENT</th>\n",
       "      <td>0.189873</td>\n",
       "      <td>0.726795</td>\n",
       "      <td>0.655502</td>\n",
       "      <td>1245.0</td>\n",
       "      <td>5312.0</td>\n",
       "      <td>468.0</td>\n",
       "    </tr>\n",
       "    <tr>\n",
       "      <th>token_B-PHONE_NUM</th>\n",
       "      <td>0.013746</td>\n",
       "      <td>0.363636</td>\n",
       "      <td>0.183746</td>\n",
       "      <td>4.0</td>\n",
       "      <td>287.0</td>\n",
       "      <td>7.0</td>\n",
       "    </tr>\n",
       "    <tr>\n",
       "      <th>token_B-STREET_ADDRESS</th>\n",
       "      <td>0.000000</td>\n",
       "      <td>0.000000</td>\n",
       "      <td>0.000000</td>\n",
       "      <td>0.0</td>\n",
       "      <td>1620.0</td>\n",
       "      <td>2.0</td>\n",
       "    </tr>\n",
       "    <tr>\n",
       "      <th>token_B-URL_PERSONAL</th>\n",
       "      <td>0.000000</td>\n",
       "      <td>0.000000</td>\n",
       "      <td>0.000000</td>\n",
       "      <td>0.0</td>\n",
       "      <td>0.0</td>\n",
       "      <td>1911.0</td>\n",
       "    </tr>\n",
       "    <tr>\n",
       "      <th>token_B-USERNAME</th>\n",
       "      <td>0.000000</td>\n",
       "      <td>0.000000</td>\n",
       "      <td>0.000000</td>\n",
       "      <td>0.0</td>\n",
       "      <td>0.0</td>\n",
       "      <td>20.0</td>\n",
       "    </tr>\n",
       "    <tr>\n",
       "      <th>token_I-ID_NUM</th>\n",
       "      <td>0.000000</td>\n",
       "      <td>0.000000</td>\n",
       "      <td>0.000000</td>\n",
       "      <td>0.0</td>\n",
       "      <td>61.0</td>\n",
       "      <td>3.0</td>\n",
       "    </tr>\n",
       "    <tr>\n",
       "      <th>token_I-NAME_STUDENT</th>\n",
       "      <td>0.220339</td>\n",
       "      <td>0.941257</td>\n",
       "      <td>0.836048</td>\n",
       "      <td>1378.0</td>\n",
       "      <td>4876.0</td>\n",
       "      <td>86.0</td>\n",
       "    </tr>\n",
       "    <tr>\n",
       "      <th>token_I-PHONE_NUM</th>\n",
       "      <td>0.059113</td>\n",
       "      <td>0.923077</td>\n",
       "      <td>0.590909</td>\n",
       "      <td>36.0</td>\n",
       "      <td>573.0</td>\n",
       "      <td>3.0</td>\n",
       "    </tr>\n",
       "    <tr>\n",
       "      <th>token_I-STREET_ADDRESS</th>\n",
       "      <td>0.009050</td>\n",
       "      <td>0.545455</td>\n",
       "      <td>0.166311</td>\n",
       "      <td>12.0</td>\n",
       "      <td>1314.0</td>\n",
       "      <td>10.0</td>\n",
       "    </tr>\n",
       "    <tr>\n",
       "      <th>token_I-URL_PERSONAL</th>\n",
       "      <td>0.000000</td>\n",
       "      <td>0.000000</td>\n",
       "      <td>0.000000</td>\n",
       "      <td>0.0</td>\n",
       "      <td>0.0</td>\n",
       "      <td>7.0</td>\n",
       "    </tr>\n",
       "    <tr>\n",
       "      <th>word_O</th>\n",
       "      <td>0.999966</td>\n",
       "      <td>0.998165</td>\n",
       "      <td>0.998234</td>\n",
       "      <td>4980636.0</td>\n",
       "      <td>167.0</td>\n",
       "      <td>9158.0</td>\n",
       "    </tr>\n",
       "    <tr>\n",
       "      <th>word_B-EMAIL</th>\n",
       "      <td>0.057315</td>\n",
       "      <td>0.974359</td>\n",
       "      <td>0.603175</td>\n",
       "      <td>38.0</td>\n",
       "      <td>625.0</td>\n",
       "      <td>1.0</td>\n",
       "    </tr>\n",
       "    <tr>\n",
       "      <th>word_B-ID_NUM</th>\n",
       "      <td>0.010101</td>\n",
       "      <td>0.012821</td>\n",
       "      <td>0.012689</td>\n",
       "      <td>1.0</td>\n",
       "      <td>98.0</td>\n",
       "      <td>77.0</td>\n",
       "    </tr>\n",
       "    <tr>\n",
       "      <th>word_B-NAME_STUDENT</th>\n",
       "      <td>0.249230</td>\n",
       "      <td>0.947985</td>\n",
       "      <td>0.855711</td>\n",
       "      <td>1294.0</td>\n",
       "      <td>3898.0</td>\n",
       "      <td>71.0</td>\n",
       "    </tr>\n",
       "    <tr>\n",
       "      <th>word_B-PHONE_NUM</th>\n",
       "      <td>0.026316</td>\n",
       "      <td>0.666667</td>\n",
       "      <td>0.344371</td>\n",
       "      <td>4.0</td>\n",
       "      <td>148.0</td>\n",
       "      <td>2.0</td>\n",
       "    </tr>\n",
       "    <tr>\n",
       "      <th>word_B-STREET_ADDRESS</th>\n",
       "      <td>0.000000</td>\n",
       "      <td>0.000000</td>\n",
       "      <td>0.000000</td>\n",
       "      <td>0.0</td>\n",
       "      <td>1549.0</td>\n",
       "      <td>2.0</td>\n",
       "    </tr>\n",
       "    <tr>\n",
       "      <th>word_B-URL_PERSONAL</th>\n",
       "      <td>0.000000</td>\n",
       "      <td>0.000000</td>\n",
       "      <td>0.000000</td>\n",
       "      <td>0.0</td>\n",
       "      <td>0.0</td>\n",
       "      <td>110.0</td>\n",
       "    </tr>\n",
       "    <tr>\n",
       "      <th>word_B-USERNAME</th>\n",
       "      <td>0.000000</td>\n",
       "      <td>0.000000</td>\n",
       "      <td>0.000000</td>\n",
       "      <td>0.0</td>\n",
       "      <td>0.0</td>\n",
       "      <td>6.0</td>\n",
       "    </tr>\n",
       "    <tr>\n",
       "      <th>word_I-ID_NUM</th>\n",
       "      <td>0.000000</td>\n",
       "      <td>0.000000</td>\n",
       "      <td>0.000000</td>\n",
       "      <td>0.0</td>\n",
       "      <td>8.0</td>\n",
       "      <td>1.0</td>\n",
       "    </tr>\n",
       "    <tr>\n",
       "      <th>word_I-NAME_STUDENT</th>\n",
       "      <td>0.316893</td>\n",
       "      <td>0.937956</td>\n",
       "      <td>0.872210</td>\n",
       "      <td>1028.0</td>\n",
       "      <td>2216.0</td>\n",
       "      <td>68.0</td>\n",
       "    </tr>\n",
       "    <tr>\n",
       "      <th>word_I-PHONE_NUM</th>\n",
       "      <td>0.235294</td>\n",
       "      <td>0.800000</td>\n",
       "      <td>0.732394</td>\n",
       "      <td>12.0</td>\n",
       "      <td>39.0</td>\n",
       "      <td>3.0</td>\n",
       "    </tr>\n",
       "    <tr>\n",
       "      <th>word_I-STREET_ADDRESS</th>\n",
       "      <td>0.011658</td>\n",
       "      <td>0.450000</td>\n",
       "      <td>0.183962</td>\n",
       "      <td>9.0</td>\n",
       "      <td>763.0</td>\n",
       "      <td>11.0</td>\n",
       "    </tr>\n",
       "    <tr>\n",
       "      <th>word_I-URL_PERSONAL</th>\n",
       "      <td>0.000000</td>\n",
       "      <td>0.000000</td>\n",
       "      <td>0.000000</td>\n",
       "      <td>0.0</td>\n",
       "      <td>0.0</td>\n",
       "      <td>1.0</td>\n",
       "    </tr>\n",
       "  </tbody>\n",
       "</table>\n",
       "</div>"
      ],
      "text/plain": [
       "                        precision    recall    f_beta         tp       fp  \\\n",
       "token_total_metrics      0.145163  0.503175  0.459581     2932.0  17266.0   \n",
       "word_total_metrics       0.203410  0.871121  0.773468     2386.0   9344.0   \n",
       "token_O                  0.999755  0.996720  0.996836  4717003.0   1154.0   \n",
       "token_B-EMAIL            0.076923  0.961977  0.666869      253.0   3036.0   \n",
       "token_B-ID_NUM           0.020942  0.010753  0.010958        4.0    187.0   \n",
       "token_B-NAME_STUDENT     0.189873  0.726795  0.655502     1245.0   5312.0   \n",
       "token_B-PHONE_NUM        0.013746  0.363636  0.183746        4.0    287.0   \n",
       "token_B-STREET_ADDRESS   0.000000  0.000000  0.000000        0.0   1620.0   \n",
       "token_B-URL_PERSONAL     0.000000  0.000000  0.000000        0.0      0.0   \n",
       "token_B-USERNAME         0.000000  0.000000  0.000000        0.0      0.0   \n",
       "token_I-ID_NUM           0.000000  0.000000  0.000000        0.0     61.0   \n",
       "token_I-NAME_STUDENT     0.220339  0.941257  0.836048     1378.0   4876.0   \n",
       "token_I-PHONE_NUM        0.059113  0.923077  0.590909       36.0    573.0   \n",
       "token_I-STREET_ADDRESS   0.009050  0.545455  0.166311       12.0   1314.0   \n",
       "token_I-URL_PERSONAL     0.000000  0.000000  0.000000        0.0      0.0   \n",
       "word_O                   0.999966  0.998165  0.998234  4980636.0    167.0   \n",
       "word_B-EMAIL             0.057315  0.974359  0.603175       38.0    625.0   \n",
       "word_B-ID_NUM            0.010101  0.012821  0.012689        1.0     98.0   \n",
       "word_B-NAME_STUDENT      0.249230  0.947985  0.855711     1294.0   3898.0   \n",
       "word_B-PHONE_NUM         0.026316  0.666667  0.344371        4.0    148.0   \n",
       "word_B-STREET_ADDRESS    0.000000  0.000000  0.000000        0.0   1549.0   \n",
       "word_B-URL_PERSONAL      0.000000  0.000000  0.000000        0.0      0.0   \n",
       "word_B-USERNAME          0.000000  0.000000  0.000000        0.0      0.0   \n",
       "word_I-ID_NUM            0.000000  0.000000  0.000000        0.0      8.0   \n",
       "word_I-NAME_STUDENT      0.316893  0.937956  0.872210     1028.0   2216.0   \n",
       "word_I-PHONE_NUM         0.235294  0.800000  0.732394       12.0     39.0   \n",
       "word_I-STREET_ADDRESS    0.011658  0.450000  0.183962        9.0    763.0   \n",
       "word_I-URL_PERSONAL      0.000000  0.000000  0.000000        0.0      0.0   \n",
       "\n",
       "                             fn  \n",
       "token_total_metrics      2895.0  \n",
       "word_total_metrics        353.0  \n",
       "token_O                 15525.0  \n",
       "token_B-EMAIL              10.0  \n",
       "token_B-ID_NUM            368.0  \n",
       "token_B-NAME_STUDENT      468.0  \n",
       "token_B-PHONE_NUM           7.0  \n",
       "token_B-STREET_ADDRESS      2.0  \n",
       "token_B-URL_PERSONAL     1911.0  \n",
       "token_B-USERNAME           20.0  \n",
       "token_I-ID_NUM              3.0  \n",
       "token_I-NAME_STUDENT       86.0  \n",
       "token_I-PHONE_NUM           3.0  \n",
       "token_I-STREET_ADDRESS     10.0  \n",
       "token_I-URL_PERSONAL        7.0  \n",
       "word_O                   9158.0  \n",
       "word_B-EMAIL                1.0  \n",
       "word_B-ID_NUM              77.0  \n",
       "word_B-NAME_STUDENT        71.0  \n",
       "word_B-PHONE_NUM            2.0  \n",
       "word_B-STREET_ADDRESS       2.0  \n",
       "word_B-URL_PERSONAL       110.0  \n",
       "word_B-USERNAME             6.0  \n",
       "word_I-ID_NUM               1.0  \n",
       "word_I-NAME_STUDENT        68.0  \n",
       "word_I-PHONE_NUM            3.0  \n",
       "word_I-STREET_ADDRESS      11.0  \n",
       "word_I-URL_PERSONAL         1.0  "
      ]
     },
     "execution_count": 107,
     "metadata": {},
     "output_type": "execute_result"
    }
   ],
   "source": [
    "%%time\n",
    "df_all_metrics = pd.DataFrame(dict_all_scores)\n",
    "df_all_metrics.columns = df_all_metrics.columns.map(col_id2label)\n",
    "df_all_metrics = df_all_metrics.T\n",
    "df_all_metrics"
   ]
  },
  {
   "cell_type": "markdown",
   "id": "349e636f-e209-4df2-93bc-2598d7cbb0c2",
   "metadata": {},
   "source": [
    "# Record Search"
   ]
  },
  {
   "cell_type": "markdown",
   "id": "1eac0a51-052d-4346-85a3-a6b3696a5e08",
   "metadata": {},
   "source": [
    "## List Approach"
   ]
  },
  {
   "cell_type": "markdown",
   "id": "498e9325-e4fe-4fa9-acf7-1c7fbd872d6b",
   "metadata": {
    "tags": []
   },
   "source": [
    "### Preprocessing"
   ]
  },
  {
   "cell_type": "code",
   "execution_count": 229,
   "id": "e08f9024-c821-46b6-a2ff-99d466fbddce",
   "metadata": {},
   "outputs": [],
   "source": [
    "%%time\n",
    "record_lens = [len(record) for record in preprocessed_dataset['word_labels']]\n",
    "split_indices = np.cumsum(record_lens)\n",
    "\n",
    "list_word_label_ids = np.split(flat_word_label_ids, split_indices)\n",
    "list_word_true_label_ids = np.split(flat_word_true_labels_id, split_indices)"
   ]
  },
  {
   "cell_type": "markdown",
   "id": "b9fb4ede-5140-4682-a54e-6002a1c75e4f",
   "metadata": {},
   "source": [
    "### Build"
   ]
  },
  {
   "cell_type": "code",
   "execution_count": 254,
   "id": "941cf07d-b405-463b-9090-d79a060299c2",
   "metadata": {},
   "outputs": [],
   "source": [
    "def build_record_meta(preds, labels):\n",
    "    row_size = len(preds)\n",
    "    np_record_meta = np.empty((row_size,2), dtype='int8')\n",
    "\n",
    "    for i, (pred_id, true_id), in enumerate(zip(preds, labels)):\n",
    "        if pred_id == true_id:\n",
    "            np_record_meta[i][0] = -1\n",
    "            np_record_meta[i][1] = -1\n",
    "        else:\n",
    "            np_record_meta[i][0] = pred_id\n",
    "            np_record_meta[i][1] = true_id\n",
    "            \n",
    "    return np_record_meta\n",
    "            \n",
    "def get_undetected_records(list_record_meta, true_id):\n",
    "    \n",
    "    return [i for i, np_record_meta in enumerate(list_record_meta)  if (np_record_meta[:,0] == true_id).any()]\n",
    "    \n",
    "    \n",
    "    return (np_record_meta[:,0] == true_id).any()\n",
    "\n",
    "def get_mismatched_records(list_records, pred_id, true_id):\n",
    "    return [i for i, np_record_meta in enumerate(list_record_meta)  if ((np_record_meta[:,0] == pred_id) & (np_record_meta[:,1] == true_id)).any()]\n",
    "    \n"
   ]
  },
  {
   "cell_type": "code",
   "execution_count": 232,
   "id": "6c1c8df9-bab1-43df-ab6c-0f607713aa5a",
   "metadata": {},
   "outputs": [
    {
     "name": "stdout",
     "output_type": "stream",
     "text": [
      "CPU times: total: 5.81 s\n",
      "Wall time: 6.01 s\n"
     ]
    }
   ],
   "source": [
    "%%time\n",
    "list_record_meta = []\n",
    "\n",
    "for preds, labels in zip(list_word_label_ids, list_word_true_label_ids):\n",
    "    list_record_meta.append(build_record_meta(preds, labels))\n"
   ]
  },
  {
   "cell_type": "code",
   "execution_count": null,
   "id": "33b55575-8e86-43d4-8447-acd331859726",
   "metadata": {},
   "outputs": [],
   "source": [
    "for i, (rec_len, word_label_ids, word_true_label_ids) in enumerate(zip(record_lens,list_word_label_ids,list_word_true_label_ids)):\n",
    "    if rec_len != len(word_label_ids) or rec_len != len(word_true_label_ids):\n",
    "        print(i)\n",
    "        break"
   ]
  },
  {
   "cell_type": "code",
   "execution_count": 122,
   "id": "a4b45f6e-2675-4a1a-b8ac-c0fc118476ea",
   "metadata": {},
   "outputs": [
    {
     "data": {
      "text/plain": [
       "563"
      ]
     },
     "execution_count": 122,
     "metadata": {},
     "output_type": "execute_result"
    }
   ],
   "source": [
    "record_lens[1]"
   ]
  },
  {
   "cell_type": "code",
   "execution_count": 124,
   "id": "27189bb9-a95d-40f5-a5b8-21ca6e5512db",
   "metadata": {},
   "outputs": [
    {
     "data": {
      "text/plain": [
       "0"
      ]
     },
     "execution_count": 124,
     "metadata": {},
     "output_type": "execute_result"
    }
   ],
   "source": [
    "len(list_word_label_ids[1])"
   ]
  },
  {
   "cell_type": "markdown",
   "id": "44ab821b-19e6-4e4f-8e9a-9438566c7c74",
   "metadata": {},
   "source": [
    "### Test get_undetected_records"
   ]
  },
  {
   "cell_type": "code",
   "execution_count": 150,
   "id": "491f21f8-cdd5-4b45-98ab-1f7115624bee",
   "metadata": {},
   "outputs": [
    {
     "data": {
      "text/plain": [
       "True"
      ]
     },
     "execution_count": 150,
     "metadata": {},
     "output_type": "execute_result"
    }
   ],
   "source": [
    "np_record_meta = list_record_meta[0]\n",
    "\n",
    "(np_record_meta[:,0] == 3).any()"
   ]
  },
  {
   "cell_type": "code",
   "execution_count": 151,
   "id": "56cb16ce-c33e-4645-a28a-e15aec548710",
   "metadata": {},
   "outputs": [
    {
     "data": {
      "text/plain": [
       "{'O': 0,\n",
       " 'B-EMAIL': 1,\n",
       " 'B-ID_NUM': 2,\n",
       " 'B-NAME_STUDENT': 3,\n",
       " 'B-PHONE_NUM': 4,\n",
       " 'B-STREET_ADDRESS': 5,\n",
       " 'B-URL_PERSONAL': 6,\n",
       " 'B-USERNAME': 7,\n",
       " 'I-ID_NUM': 8,\n",
       " 'I-NAME_STUDENT': 9,\n",
       " 'I-PHONE_NUM': 10,\n",
       " 'I-STREET_ADDRESS': 11,\n",
       " 'I-URL_PERSONAL': 12}"
      ]
     },
     "execution_count": 151,
     "metadata": {},
     "output_type": "execute_result"
    }
   ],
   "source": [
    "classes2id"
   ]
  },
  {
   "cell_type": "code",
   "execution_count": 233,
   "id": "f68ed138-58de-404a-a67d-7293b041e1fd",
   "metadata": {},
   "outputs": [
    {
     "name": "stdout",
     "output_type": "stream",
     "text": [
      "CPU times: total: 46.9 ms\n",
      "Wall time: 111 ms\n"
     ]
    }
   ],
   "source": [
    "%%time\n",
    "list_und_name = get_undetected_records(list_record_meta, 3)"
   ]
  },
  {
   "cell_type": "code",
   "execution_count": 172,
   "id": "6cb96e26-ed74-40c7-9a46-b4826dbb59dd",
   "metadata": {},
   "outputs": [
    {
     "data": {
      "text/plain": [
       "3406"
      ]
     },
     "execution_count": 172,
     "metadata": {},
     "output_type": "execute_result"
    }
   ],
   "source": [
    "len(list_und_name)"
   ]
  },
  {
   "cell_type": "markdown",
   "id": "54877c62-8490-4677-afdf-6768c4fba980",
   "metadata": {
    "tags": []
   },
   "source": [
    "### Test get_mismatched_records"
   ]
  },
  {
   "cell_type": "code",
   "execution_count": null,
   "id": "796f5487-dcae-489a-a9e3-41b54d84fe92",
   "metadata": {},
   "outputs": [],
   "source": [
    "df_preprocessed = preprocessed_dataset.to_pandas()\n",
    "df_preprocessed.head()"
   ]
  },
  {
   "cell_type": "code",
   "execution_count": 152,
   "id": "4c9044e7-d48e-4ae1-a29d-3b22a14df60f",
   "metadata": {},
   "outputs": [
    {
     "data": {
      "text/html": [
       "<div>\n",
       "<style scoped>\n",
       "    .dataframe tbody tr th:only-of-type {\n",
       "        vertical-align: middle;\n",
       "    }\n",
       "\n",
       "    .dataframe tbody tr th {\n",
       "        vertical-align: top;\n",
       "    }\n",
       "\n",
       "    .dataframe thead th {\n",
       "        text-align: right;\n",
       "    }\n",
       "</style>\n",
       "<table border=\"1\" class=\"dataframe\">\n",
       "  <thead>\n",
       "    <tr style=\"text-align: right;\">\n",
       "      <th></th>\n",
       "      <th>document</th>\n",
       "      <th>full_text</th>\n",
       "      <th>tokens</th>\n",
       "      <th>trailing_whitespace</th>\n",
       "      <th>labels</th>\n",
       "      <th>input_ids</th>\n",
       "      <th>attention_mask</th>\n",
       "      <th>words</th>\n",
       "      <th>word_labels</th>\n",
       "      <th>word_ids</th>\n",
       "    </tr>\n",
       "  </thead>\n",
       "  <tbody>\n",
       "    <tr>\n",
       "      <th>440</th>\n",
       "      <td>7308</td>\n",
       "      <td>Md Carrillo\\n\\nlisarose@gmail.com\\n\\ndiazkrist...</td>\n",
       "      <td>[[CLS], ▁Md, ▁Carrillo, ▁lisa, rose, @, gmail,...</td>\n",
       "      <td>[True, False, False, False, False, False, Fals...</td>\n",
       "      <td>[0, 2, 2, 14, 14, 14, 14, 14, 14, 14, 14, 14, ...</td>\n",
       "      <td>[1, 25884, 87905, 97971, 21220, 1683, 13007, 2...</td>\n",
       "      <td>[1, 1, 1, 1, 1, 1, 1, 1, 1, 1, 1, 1, 1, 1, 1, ...</td>\n",
       "      <td>[Md, Carrillo, \\n\\n, lisarose@gmail.com, \\n\\n,...</td>\n",
       "      <td>[B-NAME_STUDENT, I-NAME_STUDENT, O, B-EMAIL, O...</td>\n",
       "      <td>[nan, 0.0, 1.0, 3.0, 3.0, 3.0, 3.0, 3.0, 3.0, ...</td>\n",
       "    </tr>\n",
       "  </tbody>\n",
       "</table>\n",
       "</div>"
      ],
      "text/plain": [
       "     document                                          full_text  \\\n",
       "440      7308  Md Carrillo\\n\\nlisarose@gmail.com\\n\\ndiazkrist...   \n",
       "\n",
       "                                                tokens  \\\n",
       "440  [[CLS], ▁Md, ▁Carrillo, ▁lisa, rose, @, gmail,...   \n",
       "\n",
       "                                   trailing_whitespace  \\\n",
       "440  [True, False, False, False, False, False, Fals...   \n",
       "\n",
       "                                                labels  \\\n",
       "440  [0, 2, 2, 14, 14, 14, 14, 14, 14, 14, 14, 14, ...   \n",
       "\n",
       "                                             input_ids  \\\n",
       "440  [1, 25884, 87905, 97971, 21220, 1683, 13007, 2...   \n",
       "\n",
       "                                        attention_mask  \\\n",
       "440  [1, 1, 1, 1, 1, 1, 1, 1, 1, 1, 1, 1, 1, 1, 1, ...   \n",
       "\n",
       "                                                 words  \\\n",
       "440  [Md, Carrillo, \\n\\n, lisarose@gmail.com, \\n\\n,...   \n",
       "\n",
       "                                           word_labels  \\\n",
       "440  [B-NAME_STUDENT, I-NAME_STUDENT, O, B-EMAIL, O...   \n",
       "\n",
       "                                              word_ids  \n",
       "440  [nan, 0.0, 1.0, 3.0, 3.0, 3.0, 3.0, 3.0, 3.0, ...  "
      ]
     },
     "execution_count": 152,
     "metadata": {},
     "output_type": "execute_result"
    }
   ],
   "source": [
    "target_doc_id = 7308\n",
    "df_query = df_preprocessed[df_preprocessed.document == target_doc_id]\n",
    "df_query"
   ]
  },
  {
   "cell_type": "code",
   "execution_count": 154,
   "id": "32bb7015-bad2-4e54-9118-e7b7c23ceaba",
   "metadata": {},
   "outputs": [
    {
     "data": {
      "text/plain": [
       "(array(['B-EMAIL', 'B-NAME_STUDENT', 'B-URL_PERSONAL', 'I-NAME_STUDENT',\n",
       "        'O'], dtype=object),\n",
       " array([3, 0, 7, 1, 2], dtype=int64))"
      ]
     },
     "execution_count": 154,
     "metadata": {},
     "output_type": "execute_result"
    }
   ],
   "source": [
    "np.unique(df_query.word_labels.values[0], return_index=True)"
   ]
  },
  {
   "cell_type": "code",
   "execution_count": 161,
   "id": "f0c1a7ff-89b9-4534-9565-2ae031d8b898",
   "metadata": {},
   "outputs": [],
   "source": [
    "np_record_meta = list_record_meta[440]"
   ]
  },
  {
   "cell_type": "code",
   "execution_count": 163,
   "id": "900bfa24-0810-46ab-87c9-eee4d1fb5fd4",
   "metadata": {},
   "outputs": [
    {
     "data": {
      "text/plain": [
       "array([1, 6], dtype=int8)"
      ]
     },
     "execution_count": 163,
     "metadata": {},
     "output_type": "execute_result"
    }
   ],
   "source": [
    "np_record_meta[7]"
   ]
  },
  {
   "cell_type": "code",
   "execution_count": 142,
   "id": "7e672193-2db3-456a-b3f6-f6de072b9a88",
   "metadata": {},
   "outputs": [
    {
     "data": {
      "text/plain": [
       "array([-1,  0,  1,  3,  6], dtype=int8)"
      ]
     },
     "execution_count": 142,
     "metadata": {},
     "output_type": "execute_result"
    }
   ],
   "source": [
    "np.unique(np_record_meta)"
   ]
  },
  {
   "cell_type": "code",
   "execution_count": 165,
   "id": "353372a2-056f-45f3-84d7-e6624920cd93",
   "metadata": {},
   "outputs": [
    {
     "data": {
      "text/plain": [
       "(array([  7, 384], dtype=int64), array([1, 1], dtype=int64))"
      ]
     },
     "execution_count": 165,
     "metadata": {},
     "output_type": "execute_result"
    }
   ],
   "source": [
    "np.where(np_record_meta == 6)"
   ]
  },
  {
   "cell_type": "code",
   "execution_count": 164,
   "id": "4cb1b97a-b811-40fa-b20a-126e6acb5a34",
   "metadata": {},
   "outputs": [
    {
     "data": {
      "text/plain": [
       "(array([  7, 384], dtype=int64), array([0, 0], dtype=int64))"
      ]
     },
     "execution_count": 164,
     "metadata": {},
     "output_type": "execute_result"
    }
   ],
   "source": [
    "np.where(np_record_meta == 1)"
   ]
  },
  {
   "cell_type": "code",
   "execution_count": 167,
   "id": "547e3840-0a8f-475d-87d8-24f7f99f4110",
   "metadata": {},
   "outputs": [
    {
     "data": {
      "text/plain": [
       "True"
      ]
     },
     "execution_count": 167,
     "metadata": {},
     "output_type": "execute_result"
    }
   ],
   "source": [
    "((np_record_meta[:,0] == 1) & (np_record_meta[:,1] == 6)).any()"
   ]
  },
  {
   "cell_type": "code",
   "execution_count": 234,
   "id": "cb667781-2165-49ae-b304-55b7c8e76dd2",
   "metadata": {},
   "outputs": [
    {
     "name": "stdout",
     "output_type": "stream",
     "text": [
      "CPU times: total: 125 ms\n",
      "Wall time: 141 ms\n"
     ]
    }
   ],
   "source": [
    "%%time\n",
    "list_mis_1_6 = get_mismatched_records(list_record_meta, 1,6)"
   ]
  },
  {
   "cell_type": "code",
   "execution_count": 178,
   "id": "483fbdda-87ae-4af9-b8ea-62ca62fbd74f",
   "metadata": {
    "collapsed": true,
    "jupyter": {
     "outputs_hidden": true
    },
    "tags": []
   },
   "outputs": [
    {
     "data": {
      "text/plain": [
       "[17,\n",
       " 24,\n",
       " 49,\n",
       " 67,\n",
       " 79,\n",
       " 81,\n",
       " 103,\n",
       " 117,\n",
       " 127,\n",
       " 134,\n",
       " 146,\n",
       " 186,\n",
       " 201,\n",
       " 247,\n",
       " 296,\n",
       " 320,\n",
       " 326,\n",
       " 348,\n",
       " 351,\n",
       " 363,\n",
       " 367,\n",
       " 380,\n",
       " 392,\n",
       " 395,\n",
       " 400,\n",
       " 401,\n",
       " 414,\n",
       " 440,\n",
       " 447,\n",
       " 466,\n",
       " 471,\n",
       " 498,\n",
       " 503,\n",
       " 506,\n",
       " 528,\n",
       " 535,\n",
       " 555,\n",
       " 641,\n",
       " 754,\n",
       " 831,\n",
       " 861,\n",
       " 890,\n",
       " 908,\n",
       " 977,\n",
       " 1010,\n",
       " 1077,\n",
       " 1103,\n",
       " 1123,\n",
       " 1179,\n",
       " 1194,\n",
       " 1385,\n",
       " 1489,\n",
       " 1494,\n",
       " 1525,\n",
       " 1642,\n",
       " 1693,\n",
       " 1743,\n",
       " 1828,\n",
       " 1879,\n",
       " 2083,\n",
       " 2100,\n",
       " 2183,\n",
       " 2188,\n",
       " 2238,\n",
       " 2287,\n",
       " 2378,\n",
       " 2383,\n",
       " 2428,\n",
       " 2531,\n",
       " 2691,\n",
       " 2790]"
      ]
     },
     "execution_count": 178,
     "metadata": {},
     "output_type": "execute_result"
    }
   ],
   "source": [
    "list_mis_1_6"
   ]
  },
  {
   "cell_type": "markdown",
   "id": "df32cdc8-7a0b-4627-b38a-f36cb86b9de8",
   "metadata": {},
   "source": [
    "## Vectorized"
   ]
  },
  {
   "cell_type": "markdown",
   "id": "29081cd5-767d-463b-8723-9b585a01e001",
   "metadata": {},
   "source": [
    "### Preprocessing"
   ]
  },
  {
   "cell_type": "code",
   "execution_count": 226,
   "id": "95813daa-fc01-4c08-8ceb-a8b8a6b2c57d",
   "metadata": {},
   "outputs": [
    {
     "name": "stdout",
     "output_type": "stream",
     "text": [
      "CPU times: total: 9.69 s\n",
      "Wall time: 10.2 s\n"
     ]
    }
   ],
   "source": [
    "%%time\n",
    "record_lens = [len(record) for record in preprocessed_dataset['word_labels']]\n",
    "split_indices = np.cumsum(record_lens)\n",
    "\n",
    "list_word_label_ids = np.split(flat_word_label_ids, split_indices)\n",
    "list_word_true_label_ids = np.split(flat_word_true_labels_id, split_indices)\n",
    "\n",
    "\n",
    "np_word_label_ids = pad_lists(list_word_label_ids, 0, max_len)\n",
    "np_word_true_label_ids = pad_lists(list_word_true_label_ids, 0, max_len)\n",
    "\n",
    "max_len = max(record_lens)"
   ]
  },
  {
   "cell_type": "code",
   "execution_count": 263,
   "id": "529f9c6d-52e6-4aca-a2d5-b2b081bc9640",
   "metadata": {},
   "outputs": [],
   "source": [
    "def build_records_meta_vect(np_preds, np_labels):\n",
    "\n",
    "    np_records_meta = np.empty((np_preds.shape[0], np_preds.shape[1],2), dtype='int8')\n",
    "\n",
    "    mask_TP = np_preds == np_labels\n",
    "    mask_F = ~ mask_TP\n",
    "\n",
    "    np_records_meta[mask_TP, 0:2] = -1 #Not sure if this indexing is possible\n",
    "\n",
    "    np_records_meta[mask_F, 0] = np_preds[mask_F]\n",
    "    np_records_meta[mask_F, 1] = np_labels[mask_F]\n",
    "    \n",
    "    return np_records_meta\n",
    "\n",
    "\n",
    "def get_undetected_records(list_record_meta, true_id):\n",
    "    #Missing np.where\n",
    "    return np.where((np_records_meta[:,:,0] == true_id).any(axis=(-1)))[0]\n",
    "\n",
    "\n",
    "def get_mismatched_records(list_records, pred_id, true_id):\\\n",
    "    #Missing np.where\n",
    "    return np.where(((np_records_meta[:,:,0] == pred_id) & (np_records_meta[:,:,1] == true_id)).any(axis=1))[0]\n",
    "\n"
   ]
  },
  {
   "cell_type": "code",
   "execution_count": 220,
   "id": "65e64499-4c35-4377-a829-5928d4a80e63",
   "metadata": {},
   "outputs": [
    {
     "name": "stdout",
     "output_type": "stream",
     "text": [
      "CPU times: total: 969 ms\n",
      "Wall time: 961 ms\n"
     ]
    }
   ],
   "source": [
    "%%time\n",
    "np_records_meta = build_records_meta_vect(np_word_label_ids,np_word_true_label_ids)\n",
    "\n",
    "# for preds, labels in zip(list_word_label_ids, list_word_true_label_ids):\n",
    "#     list_record_meta.append(build_record_meta(preds, labels))"
   ]
  },
  {
   "cell_type": "code",
   "execution_count": 221,
   "id": "bc6d8cbe-ca65-4dec-aef3-9514fa2f23a2",
   "metadata": {},
   "outputs": [
    {
     "data": {
      "text/plain": [
       "(6808, 3298, 2)"
      ]
     },
     "execution_count": 221,
     "metadata": {},
     "output_type": "execute_result"
    }
   ],
   "source": [
    "np_records_meta.shape"
   ]
  },
  {
   "cell_type": "markdown",
   "id": "f4952304-42ca-4a06-b13c-f79862f68680",
   "metadata": {
    "tags": []
   },
   "source": [
    "### Test get_undetected_records"
   ]
  },
  {
   "cell_type": "code",
   "execution_count": 205,
   "id": "bf75fcbf-2815-4834-ad47-6e2df44071d6",
   "metadata": {},
   "outputs": [
    {
     "data": {
      "text/plain": [
       "6808"
      ]
     },
     "execution_count": 205,
     "metadata": {},
     "output_type": "execute_result"
    }
   ],
   "source": [
    "len((np_records_meta[:,:,0] == 3).any(axis=(-1)))"
   ]
  },
  {
   "cell_type": "code",
   "execution_count": 256,
   "id": "f913817f-0975-4c57-b419-d3853061b42f",
   "metadata": {},
   "outputs": [
    {
     "name": "stdout",
     "output_type": "stream",
     "text": [
      "CPU times: total: 46.9 ms\n",
      "Wall time: 31 ms\n"
     ]
    }
   ],
   "source": [
    "%%time\n",
    "\n",
    "np_und_name = get_undetected_records(list_record_meta, 3)"
   ]
  },
  {
   "cell_type": "markdown",
   "id": "a4bee5e9-f0e0-4dcd-b3f5-a6b37d0f5824",
   "metadata": {},
   "source": [
    "### Test get_mismatched_records"
   ]
  },
  {
   "cell_type": "code",
   "execution_count": 218,
   "id": "84fd58a1-6ce7-4759-a156-26d41f4e45d8",
   "metadata": {},
   "outputs": [
    {
     "data": {
      "text/plain": [
       "array([-1,  0,  6], dtype=int8)"
      ]
     },
     "execution_count": 218,
     "metadata": {},
     "output_type": "execute_result"
    }
   ],
   "source": [
    "np.unique(np_records_meta[440])"
   ]
  },
  {
   "cell_type": "code",
   "execution_count": 222,
   "id": "8f80f945-4e3c-4289-86ad-23b48d91eb4d",
   "metadata": {},
   "outputs": [],
   "source": [
    "temp_results = ((np_records_meta[:,:,0] == 1) & (np_records_meta[:,:,1] == 6)).any(axis=(1))"
   ]
  },
  {
   "cell_type": "code",
   "execution_count": 223,
   "id": "0dacc329-81b8-45a5-94bf-4a1d19209a51",
   "metadata": {},
   "outputs": [
    {
     "data": {
      "text/plain": [
       "6808"
      ]
     },
     "execution_count": 223,
     "metadata": {},
     "output_type": "execute_result"
    }
   ],
   "source": [
    "len(temp_results)"
   ]
  },
  {
   "cell_type": "code",
   "execution_count": 225,
   "id": "ac53e7f7-0013-4977-8a99-3b1976f55ba7",
   "metadata": {},
   "outputs": [
    {
     "data": {
      "text/plain": [
       "(array([  17,   24,   49,   67,   79,   81,  103,  117,  127,  134,  146,\n",
       "         186,  201,  247,  296,  320,  326,  348,  351,  363,  367,  380,\n",
       "         392,  395,  400,  401,  414,  440,  447,  466,  471,  498,  503,\n",
       "         506,  528,  535,  555,  641,  754,  831,  861,  890,  908,  977,\n",
       "        1010, 1077, 1103, 1123, 1179, 1194, 1385, 1489, 1494, 1525, 1642,\n",
       "        1693, 1743, 1828, 1879, 2083, 2100, 2183, 2188, 2238, 2287, 2378,\n",
       "        2383, 2428, 2531, 2691, 2790], dtype=int64),)"
      ]
     },
     "execution_count": 225,
     "metadata": {},
     "output_type": "execute_result"
    }
   ],
   "source": [
    "np.where(temp_results == True)"
   ]
  },
  {
   "cell_type": "code",
   "execution_count": 224,
   "id": "ae3b8815-edb9-44b2-943c-3beebdfd0d14",
   "metadata": {},
   "outputs": [
    {
     "data": {
      "text/plain": [
       "True"
      ]
     },
     "execution_count": 224,
     "metadata": {},
     "output_type": "execute_result"
    }
   ],
   "source": [
    "temp_results[440]"
   ]
  },
  {
   "cell_type": "code",
   "execution_count": 257,
   "id": "43e31a3c-160e-45b3-8f5c-d59a7247f302",
   "metadata": {},
   "outputs": [
    {
     "name": "stdout",
     "output_type": "stream",
     "text": [
      "CPU times: total: 46.9 ms\n",
      "Wall time: 58 ms\n"
     ]
    }
   ],
   "source": [
    "%%time\n",
    "\n",
    "temp_results = ((np_records_meta[:,:,0] == 1) & (np_records_meta[:,:,1] == 6)).any(axis=(1))"
   ]
  },
  {
   "cell_type": "code",
   "execution_count": 264,
   "id": "6174e2de-1c49-45c6-8ffa-2ae6d529193e",
   "metadata": {},
   "outputs": [],
   "source": [
    "np_mis_1_6 = get_mismatched_records(np_records_meta,1,6)"
   ]
  },
  {
   "cell_type": "code",
   "execution_count": 265,
   "id": "958e68f5-403d-4033-ad9e-4c259fa2af99",
   "metadata": {},
   "outputs": [
    {
     "data": {
      "text/plain": [
       "array([False, False, False, ..., False, False, False])"
      ]
     },
     "execution_count": 265,
     "metadata": {},
     "output_type": "execute_result"
    }
   ],
   "source": [
    "temp_results"
   ]
  },
  {
   "cell_type": "markdown",
   "id": "624137ac-4a34-4cb8-856a-1c6eaf9ca7bf",
   "metadata": {},
   "source": [
    "### Compare results"
   ]
  },
  {
   "cell_type": "code",
   "execution_count": 269,
   "id": "b79d9f19-9240-4fa2-a5ee-40516ec18431",
   "metadata": {},
   "outputs": [
    {
     "data": {
      "text/plain": [
       "True"
      ]
     },
     "execution_count": 269,
     "metadata": {},
     "output_type": "execute_result"
    }
   ],
   "source": [
    "list_und_name == np_und_name.tolist()"
   ]
  },
  {
   "cell_type": "code",
   "execution_count": 270,
   "id": "476cc0cb-3a9d-4a31-aa17-994361a8ec0f",
   "metadata": {},
   "outputs": [
    {
     "data": {
      "text/plain": [
       "True"
      ]
     },
     "execution_count": 270,
     "metadata": {},
     "output_type": "execute_result"
    }
   ],
   "source": [
    "list_mis_1_6 == np_mis_1_6.tolist()"
   ]
  },
  {
   "cell_type": "code",
   "execution_count": 240,
   "id": "6bfb716b-effc-43d7-8223-7f74f2f19006",
   "metadata": {},
   "outputs": [
    {
     "name": "stdout",
     "output_type": "stream",
     "text": [
      "1\n"
     ]
    }
   ],
   "source": [
    "for i, (l,r) in enumerate(zip(list_und_name, temp_results.tolist())):\n",
    "    if l != r:\n",
    "        print(i)\n",
    "        break"
   ]
  },
  {
   "cell_type": "code",
   "execution_count": 242,
   "id": "edd377aa-f23a-4d7f-97d2-02a3ac41ae1b",
   "metadata": {},
   "outputs": [
    {
     "data": {
      "text/plain": [
       "[0, 3, 5, 9, 10, 11, 12, 13, 15, 16]"
      ]
     },
     "execution_count": 242,
     "metadata": {},
     "output_type": "execute_result"
    }
   ],
   "source": [
    "list_und_name[:10]"
   ]
  },
  {
   "cell_type": "code",
   "execution_count": 243,
   "id": "5f13b4df-3c20-4e5c-b6e2-927cc7e0f340",
   "metadata": {},
   "outputs": [
    {
     "data": {
      "text/plain": [
       "array([False, False, False, False, False, False, False, False, False,\n",
       "       False])"
      ]
     },
     "execution_count": 243,
     "metadata": {},
     "output_type": "execute_result"
    }
   ],
   "source": [
    "temp_results[:10]"
   ]
  },
  {
   "cell_type": "code",
   "execution_count": 241,
   "id": "d9ecad72-596e-43f4-8983-16a6012e3bb1",
   "metadata": {},
   "outputs": [
    {
     "data": {
      "text/plain": [
       "3"
      ]
     },
     "execution_count": 241,
     "metadata": {},
     "output_type": "execute_result"
    }
   ],
   "source": [
    "list_und_name[1]"
   ]
  },
  {
   "cell_type": "markdown",
   "id": "1c06b2a9-73e8-490c-986f-d80b6c6f058a",
   "metadata": {
    "tags": []
   },
   "source": [
    "# Postprocessing"
   ]
  },
  {
   "cell_type": "code",
   "execution_count": null,
   "id": "bc8a2b6c-c2e4-4c72-88fe-253cd2159f81",
   "metadata": {},
   "outputs": [],
   "source": []
  }
 ],
 "metadata": {
  "kernelspec": {
   "display_name": "Python 3 (ipykernel)",
   "language": "python",
   "name": "python3"
  },
  "language_info": {
   "codemirror_mode": {
    "name": "ipython",
    "version": 3
   },
   "file_extension": ".py",
   "mimetype": "text/x-python",
   "name": "python",
   "nbconvert_exporter": "python",
   "pygments_lexer": "ipython3",
   "version": "3.11.8"
  },
  "toc-autonumbering": true
 },
 "nbformat": 4,
 "nbformat_minor": 5
}
