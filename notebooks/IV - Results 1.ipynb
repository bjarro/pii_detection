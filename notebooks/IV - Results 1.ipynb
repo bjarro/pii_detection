{
 "cells": [
  {
   "cell_type": "markdown",
   "id": "e8c6f3af-94e4-4d38-883e-9de32781efde",
   "metadata": {
    "tags": []
   },
   "source": [
    "# Imports"
   ]
  },
  {
   "cell_type": "code",
   "execution_count": 4,
   "id": "19baee02-7bcb-45ff-a518-e04e1e7db5c3",
   "metadata": {},
   "outputs": [],
   "source": [
    "from datasets import load_dataset, load_from_disk\n",
    "from collections import Counter\n",
    "import functools"
   ]
  },
  {
   "cell_type": "code",
   "execution_count": 5,
   "id": "5f40a7f6-7cbd-468c-8834-673e1b2965b0",
   "metadata": {},
   "outputs": [],
   "source": [
    "%run PII_Util.py"
   ]
  },
  {
   "cell_type": "markdown",
   "id": "6597dfa4-1c2a-4fc7-a574-1ec7f68af229",
   "metadata": {},
   "source": [
    "# Initialize Model Adapter"
   ]
  },
  {
   "cell_type": "code",
   "execution_count": 6,
   "id": "da0f24ae-f7af-48db-8e4d-4ee26506265a",
   "metadata": {},
   "outputs": [],
   "source": [
    "model_adapter = Yanis_Adapter(threshold = 0.1, checkpoint_path='./fine_tuned/yanis/yanis_01', config_only=True)"
   ]
  },
  {
   "cell_type": "markdown",
   "id": "2a90ee24-6db7-4890-9d5f-888225608a9a",
   "metadata": {},
   "source": [
    "# Data"
   ]
  },
  {
   "cell_type": "code",
   "execution_count": 7,
   "id": "c18beae2-05a7-4dd1-8371-47f410f8e7e0",
   "metadata": {},
   "outputs": [
    {
     "name": "stdout",
     "output_type": "stream",
     "text": [
      "CPU times: total: 62.5 ms\n",
      "Wall time: 1.65 s\n"
     ]
    }
   ],
   "source": [
    "%%time\n",
    "# preprocessed_dataset = load_from_disk(\"./in/tokenized_datasets\")\n",
    "preprocessed_dataset = load_from_disk(\"./in/preprocessed_dataset_2\")"
   ]
  },
  {
   "cell_type": "code",
   "execution_count": 8,
   "id": "3029de3a-9fbf-42ec-a25e-b1e0149be608",
   "metadata": {},
   "outputs": [
    {
     "name": "stdout",
     "output_type": "stream",
     "text": [
      "CPU times: total: 359 ms\n",
      "Wall time: 356 ms\n"
     ]
    }
   ],
   "source": [
    "%%time\n",
    "loaded_predictions = np.load(\"./in/preds02.npy\")"
   ]
  },
  {
   "cell_type": "markdown",
   "id": "9a727f38-fb8b-45a0-8f11-033ed2eb2b75",
   "metadata": {},
   "source": [
    "# Postprocessing"
   ]
  },
  {
   "cell_type": "code",
   "execution_count": 9,
   "id": "0c975f6e-1901-4ab6-91c2-8ddce888ad0d",
   "metadata": {},
   "outputs": [
    {
     "name": "stdout",
     "output_type": "stream",
     "text": [
      "CPU times: total: 8.22 s\n",
      "Wall time: 8.21 s\n"
     ]
    }
   ],
   "source": [
    "%%time\n",
    "list_word_ids = [[word_id if word_id is not None else -100 for word_id in word_ids] for word_ids in preprocessed_dataset['word_ids'] ]\n",
    "word_ids_padded = pad_lists(list_word_ids, -100,  loaded_predictions.shape[1])\n",
    "labels_padded = pad_lists(preprocessed_dataset['labels'], -100, loaded_predictions.shape[1])\n",
    "threshold = 0.01"
   ]
  },
  {
   "cell_type": "code",
   "execution_count": 10,
   "id": "53c1d5a0-41f4-409c-92c0-30f76c1ff670",
   "metadata": {},
   "outputs": [],
   "source": [
    "threshold = 0.01"
   ]
  },
  {
   "cell_type": "code",
   "execution_count": 24,
   "id": "996f47ed-4b4c-4df3-b995-75d29bef2438",
   "metadata": {},
   "outputs": [
    {
     "name": "stdout",
     "output_type": "stream",
     "text": [
      "CPU times: total: 0 ns\n",
      "Wall time: 0 ns\n"
     ]
    }
   ],
   "source": [
    "%%time\n",
    "\n",
    "\n",
    "#Positive class thresholding\n",
    "def get_tokens_thresholding(np_probs, true_labels_id, threshold, model_adapter):\n",
    "    \n",
    "#     np_probs = loaded_predictions\n",
    "#     true_labels_id = labels_padded\n",
    "#     threshold = 0.01\n",
    "    \n",
    "    # --- Initialize variables\n",
    "    label2id =  model_adapter.config.label2id\n",
    "    o_index = label2id['O']\n",
    "\n",
    "    # --- Get indices of highest probabilities\n",
    "    np_sorted_indices = np.argsort(np_probs)\n",
    "    np_max_indices = np_sorted_indices[:,:, -1]\n",
    "    # np_max = np_sorted_indices[np.arange(np_max_indices.shape[0]), np_max_indices]\n",
    "    np_max_prob = np.take_along_axis(np_probs, np_max_indices[:, :, np.newaxis], axis=2).squeeze()\n",
    "\n",
    "    \n",
    "    # --- Get 2nd max probabilities\n",
    "    np_2nd_max_indices = np_sorted_indices[:, :, -2]\n",
    "    # np_2nd_max = np_sorted_indices[np.arange(np_sorted_indices.shape[0]), np_max_indices]\n",
    "    np_2nd_max_prob = np.take_along_axis(np_probs, np_2nd_max_indices[:, :, np.newaxis], axis=2).squeeze()\n",
    "\n",
    "        \n",
    "    del np_probs\n",
    "    # --- Conditional replace (Positive label thresholding)\n",
    "    \n",
    "    #Masks\n",
    "    np_O_mask = np_max_indices == o_index\n",
    "    np_threshold_mask = np_2nd_max_prob > threshold\n",
    "    np_replace_mask = np_threshold_mask & np_O_mask\n",
    "\n",
    "    #Replace\n",
    "    np_label_ids = np.where(np_replace_mask, np_2nd_max_indices, np_max_indices)\n",
    "\n",
    "    # Postprocess labels, convert irrelevant labels to 'O'\n",
    "    if getattr(model_adapter, 'labels_irrelevant', None):\n",
    "        np_labels_irrelevant = np.array(model_adapter.labels_irrelevant)\n",
    "        label_ids_mask = np.isin(np_label_ids, np_labels_irrelevant)\n",
    "        np_label_ids[label_ids_mask] = o_index\n",
    "\n",
    "    # Flatten token(subwords) for metrics\n",
    "    flat_label_ids = np_label_ids.flatten()\n",
    "    flat_true_labels_id = true_labels_id.flatten()\n",
    "\n",
    "    # Remove padding preds for metrics\n",
    "    mask_padding_inv = flat_true_labels_id != -100\n",
    "    flat_true_labels_id = flat_true_labels_id[mask_padding_inv]\n",
    "    flat_label_ids = flat_label_ids[mask_padding_inv]\n",
    "    \n",
    "    return np_label_ids, flat_true_labels_id, flat_label_ids\n",
    "\n",
    "# np_label_ids, flat_true_labels_id, flat_label_ids = get_tokens_thresholding(loaded_predictions, labels_padded, threshold, model_adapter)\n"
   ]
  },
  {
   "cell_type": "code",
   "execution_count": 12,
   "id": "855ade93-685d-41a2-a192-3b63e17c5f4a",
   "metadata": {},
   "outputs": [],
   "source": [
    "del loaded_predictions"
   ]
  },
  {
   "cell_type": "code",
   "execution_count": 1,
   "id": "a4aba46d-45fe-4a6b-b9fe-d0be0a4d1d14",
   "metadata": {
    "tags": []
   },
   "outputs": [
    {
     "name": "stdout",
     "output_type": "stream",
     "text": [
      "CPU times: total: 0 ns\n",
      "Wall time: 0 ns\n"
     ]
    }
   ],
   "source": [
    "%%time\n",
    "\n",
    "#Word-token alignment\n",
    "def get_word_preds(np_pred_tokens, word_ids_padded, model_adapter):\n",
    "    row_size = word_ids_padded.shape[1]\n",
    "    diff_array = np.diff(word_ids_padded[:,:], axis=1, append=row_size)\n",
    "\n",
    "    #Calculate row boundaries\n",
    "    non_zero = np.where(diff_array != 0, 1, 0)\n",
    "    group_ids = np.cumsum(non_zero, axis=1) \n",
    "    row_boundaries = np.cumsum(group_ids.max(axis = 1))\n",
    "\n",
    "    #Calculate splits, split into groups, Truncate > 10\n",
    "    split_indices =  np.where(diff_array.ravel() != 0)[0] + 1 # Orig\n",
    "    list_groups = np.split(np_pred_tokens[:,:].ravel(), split_indices)\n",
    "    list_groups = [group[:10] if len(group) >= 10 else group for group in list_groups]\n",
    "\n",
    "    #30s Calculate modes per group\n",
    "    word_labels = [Counter(arr.tolist()).most_common(1)[0][0] if len(arr) > 0 else None for arr in list_groups]\n",
    "\n",
    "    #Fast (split into rows)\n",
    "    np_word_labels = np.array(word_labels)\n",
    "    list_pred_incomp = np.split(np_word_labels, row_boundaries)\n",
    "\n",
    "    #10s Initialize row arrays for word-level predictions\n",
    "    list_pred_words = [np.full((len(words)), model_adapter.O_id, dtype='int8') for words in preprocessed_dataset['words']]\n",
    "\n",
    "    #5s Get word_indices not skipped in word_ids (Handles CLS and Padding tokens)\n",
    "    list_word_indices = []\n",
    "    for word_ids in preprocessed_dataset['word_ids']:\n",
    "        indices = set(word_ids)\n",
    "        indices.discard(None)\n",
    "        list_word_indices.append(np.array(list(indices)))\n",
    "\n",
    "    #200ms Align the processed word-level predictions to initialized array\n",
    "    for pred_words, word_indices, pred_incomp in zip(list_pred_words, list_word_indices, list_pred_incomp):\n",
    "        pred_words[word_indices] = pred_incomp[1:-1]\n",
    "        \n",
    "    return list_pred_words\n",
    "\n",
    "# list_pred_words = get_word_preds(np_label_ids, word_ids_padded, model_adapter)"
   ]
  },
  {
   "cell_type": "code",
   "execution_count": 25,
   "id": "1eb8731d-f415-4cf5-a86c-8294f4dd85b0",
   "metadata": {},
   "outputs": [],
   "source": [
    "def to_bio_vect(np_pred_words, np_model_id2cur_entity_id = np_class_id2entity_id):\n",
    "#     global cumsum, out, zeros, change_indices, accumulate, diff_array, b_mask_indices, i_mask_indices, b_words, i_words, b_words_mapped, i_words_mapped\n",
    "    \n",
    "    np_pred_words = np_model_id2cur_entity_id[np_pred_words]\n",
    "    \n",
    "    row_size = np_pred_words.shape[0]\n",
    "    diff_array = np.diff(np_pred_words, axis=0, prepend=-1)\n",
    "    change_indices = np.where(diff_array!=0, 0, 1)\n",
    "    zeros = change_indices == 0 #reverse of change_indices\n",
    "    cumsum = np.cumsum(change_indices, axis=0)\n",
    "    accumulate = np.maximum.accumulate(np.where(zeros, cumsum, 0), axis=0)\n",
    "    out = cumsum - accumulate\n",
    "    b_mask = out == 0\n",
    "    b_mask_indices = np.where(b_mask)\n",
    "    i_mask_indices = np.where(~b_mask)\n",
    "    \n",
    "    np_pred_words_mapped = np.empty_like(np_pred_words)\n",
    "    \n",
    "    b_words = np_pred_words[b_mask_indices]\n",
    "    i_words = np_pred_words[i_mask_indices]\n",
    "    \n",
    "    b_words_mapped = np_entity_id2class_id_b[b_words]\n",
    "    i_words_mapped = np_entity_id2class_id_i[i_words]\n",
    "    \n",
    "    np_pred_words_mapped[b_mask_indices] = b_words_mapped\n",
    "    np_pred_words_mapped[i_mask_indices] = i_words_mapped\n",
    "    \n",
    "    return np_pred_words_mapped\n",
    "\n"
   ]
  },
  {
   "cell_type": "markdown",
   "id": "35a2585a-3b80-4ffb-8716-3f850a70de08",
   "metadata": {},
   "source": [
    "# Metrics optimized"
   ]
  },
  {
   "cell_type": "code",
   "execution_count": 14,
   "id": "f528d14f-1e2e-4940-9ff8-1d7d9c2ccd90",
   "metadata": {},
   "outputs": [
    {
     "name": "stdout",
     "output_type": "stream",
     "text": [
      "True Positives per class: [1 1 1]\n",
      "True Negatives per class: 6\n",
      "False Negatives per class: [2 2 2]\n",
      "False Positives per class: [2 2 2]\n"
     ]
    }
   ],
   "source": [
    "import numpy as np\n",
    "\n",
    "def count_confusion_matrix(predictions, labels, num_classes):\n",
    "    \"\"\"\n",
    "    Count confusion matrix per class ID.\n",
    "    \n",
    "    Args:\n",
    "    - predictions: NumPy array of predicted class labels (shape: [N]).\n",
    "    - labels: NumPy array of ground truth class labels (shape: [N]).\n",
    "    - num_classes: Number of classes.\n",
    "    \n",
    "    Returns:\n",
    "    - TP: NumPy array of True Positives per class ID.\n",
    "    - TN: NumPy array of True Negatives per class ID.\n",
    "    - FN: NumPy array of False Negatives per class ID.\n",
    "    - FP: NumPy array of False Positives per class ID.\n",
    "    \"\"\"\n",
    "    \n",
    "    global confusion_matrix\n",
    "    \n",
    "    \n",
    "    confusion_matrix = np.zeros((num_classes, num_classes), dtype=np.int32)\n",
    "    np.add.at(confusion_matrix, (labels, predictions), 1)\n",
    "    \n",
    "    # True Positives (TP)\n",
    "    TP = np.diag(confusion_matrix)\n",
    "    \n",
    "    # True Negatives (TN)\n",
    "    TN = np.sum(confusion_matrix) - np.sum(confusion_matrix[np.eye(num_classes, dtype=bool)])\n",
    "    \n",
    "    # False Negatives (FN)\n",
    "    FN = np.sum(confusion_matrix, axis=1) - TP\n",
    "    \n",
    "    # False Positives (FP)\n",
    "    FP = np.sum(confusion_matrix, axis=0) - TP\n",
    "    \n",
    "    return confusion_matrix, TP, TN, FN, FP\n",
    "\n",
    "# Example usage:\n",
    "predictions = np.array([0, 1, 2, 0, 1, 2, 0, 1, 2])\n",
    "labels = np.array([0, 1, 2, 1, 2, 0, 1, 2, 0])\n",
    "num_classes = 3\n",
    "\n",
    "confusion_matrix, TP, TN, FN, FP = count_confusion_matrix(predictions, labels, num_classes)\n",
    "print(\"True Positives per class:\", TP)\n",
    "print(\"True Negatives per class:\", TN)\n",
    "print(\"False Negatives per class:\", FN)\n",
    "print(\"False Positives per class:\", FP)"
   ]
  },
  {
   "cell_type": "code",
   "execution_count": null,
   "id": "e0bf6cbf-5528-4783-8851-b44974ed77b7",
   "metadata": {},
   "outputs": [],
   "source": [
    "flat_true_labels_id, flat_label_ids"
   ]
  },
  {
   "cell_type": "code",
   "execution_count": 15,
   "id": "715229ff-15e9-4b0b-87fe-afeac60c7b3b",
   "metadata": {},
   "outputs": [
    {
     "ename": "NameError",
     "evalue": "name 'flat_label_ids' is not defined",
     "output_type": "error",
     "traceback": [
      "\u001b[1;31m---------------------------------------------------------------------------\u001b[0m",
      "\u001b[1;31mNameError\u001b[0m                                 Traceback (most recent call last)",
      "File \u001b[1;32m<timed exec>:1\u001b[0m\n",
      "\u001b[1;31mNameError\u001b[0m: name 'flat_label_ids' is not defined"
     ]
    }
   ],
   "source": [
    "%%time\n",
    "\n",
    "confusion_matrix, TP, TN, FN, FP = count_confusion_matrix(predictions = flat_label_ids, labels = flat_true_labels_id, num_classes = len(classes))"
   ]
  },
  {
   "cell_type": "markdown",
   "id": "817bf7f9-49cf-4254-be28-08878eb7ab81",
   "metadata": {},
   "source": [
    "## V2"
   ]
  },
  {
   "cell_type": "code",
   "execution_count": 16,
   "id": "8ad625ff-d948-4e84-bb5c-d6c0505c634b",
   "metadata": {},
   "outputs": [],
   "source": [
    "def compute_metrics_per_class(TP, FN, FP, class_label, beta=5):\n",
    "    \n",
    "    tp = TP[class_label]\n",
    "    fn = FN[class_label]\n",
    "    fp = FP[class_label]\n",
    "    \n",
    "    precision = tp / (tp + fp) if tp + fp > 0 else 0 \n",
    "    recall = tp / (tp + fn) if tp + fn > 0 else 0\n",
    "    f_beta = (1 + beta**2) * (precision * recall) / (beta**2 * precision + recall) if precision + recall > 0 else 0\n",
    "    \n",
    "    metrics = {'precision':precision, 'recall':recall, 'f_beta':f_beta,'tp':tp, 'fp':fp, 'fn':fn}\n",
    "    \n",
    "    return metrics"
   ]
  },
  {
   "cell_type": "code",
   "execution_count": 17,
   "id": "c439200c-f4e2-4310-b849-b9dd635dae0b",
   "metadata": {},
   "outputs": [],
   "source": [
    "def compute_micro_metrics(predictions, labels, num_classes, pos_labels, prefix='', beta=5):\n",
    "#     global class_metrics\n",
    "    \n",
    "    \n",
    "    confusion_matrix, TP, TN, FN, FP = count_confusion_matrix(predictions = predictions, labels = labels, num_classes = len(classes))\n",
    "    \n",
    "    class_metrics = {f'{prefix}{class_label}':compute_metrics_per_class(TP, FN, FP, class_label, beta=beta) for class_label in range(num_classes)}\n",
    "#     class_metrics = {key:value for class_label in range(num_classes) for key,value in compute_metrics_per_class(TP, FN, FP, class_label, beta=beta, prefix=prefix).items()}\n",
    "    \n",
    "    \n",
    "    # Calculate total true positives, false positives, and false negatives excluding 'O' label\n",
    "    total_tp = sum(TP[pos_labels])\n",
    "    total_fp = sum(FP[pos_labels])\n",
    "    total_fn = sum(FN[pos_labels])\n",
    "    \n",
    "    # Compute total precision excluding 'O' label\n",
    "    total_precision = total_tp / (total_tp + total_fp) if total_tp + total_fp > 0 else 0\n",
    "    \n",
    "    # Compute total recall excluding 'O' label\n",
    "    total_recall = total_tp / (total_tp + total_fn) if total_tp + total_fn > 0 else 0\n",
    "    \n",
    "    # Compute total F-beta score excluding 'O' label\n",
    "    total_f_beta = (1 + beta**2) * (total_precision * total_recall) / (beta**2 * total_precision + total_recall) if total_precision + total_recall > 0 else 0\n",
    "    \n",
    "    total_metrics = {'precision':total_precision, 'recall':total_recall, 'f_beta':total_f_beta,'tp':total_tp, 'fp':total_fp, 'fn':total_fn}\n",
    "    \n",
    "    \n",
    "    return total_metrics, class_metrics, confusion_matrix\n"
   ]
  },
  {
   "cell_type": "markdown",
   "id": "cc453300-af35-4168-8c99-06e932ce1f9d",
   "metadata": {},
   "source": [
    "### Token level"
   ]
  },
  {
   "cell_type": "code",
   "execution_count": 62,
   "id": "e14b17a4-29ee-41f3-bb93-9b0bfaefbf8c",
   "metadata": {},
   "outputs": [
    {
     "name": "stdout",
     "output_type": "stream",
     "text": [
      "CPU times: total: 156 ms\n",
      "Wall time: 136 ms\n"
     ]
    }
   ],
   "source": [
    "%%time\n",
    "total_metrics, class_metrics, confusion_matrix = compute_micro_metrics(predictions = flat_label_ids, labels = flat_true_labels_id, num_classes = len(classes), pos_labels=classes_pos_id, beta=5)"
   ]
  },
  {
   "cell_type": "code",
   "execution_count": 64,
   "id": "ed7be6d0-90fa-4d6e-9f3c-c15c3f39e6ad",
   "metadata": {},
   "outputs": [
    {
     "data": {
      "text/plain": [
       "{'precision': 0.3438857852265674,\n",
       " 'recall': 0.6655225673588467,\n",
       " 'f_beta': 0.6424129670217645,\n",
       " 'tp': 3878,\n",
       " 'fp': 7399,\n",
       " 'fn': 1949}"
      ]
     },
     "execution_count": 64,
     "metadata": {},
     "output_type": "execute_result"
    }
   ],
   "source": [
    "total_metrics"
   ]
  },
  {
   "cell_type": "code",
   "execution_count": 69,
   "id": "f4aafb5c-b25c-4a3c-839a-ef6da9ae8bc2",
   "metadata": {},
   "outputs": [
    {
     "data": {
      "text/html": [
       "<div>\n",
       "<style scoped>\n",
       "    .dataframe tbody tr th:only-of-type {\n",
       "        vertical-align: middle;\n",
       "    }\n",
       "\n",
       "    .dataframe tbody tr th {\n",
       "        vertical-align: top;\n",
       "    }\n",
       "\n",
       "    .dataframe thead th {\n",
       "        text-align: right;\n",
       "    }\n",
       "</style>\n",
       "<table border=\"1\" class=\"dataframe\">\n",
       "  <thead>\n",
       "    <tr style=\"text-align: right;\">\n",
       "      <th></th>\n",
       "      <th>O</th>\n",
       "      <th>B-EMAIL</th>\n",
       "      <th>B-ID_NUM</th>\n",
       "      <th>B-NAME_STUDENT</th>\n",
       "      <th>B-PHONE_NUM</th>\n",
       "      <th>B-STREET_ADDRESS</th>\n",
       "      <th>B-URL_PERSONAL</th>\n",
       "      <th>B-USERNAME</th>\n",
       "      <th>I-ID_NUM</th>\n",
       "      <th>I-NAME_STUDENT</th>\n",
       "      <th>I-PHONE_NUM</th>\n",
       "      <th>I-STREET_ADDRESS</th>\n",
       "      <th>I-URL_PERSONAL</th>\n",
       "    </tr>\n",
       "  </thead>\n",
       "  <tbody>\n",
       "    <tr>\n",
       "      <th>precision</th>\n",
       "      <td>9.996945e-01</td>\n",
       "      <td>0.0</td>\n",
       "      <td>0.703008</td>\n",
       "      <td>0.323795</td>\n",
       "      <td>0.0</td>\n",
       "      <td>0.0</td>\n",
       "      <td>0.365321</td>\n",
       "      <td>0.0</td>\n",
       "      <td>0.0</td>\n",
       "      <td>0.329795</td>\n",
       "      <td>0.0</td>\n",
       "      <td>0.0</td>\n",
       "      <td>0.0</td>\n",
       "    </tr>\n",
       "    <tr>\n",
       "      <th>recall</th>\n",
       "      <td>9.985433e-01</td>\n",
       "      <td>0.0</td>\n",
       "      <td>0.502688</td>\n",
       "      <td>0.838879</td>\n",
       "      <td>0.0</td>\n",
       "      <td>0.0</td>\n",
       "      <td>0.464155</td>\n",
       "      <td>0.0</td>\n",
       "      <td>0.0</td>\n",
       "      <td>0.933743</td>\n",
       "      <td>0.0</td>\n",
       "      <td>0.0</td>\n",
       "      <td>0.0</td>\n",
       "    </tr>\n",
       "    <tr>\n",
       "      <th>f_beta</th>\n",
       "      <td>9.985875e-01</td>\n",
       "      <td>0.0</td>\n",
       "      <td>0.508258</td>\n",
       "      <td>0.790513</td>\n",
       "      <td>0.0</td>\n",
       "      <td>0.0</td>\n",
       "      <td>0.459375</td>\n",
       "      <td>0.0</td>\n",
       "      <td>0.0</td>\n",
       "      <td>0.872303</td>\n",
       "      <td>0.0</td>\n",
       "      <td>0.0</td>\n",
       "      <td>0.0</td>\n",
       "    </tr>\n",
       "    <tr>\n",
       "      <th>tp</th>\n",
       "      <td>4.725634e+06</td>\n",
       "      <td>0.0</td>\n",
       "      <td>187.000000</td>\n",
       "      <td>1437.000000</td>\n",
       "      <td>0.0</td>\n",
       "      <td>0.0</td>\n",
       "      <td>887.000000</td>\n",
       "      <td>0.0</td>\n",
       "      <td>0.0</td>\n",
       "      <td>1367.000000</td>\n",
       "      <td>0.0</td>\n",
       "      <td>0.0</td>\n",
       "      <td>0.0</td>\n",
       "    </tr>\n",
       "    <tr>\n",
       "      <th>fp</th>\n",
       "      <td>1.444000e+03</td>\n",
       "      <td>0.0</td>\n",
       "      <td>79.000000</td>\n",
       "      <td>3001.000000</td>\n",
       "      <td>0.0</td>\n",
       "      <td>0.0</td>\n",
       "      <td>1541.000000</td>\n",
       "      <td>0.0</td>\n",
       "      <td>0.0</td>\n",
       "      <td>2778.000000</td>\n",
       "      <td>0.0</td>\n",
       "      <td>0.0</td>\n",
       "      <td>0.0</td>\n",
       "    </tr>\n",
       "    <tr>\n",
       "      <th>fn</th>\n",
       "      <td>6.894000e+03</td>\n",
       "      <td>263.0</td>\n",
       "      <td>185.000000</td>\n",
       "      <td>276.000000</td>\n",
       "      <td>11.0</td>\n",
       "      <td>2.0</td>\n",
       "      <td>1024.000000</td>\n",
       "      <td>20.0</td>\n",
       "      <td>3.0</td>\n",
       "      <td>97.000000</td>\n",
       "      <td>39.0</td>\n",
       "      <td>22.0</td>\n",
       "      <td>7.0</td>\n",
       "    </tr>\n",
       "  </tbody>\n",
       "</table>\n",
       "</div>"
      ],
      "text/plain": [
       "                      O  B-EMAIL    B-ID_NUM  B-NAME_STUDENT  B-PHONE_NUM  \\\n",
       "precision  9.996945e-01      0.0    0.703008        0.323795          0.0   \n",
       "recall     9.985433e-01      0.0    0.502688        0.838879          0.0   \n",
       "f_beta     9.985875e-01      0.0    0.508258        0.790513          0.0   \n",
       "tp         4.725634e+06      0.0  187.000000     1437.000000          0.0   \n",
       "fp         1.444000e+03      0.0   79.000000     3001.000000          0.0   \n",
       "fn         6.894000e+03    263.0  185.000000      276.000000         11.0   \n",
       "\n",
       "           B-STREET_ADDRESS  B-URL_PERSONAL  B-USERNAME  I-ID_NUM  \\\n",
       "precision               0.0        0.365321         0.0       0.0   \n",
       "recall                  0.0        0.464155         0.0       0.0   \n",
       "f_beta                  0.0        0.459375         0.0       0.0   \n",
       "tp                      0.0      887.000000         0.0       0.0   \n",
       "fp                      0.0     1541.000000         0.0       0.0   \n",
       "fn                      2.0     1024.000000        20.0       3.0   \n",
       "\n",
       "           I-NAME_STUDENT  I-PHONE_NUM  I-STREET_ADDRESS  I-URL_PERSONAL  \n",
       "precision        0.329795          0.0               0.0             0.0  \n",
       "recall           0.933743          0.0               0.0             0.0  \n",
       "f_beta           0.872303          0.0               0.0             0.0  \n",
       "tp            1367.000000          0.0               0.0             0.0  \n",
       "fp            2778.000000          0.0               0.0             0.0  \n",
       "fn              97.000000         39.0              22.0             7.0  "
      ]
     },
     "execution_count": 69,
     "metadata": {},
     "output_type": "execute_result"
    }
   ],
   "source": [
    "df_class_metrics = pd.DataFrame(class_metrics)\n",
    "df_class_metrics.columns = df_class_metrics.columns.map(id2classes)\n",
    "df_class_metrics"
   ]
  },
  {
   "cell_type": "code",
   "execution_count": 122,
   "id": "d5739f4d-20e5-4943-980a-96ef963d56ed",
   "metadata": {},
   "outputs": [
    {
     "data": {
      "text/html": [
       "<div>\n",
       "<style scoped>\n",
       "    .dataframe tbody tr th:only-of-type {\n",
       "        vertical-align: middle;\n",
       "    }\n",
       "\n",
       "    .dataframe tbody tr th {\n",
       "        vertical-align: top;\n",
       "    }\n",
       "\n",
       "    .dataframe thead th {\n",
       "        text-align: right;\n",
       "    }\n",
       "</style>\n",
       "<table border=\"1\" class=\"dataframe\">\n",
       "  <thead>\n",
       "    <tr style=\"text-align: right;\">\n",
       "      <th></th>\n",
       "      <th>precision</th>\n",
       "      <th>recall</th>\n",
       "      <th>f_beta</th>\n",
       "      <th>tp</th>\n",
       "      <th>fp</th>\n",
       "      <th>fn</th>\n",
       "    </tr>\n",
       "  </thead>\n",
       "  <tbody>\n",
       "    <tr>\n",
       "      <th>O</th>\n",
       "      <td>0.999695</td>\n",
       "      <td>0.998543</td>\n",
       "      <td>0.998588</td>\n",
       "      <td>4725634.0</td>\n",
       "      <td>1444.0</td>\n",
       "      <td>6894.0</td>\n",
       "    </tr>\n",
       "    <tr>\n",
       "      <th>B-EMAIL</th>\n",
       "      <td>0.000000</td>\n",
       "      <td>0.000000</td>\n",
       "      <td>0.000000</td>\n",
       "      <td>0.0</td>\n",
       "      <td>0.0</td>\n",
       "      <td>263.0</td>\n",
       "    </tr>\n",
       "    <tr>\n",
       "      <th>B-ID_NUM</th>\n",
       "      <td>0.703008</td>\n",
       "      <td>0.502688</td>\n",
       "      <td>0.508258</td>\n",
       "      <td>187.0</td>\n",
       "      <td>79.0</td>\n",
       "      <td>185.0</td>\n",
       "    </tr>\n",
       "    <tr>\n",
       "      <th>B-NAME_STUDENT</th>\n",
       "      <td>0.323795</td>\n",
       "      <td>0.838879</td>\n",
       "      <td>0.790513</td>\n",
       "      <td>1437.0</td>\n",
       "      <td>3001.0</td>\n",
       "      <td>276.0</td>\n",
       "    </tr>\n",
       "    <tr>\n",
       "      <th>B-PHONE_NUM</th>\n",
       "      <td>0.000000</td>\n",
       "      <td>0.000000</td>\n",
       "      <td>0.000000</td>\n",
       "      <td>0.0</td>\n",
       "      <td>0.0</td>\n",
       "      <td>11.0</td>\n",
       "    </tr>\n",
       "    <tr>\n",
       "      <th>B-STREET_ADDRESS</th>\n",
       "      <td>0.000000</td>\n",
       "      <td>0.000000</td>\n",
       "      <td>0.000000</td>\n",
       "      <td>0.0</td>\n",
       "      <td>0.0</td>\n",
       "      <td>2.0</td>\n",
       "    </tr>\n",
       "    <tr>\n",
       "      <th>B-URL_PERSONAL</th>\n",
       "      <td>0.365321</td>\n",
       "      <td>0.464155</td>\n",
       "      <td>0.459375</td>\n",
       "      <td>887.0</td>\n",
       "      <td>1541.0</td>\n",
       "      <td>1024.0</td>\n",
       "    </tr>\n",
       "    <tr>\n",
       "      <th>B-USERNAME</th>\n",
       "      <td>0.000000</td>\n",
       "      <td>0.000000</td>\n",
       "      <td>0.000000</td>\n",
       "      <td>0.0</td>\n",
       "      <td>0.0</td>\n",
       "      <td>20.0</td>\n",
       "    </tr>\n",
       "    <tr>\n",
       "      <th>I-ID_NUM</th>\n",
       "      <td>0.000000</td>\n",
       "      <td>0.000000</td>\n",
       "      <td>0.000000</td>\n",
       "      <td>0.0</td>\n",
       "      <td>0.0</td>\n",
       "      <td>3.0</td>\n",
       "    </tr>\n",
       "    <tr>\n",
       "      <th>I-NAME_STUDENT</th>\n",
       "      <td>0.329795</td>\n",
       "      <td>0.933743</td>\n",
       "      <td>0.872303</td>\n",
       "      <td>1367.0</td>\n",
       "      <td>2778.0</td>\n",
       "      <td>97.0</td>\n",
       "    </tr>\n",
       "    <tr>\n",
       "      <th>I-PHONE_NUM</th>\n",
       "      <td>0.000000</td>\n",
       "      <td>0.000000</td>\n",
       "      <td>0.000000</td>\n",
       "      <td>0.0</td>\n",
       "      <td>0.0</td>\n",
       "      <td>39.0</td>\n",
       "    </tr>\n",
       "    <tr>\n",
       "      <th>I-STREET_ADDRESS</th>\n",
       "      <td>0.000000</td>\n",
       "      <td>0.000000</td>\n",
       "      <td>0.000000</td>\n",
       "      <td>0.0</td>\n",
       "      <td>0.0</td>\n",
       "      <td>22.0</td>\n",
       "    </tr>\n",
       "    <tr>\n",
       "      <th>I-URL_PERSONAL</th>\n",
       "      <td>0.000000</td>\n",
       "      <td>0.000000</td>\n",
       "      <td>0.000000</td>\n",
       "      <td>0.0</td>\n",
       "      <td>0.0</td>\n",
       "      <td>7.0</td>\n",
       "    </tr>\n",
       "  </tbody>\n",
       "</table>\n",
       "</div>"
      ],
      "text/plain": [
       "                  precision    recall    f_beta         tp      fp      fn\n",
       "O                  0.999695  0.998543  0.998588  4725634.0  1444.0  6894.0\n",
       "B-EMAIL            0.000000  0.000000  0.000000        0.0     0.0   263.0\n",
       "B-ID_NUM           0.703008  0.502688  0.508258      187.0    79.0   185.0\n",
       "B-NAME_STUDENT     0.323795  0.838879  0.790513     1437.0  3001.0   276.0\n",
       "B-PHONE_NUM        0.000000  0.000000  0.000000        0.0     0.0    11.0\n",
       "B-STREET_ADDRESS   0.000000  0.000000  0.000000        0.0     0.0     2.0\n",
       "B-URL_PERSONAL     0.365321  0.464155  0.459375      887.0  1541.0  1024.0\n",
       "B-USERNAME         0.000000  0.000000  0.000000        0.0     0.0    20.0\n",
       "I-ID_NUM           0.000000  0.000000  0.000000        0.0     0.0     3.0\n",
       "I-NAME_STUDENT     0.329795  0.933743  0.872303     1367.0  2778.0    97.0\n",
       "I-PHONE_NUM        0.000000  0.000000  0.000000        0.0     0.0    39.0\n",
       "I-STREET_ADDRESS   0.000000  0.000000  0.000000        0.0     0.0    22.0\n",
       "I-URL_PERSONAL     0.000000  0.000000  0.000000        0.0     0.0     7.0"
      ]
     },
     "execution_count": 122,
     "metadata": {},
     "output_type": "execute_result"
    }
   ],
   "source": [
    "df_class_metrics.T"
   ]
  },
  {
   "cell_type": "markdown",
   "id": "ef9952c8-76e0-4bfb-b348-3d4711195b91",
   "metadata": {
    "tags": []
   },
   "source": [
    "### Word Level"
   ]
  },
  {
   "cell_type": "code",
   "execution_count": 63,
   "id": "c53f8033-1fdd-475f-a0d9-410279ad8e74",
   "metadata": {},
   "outputs": [
    {
     "name": "stdout",
     "output_type": "stream",
     "text": [
      "CPU times: total: 125 ms\n",
      "Wall time: 150 ms\n"
     ]
    }
   ],
   "source": [
    "%%time\n",
    "\n",
    "total_metrics_w, class_metrics_w, confusion_matrix_w = compute_micro_metrics(predictions = flat_word_label_ids, labels = flat_word_true_labels_id, num_classes = len(classes), pos_labels=classes_pos_id, beta=5)"
   ]
  },
  {
   "cell_type": "code",
   "execution_count": 65,
   "id": "d9c3b56a-ce54-42a7-98b9-8bef519f434e",
   "metadata": {},
   "outputs": [
    {
     "data": {
      "text/plain": [
       "{'precision': 0.3433709147994862,\n",
       " 'recall': 0.8784227820372399,\n",
       " 'f_beta': 0.8287538750960493,\n",
       " 'tp': 2406,\n",
       " 'fp': 4601,\n",
       " 'fn': 333}"
      ]
     },
     "execution_count": 65,
     "metadata": {},
     "output_type": "execute_result"
    }
   ],
   "source": [
    "total_metrics_w"
   ]
  },
  {
   "cell_type": "code",
   "execution_count": 70,
   "id": "4e6bc97a-1aeb-4625-9050-dc5eaf9c9c24",
   "metadata": {},
   "outputs": [
    {
     "data": {
      "text/html": [
       "<div>\n",
       "<style scoped>\n",
       "    .dataframe tbody tr th:only-of-type {\n",
       "        vertical-align: middle;\n",
       "    }\n",
       "\n",
       "    .dataframe tbody tr th {\n",
       "        vertical-align: top;\n",
       "    }\n",
       "\n",
       "    .dataframe thead th {\n",
       "        text-align: right;\n",
       "    }\n",
       "</style>\n",
       "<table border=\"1\" class=\"dataframe\">\n",
       "  <thead>\n",
       "    <tr style=\"text-align: right;\">\n",
       "      <th></th>\n",
       "      <th>O</th>\n",
       "      <th>B-EMAIL</th>\n",
       "      <th>B-ID_NUM</th>\n",
       "      <th>B-NAME_STUDENT</th>\n",
       "      <th>B-PHONE_NUM</th>\n",
       "      <th>B-STREET_ADDRESS</th>\n",
       "      <th>B-URL_PERSONAL</th>\n",
       "      <th>B-USERNAME</th>\n",
       "      <th>I-ID_NUM</th>\n",
       "      <th>I-NAME_STUDENT</th>\n",
       "      <th>I-PHONE_NUM</th>\n",
       "      <th>I-STREET_ADDRESS</th>\n",
       "      <th>I-URL_PERSONAL</th>\n",
       "    </tr>\n",
       "  </thead>\n",
       "  <tbody>\n",
       "    <tr>\n",
       "      <th>precision</th>\n",
       "      <td>9.999480e-01</td>\n",
       "      <td>0.0</td>\n",
       "      <td>0.795918</td>\n",
       "      <td>0.294456</td>\n",
       "      <td>0.0</td>\n",
       "      <td>0.0</td>\n",
       "      <td>0.374302</td>\n",
       "      <td>0.0</td>\n",
       "      <td>0.0</td>\n",
       "      <td>0.422360</td>\n",
       "      <td>0.0</td>\n",
       "      <td>0.0</td>\n",
       "      <td>0.0</td>\n",
       "    </tr>\n",
       "    <tr>\n",
       "      <th>recall</th>\n",
       "      <td>9.990927e-01</td>\n",
       "      <td>0.0</td>\n",
       "      <td>0.500000</td>\n",
       "      <td>0.937729</td>\n",
       "      <td>0.0</td>\n",
       "      <td>0.0</td>\n",
       "      <td>0.609091</td>\n",
       "      <td>0.0</td>\n",
       "      <td>0.0</td>\n",
       "      <td>0.930657</td>\n",
       "      <td>0.0</td>\n",
       "      <td>0.0</td>\n",
       "      <td>0.0</td>\n",
       "    </tr>\n",
       "    <tr>\n",
       "      <th>f_beta</th>\n",
       "      <td>9.991256e-01</td>\n",
       "      <td>0.0</td>\n",
       "      <td>0.507254</td>\n",
       "      <td>0.865045</td>\n",
       "      <td>0.0</td>\n",
       "      <td>0.0</td>\n",
       "      <td>0.594742</td>\n",
       "      <td>0.0</td>\n",
       "      <td>0.0</td>\n",
       "      <td>0.889485</td>\n",
       "      <td>0.0</td>\n",
       "      <td>0.0</td>\n",
       "      <td>0.0</td>\n",
       "    </tr>\n",
       "    <tr>\n",
       "      <th>tp</th>\n",
       "      <td>4.985267e+06</td>\n",
       "      <td>0.0</td>\n",
       "      <td>39.000000</td>\n",
       "      <td>1280.000000</td>\n",
       "      <td>0.0</td>\n",
       "      <td>0.0</td>\n",
       "      <td>67.000000</td>\n",
       "      <td>0.0</td>\n",
       "      <td>0.0</td>\n",
       "      <td>1020.000000</td>\n",
       "      <td>0.0</td>\n",
       "      <td>0.0</td>\n",
       "      <td>0.0</td>\n",
       "    </tr>\n",
       "    <tr>\n",
       "      <th>fp</th>\n",
       "      <td>2.590000e+02</td>\n",
       "      <td>0.0</td>\n",
       "      <td>10.000000</td>\n",
       "      <td>3067.000000</td>\n",
       "      <td>0.0</td>\n",
       "      <td>0.0</td>\n",
       "      <td>112.000000</td>\n",
       "      <td>0.0</td>\n",
       "      <td>17.0</td>\n",
       "      <td>1395.000000</td>\n",
       "      <td>0.0</td>\n",
       "      <td>0.0</td>\n",
       "      <td>0.0</td>\n",
       "    </tr>\n",
       "    <tr>\n",
       "      <th>fn</th>\n",
       "      <td>4.527000e+03</td>\n",
       "      <td>39.0</td>\n",
       "      <td>39.000000</td>\n",
       "      <td>85.000000</td>\n",
       "      <td>6.0</td>\n",
       "      <td>2.0</td>\n",
       "      <td>43.000000</td>\n",
       "      <td>6.0</td>\n",
       "      <td>1.0</td>\n",
       "      <td>76.000000</td>\n",
       "      <td>15.0</td>\n",
       "      <td>20.0</td>\n",
       "      <td>1.0</td>\n",
       "    </tr>\n",
       "  </tbody>\n",
       "</table>\n",
       "</div>"
      ],
      "text/plain": [
       "                      O  B-EMAIL   B-ID_NUM  B-NAME_STUDENT  B-PHONE_NUM  \\\n",
       "precision  9.999480e-01      0.0   0.795918        0.294456          0.0   \n",
       "recall     9.990927e-01      0.0   0.500000        0.937729          0.0   \n",
       "f_beta     9.991256e-01      0.0   0.507254        0.865045          0.0   \n",
       "tp         4.985267e+06      0.0  39.000000     1280.000000          0.0   \n",
       "fp         2.590000e+02      0.0  10.000000     3067.000000          0.0   \n",
       "fn         4.527000e+03     39.0  39.000000       85.000000          6.0   \n",
       "\n",
       "           B-STREET_ADDRESS  B-URL_PERSONAL  B-USERNAME  I-ID_NUM  \\\n",
       "precision               0.0        0.374302         0.0       0.0   \n",
       "recall                  0.0        0.609091         0.0       0.0   \n",
       "f_beta                  0.0        0.594742         0.0       0.0   \n",
       "tp                      0.0       67.000000         0.0       0.0   \n",
       "fp                      0.0      112.000000         0.0      17.0   \n",
       "fn                      2.0       43.000000         6.0       1.0   \n",
       "\n",
       "           I-NAME_STUDENT  I-PHONE_NUM  I-STREET_ADDRESS  I-URL_PERSONAL  \n",
       "precision        0.422360          0.0               0.0             0.0  \n",
       "recall           0.930657          0.0               0.0             0.0  \n",
       "f_beta           0.889485          0.0               0.0             0.0  \n",
       "tp            1020.000000          0.0               0.0             0.0  \n",
       "fp            1395.000000          0.0               0.0             0.0  \n",
       "fn              76.000000         15.0              20.0             1.0  "
      ]
     },
     "execution_count": 70,
     "metadata": {},
     "output_type": "execute_result"
    }
   ],
   "source": [
    "df_class_metrics_w = pd.DataFrame(class_metrics_w)\n",
    "df_class_metrics_w.columns = df_class_metrics_w.columns.map(id2classes)\n",
    "df_class_metrics_w"
   ]
  },
  {
   "cell_type": "markdown",
   "id": "a4da0c01-58ee-4dfa-ad16-468242571a1c",
   "metadata": {},
   "source": [
    "## Old Version"
   ]
  },
  {
   "cell_type": "code",
   "execution_count": 46,
   "id": "36d8d0dd-bbc7-4bb4-8e94-1a19062e2143",
   "metadata": {},
   "outputs": [],
   "source": [
    "from datasets import load_metric"
   ]
  },
  {
   "cell_type": "code",
   "execution_count": 47,
   "id": "eda0d2db-c0a7-431a-aee8-524f7aa05769",
   "metadata": {
    "tags": []
   },
   "outputs": [
    {
     "name": "stderr",
     "output_type": "stream",
     "text": [
      "C:\\Users\\cloud\\AppData\\Local\\Temp\\ipykernel_14128\\3877367123.py:1: FutureWarning: load_metric is deprecated and will be removed in the next major version of datasets. Use 'evaluate.load' instead, from the new library 🤗 Evaluate: https://huggingface.co/docs/evaluate\n",
      "  METRIC_F1 = load_metric(\"f1\",  beta=5)\n",
      "D:\\Anaconda3\\envs\\nlp_torch\\Lib\\site-packages\\datasets\\load.py:753: FutureWarning: The repository for f1 contains custom code which must be executed to correctly load the metric. You can inspect the repository content at https://raw.githubusercontent.com/huggingface/datasets/2.17.0/metrics/f1/f1.py\n",
      "You can avoid this message in future by passing the argument `trust_remote_code=True`.\n",
      "Passing `trust_remote_code=True` will be mandatory to load this metric from the next major release of `datasets`.\n",
      "  warnings.warn(\n",
      "D:\\Anaconda3\\envs\\nlp_torch\\Lib\\site-packages\\datasets\\load.py:753: FutureWarning: The repository for precision contains custom code which must be executed to correctly load the metric. You can inspect the repository content at https://raw.githubusercontent.com/huggingface/datasets/2.17.0/metrics/precision/precision.py\n",
      "You can avoid this message in future by passing the argument `trust_remote_code=True`.\n",
      "Passing `trust_remote_code=True` will be mandatory to load this metric from the next major release of `datasets`.\n",
      "  warnings.warn(\n",
      "D:\\Anaconda3\\envs\\nlp_torch\\Lib\\site-packages\\datasets\\load.py:753: FutureWarning: The repository for recall contains custom code which must be executed to correctly load the metric. You can inspect the repository content at https://raw.githubusercontent.com/huggingface/datasets/2.17.0/metrics/recall/recall.py\n",
      "You can avoid this message in future by passing the argument `trust_remote_code=True`.\n",
      "Passing `trust_remote_code=True` will be mandatory to load this metric from the next major release of `datasets`.\n",
      "  warnings.warn(\n"
     ]
    }
   ],
   "source": [
    "METRIC_F1 = load_metric(\"f1\",  beta=5)\n",
    "METRIC_PRECISION = load_metric(\"precision\")\n",
    "METRIC_RECALL = load_metric(\"recall\")"
   ]
  },
  {
   "cell_type": "code",
   "execution_count": 50,
   "id": "38ed0c3c-42a3-4af6-9e9b-19ed1088aafe",
   "metadata": {},
   "outputs": [
    {
     "data": {
      "text/plain": [
       "[1, 2, 3, 4, 5, 6, 7, 8, 9, 10, 11, 12]"
      ]
     },
     "execution_count": 50,
     "metadata": {},
     "output_type": "execute_result"
    }
   ],
   "source": [
    "classes_pos_id"
   ]
  },
  {
   "cell_type": "markdown",
   "id": "87ddc6b6-4ee9-4813-8208-7bbaf4d11390",
   "metadata": {},
   "source": [
    "### token level"
   ]
  },
  {
   "cell_type": "code",
   "execution_count": 51,
   "id": "2452b308-5d77-4c0a-905a-169e07f823fc",
   "metadata": {},
   "outputs": [
    {
     "ename": "NameError",
     "evalue": "name 'dict_scores' is not defined",
     "output_type": "error",
     "traceback": [
      "\u001b[1;31m---------------------------------------------------------------------------\u001b[0m",
      "\u001b[1;31mNameError\u001b[0m                                 Traceback (most recent call last)",
      "File \u001b[1;32m<timed exec>:7\u001b[0m\n",
      "\u001b[1;31mNameError\u001b[0m: name 'dict_scores' is not defined"
     ]
    }
   ],
   "source": [
    "%%time\n",
    "\n",
    "f1_score = METRIC_F1.compute(predictions=flat_label_ids, references=flat_true_labels_id, labels=classes_pos_id, average ='micro')\n",
    "f_beta_score = fbeta_score(y_pred = flat_label_ids ,y_true = flat_true_labels_id, labels = classes_pos_id,beta=5, average='micro')\n",
    "precision = METRIC_PRECISION.compute(predictions=flat_label_ids, references=flat_true_labels_id,labels=classes_pos_id, average ='micro')\n",
    "recall = METRIC_RECALL.compute(predictions=flat_label_ids, references=flat_true_labels_id,labels=classes_pos_id, average ='micro')\n",
    "\n",
    "\n",
    "dict_scores = {}\n",
    "\n",
    "for score in [f1_score, precision, recall]:\n",
    "    dict_scores.update(score) \n",
    "    \n",
    "dict_scores['f_beta'] = f_beta_score"
   ]
  },
  {
   "cell_type": "code",
   "execution_count": 59,
   "id": "abfd8166-cb00-4631-a0b4-39a02a5ea8df",
   "metadata": {},
   "outputs": [
    {
     "data": {
      "text/plain": [
       "{'f1': 0.45346117867165575,\n",
       " 'precision': 0.3438857852265674,\n",
       " 'recall': 0.6655225673588467,\n",
       " 'f_beta': 0.6424129670217646}"
      ]
     },
     "execution_count": 59,
     "metadata": {},
     "output_type": "execute_result"
    }
   ],
   "source": [
    "dict_scores"
   ]
  },
  {
   "cell_type": "markdown",
   "id": "0b35f736-f6ea-4a3b-ba6a-d95ffe74f13b",
   "metadata": {
    "tags": []
   },
   "source": [
    "### word level"
   ]
  },
  {
   "cell_type": "code",
   "execution_count": 54,
   "id": "f3920843-1e73-433e-8f75-dd038a633975",
   "metadata": {},
   "outputs": [
    {
     "ename": "NameError",
     "evalue": "name 'word_precision' is not defined",
     "output_type": "error",
     "traceback": [
      "\u001b[1;31m---------------------------------------------------------------------------\u001b[0m",
      "\u001b[1;31mNameError\u001b[0m                                 Traceback (most recent call last)",
      "File \u001b[1;32m<timed exec>:13\u001b[0m\n",
      "\u001b[1;31mNameError\u001b[0m: name 'word_precision' is not defined"
     ]
    }
   ],
   "source": [
    "%%time\n",
    "\n",
    "cur_preds = flat_word_label_ids\n",
    "cur_true = flat_word_true_labels_id\n",
    "pos_labels = classes_pos_id\n",
    "\n",
    "# predictions=cur_preds, references=cur_true\n",
    "# y_pred=cur_preds, y_true=cur_true\n",
    "f1_score = METRIC_F1.compute(predictions=cur_preds, references=cur_true, labels=pos_labels, average ='micro')\n",
    "f_beta_score = fbeta_score(y_pred=cur_preds, y_true=cur_true, labels = pos_labels,beta=5, average='micro')\n",
    "precision = METRIC_PRECISION.compute(predictions=cur_preds, references=cur_true,labels=pos_labels, average ='micro')\n",
    "recall = METRIC_RECALL.compute(predictions=cur_preds, references=cur_true,labels=pos_labels, average ='micro')\n",
    "\n",
    "dict_scores_word = {}\n",
    "for score in [f1_score, precision, recall]:\n",
    "    k,v = list(score.items())[0]\n",
    "    dict_scores_word[f'word_{k}'] = v\n",
    "\n",
    "dict_scores_word['word_f_beta'] = word_f_beta"
   ]
  },
  {
   "cell_type": "code",
   "execution_count": 57,
   "id": "d06c900d-712c-4826-8ea6-4936113d52dd",
   "metadata": {},
   "outputs": [],
   "source": [
    "dict_scores_word = {}\n",
    "for score in [f1_score, precision, recall]:\n",
    "    k,v = list(score.items())[0]\n",
    "    dict_scores_word[f'word_{k}'] = v\n",
    "\n",
    "dict_scores_word['word_f_beta'] = f_beta_score"
   ]
  },
  {
   "cell_type": "code",
   "execution_count": 60,
   "id": "1bc1bf27-1eb0-4b00-be67-d0c087edcbd2",
   "metadata": {},
   "outputs": [
    {
     "data": {
      "text/plain": [
       "{'word_f1': 0.49374102195772623,\n",
       " 'word_precision': 0.3433709147994862,\n",
       " 'word_recall': 0.8784227820372399,\n",
       " 'word_f_beta': 0.8287538750960494}"
      ]
     },
     "execution_count": 60,
     "metadata": {},
     "output_type": "execute_result"
    }
   ],
   "source": [
    "dict_scores_word"
   ]
  },
  {
   "cell_type": "markdown",
   "id": "7de29849-f0de-4ed5-be2a-62215ab2d9ca",
   "metadata": {},
   "source": [
    "# compute_metrics"
   ]
  },
  {
   "cell_type": "code",
   "execution_count": 2,
   "id": "1432b85b-0e87-4c90-982d-7178630b894e",
   "metadata": {},
   "outputs": [],
   "source": [
    "def compute_metrics_base(eval_preds, preprocessed_dataset, model_adapter, threshold = 0.1):\n",
    "\n",
    "    np_probs, true_labels_id, inputs = eval_preds\n",
    "    \n",
    "    #---- Token Preds\n",
    "    np_label_ids, flat_true_labels_id, flat_label_ids = get_tokens_thresholding(loaded_predictions, true_labels_id, threshold, model_adapter)\n",
    "\n",
    "    #---- Word Preds\n",
    "\n",
    "    list_word_ids = [[word_id if word_id is not None else -100 for word_id in word_ids] for word_ids in preprocessed_dataset['word_ids'] ]\n",
    "    word_ids_padded = pad_lists(list_word_ids, -100,  loaded_predictions.shape[1])\n",
    "    \n",
    "    list_pred_words = get_word_preds(np_label_ids, word_ids_padded, model_adapter)\n",
    "    \n",
    "    \n",
    "    list_pred_words_mapped = [to_bio_vect(pred_words, np_class_id2entity_id) for pred_words in list_pred_words]\n",
    "    flat_word_label_ids = np.concatenate(list_pred_words_mapped)\n",
    "    \n",
    "    list_word_true_labels = preprocessed_dataset['word_labels']\n",
    "    \n",
    "    flat_word_true_labels_id = np.array([classes2id[word] for list_words in list_word_true_labels for word in list_words], dtype='int8')\n",
    "    \n",
    " \n",
    "    total_metrics, class_metrics, confusion_matrix = compute_micro_metrics(predictions = flat_label_ids, labels = flat_true_labels_id, \n",
    "                                                                           num_classes = len(classes), pos_labels=classes_pos_id, beta=5, prefix='token_')\n",
    "    \n",
    "    total_metrics_w, class_metrics_w, confusion_matrix_w = compute_micro_metrics(predictions = flat_word_label_ids, labels = flat_word_true_labels_id, \n",
    "                                                                                 num_classes = len(classes), pos_labels=classes_pos_id, beta=5, prefix='word_')\n",
    "    \n",
    "    dict_scores = {'token_confusion_matrix' : confusion_matrix,\n",
    "                  'word_confusion_matrix' : confusion_matrix_w,\n",
    "                   'token_total_metrics' : total_metrics,\n",
    "                   'word_total_metrics' : total_metrics_w}\n",
    "    \n",
    "    dict_scores.update(class_metrics)\n",
    "    dict_scores.update(class_metrics_w)\n",
    "    \n",
    "    return dict_scores\n",
    "    \n",
    "    "
   ]
  },
  {
   "cell_type": "code",
   "execution_count": 27,
   "id": "316e1c5c-e1f3-47ec-9e75-c0ef193bda69",
   "metadata": {},
   "outputs": [],
   "source": [
    "compute_metrics = functools.partial(compute_metrics_base, preprocessed_dataset=preprocessed_dataset, model_adapter=model_adapter, threshold=0.01)"
   ]
  },
  {
   "cell_type": "code",
   "execution_count": 36,
   "id": "7a260df3-00a8-4dee-a54d-3e55bbdae092",
   "metadata": {},
   "outputs": [],
   "source": [
    "def col_id2label(col_name):\n",
    "    list_name = col_name.split('_')\n",
    "    \n",
    "    if list_name[-1].isdigit():\n",
    "        label_id = int(list_name[-1])\n",
    "        list_name[-1] = id2classes[label_id]\n",
    "        \n",
    "        return '_'.join(list_name)\n",
    "        \n",
    "    else:\n",
    "        return col_name"
   ]
  },
  {
   "cell_type": "code",
   "execution_count": 20,
   "id": "6adf0d26-7199-42cc-a6e9-ed1ff1225820",
   "metadata": {},
   "outputs": [],
   "source": [
    "loaded_predictions = np.load(\"./in/preds02.npy\")"
   ]
  },
  {
   "cell_type": "code",
   "execution_count": 28,
   "id": "351b9550-7a95-4617-8f7f-a1bdbc68962f",
   "metadata": {},
   "outputs": [
    {
     "name": "stdout",
     "output_type": "stream",
     "text": [
      "CPU times: total: 1min 2s\n",
      "Wall time: 1min 2s\n"
     ]
    }
   ],
   "source": [
    "%%time\n",
    "eval_preds = (loaded_predictions, labels_padded, None)\n",
    "dict_all_scores = compute_metrics(eval_preds)"
   ]
  },
  {
   "cell_type": "code",
   "execution_count": 29,
   "id": "0b62d510-1287-4b42-a789-93a00382f192",
   "metadata": {},
   "outputs": [],
   "source": [
    "token_confusion_matrix = dict_all_scores.pop('token_confusion_matrix')\n",
    "word_confusion_matrix = dict_all_scores.pop('word_confusion_matrix')"
   ]
  },
  {
   "cell_type": "code",
   "execution_count": 38,
   "id": "380cfe13-254b-459b-9bbf-3b6cc4284d5a",
   "metadata": {},
   "outputs": [
    {
     "name": "stdout",
     "output_type": "stream",
     "text": [
      "CPU times: total: 0 ns\n",
      "Wall time: 3 ms\n"
     ]
    },
    {
     "data": {
      "text/html": [
       "<div>\n",
       "<style scoped>\n",
       "    .dataframe tbody tr th:only-of-type {\n",
       "        vertical-align: middle;\n",
       "    }\n",
       "\n",
       "    .dataframe tbody tr th {\n",
       "        vertical-align: top;\n",
       "    }\n",
       "\n",
       "    .dataframe thead th {\n",
       "        text-align: right;\n",
       "    }\n",
       "</style>\n",
       "<table border=\"1\" class=\"dataframe\">\n",
       "  <thead>\n",
       "    <tr style=\"text-align: right;\">\n",
       "      <th></th>\n",
       "      <th>precision</th>\n",
       "      <th>recall</th>\n",
       "      <th>f_beta</th>\n",
       "      <th>tp</th>\n",
       "      <th>fp</th>\n",
       "      <th>fn</th>\n",
       "    </tr>\n",
       "  </thead>\n",
       "  <tbody>\n",
       "    <tr>\n",
       "      <th>token_total_metrics</th>\n",
       "      <td>0.343886</td>\n",
       "      <td>0.665523</td>\n",
       "      <td>0.642413</td>\n",
       "      <td>3878.0</td>\n",
       "      <td>7399.0</td>\n",
       "      <td>1949.0</td>\n",
       "    </tr>\n",
       "    <tr>\n",
       "      <th>word_total_metrics</th>\n",
       "      <td>0.343371</td>\n",
       "      <td>0.878423</td>\n",
       "      <td>0.828754</td>\n",
       "      <td>2406.0</td>\n",
       "      <td>4601.0</td>\n",
       "      <td>333.0</td>\n",
       "    </tr>\n",
       "    <tr>\n",
       "      <th>token_O</th>\n",
       "      <td>0.999695</td>\n",
       "      <td>0.998543</td>\n",
       "      <td>0.998588</td>\n",
       "      <td>4725634.0</td>\n",
       "      <td>1444.0</td>\n",
       "      <td>6894.0</td>\n",
       "    </tr>\n",
       "    <tr>\n",
       "      <th>token_B-EMAIL</th>\n",
       "      <td>0.000000</td>\n",
       "      <td>0.000000</td>\n",
       "      <td>0.000000</td>\n",
       "      <td>0.0</td>\n",
       "      <td>0.0</td>\n",
       "      <td>263.0</td>\n",
       "    </tr>\n",
       "    <tr>\n",
       "      <th>token_B-ID_NUM</th>\n",
       "      <td>0.703008</td>\n",
       "      <td>0.502688</td>\n",
       "      <td>0.508258</td>\n",
       "      <td>187.0</td>\n",
       "      <td>79.0</td>\n",
       "      <td>185.0</td>\n",
       "    </tr>\n",
       "    <tr>\n",
       "      <th>token_B-NAME_STUDENT</th>\n",
       "      <td>0.323795</td>\n",
       "      <td>0.838879</td>\n",
       "      <td>0.790513</td>\n",
       "      <td>1437.0</td>\n",
       "      <td>3001.0</td>\n",
       "      <td>276.0</td>\n",
       "    </tr>\n",
       "    <tr>\n",
       "      <th>token_B-PHONE_NUM</th>\n",
       "      <td>0.000000</td>\n",
       "      <td>0.000000</td>\n",
       "      <td>0.000000</td>\n",
       "      <td>0.0</td>\n",
       "      <td>0.0</td>\n",
       "      <td>11.0</td>\n",
       "    </tr>\n",
       "    <tr>\n",
       "      <th>token_B-STREET_ADDRESS</th>\n",
       "      <td>0.000000</td>\n",
       "      <td>0.000000</td>\n",
       "      <td>0.000000</td>\n",
       "      <td>0.0</td>\n",
       "      <td>0.0</td>\n",
       "      <td>2.0</td>\n",
       "    </tr>\n",
       "    <tr>\n",
       "      <th>token_B-URL_PERSONAL</th>\n",
       "      <td>0.365321</td>\n",
       "      <td>0.464155</td>\n",
       "      <td>0.459375</td>\n",
       "      <td>887.0</td>\n",
       "      <td>1541.0</td>\n",
       "      <td>1024.0</td>\n",
       "    </tr>\n",
       "    <tr>\n",
       "      <th>token_B-USERNAME</th>\n",
       "      <td>0.000000</td>\n",
       "      <td>0.000000</td>\n",
       "      <td>0.000000</td>\n",
       "      <td>0.0</td>\n",
       "      <td>0.0</td>\n",
       "      <td>20.0</td>\n",
       "    </tr>\n",
       "    <tr>\n",
       "      <th>token_I-ID_NUM</th>\n",
       "      <td>0.000000</td>\n",
       "      <td>0.000000</td>\n",
       "      <td>0.000000</td>\n",
       "      <td>0.0</td>\n",
       "      <td>0.0</td>\n",
       "      <td>3.0</td>\n",
       "    </tr>\n",
       "    <tr>\n",
       "      <th>token_I-NAME_STUDENT</th>\n",
       "      <td>0.329795</td>\n",
       "      <td>0.933743</td>\n",
       "      <td>0.872303</td>\n",
       "      <td>1367.0</td>\n",
       "      <td>2778.0</td>\n",
       "      <td>97.0</td>\n",
       "    </tr>\n",
       "    <tr>\n",
       "      <th>token_I-PHONE_NUM</th>\n",
       "      <td>0.000000</td>\n",
       "      <td>0.000000</td>\n",
       "      <td>0.000000</td>\n",
       "      <td>0.0</td>\n",
       "      <td>0.0</td>\n",
       "      <td>39.0</td>\n",
       "    </tr>\n",
       "    <tr>\n",
       "      <th>token_I-STREET_ADDRESS</th>\n",
       "      <td>0.000000</td>\n",
       "      <td>0.000000</td>\n",
       "      <td>0.000000</td>\n",
       "      <td>0.0</td>\n",
       "      <td>0.0</td>\n",
       "      <td>22.0</td>\n",
       "    </tr>\n",
       "    <tr>\n",
       "      <th>token_I-URL_PERSONAL</th>\n",
       "      <td>0.000000</td>\n",
       "      <td>0.000000</td>\n",
       "      <td>0.000000</td>\n",
       "      <td>0.0</td>\n",
       "      <td>0.0</td>\n",
       "      <td>7.0</td>\n",
       "    </tr>\n",
       "    <tr>\n",
       "      <th>word_O</th>\n",
       "      <td>0.999948</td>\n",
       "      <td>0.999093</td>\n",
       "      <td>0.999126</td>\n",
       "      <td>4985267.0</td>\n",
       "      <td>259.0</td>\n",
       "      <td>4527.0</td>\n",
       "    </tr>\n",
       "    <tr>\n",
       "      <th>word_B-EMAIL</th>\n",
       "      <td>0.000000</td>\n",
       "      <td>0.000000</td>\n",
       "      <td>0.000000</td>\n",
       "      <td>0.0</td>\n",
       "      <td>0.0</td>\n",
       "      <td>39.0</td>\n",
       "    </tr>\n",
       "    <tr>\n",
       "      <th>word_B-ID_NUM</th>\n",
       "      <td>0.795918</td>\n",
       "      <td>0.500000</td>\n",
       "      <td>0.507254</td>\n",
       "      <td>39.0</td>\n",
       "      <td>10.0</td>\n",
       "      <td>39.0</td>\n",
       "    </tr>\n",
       "    <tr>\n",
       "      <th>word_B-NAME_STUDENT</th>\n",
       "      <td>0.294456</td>\n",
       "      <td>0.937729</td>\n",
       "      <td>0.865045</td>\n",
       "      <td>1280.0</td>\n",
       "      <td>3067.0</td>\n",
       "      <td>85.0</td>\n",
       "    </tr>\n",
       "    <tr>\n",
       "      <th>word_B-PHONE_NUM</th>\n",
       "      <td>0.000000</td>\n",
       "      <td>0.000000</td>\n",
       "      <td>0.000000</td>\n",
       "      <td>0.0</td>\n",
       "      <td>0.0</td>\n",
       "      <td>6.0</td>\n",
       "    </tr>\n",
       "    <tr>\n",
       "      <th>word_B-STREET_ADDRESS</th>\n",
       "      <td>0.000000</td>\n",
       "      <td>0.000000</td>\n",
       "      <td>0.000000</td>\n",
       "      <td>0.0</td>\n",
       "      <td>0.0</td>\n",
       "      <td>2.0</td>\n",
       "    </tr>\n",
       "    <tr>\n",
       "      <th>word_B-URL_PERSONAL</th>\n",
       "      <td>0.374302</td>\n",
       "      <td>0.609091</td>\n",
       "      <td>0.594742</td>\n",
       "      <td>67.0</td>\n",
       "      <td>112.0</td>\n",
       "      <td>43.0</td>\n",
       "    </tr>\n",
       "    <tr>\n",
       "      <th>word_B-USERNAME</th>\n",
       "      <td>0.000000</td>\n",
       "      <td>0.000000</td>\n",
       "      <td>0.000000</td>\n",
       "      <td>0.0</td>\n",
       "      <td>0.0</td>\n",
       "      <td>6.0</td>\n",
       "    </tr>\n",
       "    <tr>\n",
       "      <th>word_I-ID_NUM</th>\n",
       "      <td>0.000000</td>\n",
       "      <td>0.000000</td>\n",
       "      <td>0.000000</td>\n",
       "      <td>0.0</td>\n",
       "      <td>17.0</td>\n",
       "      <td>1.0</td>\n",
       "    </tr>\n",
       "    <tr>\n",
       "      <th>word_I-NAME_STUDENT</th>\n",
       "      <td>0.422360</td>\n",
       "      <td>0.930657</td>\n",
       "      <td>0.889485</td>\n",
       "      <td>1020.0</td>\n",
       "      <td>1395.0</td>\n",
       "      <td>76.0</td>\n",
       "    </tr>\n",
       "    <tr>\n",
       "      <th>word_I-PHONE_NUM</th>\n",
       "      <td>0.000000</td>\n",
       "      <td>0.000000</td>\n",
       "      <td>0.000000</td>\n",
       "      <td>0.0</td>\n",
       "      <td>0.0</td>\n",
       "      <td>15.0</td>\n",
       "    </tr>\n",
       "    <tr>\n",
       "      <th>word_I-STREET_ADDRESS</th>\n",
       "      <td>0.000000</td>\n",
       "      <td>0.000000</td>\n",
       "      <td>0.000000</td>\n",
       "      <td>0.0</td>\n",
       "      <td>0.0</td>\n",
       "      <td>20.0</td>\n",
       "    </tr>\n",
       "    <tr>\n",
       "      <th>word_I-URL_PERSONAL</th>\n",
       "      <td>0.000000</td>\n",
       "      <td>0.000000</td>\n",
       "      <td>0.000000</td>\n",
       "      <td>0.0</td>\n",
       "      <td>0.0</td>\n",
       "      <td>1.0</td>\n",
       "    </tr>\n",
       "  </tbody>\n",
       "</table>\n",
       "</div>"
      ],
      "text/plain": [
       "                        precision    recall    f_beta         tp      fp  \\\n",
       "token_total_metrics      0.343886  0.665523  0.642413     3878.0  7399.0   \n",
       "word_total_metrics       0.343371  0.878423  0.828754     2406.0  4601.0   \n",
       "token_O                  0.999695  0.998543  0.998588  4725634.0  1444.0   \n",
       "token_B-EMAIL            0.000000  0.000000  0.000000        0.0     0.0   \n",
       "token_B-ID_NUM           0.703008  0.502688  0.508258      187.0    79.0   \n",
       "token_B-NAME_STUDENT     0.323795  0.838879  0.790513     1437.0  3001.0   \n",
       "token_B-PHONE_NUM        0.000000  0.000000  0.000000        0.0     0.0   \n",
       "token_B-STREET_ADDRESS   0.000000  0.000000  0.000000        0.0     0.0   \n",
       "token_B-URL_PERSONAL     0.365321  0.464155  0.459375      887.0  1541.0   \n",
       "token_B-USERNAME         0.000000  0.000000  0.000000        0.0     0.0   \n",
       "token_I-ID_NUM           0.000000  0.000000  0.000000        0.0     0.0   \n",
       "token_I-NAME_STUDENT     0.329795  0.933743  0.872303     1367.0  2778.0   \n",
       "token_I-PHONE_NUM        0.000000  0.000000  0.000000        0.0     0.0   \n",
       "token_I-STREET_ADDRESS   0.000000  0.000000  0.000000        0.0     0.0   \n",
       "token_I-URL_PERSONAL     0.000000  0.000000  0.000000        0.0     0.0   \n",
       "word_O                   0.999948  0.999093  0.999126  4985267.0   259.0   \n",
       "word_B-EMAIL             0.000000  0.000000  0.000000        0.0     0.0   \n",
       "word_B-ID_NUM            0.795918  0.500000  0.507254       39.0    10.0   \n",
       "word_B-NAME_STUDENT      0.294456  0.937729  0.865045     1280.0  3067.0   \n",
       "word_B-PHONE_NUM         0.000000  0.000000  0.000000        0.0     0.0   \n",
       "word_B-STREET_ADDRESS    0.000000  0.000000  0.000000        0.0     0.0   \n",
       "word_B-URL_PERSONAL      0.374302  0.609091  0.594742       67.0   112.0   \n",
       "word_B-USERNAME          0.000000  0.000000  0.000000        0.0     0.0   \n",
       "word_I-ID_NUM            0.000000  0.000000  0.000000        0.0    17.0   \n",
       "word_I-NAME_STUDENT      0.422360  0.930657  0.889485     1020.0  1395.0   \n",
       "word_I-PHONE_NUM         0.000000  0.000000  0.000000        0.0     0.0   \n",
       "word_I-STREET_ADDRESS    0.000000  0.000000  0.000000        0.0     0.0   \n",
       "word_I-URL_PERSONAL      0.000000  0.000000  0.000000        0.0     0.0   \n",
       "\n",
       "                            fn  \n",
       "token_total_metrics     1949.0  \n",
       "word_total_metrics       333.0  \n",
       "token_O                 6894.0  \n",
       "token_B-EMAIL            263.0  \n",
       "token_B-ID_NUM           185.0  \n",
       "token_B-NAME_STUDENT     276.0  \n",
       "token_B-PHONE_NUM         11.0  \n",
       "token_B-STREET_ADDRESS     2.0  \n",
       "token_B-URL_PERSONAL    1024.0  \n",
       "token_B-USERNAME          20.0  \n",
       "token_I-ID_NUM             3.0  \n",
       "token_I-NAME_STUDENT      97.0  \n",
       "token_I-PHONE_NUM         39.0  \n",
       "token_I-STREET_ADDRESS    22.0  \n",
       "token_I-URL_PERSONAL       7.0  \n",
       "word_O                  4527.0  \n",
       "word_B-EMAIL              39.0  \n",
       "word_B-ID_NUM             39.0  \n",
       "word_B-NAME_STUDENT       85.0  \n",
       "word_B-PHONE_NUM           6.0  \n",
       "word_B-STREET_ADDRESS      2.0  \n",
       "word_B-URL_PERSONAL       43.0  \n",
       "word_B-USERNAME            6.0  \n",
       "word_I-ID_NUM              1.0  \n",
       "word_I-NAME_STUDENT       76.0  \n",
       "word_I-PHONE_NUM          15.0  \n",
       "word_I-STREET_ADDRESS     20.0  \n",
       "word_I-URL_PERSONAL        1.0  "
      ]
     },
     "execution_count": 38,
     "metadata": {},
     "output_type": "execute_result"
    }
   ],
   "source": [
    "%%time\n",
    "df_all_metrics = pd.DataFrame(dict_all_scores)\n",
    "df_all_metrics.columns = df_all_metrics.columns.map(col_id2label)\n",
    "df_all_metrics = df_all_metrics.T\n",
    "df_all_metrics"
   ]
  },
  {
   "cell_type": "markdown",
   "id": "dce2c697-a50f-46ff-9a17-081876cc122c",
   "metadata": {
    "tags": []
   },
   "source": [
    "## Persist"
   ]
  },
  {
   "cell_type": "code",
   "execution_count": 39,
   "id": "1205e3c5-6b42-444f-8472-569b988fbdf5",
   "metadata": {},
   "outputs": [],
   "source": [
    "np.savez('./results/conf_matrices_1.npz', token_confusion_matrix=token_confusion_matrix,word_confusion_matrix=word_confusion_matrix)\n",
    "df_all_metrics.to_csv('./results/all_metrics_1.csv', index=False)"
   ]
  },
  {
   "cell_type": "code",
   "execution_count": 52,
   "id": "0bd077f6-0097-40f6-a70c-e85e27a1d185",
   "metadata": {},
   "outputs": [],
   "source": [
    "# npz_conf_matrices =  np.load('./results/conf_matrices_1.npz')\n",
    "token_confusion_matrix_temp, word_confusion_matrix_temp =  np.load('./results/conf_matrices_1.npz').values()"
   ]
  },
  {
   "cell_type": "code",
   "execution_count": 46,
   "id": "c93f044e-117b-4873-818f-762f15d1e727",
   "metadata": {},
   "outputs": [],
   "source": [
    "df_all_metrics.to_csv('./results/all_metrics_1.csv', index=True)"
   ]
  },
  {
   "cell_type": "code",
   "execution_count": 48,
   "id": "37074357-92e0-404e-b4fe-7a869886c010",
   "metadata": {},
   "outputs": [
    {
     "data": {
      "text/html": [
       "<div>\n",
       "<style scoped>\n",
       "    .dataframe tbody tr th:only-of-type {\n",
       "        vertical-align: middle;\n",
       "    }\n",
       "\n",
       "    .dataframe tbody tr th {\n",
       "        vertical-align: top;\n",
       "    }\n",
       "\n",
       "    .dataframe thead th {\n",
       "        text-align: right;\n",
       "    }\n",
       "</style>\n",
       "<table border=\"1\" class=\"dataframe\">\n",
       "  <thead>\n",
       "    <tr style=\"text-align: right;\">\n",
       "      <th></th>\n",
       "      <th>precision</th>\n",
       "      <th>recall</th>\n",
       "      <th>f_beta</th>\n",
       "      <th>tp</th>\n",
       "      <th>fp</th>\n",
       "      <th>fn</th>\n",
       "    </tr>\n",
       "  </thead>\n",
       "  <tbody>\n",
       "    <tr>\n",
       "      <th>token_total_metrics</th>\n",
       "      <td>0.343886</td>\n",
       "      <td>0.665523</td>\n",
       "      <td>0.642413</td>\n",
       "      <td>3878.0</td>\n",
       "      <td>7399.0</td>\n",
       "      <td>1949.0</td>\n",
       "    </tr>\n",
       "    <tr>\n",
       "      <th>word_total_metrics</th>\n",
       "      <td>0.343371</td>\n",
       "      <td>0.878423</td>\n",
       "      <td>0.828754</td>\n",
       "      <td>2406.0</td>\n",
       "      <td>4601.0</td>\n",
       "      <td>333.0</td>\n",
       "    </tr>\n",
       "    <tr>\n",
       "      <th>token_O</th>\n",
       "      <td>0.999695</td>\n",
       "      <td>0.998543</td>\n",
       "      <td>0.998588</td>\n",
       "      <td>4725634.0</td>\n",
       "      <td>1444.0</td>\n",
       "      <td>6894.0</td>\n",
       "    </tr>\n",
       "    <tr>\n",
       "      <th>token_B-EMAIL</th>\n",
       "      <td>0.000000</td>\n",
       "      <td>0.000000</td>\n",
       "      <td>0.000000</td>\n",
       "      <td>0.0</td>\n",
       "      <td>0.0</td>\n",
       "      <td>263.0</td>\n",
       "    </tr>\n",
       "    <tr>\n",
       "      <th>token_B-ID_NUM</th>\n",
       "      <td>0.703008</td>\n",
       "      <td>0.502688</td>\n",
       "      <td>0.508258</td>\n",
       "      <td>187.0</td>\n",
       "      <td>79.0</td>\n",
       "      <td>185.0</td>\n",
       "    </tr>\n",
       "    <tr>\n",
       "      <th>token_B-NAME_STUDENT</th>\n",
       "      <td>0.323795</td>\n",
       "      <td>0.838879</td>\n",
       "      <td>0.790513</td>\n",
       "      <td>1437.0</td>\n",
       "      <td>3001.0</td>\n",
       "      <td>276.0</td>\n",
       "    </tr>\n",
       "    <tr>\n",
       "      <th>token_B-PHONE_NUM</th>\n",
       "      <td>0.000000</td>\n",
       "      <td>0.000000</td>\n",
       "      <td>0.000000</td>\n",
       "      <td>0.0</td>\n",
       "      <td>0.0</td>\n",
       "      <td>11.0</td>\n",
       "    </tr>\n",
       "    <tr>\n",
       "      <th>token_B-STREET_ADDRESS</th>\n",
       "      <td>0.000000</td>\n",
       "      <td>0.000000</td>\n",
       "      <td>0.000000</td>\n",
       "      <td>0.0</td>\n",
       "      <td>0.0</td>\n",
       "      <td>2.0</td>\n",
       "    </tr>\n",
       "    <tr>\n",
       "      <th>token_B-URL_PERSONAL</th>\n",
       "      <td>0.365321</td>\n",
       "      <td>0.464155</td>\n",
       "      <td>0.459375</td>\n",
       "      <td>887.0</td>\n",
       "      <td>1541.0</td>\n",
       "      <td>1024.0</td>\n",
       "    </tr>\n",
       "    <tr>\n",
       "      <th>token_B-USERNAME</th>\n",
       "      <td>0.000000</td>\n",
       "      <td>0.000000</td>\n",
       "      <td>0.000000</td>\n",
       "      <td>0.0</td>\n",
       "      <td>0.0</td>\n",
       "      <td>20.0</td>\n",
       "    </tr>\n",
       "    <tr>\n",
       "      <th>token_I-ID_NUM</th>\n",
       "      <td>0.000000</td>\n",
       "      <td>0.000000</td>\n",
       "      <td>0.000000</td>\n",
       "      <td>0.0</td>\n",
       "      <td>0.0</td>\n",
       "      <td>3.0</td>\n",
       "    </tr>\n",
       "    <tr>\n",
       "      <th>token_I-NAME_STUDENT</th>\n",
       "      <td>0.329795</td>\n",
       "      <td>0.933743</td>\n",
       "      <td>0.872303</td>\n",
       "      <td>1367.0</td>\n",
       "      <td>2778.0</td>\n",
       "      <td>97.0</td>\n",
       "    </tr>\n",
       "    <tr>\n",
       "      <th>token_I-PHONE_NUM</th>\n",
       "      <td>0.000000</td>\n",
       "      <td>0.000000</td>\n",
       "      <td>0.000000</td>\n",
       "      <td>0.0</td>\n",
       "      <td>0.0</td>\n",
       "      <td>39.0</td>\n",
       "    </tr>\n",
       "    <tr>\n",
       "      <th>token_I-STREET_ADDRESS</th>\n",
       "      <td>0.000000</td>\n",
       "      <td>0.000000</td>\n",
       "      <td>0.000000</td>\n",
       "      <td>0.0</td>\n",
       "      <td>0.0</td>\n",
       "      <td>22.0</td>\n",
       "    </tr>\n",
       "    <tr>\n",
       "      <th>token_I-URL_PERSONAL</th>\n",
       "      <td>0.000000</td>\n",
       "      <td>0.000000</td>\n",
       "      <td>0.000000</td>\n",
       "      <td>0.0</td>\n",
       "      <td>0.0</td>\n",
       "      <td>7.0</td>\n",
       "    </tr>\n",
       "    <tr>\n",
       "      <th>word_O</th>\n",
       "      <td>0.999948</td>\n",
       "      <td>0.999093</td>\n",
       "      <td>0.999126</td>\n",
       "      <td>4985267.0</td>\n",
       "      <td>259.0</td>\n",
       "      <td>4527.0</td>\n",
       "    </tr>\n",
       "    <tr>\n",
       "      <th>word_B-EMAIL</th>\n",
       "      <td>0.000000</td>\n",
       "      <td>0.000000</td>\n",
       "      <td>0.000000</td>\n",
       "      <td>0.0</td>\n",
       "      <td>0.0</td>\n",
       "      <td>39.0</td>\n",
       "    </tr>\n",
       "    <tr>\n",
       "      <th>word_B-ID_NUM</th>\n",
       "      <td>0.795918</td>\n",
       "      <td>0.500000</td>\n",
       "      <td>0.507254</td>\n",
       "      <td>39.0</td>\n",
       "      <td>10.0</td>\n",
       "      <td>39.0</td>\n",
       "    </tr>\n",
       "    <tr>\n",
       "      <th>word_B-NAME_STUDENT</th>\n",
       "      <td>0.294456</td>\n",
       "      <td>0.937729</td>\n",
       "      <td>0.865045</td>\n",
       "      <td>1280.0</td>\n",
       "      <td>3067.0</td>\n",
       "      <td>85.0</td>\n",
       "    </tr>\n",
       "    <tr>\n",
       "      <th>word_B-PHONE_NUM</th>\n",
       "      <td>0.000000</td>\n",
       "      <td>0.000000</td>\n",
       "      <td>0.000000</td>\n",
       "      <td>0.0</td>\n",
       "      <td>0.0</td>\n",
       "      <td>6.0</td>\n",
       "    </tr>\n",
       "    <tr>\n",
       "      <th>word_B-STREET_ADDRESS</th>\n",
       "      <td>0.000000</td>\n",
       "      <td>0.000000</td>\n",
       "      <td>0.000000</td>\n",
       "      <td>0.0</td>\n",
       "      <td>0.0</td>\n",
       "      <td>2.0</td>\n",
       "    </tr>\n",
       "    <tr>\n",
       "      <th>word_B-URL_PERSONAL</th>\n",
       "      <td>0.374302</td>\n",
       "      <td>0.609091</td>\n",
       "      <td>0.594742</td>\n",
       "      <td>67.0</td>\n",
       "      <td>112.0</td>\n",
       "      <td>43.0</td>\n",
       "    </tr>\n",
       "    <tr>\n",
       "      <th>word_B-USERNAME</th>\n",
       "      <td>0.000000</td>\n",
       "      <td>0.000000</td>\n",
       "      <td>0.000000</td>\n",
       "      <td>0.0</td>\n",
       "      <td>0.0</td>\n",
       "      <td>6.0</td>\n",
       "    </tr>\n",
       "    <tr>\n",
       "      <th>word_I-ID_NUM</th>\n",
       "      <td>0.000000</td>\n",
       "      <td>0.000000</td>\n",
       "      <td>0.000000</td>\n",
       "      <td>0.0</td>\n",
       "      <td>17.0</td>\n",
       "      <td>1.0</td>\n",
       "    </tr>\n",
       "    <tr>\n",
       "      <th>word_I-NAME_STUDENT</th>\n",
       "      <td>0.422360</td>\n",
       "      <td>0.930657</td>\n",
       "      <td>0.889485</td>\n",
       "      <td>1020.0</td>\n",
       "      <td>1395.0</td>\n",
       "      <td>76.0</td>\n",
       "    </tr>\n",
       "    <tr>\n",
       "      <th>word_I-PHONE_NUM</th>\n",
       "      <td>0.000000</td>\n",
       "      <td>0.000000</td>\n",
       "      <td>0.000000</td>\n",
       "      <td>0.0</td>\n",
       "      <td>0.0</td>\n",
       "      <td>15.0</td>\n",
       "    </tr>\n",
       "    <tr>\n",
       "      <th>word_I-STREET_ADDRESS</th>\n",
       "      <td>0.000000</td>\n",
       "      <td>0.000000</td>\n",
       "      <td>0.000000</td>\n",
       "      <td>0.0</td>\n",
       "      <td>0.0</td>\n",
       "      <td>20.0</td>\n",
       "    </tr>\n",
       "    <tr>\n",
       "      <th>word_I-URL_PERSONAL</th>\n",
       "      <td>0.000000</td>\n",
       "      <td>0.000000</td>\n",
       "      <td>0.000000</td>\n",
       "      <td>0.0</td>\n",
       "      <td>0.0</td>\n",
       "      <td>1.0</td>\n",
       "    </tr>\n",
       "  </tbody>\n",
       "</table>\n",
       "</div>"
      ],
      "text/plain": [
       "                        precision    recall    f_beta         tp      fp  \\\n",
       "token_total_metrics      0.343886  0.665523  0.642413     3878.0  7399.0   \n",
       "word_total_metrics       0.343371  0.878423  0.828754     2406.0  4601.0   \n",
       "token_O                  0.999695  0.998543  0.998588  4725634.0  1444.0   \n",
       "token_B-EMAIL            0.000000  0.000000  0.000000        0.0     0.0   \n",
       "token_B-ID_NUM           0.703008  0.502688  0.508258      187.0    79.0   \n",
       "token_B-NAME_STUDENT     0.323795  0.838879  0.790513     1437.0  3001.0   \n",
       "token_B-PHONE_NUM        0.000000  0.000000  0.000000        0.0     0.0   \n",
       "token_B-STREET_ADDRESS   0.000000  0.000000  0.000000        0.0     0.0   \n",
       "token_B-URL_PERSONAL     0.365321  0.464155  0.459375      887.0  1541.0   \n",
       "token_B-USERNAME         0.000000  0.000000  0.000000        0.0     0.0   \n",
       "token_I-ID_NUM           0.000000  0.000000  0.000000        0.0     0.0   \n",
       "token_I-NAME_STUDENT     0.329795  0.933743  0.872303     1367.0  2778.0   \n",
       "token_I-PHONE_NUM        0.000000  0.000000  0.000000        0.0     0.0   \n",
       "token_I-STREET_ADDRESS   0.000000  0.000000  0.000000        0.0     0.0   \n",
       "token_I-URL_PERSONAL     0.000000  0.000000  0.000000        0.0     0.0   \n",
       "word_O                   0.999948  0.999093  0.999126  4985267.0   259.0   \n",
       "word_B-EMAIL             0.000000  0.000000  0.000000        0.0     0.0   \n",
       "word_B-ID_NUM            0.795918  0.500000  0.507254       39.0    10.0   \n",
       "word_B-NAME_STUDENT      0.294456  0.937729  0.865045     1280.0  3067.0   \n",
       "word_B-PHONE_NUM         0.000000  0.000000  0.000000        0.0     0.0   \n",
       "word_B-STREET_ADDRESS    0.000000  0.000000  0.000000        0.0     0.0   \n",
       "word_B-URL_PERSONAL      0.374302  0.609091  0.594742       67.0   112.0   \n",
       "word_B-USERNAME          0.000000  0.000000  0.000000        0.0     0.0   \n",
       "word_I-ID_NUM            0.000000  0.000000  0.000000        0.0    17.0   \n",
       "word_I-NAME_STUDENT      0.422360  0.930657  0.889485     1020.0  1395.0   \n",
       "word_I-PHONE_NUM         0.000000  0.000000  0.000000        0.0     0.0   \n",
       "word_I-STREET_ADDRESS    0.000000  0.000000  0.000000        0.0     0.0   \n",
       "word_I-URL_PERSONAL      0.000000  0.000000  0.000000        0.0     0.0   \n",
       "\n",
       "                            fn  \n",
       "token_total_metrics     1949.0  \n",
       "word_total_metrics       333.0  \n",
       "token_O                 6894.0  \n",
       "token_B-EMAIL            263.0  \n",
       "token_B-ID_NUM           185.0  \n",
       "token_B-NAME_STUDENT     276.0  \n",
       "token_B-PHONE_NUM         11.0  \n",
       "token_B-STREET_ADDRESS     2.0  \n",
       "token_B-URL_PERSONAL    1024.0  \n",
       "token_B-USERNAME          20.0  \n",
       "token_I-ID_NUM             3.0  \n",
       "token_I-NAME_STUDENT      97.0  \n",
       "token_I-PHONE_NUM         39.0  \n",
       "token_I-STREET_ADDRESS    22.0  \n",
       "token_I-URL_PERSONAL       7.0  \n",
       "word_O                  4527.0  \n",
       "word_B-EMAIL              39.0  \n",
       "word_B-ID_NUM             39.0  \n",
       "word_B-NAME_STUDENT       85.0  \n",
       "word_B-PHONE_NUM           6.0  \n",
       "word_B-STREET_ADDRESS      2.0  \n",
       "word_B-URL_PERSONAL       43.0  \n",
       "word_B-USERNAME            6.0  \n",
       "word_I-ID_NUM              1.0  \n",
       "word_I-NAME_STUDENT       76.0  \n",
       "word_I-PHONE_NUM          15.0  \n",
       "word_I-STREET_ADDRESS     20.0  \n",
       "word_I-URL_PERSONAL        1.0  "
      ]
     },
     "execution_count": 48,
     "metadata": {},
     "output_type": "execute_result"
    }
   ],
   "source": [
    "df_loaded = pd.read_csv('./results/all_metrics_1.csv', index_col=0)\n",
    "df_loaded"
   ]
  },
  {
   "cell_type": "code",
   "execution_count": null,
   "id": "3045a413-3acb-4011-840e-468aa73a9296",
   "metadata": {},
   "outputs": [],
   "source": [
    "df_loaded"
   ]
  },
  {
   "cell_type": "markdown",
   "id": "998a0bb5-de85-4ea1-87ec-354e6cbe37e2",
   "metadata": {},
   "source": [
    "# Confusion Matrix"
   ]
  },
  {
   "cell_type": "markdown",
   "id": "35cbaa33-8a5b-4bfe-8747-22c6981c07c9",
   "metadata": {},
   "source": [
    "## Token_Level"
   ]
  },
  {
   "cell_type": "markdown",
   "id": "b3416e4b-9dc9-4717-99f1-c44484cbd383",
   "metadata": {},
   "source": [
    "### Vis"
   ]
  },
  {
   "cell_type": "code",
   "execution_count": 29,
   "id": "de5a2604-9d23-46e3-8500-bcb71740c00c",
   "metadata": {},
   "outputs": [
    {
     "data": {
      "image/png": "[encoded data removed]",
      "text/plain": [
       "<Figure size 1200x600 with 2 Axes>"
      ]
     },
     "metadata": {},
     "output_type": "display_data"
    }
   ],
   "source": [
    "# conf_matrix = np.array([[20, 5, 0],\n",
    "#                         [3, 25, 2],\n",
    "#                         [1, 4, 18]])\n",
    "\n",
    "conf_matrix = confusion_matrix\n",
    "\n",
    "# Define class labels\n",
    "# classes = ['Class 1', 'Class 2', 'Class 3']\n",
    "\n",
    "# Plot confusion matrix\n",
    "plt.figure(figsize=(12, 6))\n",
    "sns.set(font_scale=1.2)  # Adjust font scale\n",
    "\n",
    "# Calculate vmin and vmax excluding the background class\n",
    "vmin = np.min(conf_matrix[conf_matrix != conf_matrix[0,0]])\n",
    "vmax = np.max(conf_matrix[conf_matrix != conf_matrix[0,0]])\n",
    "\n",
    "sns.heatmap(conf_matrix, annot=True, fmt='d', cmap=\"Blues\", xticklabels=classes, yticklabels=classes, vmin=vmin, vmax=vmax)\n",
    "plt.xlabel('Predicted Labels')\n",
    "plt.ylabel('True Labels')\n",
    "plt.title('Confusion Matrix (excluding background class)')\n",
    "plt.show()"
   ]
  },
  {
   "cell_type": "markdown",
   "id": "cfd69e84-60db-41ae-ba1a-bab45494b7bf",
   "metadata": {},
   "source": [
    "## Word Level"
   ]
  },
  {
   "cell_type": "code",
   "execution_count": 34,
   "id": "aa7cab4b-6c1e-438e-a9bf-eeb80520bdc2",
   "metadata": {},
   "outputs": [],
   "source": [
    "np_entity_id2class_id_b = np.array([class_dict[0] for class_dict  in entity_id2class_id.values()])\n",
    "np_entity_id2class_id_i = np.array([class_dict[1] for class_dict  in entity_id2class_id.values()])\n",
    "class_entity_sorted = sorted([(v,k) for k, values in entity_id2class_id.items() for v in values])\n",
    "class_id2entity_id = {k:v for k,v in  class_entity_sorted}\n",
    "np_class_id2entity_id = np.array([entity for entity in class_id2entity_id.values()])"
   ]
  },
  {
   "cell_type": "code",
   "execution_count": 35,
   "id": "7784f169-23b9-4419-9a09-cb3046081b31",
   "metadata": {},
   "outputs": [
    {
     "name": "stdout",
     "output_type": "stream",
     "text": [
      "CPU times: total: 781 ms\n",
      "Wall time: 826 ms\n"
     ]
    }
   ],
   "source": [
    "%%time\n",
    "list_pred_words_mapped = [to_bio_vect(pred_words, np_class_id2entity_id) for pred_words in list_pred_words]\n",
    "flat_word_label_ids = np.concatenate(list_pred_words_mapped)"
   ]
  },
  {
   "cell_type": "code",
   "execution_count": 36,
   "id": "877703b8-0945-443e-bbbe-e284eecfe0ac",
   "metadata": {},
   "outputs": [
    {
     "name": "stdout",
     "output_type": "stream",
     "text": [
      "CPU times: total: 10.4 s\n",
      "Wall time: 11.6 s\n"
     ]
    }
   ],
   "source": [
    "%%time\n",
    "list_word_true_labels = preprocessed_dataset['word_labels']"
   ]
  },
  {
   "cell_type": "code",
   "execution_count": 37,
   "id": "f036e0b4-801e-4e87-9f70-9e0f9d5220b2",
   "metadata": {},
   "outputs": [
    {
     "name": "stdout",
     "output_type": "stream",
     "text": [
      "CPU times: total: 828 ms\n",
      "Wall time: 942 ms\n"
     ]
    }
   ],
   "source": [
    "%%time\n",
    "flat_word_true_labels_id = np.array([classes2id[word] for list_words in list_word_true_labels for word in list_words], dtype='int8')"
   ]
  },
  {
   "cell_type": "code",
   "execution_count": 38,
   "id": "b2bc6b4b-cb7d-411e-8dec-f178d3458f47",
   "metadata": {},
   "outputs": [
    {
     "name": "stdout",
     "output_type": "stream",
     "text": [
      "CPU times: total: 125 ms\n",
      "Wall time: 148 ms\n"
     ]
    }
   ],
   "source": [
    "%%time\n",
    "\n",
    "confusion_matrix_w, TP_w, TN_w, FN_w, FP_w = count_confusion_matrix(predictions = flat_word_label_ids, labels = flat_word_true_labels_id, num_classes = len(classes))"
   ]
  },
  {
   "cell_type": "markdown",
   "id": "46222450-6b9e-4fca-b80f-bd9be1e2d5ac",
   "metadata": {},
   "source": [
    "### Vis"
   ]
  },
  {
   "cell_type": "code",
   "execution_count": 39,
   "id": "987dc6b6-1c8e-402c-94e9-4ad874ddca5a",
   "metadata": {},
   "outputs": [
    {
     "data": {
      "image/png": "[encoded data removed]",
      "text/plain": [
       "<Figure size 1200x600 with 2 Axes>"
      ]
     },
     "metadata": {},
     "output_type": "display_data"
    }
   ],
   "source": [
    "# conf_matrix = np.array([[20, 5, 0],\n",
    "#                         [3, 25, 2],\n",
    "#                         [1, 4, 18]])\n",
    "\n",
    "conf_matrix = confusion_matrix_w\n",
    "\n",
    "# Define class labels\n",
    "# classes = ['Class 1', 'Class 2', 'Class 3']\n",
    "\n",
    "# Plot confusion matrix\n",
    "plt.figure(figsize=(12, 6))\n",
    "sns.set(font_scale=1.2)  # Adjust font scale\n",
    "\n",
    "# Calculate vmin and vmax excluding the background class\n",
    "vmin = np.min(conf_matrix[conf_matrix != conf_matrix[0,0]])\n",
    "vmax = np.max(conf_matrix[conf_matrix != conf_matrix[0,0]])\n",
    "\n",
    "sns.heatmap(conf_matrix, annot=True, fmt='d', cmap=\"Blues\", xticklabels=classes, yticklabels=classes, vmin=vmin, vmax=vmax)\n",
    "plt.xlabel('Predicted Labels')\n",
    "plt.ylabel('True Labels')\n",
    "plt.title('Confusion Matrix (excluding background class)')\n",
    "plt.show()"
   ]
  },
  {
   "cell_type": "markdown",
   "id": "3a89416c-d712-4929-b524-6b610d26cc24",
   "metadata": {},
   "source": [
    "# To Do"
   ]
  },
  {
   "cell_type": "markdown",
   "id": "5ca19e60-5f53-4f2f-98ff-cef0ed907003",
   "metadata": {},
   "source": [
    "## Compute metrics of V0"
   ]
  },
  {
   "cell_type": "markdown",
   "id": "4cab2ddd-aca0-4870-af32-85eef7e09162",
   "metadata": {},
   "source": [
    "## Delta metrics"
   ]
  },
  {
   "cell_type": "code",
   "execution_count": null,
   "id": "df4463ec-92ca-43f1-8af1-f3cf4d68ed03",
   "metadata": {},
   "outputs": [],
   "source": [
    "#Research delta flat vs percentage\n",
    "#Research significant delta\n",
    "#Implement get top significant N results\n",
    "#Implement summarize remaining results (positive, negative)"
   ]
  },
  {
   "cell_type": "markdown",
   "id": "72b2f4eb-1c67-4f7d-92cf-dd31e8fbe5a4",
   "metadata": {},
   "source": [
    "## Delta Confusion Matrix"
   ]
  },
  {
   "cell_type": "code",
   "execution_count": null,
   "id": "001c56f7-b452-4f09-9aa5-126a141fa167",
   "metadata": {},
   "outputs": [],
   "source": [
    "#Get diff of 2 confusion matrix\n",
    "## Implement Visualization\n",
    "# Create colormap Red < =, White == 0, Green > 0\n",
    "# With normalization"
   ]
  },
  {
   "cell_type": "markdown",
   "id": "5b886cfd-b91f-4adb-86c7-ebe90644aa57",
   "metadata": {},
   "source": [
    "## Record search"
   ]
  },
  {
   "cell_type": "markdown",
   "id": "76af2dc4-d846-4e62-9deb-bf6abd1fd653",
   "metadata": {
    "jp-MarkdownHeadingCollapsed": true,
    "tags": []
   },
   "source": [
    "Cases we are interested in:\n",
    "1. records where name_student is present but not identified\n",
    "  - FN for name_student\n",
    "  \n",
    "2. records where PHONE_NUMBER was misidentified as ID_NUM, \n",
    "  - FN for PHONE_NUMBER and FP for ID_NUM\n",
    "3. records where B_Email was misidentified as URL_Personal \n",
    "\n",
    "\n",
    "Implement data structure for fast searching:\n",
    "\n",
    "Approaches: \n",
    "1. Per token?\n",
    "  - Similar performance, a bit difficult to implement\n",
    "  - Guaranteed since metrics keep track of which token\n",
    "  - Huge space complexity? 3D: token,metric,label (Token,3) value=label_id\n",
    "  - How to query:\n",
    "    - C1: find tokens where FN = NAME_STUDENT, FP = O\n",
    "    - C2/C3: Find tokens where FN = L1, FP = L2\n",
    "\n",
    "2. Conf_matrix per record\n",
    "  - Not guaranteed, condition might match but can be different tokens\n",
    "  - Fast to implement and execute\n",
    "  - \n",
    "\n",
    "\n",
    "\n",
    "\n"
   ]
  },
  {
   "cell_type": "markdown",
   "id": "e0b059ab-d844-4914-b6f7-1f45bc03d845",
   "metadata": {},
   "source": [
    "# Bin"
   ]
  },
  {
   "cell_type": "markdown",
   "id": "bf26123b-37bb-4f24-9da0-708dad5c519b",
   "metadata": {},
   "source": [
    "## Flat Prefix"
   ]
  },
  {
   "cell_type": "code",
   "execution_count": null,
   "id": "3204a204-3efd-4b5c-bd9d-a8378b7349dc",
   "metadata": {},
   "outputs": [],
   "source": [
    "def compute_micro_metrics(predictions, labels, num_classes, pos_labels, prefix='', beta=5):\n",
    "#     global class_metrics\n",
    "    \n",
    "    \n",
    "    confusion_matrix, TP, TN, FN, FP = count_confusion_matrix(predictions = predictions, labels = labels, num_classes = len(classes))\n",
    "    \n",
    "#     class_metrics = {class_label:compute_metrics_per_class(TP, FN, FP, class_label, beta=beta, prefix=prefix) for class_label in range(num_classes)}\n",
    "    class_metrics = {key:value for class_label in range(num_classes) for key,value in compute_metrics_per_class(TP, FN, FP, class_label, beta=beta, prefix=prefix).items()}\n",
    "    \n",
    "    \n",
    "    # Calculate total true positives, false positives, and false negatives excluding 'O' label\n",
    "    total_tp = sum(TP[pos_labels])\n",
    "    total_fp = sum(FP[pos_labels])\n",
    "    total_fn = sum(FN[pos_labels])\n",
    "    \n",
    "    # Compute total precision excluding 'O' label\n",
    "    total_precision = total_tp / (total_tp + total_fp) if total_tp + total_fp > 0 else 0\n",
    "    \n",
    "    # Compute total recall excluding 'O' label\n",
    "    total_recall = total_tp / (total_tp + total_fn) if total_tp + total_fn > 0 else 0\n",
    "    \n",
    "    # Compute total F-beta score excluding 'O' label\n",
    "    total_f_beta = (1 + beta**2) * (total_precision * total_recall) / (beta**2 * total_precision + total_recall) if total_precision + total_recall > 0 else 0\n",
    "    \n",
    "    total_metrics = {f'{prefix}total_precision':total_precision, f'{prefix}total_recall':total_recall, f'{prefix}total_f_beta':total_f_beta,\n",
    "                     f'{prefix}total_tp':total_tp, f'{prefix}total_fp':total_fp, f'{prefix}total_fn':total_fn}\n",
    "    \n",
    "    return total_metrics, class_metrics, confusion_matrix\n"
   ]
  },
  {
   "cell_type": "code",
   "execution_count": null,
   "id": "6810c34c-3c22-4ef4-8cf0-323ce5f5ca40",
   "metadata": {},
   "outputs": [],
   "source": []
  }
 ],
 "metadata": {
  "kernelspec": {
   "display_name": "Python 3 (ipykernel)",
   "language": "python",
   "name": "python3"
  },
  "language_info": {
   "codemirror_mode": {
    "name": "ipython",
    "version": 3
   },
   "file_extension": ".py",
   "mimetype": "text/x-python",
   "name": "python",
   "nbconvert_exporter": "python",
   "pygments_lexer": "ipython3",
   "version": "3.11.8"
  },
  "toc-autonumbering": true
 },
 "nbformat": 4,
 "nbformat_minor": 5
}
