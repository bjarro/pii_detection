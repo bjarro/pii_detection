{
 "cells": [
  {
   "cell_type": "markdown",
   "id": "80a2d78b-8253-4850-ad62-66b83b6496db",
   "metadata": {},
   "source": [
    "# Imports"
   ]
  },
  {
   "cell_type": "code",
   "execution_count": 1,
   "id": "23c37016-bf2d-4e33-b1f6-17e274e1ad39",
   "metadata": {},
   "outputs": [
    {
     "name": "stderr",
     "output_type": "stream",
     "text": [
      "D:\\Anaconda3\\envs\\nlp_torch\\Lib\\site-packages\\tqdm\\auto.py:21: TqdmWarning: IProgress not found. Please update jupyter and ipywidgets. See https://ipywidgets.readthedocs.io/en/stable/user_install.html\n",
      "  from .autonotebook import tqdm as notebook_tqdm\n"
     ]
    }
   ],
   "source": [
    "%run PII_Util.py"
   ]
  },
  {
   "cell_type": "code",
   "execution_count": 2,
   "id": "902f1340-860f-46ee-b5ca-64a243fb9e44",
   "metadata": {
    "tags": []
   },
   "outputs": [],
   "source": [
    "text_test = \"\"\"Meet Jane Doe, a brilliant student at XYZ University. She can be reached at jane.doe@email.com or through her phone number +1234567890. Jane resides at 123 Main Street, Cityville. Her student ID is 987654 and her personal website is www.janedoe.com. Connect with her on social media using the username @janedoe.\n",
    "\n",
    "Meanwhile, John Smith, another outstanding student, can be contacted at john.smith@email.com or at +9876543210. John lives at 456 Oak Avenue, Townsville. His student ID is 123456, and you can visit his personal blog at www.johnsmithblog.com. Follow him on Twitter with the handle @johnsmith123.\n",
    "\n",
    "For any inquiries about the university's programs, you can contact the administration office at admin@xyzuniversity.edu or call +5551234567. The office is located at 789 University Boulevard.\n",
    "\n",
    "Visit our official website at www.xyzuniversity.edu for more information on courses and admission procedures.\n",
    "\n",
    "\"\"\"\n"
   ]
  },
  {
   "cell_type": "code",
   "execution_count": 3,
   "id": "46bb50bc-e3f1-4658-b77f-814b8239bcfb",
   "metadata": {},
   "outputs": [
    {
     "data": {
      "text/plain": [
       "\"Meet Jane Doe, a brilliant student at XYZ University. She can be reached at jane.doe@email.com or through her phone number +1234567890. Jane resides at 123 Main Street, Cityville. Her student ID is 987654 and her personal website is www.janedoe.com. Connect with her on social media using the username @janedoe.\\n\\nMeanwhile, John Smith, another outstanding student, can be contacted at john.smith@email.com or at +9876543210. John lives at 456 Oak Avenue, Townsville. His student ID is 123456, and you can visit his personal blog at www.johnsmithblog.com. Follow him on Twitter with the handle @johnsmith123.\\n\\nFor any inquiries about the university's programs, you can contact the administration office at admin@xyzuniversity.edu or call +5551234567. The office is located at 789 University Boulevard.\\n\\nVisit our official website at www.xyzuniversity.edu for more information on courses and admission procedures.\\n\\n\""
      ]
     },
     "execution_count": 3,
     "metadata": {},
     "output_type": "execute_result"
    }
   ],
   "source": [
    "text_test"
   ]
  },
  {
   "cell_type": "markdown",
   "id": "d1caa91a-4e64-4ec6-a04b-8b045c1b70f3",
   "metadata": {},
   "source": [
    "# Data"
   ]
  },
  {
   "cell_type": "code",
   "execution_count": 4,
   "id": "84861e1a-1f73-4231-af84-6c6b3e038c82",
   "metadata": {},
   "outputs": [],
   "source": [
    "import pandas as pd\n",
    "from datasets import Dataset\n",
    "from datasets import load_dataset, load_from_disk"
   ]
  },
  {
   "cell_type": "code",
   "execution_count": 5,
   "id": "db7d3931-5090-4314-a90b-241f9c8550c2",
   "metadata": {},
   "outputs": [],
   "source": [
    "path_train = './in/train.json'\n",
    "path_test = './in/test.json'# Data"
   ]
  },
  {
   "cell_type": "code",
   "execution_count": 6,
   "id": "1b689e28-8ccc-4210-abe2-79df290f1206",
   "metadata": {},
   "outputs": [],
   "source": [
    "train_json = json.load(open(path_train))\n",
    "df_train = pd.json_normalize(train_json)\n",
    "\n",
    "test_json = json.load(open(path_test))\n",
    "df_test = pd.json_normalize(test_json)"
   ]
  },
  {
   "cell_type": "code",
   "execution_count": 7,
   "id": "0f983069-91d7-48d7-875d-499b96d07e37",
   "metadata": {},
   "outputs": [],
   "source": [
    "hf_dataset = Dataset.from_pandas(df_train)"
   ]
  },
  {
   "cell_type": "code",
   "execution_count": 87,
   "id": "6db3c848-a303-4163-86b2-394be8300ea3",
   "metadata": {
    "tags": []
   },
   "outputs": [
    {
     "name": "stderr",
     "output_type": "stream",
     "text": [
      "Map: 100%|█████████████████████████████████████████████████████████████████| 6807/6807 [01:06<00:00, 102.39 examples/s]\n"
     ]
    }
   ],
   "source": [
    "# preprocessed_datasets_2 = hf_dataset.map(tokenize_function, fn_kwargs={\"model_adapter\": model_adapter}, batched=False)\n",
    "preprocessed_dataset = load_from_disk(\"./in/preprocessed_dataset_2\")\n",
    "# preprocessed_dataset = load_from_disk(\"./in/tokenized_datasets\")"
   ]
  },
  {
   "cell_type": "markdown",
   "id": "d47cbb93-8c09-456b-9745-707e5126f2b9",
   "metadata": {
    "tags": []
   },
   "source": [
    "### Split"
   ]
  },
  {
   "cell_type": "code",
   "execution_count": 14,
   "id": "e70cbfad-3755-4e6d-8a9d-5bd31ecad36f",
   "metadata": {},
   "outputs": [],
   "source": [
    "# preprocessed_dataset = load_from_disk(\"./in/tokenized_datasets\")"
   ]
  },
  {
   "cell_type": "code",
   "execution_count": 15,
   "id": "56d8ee55-d6ba-4dca-8fcd-b5b5510f0805",
   "metadata": {},
   "outputs": [],
   "source": [
    "# dataset_filtered = preprocessed_dataset.remove_columns(list_remove)\n",
    "# dataset_filtered = preprocessed_dataset"
   ]
  },
  {
   "cell_type": "code",
   "execution_count": 4,
   "id": "f04e94f9-d568-4db3-bde1-47fbbbb71e31",
   "metadata": {},
   "outputs": [
    {
     "ename": "NameError",
     "evalue": "name 'hf_dataset' is not defined",
     "output_type": "error",
     "traceback": [
      "\u001b[1;31m---------------------------------------------------------------------------\u001b[0m",
      "\u001b[1;31mNameError\u001b[0m                                 Traceback (most recent call last)",
      "Cell \u001b[1;32mIn[4], line 1\u001b[0m\n\u001b[1;32m----> 1\u001b[0m train_size \u001b[38;5;241m=\u001b[39m \u001b[38;5;28mint\u001b[39m(\u001b[38;5;241m0.8\u001b[39m \u001b[38;5;241m*\u001b[39m \u001b[38;5;28mlen\u001b[39m(\u001b[43mhf_dataset\u001b[49m))\n\u001b[0;32m      2\u001b[0m eval_size \u001b[38;5;241m=\u001b[39m \u001b[38;5;28mlen\u001b[39m(hf_dataset) \u001b[38;5;241m-\u001b[39m train_size\n\u001b[0;32m      3\u001b[0m \u001b[38;5;66;03m# train_dataset, eval_dataset = preprocessed_dataset.train_test_split(test_size=eval_size)\u001b[39;00m\n\u001b[0;32m      4\u001b[0m \u001b[38;5;66;03m# list_remove = ['labels']\u001b[39;00m\n",
      "\u001b[1;31mNameError\u001b[0m: name 'hf_dataset' is not defined"
     ]
    }
   ],
   "source": [
    "train_size = int(0.8 * len(hf_dataset))\n",
    "eval_size = len(hf_dataset) - train_size\n",
    "# train_dataset, eval_dataset = preprocessed_dataset.train_test_split(test_size=eval_size)\n",
    "# list_remove = ['labels']\n",
    "\n",
    "split_datasets = preprocessed_dataset.train_test_split(test_size=eval_size, seed = 42)\n",
    "train_dataset = split_datasets['train']\n",
    "eval_dataset = split_datasets['test']"
   ]
  },
  {
   "cell_type": "markdown",
   "id": "6d585ed6-da79-4f23-9cd7-8b3b6f3facfd",
   "metadata": {
    "tags": []
   },
   "source": [
    "# Trainer API"
   ]
  },
  {
   "cell_type": "markdown",
   "id": "8900187d-5b46-4f19-9ef2-4f7ee2d09bb6",
   "metadata": {},
   "source": [
    "## Instantiate"
   ]
  },
  {
   "cell_type": "code",
   "execution_count": 103,
   "id": "1ec1d4a2-dcc9-415b-a363-75738aed27a4",
   "metadata": {},
   "outputs": [
    {
     "name": "stdout",
     "output_type": "stream",
     "text": [
      "CPU times: total: 11 s\n",
      "Wall time: 6.32 s\n"
     ]
    }
   ],
   "source": [
    "%%time\n",
    "model_adapter = Yanis_Adapter(threshold = 0.1, checkpoint_path='./fine_tuned/yanis/yanis_01')\n",
    "model = model_adapter.model\n",
    "# text = text_test\n",
    "# text = df_train.loc[0].full_text\n",
    "# labels_true = df_train.loc[0].labels\n",
    "# threshold = 0.1"
   ]
  },
  {
   "cell_type": "code",
   "execution_count": 104,
   "id": "43087d8d-d43b-4652-8097-862491f1d2f2",
   "metadata": {},
   "outputs": [
    {
     "data": {
      "text/plain": [
       "{'B-EMAIL': 1,\n",
       " 'B-ID_NUM': 2,\n",
       " 'B-NAME_STUDENT': 3,\n",
       " 'B-PHONE_NUM': 4,\n",
       " 'B-STREET_ADDRESS': 5,\n",
       " 'B-URL_PERSONAL': 6,\n",
       " 'B-USERNAME': 7,\n",
       " 'I-ID_NUM': 8,\n",
       " 'I-NAME_STUDENT': 9,\n",
       " 'I-PHONE_NUM': 10,\n",
       " 'I-STREET_ADDRESS': 11,\n",
       " 'I-URL_PERSONAL': 12,\n",
       " 'O': 0}"
      ]
     },
     "execution_count": 104,
     "metadata": {},
     "output_type": "execute_result"
    }
   ],
   "source": [
    "model_adapter.model.config.label2id"
   ]
  },
  {
   "cell_type": "code",
   "execution_count": 12,
   "id": "897c0f00-9260-4652-9137-d141e59df325",
   "metadata": {},
   "outputs": [],
   "source": [
    "checkpoint_path='./fine_tuned/yanis/checkpoint-3000', "
   ]
  },
  {
   "cell_type": "code",
   "execution_count": 13,
   "id": "dcaf2185-2f4e-40e9-ab31-54afa63a1992",
   "metadata": {},
   "outputs": [
    {
     "ename": "SyntaxError",
     "evalue": "invalid syntax (4100104826.py, line 1)",
     "output_type": "error",
     "traceback": [
      "\u001b[1;36m  Cell \u001b[1;32mIn[13], line 1\u001b[1;36m\u001b[0m\n\u001b[1;33m    model_adapter.\u001b[0m\n\u001b[1;37m                  ^\u001b[0m\n\u001b[1;31mSyntaxError\u001b[0m\u001b[1;31m:\u001b[0m invalid syntax\n"
     ]
    }
   ],
   "source": [
    "model_adapter."
   ]
  },
  {
   "cell_type": "code",
   "execution_count": null,
   "id": "39ce56c3-2263-4da0-9e8d-5e648eafa6a4",
   "metadata": {},
   "outputs": [],
   "source": [
    "model_adapter.model.config.num_labels"
   ]
  },
  {
   "cell_type": "markdown",
   "id": "737c783b-6536-46e3-8b03-6a948ca62f2c",
   "metadata": {
    "tags": []
   },
   "source": [
    "# Results Analysis"
   ]
  },
  {
   "cell_type": "code",
   "execution_count": 20,
   "id": "9cf7efd9-96bf-4462-b3f8-192bd20f72e8",
   "metadata": {},
   "outputs": [],
   "source": [
    "from datasets import load_dataset, load_from_disk\n",
    "from collections import Counter\n",
    "import functools"
   ]
  },
  {
   "cell_type": "code",
   "execution_count": 15,
   "id": "85404695-0e4b-4a86-a28b-45728df6aa90",
   "metadata": {},
   "outputs": [
    {
     "name": "stdout",
     "output_type": "stream",
     "text": [
      "CPU times: total: 0 ns\n",
      "Wall time: 0 ns\n"
     ]
    }
   ],
   "source": [
    "%%time\n",
    "def pad_lists(lst, pad_value, max_length = None):\n",
    "    if max_length is None:\n",
    "        max_length = max(len(sublist) for sublist in lst)\n",
    "    padded_lst = np.full((len(lst), max_length), pad_value)\n",
    "    for i, sublist in enumerate(lst):\n",
    "        padded_lst[i, :len(sublist)] = sublist\n",
    "    return padded_lst\n",
    "\n",
    "# Example list of lists with varying lengths\n",
    "# list_of_lists = [[1, 2, 3], [4, 5], [6], [7, 8, 9, 10]]\n",
    "\n",
    "# # Padding value\n",
    "# pad_value = -100\n",
    "\n",
    "# # Convert to numpy array with padding\n",
    "# padded_array = pad_lists(tokenized_datasets['labels'], pad_value)\n",
    "# padded_array.shape"
   ]
  },
  {
   "cell_type": "code",
   "execution_count": 16,
   "id": "1246dad0-584f-4b64-9a42-c6b38facd583",
   "metadata": {},
   "outputs": [
    {
     "name": "stdout",
     "output_type": "stream",
     "text": [
      "CPU times: total: 31.2 ms\n",
      "Wall time: 33 ms\n"
     ]
    }
   ],
   "source": [
    "%%time\n",
    "# preprocessed_dataset = load_from_disk(\"./in/tokenized_datasets\")"
   ]
  },
  {
   "cell_type": "code",
   "execution_count": 17,
   "id": "6ccab7e2-10a2-4904-a933-dc2ca3b41295",
   "metadata": {},
   "outputs": [
    {
     "name": "stdout",
     "output_type": "stream",
     "text": [
      "CPU times: total: 609 ms\n",
      "Wall time: 14.9 s\n"
     ]
    }
   ],
   "source": [
    "%%time\n",
    "loaded_predictions = np.load(\"./in/preds02.npy\")"
   ]
  },
  {
   "cell_type": "code",
   "execution_count": 39,
   "id": "8c11c689-c019-4d54-ac08-dc1641c751fc",
   "metadata": {
    "tags": []
   },
   "outputs": [],
   "source": [
    "# def compute_metrics_base(eval_preds, model_adapter, threshold = 0.1):\n",
    "    \n",
    "#     # -- Temp\n",
    "#     global eval_preds_copy\n",
    "#     eval_preds_copy = eval_preds\n",
    "#     # -- Temp\n",
    "    \n",
    "    \n",
    "#     np_probs, true_labels_id, inputs = eval_preds\n",
    "# #     logits, true_labels_id = eval_preds\n",
    "# #     np_probs = np.argmax(logits, axis=-1)\n",
    "# #     tokens = inputs.tokens()\n",
    "\n",
    "#     label2id =  model_adapter.model.config.label2id\n",
    "#     o_index = label2id['O']\n",
    "\n",
    "#     np_sorted_indices = np.argsort(np_probs)\n",
    "#     np_max_indices = np_sorted_indices[:,:, -1]\n",
    "#     # np_max = np_sorted_indices[np.arange(np_max_indices.shape[0]), np_max_indices]\n",
    "#     np_max_prob = np.take_along_axis(np_probs, np_max_indices[:, :, np.newaxis], axis=2).squeeze()\n",
    "\n",
    "#     np_2nd_max_indices = np_sorted_indices[:, :, -2]\n",
    "#     # np_2nd_max = np_sorted_indices[np.arange(np_sorted_indices.shape[0]), np_max_indices]\n",
    "#     np_2nd_max_prob = np.take_along_axis(np_probs, np_2nd_max_indices[:, :, np.newaxis], axis=2).squeeze()\n",
    "\n",
    "#     np_O_mask = np_max_indices == o_index\n",
    "#     np_threshold_mask = np_2nd_max_prob > threshold\n",
    "\n",
    "#     np_replace_mask = np_threshold_mask & np_O_mask\n",
    "\n",
    "#     np_label_ids = np.where(np_replace_mask, np_2nd_max_indices, np_max_indices)\n",
    "\n",
    "#     flat_label_ids = np_label_ids.flatten()\n",
    "#     flat_true_labels_id = true_labels_id.flatten()\n",
    "\n",
    "#     # Postprocess labels, convert irrelevant labels to 'O'\n",
    "#     np_labels_irrelevant = np.array(model_adapter.labels_irrelevant)\n",
    "#     flat_label_ids_mask = np.isin(flat_label_ids, np_labels_irrelevant)\n",
    "#     flat_label_ids[flat_label_ids_mask] = o_index\n",
    "\n",
    "#     # Also remove paddings\n",
    "#     mask_padding_inv = flat_true_labels_id != -100\n",
    "#     flat_true_labels_id = flat_true_labels_id[mask_padding_inv]\n",
    "#     flat_label_ids = flat_label_ids[mask_padding_inv]\n",
    "\n",
    "#     dict_scores = {}\n",
    "\n",
    "#     f1_score = METRIC_F1.compute(predictions=flat_label_ids, references=flat_true_labels_id, labels=classes_pos_id, average ='micro')\n",
    "#     f_beta_score = fbeta_score(y_true = flat_true_labels_id, y_pred = flat_label_ids , labels = classes_pos_id,beta=5, average='micro')\n",
    "#     precision = METRIC_PRECISION.compute(predictions=flat_label_ids, references=flat_true_labels_id,labels=classes_pos_id, average ='micro')\n",
    "#     recall = METRIC_RECALL.compute(predictions=flat_label_ids, references=flat_true_labels_id,labels=classes_pos_id, average ='micro')\n",
    "\n",
    "#     for score in [f1_score, precision, recall]:\n",
    "#         dict_scores.update(score) \n",
    "\n",
    "#     dict_scores['f_beta'] = f_beta_score\n",
    "\n",
    "#     return dict_scores\n"
   ]
  },
  {
   "cell_type": "code",
   "execution_count": 21,
   "id": "1601e830-501c-4fb8-95df-e1dcf8c3ef87",
   "metadata": {},
   "outputs": [],
   "source": [
    "compute_metrics = functools.partial(compute_metrics_base, model_adapter=model_adapter, threshold=0.1)"
   ]
  },
  {
   "cell_type": "markdown",
   "id": "e087e66d-282f-4a79-bc94-d29b1b0a56f7",
   "metadata": {
    "tags": []
   },
   "source": [
    "## Trainer API"
   ]
  },
  {
   "cell_type": "code",
   "execution_count": 25,
   "id": "70f33c86-ab31-459b-a683-30953337ca67",
   "metadata": {},
   "outputs": [
    {
     "name": "stdout",
     "output_type": "stream",
     "text": [
      "CPU times: total: 3.88 s\n",
      "Wall time: 3.88 s\n"
     ]
    }
   ],
   "source": [
    "%%time\n",
    "labels_padded = pad_lists(preprocessed_dataset['labels'], -100, loaded_predictions.shape[1])"
   ]
  },
  {
   "cell_type": "code",
   "execution_count": 92,
   "id": "953c43f1-a47d-4a45-ad7d-d0af64854095",
   "metadata": {},
   "outputs": [],
   "source": [
    "labels_padded_old = labels_padded\n",
    "labels_padded = labels_padded_2"
   ]
  },
  {
   "cell_type": "code",
   "execution_count": 88,
   "id": "ecdaf81c-e1d2-4cb0-8870-da0afeb34c87",
   "metadata": {},
   "outputs": [
    {
     "name": "stdout",
     "output_type": "stream",
     "text": [
      "CPU times: total: 3.91 s\n",
      "Wall time: 3.92 s\n"
     ]
    }
   ],
   "source": [
    "%%time\n",
    "labels_padded_2 = pad_lists(preprocessed_datasets_2['labels'], -100, loaded_predictions.shape[1])"
   ]
  },
  {
   "cell_type": "code",
   "execution_count": null,
   "id": "fef3aa06-3a27-487b-8381-ab6aa4a527ea",
   "metadata": {},
   "outputs": [],
   "source": [
    "%%time\n",
    "list_word_ids = [[word_id if word_id is not None else -100 for word_id in word_ids] for word_ids in preprocessed_dataset['word_ids'] ]\n",
    "word_ids_padded = pad_lists(list_word_ids, -100,  loaded_predictions.shape[1])"
   ]
  },
  {
   "cell_type": "code",
   "execution_count": 135,
   "id": "4c2f12a8-2775-4170-b48c-00b086067fd4",
   "metadata": {},
   "outputs": [
    {
     "name": "stdout",
     "output_type": "stream",
     "text": [
      "CPU times: total: 2.19 s\n",
      "Wall time: 2.2 s\n"
     ]
    }
   ],
   "source": [
    "%%time\n",
    "\n",
    "def run():\n",
    "    \n",
    "    np_probs = loaded_predictions\n",
    "    true_labels_id = labels_padded\n",
    "    threshold = 0.01\n",
    "    \n",
    "    # --- Initialize variables\n",
    "    label2id =  model_adapter.model.config.label2id\n",
    "    o_index = label2id['O']\n",
    "\n",
    "    # --- Get indices of highest probabilities\n",
    "    np_sorted_indices = np.argsort(np_probs)\n",
    "    np_max_indices = np_sorted_indices[:,:, -1]\n",
    "    # np_max = np_sorted_indices[np.arange(np_max_indices.shape[0]), np_max_indices]\n",
    "    np_max_prob = np.take_along_axis(np_probs, np_max_indices[:, :, np.newaxis], axis=2).squeeze()\n",
    "\n",
    "    \n",
    "    # --- Get 2nd max probabilities\n",
    "    np_2nd_max_indices = np_sorted_indices[:, :, -2]\n",
    "    # np_2nd_max = np_sorted_indices[np.arange(np_sorted_indices.shape[0]), np_max_indices]\n",
    "    np_2nd_max_prob = np.take_along_axis(np_probs, np_2nd_max_indices[:, :, np.newaxis], axis=2).squeeze()\n",
    "\n",
    "    # --- Coniditional replace (Positive label thresholding)\n",
    "    \n",
    "    #Masks\n",
    "    np_O_mask = np_max_indices == o_index\n",
    "    np_threshold_mask = np_2nd_max_prob > threshold\n",
    "    np_replace_mask = np_threshold_mask & np_O_mask\n",
    "\n",
    "    #Replace\n",
    "    np_label_ids = np.where(np_replace_mask, np_2nd_max_indices, np_max_indices)\n",
    "\n",
    "\n",
    "    # Postprocess labels, convert irrelevant labels to 'O'\n",
    "#     np_labels_irrelevant = np.array(model_adapter.labels_irrelevant)\n",
    "#     label_ids_mask = np.isin(np_label_ids, np_labels_irrelevant)\n",
    "#     np_label_ids[label_ids_mask] = o_index\n",
    "\n",
    "    # Flatten token(subwords) for metrics\n",
    "    flat_label_ids = np_label_ids.flatten()\n",
    "    flat_true_labels_id = true_labels_id.flatten()\n",
    "\n",
    "    # Remove padding preds for metrics\n",
    "    mask_padding_inv = flat_true_labels_id != -100\n",
    "    flat_true_labels_id = flat_true_labels_id[mask_padding_inv]\n",
    "    flat_label_ids = flat_label_ids[mask_padding_inv]\n",
    "    \n",
    "    return np_label_ids, flat_true_labels_id, flat_label_ids\n",
    "\n",
    "np_label_ids, flat_true_labels_id, flat_label_ids = run()\n"
   ]
  },
  {
   "cell_type": "markdown",
   "id": "3f91d3f7-ca66-4efa-9470-fdc2c4506883",
   "metadata": {},
   "source": [
    "## Start Debug"
   ]
  },
  {
   "cell_type": "code",
   "execution_count": 54,
   "id": "bfb6d4bc-7fcc-495d-b13a-53cb3643ef05",
   "metadata": {},
   "outputs": [],
   "source": [
    "temp_indices = np.where(np_label_ids != 0)"
   ]
  },
  {
   "cell_type": "code",
   "execution_count": null,
   "id": "d2779510-55a2-48de-af5f-fac9e3b16e97",
   "metadata": {},
   "outputs": [],
   "source": [
    "classes2id"
   ]
  },
  {
   "cell_type": "code",
   "execution_count": 55,
   "id": "5857c70a-02eb-4ae8-a390-fdcd7f55cf10",
   "metadata": {},
   "outputs": [
    {
     "data": {
      "text/plain": [
       "(array([ 0,  2,  3,  6,  9, 12], dtype=int64),\n",
       " array([ 4727968,      226,     4285,     1889,     3987, 16172749],\n",
       "       dtype=int64))"
      ]
     },
     "execution_count": 55,
     "metadata": {},
     "output_type": "execute_result"
    }
   ],
   "source": [
    "np.unique(np_label_ids, return_counts=True)"
   ]
  },
  {
   "cell_type": "code",
   "execution_count": 57,
   "id": "8197a072-4ca7-480f-b4d2-e75f55f3c1c7",
   "metadata": {},
   "outputs": [
    {
     "data": {
      "text/plain": [
       "(array([ 0,  3,  9, 12], dtype=int64),\n",
       " array([ 703,    5,   10, 2354], dtype=int64))"
      ]
     },
     "execution_count": 57,
     "metadata": {},
     "output_type": "execute_result"
    }
   ],
   "source": [
    "np.unique(np_label_ids[0], return_counts=True)"
   ]
  },
  {
   "cell_type": "code",
   "execution_count": 76,
   "id": "5d2d6d0e-4985-4c4e-9c3d-ff4c6374a6fd",
   "metadata": {},
   "outputs": [],
   "source": [
    "temp_indices = np.where((np_label_ids[0] == labels_padded[0]) & (labels_padded[0] != 0))"
   ]
  },
  {
   "cell_type": "code",
   "execution_count": 75,
   "id": "ee1aa897-040b-4caa-bed1-ec477532bb08",
   "metadata": {},
   "outputs": [
    {
     "data": {
      "text/plain": [
       "(array([  11,   12,   13, ..., 3069, 3070, 3071], dtype=int64),)"
      ]
     },
     "execution_count": 75,
     "metadata": {},
     "output_type": "execute_result"
    }
   ],
   "source": [
    "np.where(labels_padded[0] != 0)"
   ]
  },
  {
   "cell_type": "code",
   "execution_count": null,
   "id": "a4fecca8-950d-47de-b0d4-b68da032ec2f",
   "metadata": {},
   "outputs": [],
   "source": []
  },
  {
   "cell_type": "code",
   "execution_count": 78,
   "id": "4fb232f9-7691-4e3e-93e8-740e632e659f",
   "metadata": {},
   "outputs": [
    {
     "data": {
      "text/plain": [
       "(array([  11,   12,   13, ..., 3069, 3070, 3071], dtype=int64),)"
      ]
     },
     "execution_count": 78,
     "metadata": {},
     "output_type": "execute_result"
    }
   ],
   "source": [
    "np.where(np_label_ids[0] != 0)"
   ]
  },
  {
   "cell_type": "code",
   "execution_count": 83,
   "id": "599e23a5-56ca-4a02-bf84-f1802b746a07",
   "metadata": {},
   "outputs": [
    {
     "data": {
      "text/plain": [
       "{'O': 0,\n",
       " 'B-EMAIL': 1,\n",
       " 'B-ID_NUM': 2,\n",
       " 'B-NAME_STUDENT': 3,\n",
       " 'B-PHONE_NUM': 4,\n",
       " 'B-STREET_ADDRESS': 5,\n",
       " 'B-URL_PERSONAL': 6,\n",
       " 'B-USERNAME': 7,\n",
       " 'I-ID_NUM': 8,\n",
       " 'I-NAME_STUDENT': 9,\n",
       " 'I-PHONE_NUM': 10,\n",
       " 'I-STREET_ADDRESS': 11,\n",
       " 'I-URL_PERSONAL': 12}"
      ]
     },
     "execution_count": 83,
     "metadata": {},
     "output_type": "execute_result"
    }
   ],
   "source": [
    "classes2id"
   ]
  },
  {
   "cell_type": "code",
   "execution_count": 91,
   "id": "6bf483c6-ce21-48be-af9c-2689b0ce4efa",
   "metadata": {},
   "outputs": [
    {
     "data": {
      "text/plain": [
       "3"
      ]
     },
     "execution_count": 91,
     "metadata": {},
     "output_type": "execute_result"
    }
   ],
   "source": [
    "labels_padded_2[0][11]"
   ]
  },
  {
   "cell_type": "code",
   "execution_count": 90,
   "id": "5e349f85-87ff-4d2b-9a86-2b35a583e9dc",
   "metadata": {},
   "outputs": [
    {
     "data": {
      "text/plain": [
       "2"
      ]
     },
     "execution_count": 90,
     "metadata": {},
     "output_type": "execute_result"
    }
   ],
   "source": [
    "labels_padded[0][11]"
   ]
  },
  {
   "cell_type": "code",
   "execution_count": 80,
   "id": "b870fc2b-a7cc-4559-bb88-54a633fb80cf",
   "metadata": {},
   "outputs": [
    {
     "data": {
      "text/plain": [
       "3"
      ]
     },
     "execution_count": 80,
     "metadata": {},
     "output_type": "execute_result"
    }
   ],
   "source": [
    "np_label_ids[0][11]"
   ]
  },
  {
   "cell_type": "code",
   "execution_count": 74,
   "id": "fb9f1f9e-65da-44fc-8c9a-258e24e6c9a3",
   "metadata": {},
   "outputs": [
    {
     "data": {
      "text/plain": [
       "0"
      ]
     },
     "execution_count": 74,
     "metadata": {},
     "output_type": "execute_result"
    }
   ],
   "source": [
    "labels_padded[0][0]"
   ]
  },
  {
   "cell_type": "code",
   "execution_count": 77,
   "id": "8ed601c5-a9f0-4b8e-82f3-efe04e1a31ce",
   "metadata": {},
   "outputs": [
    {
     "data": {
      "text/plain": [
       "(array([], dtype=int64),)"
      ]
     },
     "execution_count": 77,
     "metadata": {},
     "output_type": "execute_result"
    }
   ],
   "source": [
    "temp_indices"
   ]
  },
  {
   "cell_type": "code",
   "execution_count": 71,
   "id": "9d1e9808-ce1c-4a94-909b-28cb13f8472f",
   "metadata": {},
   "outputs": [
    {
     "data": {
      "text/plain": [
       "703"
      ]
     },
     "execution_count": 71,
     "metadata": {},
     "output_type": "execute_result"
    }
   ],
   "source": [
    "len(temp_indices[0])"
   ]
  },
  {
   "cell_type": "code",
   "execution_count": 56,
   "id": "d738f079-e605-4891-bc37-73994206053d",
   "metadata": {},
   "outputs": [
    {
     "data": {
      "text/plain": [
       "array([ 0,  0,  0, ..., 12, 12, 12], dtype=int64)"
      ]
     },
     "execution_count": 56,
     "metadata": {},
     "output_type": "execute_result"
    }
   ],
   "source": [
    "np_label_ids[0]"
   ]
  },
  {
   "cell_type": "code",
   "execution_count": 92,
   "id": "b397946d-6aee-4a14-b8da-975b094bedc9",
   "metadata": {},
   "outputs": [
    {
     "data": {
      "text/plain": [
       "(6807, 3072)"
      ]
     },
     "execution_count": 92,
     "metadata": {},
     "output_type": "execute_result"
    }
   ],
   "source": [
    "np_label_ids.shape"
   ]
  },
  {
   "cell_type": "code",
   "execution_count": 93,
   "id": "a7f798bc-13c0-42d4-b61d-2b2615b5c268",
   "metadata": {
    "collapsed": true,
    "jupyter": {
     "outputs_hidden": true
    },
    "tags": []
   },
   "outputs": [
    {
     "data": {
      "text/plain": [
       "Dataset({\n",
       "    features: ['document', 'full_text', 'tokens', 'trailing_whitespace', 'labels', 'input_ids', 'attention_mask', 'words', 'word_labels', 'word_ids'],\n",
       "    num_rows: 6807\n",
       "})"
      ]
     },
     "execution_count": 93,
     "metadata": {},
     "output_type": "execute_result"
    }
   ],
   "source": [
    "preprocessed_dataset"
   ]
  },
  {
   "cell_type": "code",
   "execution_count": 105,
   "id": "360d93af-7187-4a3b-8de7-97d0ea58d996",
   "metadata": {
    "tags": []
   },
   "outputs": [
    {
     "name": "stdout",
     "output_type": "stream",
     "text": [
      "CPU times: total: 42.5 s\n",
      "Wall time: 44 s\n"
     ]
    }
   ],
   "source": [
    "%%time\n",
    "def run():\n",
    "    \n",
    "    #Hardcoded:\n",
    "     # preprocessed_dataset\n",
    "\n",
    "    pred_tokens = np_label_ids\n",
    "    #Exclude beginning [CLS] Token \n",
    "    #Also excludes end padding tokens by not appending row size (?)\n",
    "    row_size = word_ids_padded.shape[1]\n",
    "    # diff_array = np.diff(word_ids_padded[:,:], axis=1)\n",
    "    diff_array = np.diff(word_ids_padded[:,:], axis=1, append=row_size)\n",
    "\n",
    "    #Calculate row boundaries\n",
    "    non_zero = np.where(diff_array != 0, 1, 0) # Orig\n",
    "    # non_zero = np.where(diff_array > 0, 1, 0)  # Changed\n",
    "    group_ids = np.cumsum(non_zero, axis=1) # Orig\n",
    "    # group_ids = np.cumsum(non_zero, axis=1) + 1 # + 1 because x diffs = x+1 groups\n",
    "    row_boundaries = np.cumsum(group_ids.max(axis = 1))\n",
    "    # row_boundaries = np.cumsum(group_ids.max(axis = 1)) + 1\n",
    "\n",
    "    #Calculate splits, split into groups, Truncate > 10\n",
    "    split_indices =  np.where(diff_array.ravel() != 0)[0] + 1 # Orig\n",
    "    # split_indices =  np.where(diff_array.ravel() > 0)[0] + 1\n",
    "    # list_groups = np.split(pred_tokens.ravel(), split_indices)\n",
    "    list_groups = np.split(pred_tokens[:,:].ravel(), split_indices)\n",
    "    list_groups = [group[:10] if len(group) >= 10 else group for group in list_groups]\n",
    "\n",
    "    #30s Calculate modes per group\n",
    "    word_labels = [Counter(arr.tolist()).most_common(1)[0][0] if len(arr) > 0 else None for arr in list_groups]\n",
    "\n",
    "    #Fast (split into rows)\n",
    "    np_word_labels = np.array(word_labels)\n",
    "    list_pred_incomp = np.split(np_word_labels, row_boundaries)\n",
    "\n",
    "    #10s Initialize row arrays for word-level predictions\n",
    "    list_pred_words = [np.full((len(words)), model_adapter.O_id, dtype='int8') for words in preprocessed_dataset['words']]\n",
    "\n",
    "    #5s #Get word_indices not skipped in word_ids\n",
    "    list_word_indices = []\n",
    "    for word_ids in preprocessed_dataset['word_ids']:\n",
    "        indices = set(word_ids)\n",
    "        indices.discard(None)\n",
    "        list_word_indices.append(np.array(list(indices)))\n",
    "\n",
    "    #200ms Align the processed word-level predictions to initialized array\n",
    "    for pred_words, word_indices, pred_incomp in zip(list_pred_words, list_word_indices, list_pred_incomp):\n",
    "        pred_words[word_indices] = pred_incomp[1:-1]\n",
    "        \n",
    "    return list_pred_words\n",
    "\n",
    "list_pred_words = run()"
   ]
  },
  {
   "cell_type": "code",
   "execution_count": 43,
   "id": "bb6117d5-d17b-422e-aaa9-11180acbdd80",
   "metadata": {},
   "outputs": [
    {
     "data": {
      "text/plain": [
       "2620"
      ]
     },
     "execution_count": 43,
     "metadata": {},
     "output_type": "execute_result"
    }
   ],
   "source": [
    "import gc\n",
    "del loaded_predictions\n",
    "gc.collect()"
   ]
  },
  {
   "cell_type": "code",
   "execution_count": 44,
   "id": "145b5389-4179-4ddc-99a1-c08bb06d7df9",
   "metadata": {},
   "outputs": [
    {
     "ename": "NameError",
     "evalue": "name 'bytes_to_readable_format' is not defined",
     "output_type": "error",
     "traceback": [
      "\u001b[1;31m---------------------------------------------------------------------------\u001b[0m",
      "\u001b[1;31mNameError\u001b[0m                                 Traceback (most recent call last)",
      "Cell \u001b[1;32mIn[44], line 1\u001b[0m\n\u001b[1;32m----> 1\u001b[0m \u001b[43mbytes_to_readable_format\u001b[49m(asizeof\u001b[38;5;241m.\u001b[39masizeof(list_pred_words))\n",
      "\u001b[1;31mNameError\u001b[0m: name 'bytes_to_readable_format' is not defined"
     ]
    }
   ],
   "source": [
    "bytes_to_readable_format(asizeof.asizeof(list_pred_words))"
   ]
  },
  {
   "cell_type": "markdown",
   "id": "b9d7f2b0-d7b2-4214-9203-7cd8e6472283",
   "metadata": {},
   "source": [
    "# To BIO"
   ]
  },
  {
   "cell_type": "code",
   "execution_count": 45,
   "id": "e76bff0c-f7f1-4646-aae2-efaad73a3cdc",
   "metadata": {},
   "outputs": [],
   "source": [
    "np_entity_id2class_id_b = np.array([class_dict[0] for class_dict  in entity_id2class_id.values()])\n",
    "np_entity_id2class_id_i = np.array([class_dict[1] for class_dict  in entity_id2class_id.values()])"
   ]
  },
  {
   "cell_type": "code",
   "execution_count": 106,
   "id": "f6efe47f-43da-4ed0-9f38-b6abda5f0d9d",
   "metadata": {},
   "outputs": [],
   "source": [
    "def to_bio_vect(np_pred_words, np_model_id2cur_entity_id):\n",
    "#     global cumsum, out, zeros, change_indices, accumulate, diff_array, b_mask_indices, i_mask_indices, b_words, i_words, b_words_mapped, i_words_mapped\n",
    "    \n",
    "    np_pred_words = np_model_id2cur_entity_id[np_pred_words]\n",
    "    \n",
    "    row_size = np_pred_words.shape[0]\n",
    "    diff_array = np.diff(np_pred_words, axis=0, prepend=-1)\n",
    "    change_indices = np.where(diff_array!=0, 0, 1)\n",
    "    zeros = change_indices == 0 #reverse of change_indices\n",
    "    cumsum = np.cumsum(change_indices, axis=0)\n",
    "    accumulate = np.maximum.accumulate(np.where(zeros, cumsum, 0), axis=0)\n",
    "    out = cumsum - accumulate\n",
    "    b_mask = out == 0\n",
    "    b_mask_indices = np.where(b_mask)\n",
    "    i_mask_indices = np.where(~b_mask)\n",
    "    \n",
    "    np_pred_words_mapped = np.empty_like(np_pred_words)\n",
    "    \n",
    "    b_words = np_pred_words[b_mask_indices]\n",
    "    i_words = np_pred_words[i_mask_indices]\n",
    "    \n",
    "    b_words_mapped = np_entity_id2class_id_b[b_words]\n",
    "    i_words_mapped = np_entity_id2class_id_i[i_words]\n",
    "    \n",
    "    np_pred_words_mapped[b_mask_indices] = b_words_mapped\n",
    "    np_pred_words_mapped[i_mask_indices] = i_words_mapped\n",
    "    \n",
    "    return np_pred_words_mapped\n",
    "\n"
   ]
  },
  {
   "cell_type": "code",
   "execution_count": 107,
   "id": "4d8b3172-302d-48a1-affe-7ec783592321",
   "metadata": {},
   "outputs": [
    {
     "data": {
      "text/plain": [
       "{0: [0, 0],\n",
       " 1: [1, 1],\n",
       " 2: [2, 8],\n",
       " 3: [3, 9],\n",
       " 4: [4, 10],\n",
       " 5: [5, 11],\n",
       " 6: [6, 12],\n",
       " 7: [7, 7]}"
      ]
     },
     "execution_count": 107,
     "metadata": {},
     "output_type": "execute_result"
    }
   ],
   "source": [
    "entity_id2class_id"
   ]
  },
  {
   "cell_type": "code",
   "execution_count": 108,
   "id": "9c6f84fc-7687-4450-9d0a-8b931efae1fb",
   "metadata": {},
   "outputs": [],
   "source": [
    "class_entity_sorted = sorted([(v,k) for k, values in entity_id2class_id.items() for v in values])\n",
    "class_id2entity_id = {k:v for k,v in  class_entity_sorted}\n",
    "np_class_id2entity_id = np.array([entity for entity in class_id2entity_id.values()])"
   ]
  },
  {
   "cell_type": "markdown",
   "id": "61dd7f9d-80ac-429a-97db-0466f7ee63f8",
   "metadata": {},
   "source": [
    "# Visualization"
   ]
  },
  {
   "cell_type": "code",
   "execution_count": 115,
   "id": "ce4d5621-5529-4e9f-a1ab-40c79fb8f3ca",
   "metadata": {},
   "outputs": [
    {
     "name": "stdout",
     "output_type": "stream",
     "text": [
      "CPU times: total: 922 ms\n",
      "Wall time: 900 ms\n"
     ]
    }
   ],
   "source": [
    "%%time\n",
    "\n",
    "i_cur = 6807 - 5\n",
    "i_cur = 0\n",
    "\n",
    "model = model_adapter.model\n",
    "nlp = spacy.load(\"en_core_web_sm\")\n",
    "\n",
    "cur_sample = preprocessed_dataset[i_cur]\n",
    "\n",
    "cur_pred_ids = list_pred_words[i_cur]\n",
    "cur_text = cur_sample['full_text']\n",
    "cur_label_words = cur_sample['word_labels']\n",
    "cur_pred_words = [model.config.id2label[e] for e in cur_pred_ids]\n",
    "\n",
    "cur_words = cur_sample['words']\n",
    "\n",
    "\n",
    "#For comparisons only\n",
    "cur_tokens = cur_sample['tokens']\n",
    "cur_word_ids = cur_sample['word_ids']\n",
    "# cur_group = list_groups[i_cur]\n",
    "# cur_word_indices = list_word_indices[i_cur]\n",
    "# cur_pred_incomp = list_pred_incomp[i_cur]\n",
    "\n",
    "\n",
    "doc = nlp(cur_text)\n"
   ]
  },
  {
   "cell_type": "markdown",
   "id": "0b7c0ec6-d792-4338-b39e-72f548c7a973",
   "metadata": {},
   "source": [
    "## First sample"
   ]
  },
  {
   "cell_type": "code",
   "execution_count": 110,
   "id": "c8e6a60f-0abd-4ab7-b01d-a484eff590bf",
   "metadata": {},
   "outputs": [],
   "source": [
    "cur_tokens = cur_sample['tokens']\n",
    "cur_token_ids = np_label_ids[i_cur][:len(cur_tokens)]\n",
    "cur_token_labels = [id2classes[label_id] for label_id in cur_token_ids]\n",
    "\n",
    "nlp = spacy.load(\"en_core_web_sm\")\n",
    "doc = Doc(nlp.vocab, words=cur_tokens)"
   ]
  },
  {
   "cell_type": "code",
   "execution_count": null,
   "id": "3cbd9614-e558-44ef-812e-bf4252e89963",
   "metadata": {},
   "outputs": [],
   "source": [
    "for e in cur_token_labels:\n",
    "    if e != 'O':\n",
    "        print(e)"
   ]
  },
  {
   "cell_type": "code",
   "execution_count": 111,
   "id": "5d7b16e2-82b1-4c0c-b1ed-f2f69296ed1d",
   "metadata": {
    "tags": []
   },
   "outputs": [
    {
     "data": {
      "text/html": [
       "<span class=\"tex2jax_ignore\"><div class=\"spans\" style=\"line-height: 2.5; direction: ltr\">[CLS] ▁Design ▁Thinking ▁for ▁innovation ▁reflex ion ▁- ▁Avril ▁2021 ▁- \n",
       "<span style=\"font-weight: bold; display: inline-block; position: relative; height: 60px;\">\n",
       "    ▁Nathalie\n",
       "    \n",
       "<span style=\"background: #e01d82; top: 40px; height: 4px; left: -1px; width: calc(100% + 2px); position: absolute;\">\n",
       "</span>\n",
       "\n",
       "    \n",
       "<span style=\"background: #e01d82; top: 40px; height: 4px; border-top-left-radius: 3px; border-bottom-left-radius: 3px; left: -1px; width: calc(100% + 2px); position: absolute;\">\n",
       "    <span style=\"background: #e01d82; z-index: 10; color: #000; top: -0.5em; padding: 2px 3px; position: absolute; font-size: 0.6em; font-weight: bold; line-height: 1; border-radius: 3px\">\n",
       "        B-NAME_STUDENT\n",
       "    </span>\n",
       "</span>\n",
       "\n",
       "\n",
       "</span>\n",
       "\n",
       "<span style=\"font-weight: bold; display: inline-block; position: relative; height: 60px;\">\n",
       "    ▁S\n",
       "    \n",
       "<span style=\"background: #eb83b9; top: 40px; height: 4px; left: -1px; width: calc(100% + 2px); position: absolute;\">\n",
       "</span>\n",
       "\n",
       "    \n",
       "<span style=\"background: #eb83b9; top: 40px; height: 4px; border-top-left-radius: 3px; border-bottom-left-radius: 3px; left: -1px; width: calc(100% + 2px); position: absolute;\">\n",
       "    <span style=\"background: #eb83b9; z-index: 10; color: #000; top: -0.5em; padding: 2px 3px; position: absolute; font-size: 0.6em; font-weight: bold; line-height: 1; border-radius: 3px\">\n",
       "        I-NAME_STUDENT\n",
       "    </span>\n",
       "</span>\n",
       "\n",
       "\n",
       "</span>\n",
       "\n",
       "<span style=\"font-weight: bold; display: inline-block; position: relative; height: 60px;\">\n",
       "    ylla\n",
       "    \n",
       "<span style=\"background: #eb83b9; top: 40px; height: 4px; left: -1px; width: calc(100% + 2px); position: absolute;\">\n",
       "</span>\n",
       "\n",
       "    \n",
       "<span style=\"background: #eb83b9; top: 40px; height: 4px; border-top-left-radius: 3px; border-bottom-left-radius: 3px; left: -1px; width: calc(100% + 2px); position: absolute;\">\n",
       "    <span style=\"background: #eb83b9; z-index: 10; color: #000; top: -0.5em; padding: 2px 3px; position: absolute; font-size: 0.6em; font-weight: bold; line-height: 1; border-radius: 3px\">\n",
       "        I-NAME_STUDENT\n",
       "    </span>\n",
       "</span>\n",
       "\n",
       "\n",
       "</span>\n",
       "▁Challenge ▁&amp; ▁selection ▁The ▁tool ▁I ▁use ▁to ▁help ▁all ▁stakeholders ▁finding ▁their ▁way ▁through ▁the ▁complexity ▁of ▁a ▁project ▁is ▁the ▁mind ▁map ▁. ▁What ▁exactly ▁is ▁a ▁mind ▁map ▁? ▁According ▁to ▁the ▁definition ▁of \n",
       "<span style=\"font-weight: bold; display: inline-block; position: relative; height: 60px;\">\n",
       "    ▁Buz\n",
       "    \n",
       "<span style=\"background: #e01d82; top: 40px; height: 4px; left: -1px; width: calc(100% + 2px); position: absolute;\">\n",
       "</span>\n",
       "\n",
       "    \n",
       "<span style=\"background: #e01d82; top: 40px; height: 4px; border-top-left-radius: 3px; border-bottom-left-radius: 3px; left: -1px; width: calc(100% + 2px); position: absolute;\">\n",
       "    <span style=\"background: #e01d82; z-index: 10; color: #000; top: -0.5em; padding: 2px 3px; position: absolute; font-size: 0.6em; font-weight: bold; line-height: 1; border-radius: 3px\">\n",
       "        B-NAME_STUDENT\n",
       "    </span>\n",
       "</span>\n",
       "\n",
       "\n",
       "</span>\n",
       "\n",
       "<span style=\"font-weight: bold; display: inline-block; position: relative; height: 60px;\">\n",
       "    an\n",
       "    \n",
       "<span style=\"background: #eb83b9; top: 40px; height: 4px; left: -1px; width: calc(100% + 2px); position: absolute;\">\n",
       "</span>\n",
       "\n",
       "    \n",
       "<span style=\"background: #eb83b9; top: 40px; height: 4px; border-top-left-radius: 3px; border-bottom-left-radius: 3px; left: -1px; width: calc(100% + 2px); position: absolute;\">\n",
       "    <span style=\"background: #eb83b9; z-index: 10; color: #000; top: -0.5em; padding: 2px 3px; position: absolute; font-size: 0.6em; font-weight: bold; line-height: 1; border-radius: 3px\">\n",
       "        I-NAME_STUDENT\n",
       "    </span>\n",
       "</span>\n",
       "\n",
       "\n",
       "</span>\n",
       "\n",
       "<span style=\"font-weight: bold; display: inline-block; position: relative; height: 60px;\">\n",
       "    ▁T\n",
       "    \n",
       "<span style=\"background: #eb83b9; top: 40px; height: 4px; left: -1px; width: calc(100% + 2px); position: absolute;\">\n",
       "</span>\n",
       "\n",
       "    \n",
       "<span style=\"background: #eb83b9; top: 40px; height: 4px; border-top-left-radius: 3px; border-bottom-left-radius: 3px; left: -1px; width: calc(100% + 2px); position: absolute;\">\n",
       "    <span style=\"background: #eb83b9; z-index: 10; color: #000; top: -0.5em; padding: 2px 3px; position: absolute; font-size: 0.6em; font-weight: bold; line-height: 1; border-radius: 3px\">\n",
       "        I-NAME_STUDENT\n",
       "    </span>\n",
       "</span>\n",
       "\n",
       "\n",
       "</span>\n",
       ". ▁and \n",
       "<span style=\"font-weight: bold; display: inline-block; position: relative; height: 60px;\">\n",
       "    ▁Buz\n",
       "    \n",
       "<span style=\"background: #e01d82; top: 40px; height: 4px; left: -1px; width: calc(100% + 2px); position: absolute;\">\n",
       "</span>\n",
       "\n",
       "    \n",
       "<span style=\"background: #e01d82; top: 40px; height: 4px; border-top-left-radius: 3px; border-bottom-left-radius: 3px; left: -1px; width: calc(100% + 2px); position: absolute;\">\n",
       "    <span style=\"background: #e01d82; z-index: 10; color: #000; top: -0.5em; padding: 2px 3px; position: absolute; font-size: 0.6em; font-weight: bold; line-height: 1; border-radius: 3px\">\n",
       "        B-NAME_STUDENT\n",
       "    </span>\n",
       "</span>\n",
       "\n",
       "\n",
       "</span>\n",
       "\n",
       "<span style=\"font-weight: bold; display: inline-block; position: relative; height: 60px;\">\n",
       "    an\n",
       "    \n",
       "<span style=\"background: #eb83b9; top: 40px; height: 4px; left: -1px; width: calc(100% + 2px); position: absolute;\">\n",
       "</span>\n",
       "\n",
       "    \n",
       "<span style=\"background: #eb83b9; top: 40px; height: 4px; border-top-left-radius: 3px; border-bottom-left-radius: 3px; left: -1px; width: calc(100% + 2px); position: absolute;\">\n",
       "    <span style=\"background: #eb83b9; z-index: 10; color: #000; top: -0.5em; padding: 2px 3px; position: absolute; font-size: 0.6em; font-weight: bold; line-height: 1; border-radius: 3px\">\n",
       "        I-NAME_STUDENT\n",
       "    </span>\n",
       "</span>\n",
       "\n",
       "\n",
       "</span>\n",
       "\n",
       "<span style=\"font-weight: bold; display: inline-block; position: relative; height: 60px;\">\n",
       "    ▁B\n",
       "    \n",
       "<span style=\"background: #eb83b9; top: 40px; height: 4px; left: -1px; width: calc(100% + 2px); position: absolute;\">\n",
       "</span>\n",
       "\n",
       "    \n",
       "<span style=\"background: #eb83b9; top: 40px; height: 4px; border-top-left-radius: 3px; border-bottom-left-radius: 3px; left: -1px; width: calc(100% + 2px); position: absolute;\">\n",
       "    <span style=\"background: #eb83b9; z-index: 10; color: #000; top: -0.5em; padding: 2px 3px; position: absolute; font-size: 0.6em; font-weight: bold; line-height: 1; border-radius: 3px\">\n",
       "        I-NAME_STUDENT\n",
       "    </span>\n",
       "</span>\n",
       "\n",
       "\n",
       "</span>\n",
       ". ▁( ▁1999 ▁, ▁Des s ine ▁- ▁moi ▁l ' intelligence ▁. ▁Paris ▁: ▁Les ▁É dition s ▁d ' Organ isation ▁. ▁) ▁, ▁the ▁mind ▁map ▁( ▁or ▁heuristic ▁diagram ▁) ▁is ▁a ▁graphic ▁representation ▁technique ▁that ▁follows ▁the ▁natural ▁functioning ▁of ▁the ▁mind ▁and ▁allows ▁the ▁brain ▁' s ▁potential ▁to ▁be ▁released ▁. ▁Cf ▁Annex 1 ▁This ▁tool ▁has ▁many ▁advantages ▁: ▁• ▁It ▁is ▁accessible ▁to ▁all ▁and ▁does ▁not ▁require ▁significant ▁material ▁investment ▁and ▁can ▁be ▁done ▁quickly ▁• ▁It ▁is ▁scalable ▁• ▁It ▁allows ▁categorization ▁and ▁linking ▁of ▁information ▁• ▁It ▁can ▁be ▁applied ▁to ▁any ▁type ▁of ▁situation ▁: ▁note taking ▁, ▁problem ▁solving ▁, ▁analysis ▁, ▁creation ▁of ▁new ▁ideas ▁• ▁It ▁is ▁suitable ▁for ▁all ▁people ▁and ▁is ▁easy ▁to ▁learn ▁• ▁It ▁is ▁fun ▁and ▁encourages ▁exchanges ▁• ▁It ▁makes ▁visible ▁the ▁dimension ▁of ▁projects ▁, ▁opportunities ▁, ▁interconnections ▁• ▁It ▁synthesize s ▁• ▁It ▁makes ▁the ▁project ▁understandable ▁• ▁It ▁allows ▁you ▁to ▁explore ▁ideas ▁The ▁creation ▁of ▁a ▁mind ▁map ▁starts ▁with ▁an ▁idea ▁/ ▁problem ▁located ▁at ▁its ▁center ▁. ▁This ▁starting ▁point ▁generates ▁ideas ▁/ ▁work ▁areas ▁, ▁incremented ▁around ▁this ▁center ▁in ▁a ▁radial ▁structure ▁, ▁which ▁in ▁turn ▁is ▁completed ▁with ▁as ▁many ▁branches ▁as ▁new ▁ideas ▁. ▁This ▁tool ▁enables ▁creativity ▁and ▁logic ▁to ▁be ▁mobilized ▁, ▁it ▁is ▁a ▁map ▁of ▁the ▁thoughts ▁. ▁Creativity ▁is ▁enhanced ▁because ▁participants ▁feel ▁comfortable ▁with ▁the ▁method ▁. ▁Application ▁&amp; ▁Insight ▁I ▁start ▁the ▁process ▁of ▁the ▁mind ▁map ▁creation ▁with ▁the ▁stakeholders ▁standing ▁around ▁a ▁large ▁board ▁( ▁white ▁or ▁paper ▁board ▁) ▁. ▁In ▁the ▁center ▁of ▁the ▁board ▁, ▁I ▁write ▁and ▁highlight ▁the ▁topic ▁to ▁design ▁. ▁Through ▁a ▁series ▁of ▁questions ▁, ▁I ▁guide ▁the ▁stakeholders ▁in ▁modelling ▁the ▁mind ▁map ▁. ▁I ▁adapt ▁the ▁series ▁of ▁questions ▁according ▁to ▁the ▁topic ▁to ▁be ▁addressed ▁. ▁In ▁the ▁type ▁of ▁questions ▁, ▁we ▁can ▁use ▁: ▁who ▁, ▁what ▁, ▁when ▁, ▁where ▁, ▁why ▁, ▁how ▁, ▁how ▁much ▁. ▁The ▁use ▁of ▁the ▁“ ▁why ▁ ” ▁is ▁very ▁interesting ▁to ▁understand ▁the ▁origin ▁. ▁By ▁this ▁way ▁, ▁the ▁interviewed ▁person ▁free s ▁itself ▁from ▁paradigms ▁and ▁thus ▁dares ▁to ▁propose ▁new ▁ideas ▁/ ▁ways ▁of ▁functioning ▁. ▁I ▁plan ▁two ▁hours ▁for ▁a ▁workshop ▁. ▁Design ▁Thinking ▁for ▁innovation ▁reflex ion ▁- ▁Avril ▁2021 ▁- \n",
       "<span style=\"font-weight: bold; display: inline-block; position: relative; height: 60px;\">\n",
       "    ▁Nathalie\n",
       "    \n",
       "<span style=\"background: #e01d82; top: 40px; height: 4px; left: -1px; width: calc(100% + 2px); position: absolute;\">\n",
       "</span>\n",
       "\n",
       "    \n",
       "<span style=\"background: #e01d82; top: 40px; height: 4px; border-top-left-radius: 3px; border-bottom-left-radius: 3px; left: -1px; width: calc(100% + 2px); position: absolute;\">\n",
       "    <span style=\"background: #e01d82; z-index: 10; color: #000; top: -0.5em; padding: 2px 3px; position: absolute; font-size: 0.6em; font-weight: bold; line-height: 1; border-radius: 3px\">\n",
       "        B-NAME_STUDENT\n",
       "    </span>\n",
       "</span>\n",
       "\n",
       "\n",
       "</span>\n",
       "\n",
       "<span style=\"font-weight: bold; display: inline-block; position: relative; height: 60px;\">\n",
       "    ▁S\n",
       "    \n",
       "<span style=\"background: #eb83b9; top: 40px; height: 4px; left: -1px; width: calc(100% + 2px); position: absolute;\">\n",
       "</span>\n",
       "\n",
       "    \n",
       "<span style=\"background: #eb83b9; top: 40px; height: 4px; border-top-left-radius: 3px; border-bottom-left-radius: 3px; left: -1px; width: calc(100% + 2px); position: absolute;\">\n",
       "    <span style=\"background: #eb83b9; z-index: 10; color: #000; top: -0.5em; padding: 2px 3px; position: absolute; font-size: 0.6em; font-weight: bold; line-height: 1; border-radius: 3px\">\n",
       "        I-NAME_STUDENT\n",
       "    </span>\n",
       "</span>\n",
       "\n",
       "\n",
       "</span>\n",
       "\n",
       "<span style=\"font-weight: bold; display: inline-block; position: relative; height: 60px;\">\n",
       "    ylla\n",
       "    \n",
       "<span style=\"background: #eb83b9; top: 40px; height: 4px; left: -1px; width: calc(100% + 2px); position: absolute;\">\n",
       "</span>\n",
       "\n",
       "    \n",
       "<span style=\"background: #eb83b9; top: 40px; height: 4px; border-top-left-radius: 3px; border-bottom-left-radius: 3px; left: -1px; width: calc(100% + 2px); position: absolute;\">\n",
       "    <span style=\"background: #eb83b9; z-index: 10; color: #000; top: -0.5em; padding: 2px 3px; position: absolute; font-size: 0.6em; font-weight: bold; line-height: 1; border-radius: 3px\">\n",
       "        I-NAME_STUDENT\n",
       "    </span>\n",
       "</span>\n",
       "\n",
       "\n",
       "</span>\n",
       "▁After ▁modelling ▁the ▁mind ▁map ▁on ▁paper ▁, ▁I ▁propose ▁to ▁the ▁participants ▁a ▁digital ▁visualization ▁of ▁their ▁work ▁with ▁the ▁addition ▁of ▁color ▁codes ▁, ▁images ▁and ▁interconnections ▁. ▁This ▁second ▁workshop ▁also ▁last s ▁two ▁hours ▁and ▁allows ▁the ▁mind ▁map ▁to ▁evolve ▁. ▁Once ▁familiarized ▁with ▁it ▁, ▁the ▁stakeholders ▁discover ▁the ▁power ▁of ▁the ▁tool ▁. ▁Then ▁, ▁the ▁second ▁workshop ▁brings ▁out ▁even ▁more ▁ideas ▁and ▁constructive ▁exchanges ▁between ▁the ▁stakeholders ▁. ▁Around ▁this ▁new ▁mind ▁map ▁, ▁they ▁have ▁learned ▁to ▁work ▁together ▁and ▁want ▁to ▁make ▁visible ▁the ▁untold ▁ideas ▁. ▁I ▁now ▁present ▁all ▁the ▁projects ▁I ▁manage ▁in ▁this ▁type ▁of ▁format ▁in ▁order ▁to ▁ease ▁rapid ▁understanding ▁for ▁decision ▁- ▁makers ▁. ▁These ▁presentations ▁are ▁the ▁core ▁of ▁my ▁business ▁models ▁. ▁The ▁decision ▁- ▁makers ▁are ▁thus ▁able ▁to ▁identify ▁the ▁opportunities ▁of ▁the ▁projects ▁and ▁can ▁take ▁quick ▁decisions ▁to ▁validate ▁them ▁. ▁They ▁find ▁answers ▁to ▁their ▁questions ▁thank ▁to ▁a ▁schematic ▁representation ▁. ▁Approach ▁What ▁I ▁find ▁amazing ▁with ▁the ▁facilitation ▁of ▁this ▁type ▁of ▁workshop ▁is ▁the ▁participants ▁commitment ▁for ▁the ▁project ▁. ▁This ▁tool ▁helps ▁to ▁give ▁meaning ▁. ▁The ▁participants ▁appropriate ▁the ▁story ▁and ▁want ▁to ▁keep ▁writing ▁it ▁. ▁Then ▁, ▁they ▁easily ▁become ▁actors ▁or ▁sponsors ▁of ▁the ▁project ▁. ▁A ▁trust ▁relationship ▁is ▁built ▁, ▁thus ▁facilitating ▁the ▁implementation ▁of ▁related ▁actions ▁. ▁Design ▁Thinking ▁for ▁innovation ▁reflex ion ▁- ▁Avril ▁2021 ▁- \n",
       "<span style=\"font-weight: bold; display: inline-block; position: relative; height: 60px;\">\n",
       "    ▁Nathalie\n",
       "    \n",
       "<span style=\"background: #e01d82; top: 40px; height: 4px; left: -1px; width: calc(100% + 2px); position: absolute;\">\n",
       "</span>\n",
       "\n",
       "    \n",
       "<span style=\"background: #e01d82; top: 40px; height: 4px; border-top-left-radius: 3px; border-bottom-left-radius: 3px; left: -1px; width: calc(100% + 2px); position: absolute;\">\n",
       "    <span style=\"background: #e01d82; z-index: 10; color: #000; top: -0.5em; padding: 2px 3px; position: absolute; font-size: 0.6em; font-weight: bold; line-height: 1; border-radius: 3px\">\n",
       "        B-NAME_STUDENT\n",
       "    </span>\n",
       "</span>\n",
       "\n",
       "\n",
       "</span>\n",
       "\n",
       "<span style=\"font-weight: bold; display: inline-block; position: relative; height: 60px;\">\n",
       "    ▁S\n",
       "    \n",
       "<span style=\"background: #eb83b9; top: 40px; height: 4px; left: -1px; width: calc(100% + 2px); position: absolute;\">\n",
       "</span>\n",
       "\n",
       "    \n",
       "<span style=\"background: #eb83b9; top: 40px; height: 4px; border-top-left-radius: 3px; border-bottom-left-radius: 3px; left: -1px; width: calc(100% + 2px); position: absolute;\">\n",
       "    <span style=\"background: #eb83b9; z-index: 10; color: #000; top: -0.5em; padding: 2px 3px; position: absolute; font-size: 0.6em; font-weight: bold; line-height: 1; border-radius: 3px\">\n",
       "        I-NAME_STUDENT\n",
       "    </span>\n",
       "</span>\n",
       "\n",
       "\n",
       "</span>\n",
       "\n",
       "<span style=\"font-weight: bold; display: inline-block; position: relative; height: 60px;\">\n",
       "    ylla\n",
       "    \n",
       "<span style=\"background: #eb83b9; top: 40px; height: 4px; left: -1px; width: calc(100% + 2px); position: absolute;\">\n",
       "</span>\n",
       "\n",
       "    \n",
       "<span style=\"background: #eb83b9; top: 40px; height: 4px; border-top-left-radius: 3px; border-bottom-left-radius: 3px; left: -1px; width: calc(100% + 2px); position: absolute;\">\n",
       "    <span style=\"background: #eb83b9; z-index: 10; color: #000; top: -0.5em; padding: 2px 3px; position: absolute; font-size: 0.6em; font-weight: bold; line-height: 1; border-radius: 3px\">\n",
       "        I-NAME_STUDENT\n",
       "    </span>\n",
       "</span>\n",
       "\n",
       "\n",
       "</span>\n",
       "▁Annex ▁1 ▁: ▁Mind ▁Map ▁Shared ▁facilities ▁project [SEP] </div></span>"
      ],
      "text/plain": [
       "<IPython.core.display.HTML object>"
      ]
     },
     "metadata": {},
     "output_type": "display_data"
    }
   ],
   "source": [
    "visualize_label(nlp, doc, cur_tokens, cur_token_labels, options = options_pii)"
   ]
  },
  {
   "cell_type": "code",
   "execution_count": 112,
   "id": "b8083486-d691-4312-837b-32f2008490fb",
   "metadata": {},
   "outputs": [
    {
     "data": {
      "text/html": [
       "<span class=\"tex2jax_ignore\"><div class=\"spans\" style=\"line-height: 2.5; direction: ltr\">Design Thinking for innovation reflexion - Avril 2021 - \n",
       "<span style=\"font-weight: bold; display: inline-block; position: relative; height: 60px;\">\n",
       "    Nathalie\n",
       "    \n",
       "<span style=\"background: #e01d82; top: 40px; height: 4px; left: -1px; width: calc(100% + 2px); position: absolute;\">\n",
       "</span>\n",
       "\n",
       "    \n",
       "<span style=\"background: #e01d82; top: 40px; height: 4px; border-top-left-radius: 3px; border-bottom-left-radius: 3px; left: -1px; width: calc(100% + 2px); position: absolute;\">\n",
       "    <span style=\"background: #e01d82; z-index: 10; color: #000; top: -0.5em; padding: 2px 3px; position: absolute; font-size: 0.6em; font-weight: bold; line-height: 1; border-radius: 3px\">\n",
       "        B-NAME_STUDENT\n",
       "    </span>\n",
       "</span>\n",
       "\n",
       "\n",
       "</span>\n",
       "\n",
       "<span style=\"font-weight: bold; display: inline-block; position: relative; height: 60px;\">\n",
       "    Sylla\n",
       "    \n",
       "<span style=\"background: #eb83b9; top: 40px; height: 4px; left: -1px; width: calc(100% + 2px); position: absolute;\">\n",
       "</span>\n",
       "\n",
       "    \n",
       "<span style=\"background: #eb83b9; top: 40px; height: 4px; border-top-left-radius: 3px; border-bottom-left-radius: 3px; left: -1px; width: calc(100% + 2px); position: absolute;\">\n",
       "    <span style=\"background: #eb83b9; z-index: 10; color: #000; top: -0.5em; padding: 2px 3px; position: absolute; font-size: 0.6em; font-weight: bold; line-height: 1; border-radius: 3px\">\n",
       "        I-NAME_STUDENT\n",
       "    </span>\n",
       "</span>\n",
       "\n",
       "\n",
       "</span>\n",
       "\n",
       "\n",
       " Challenge &amp; selection \n",
       "\n",
       " The tool I use to help all stakeholders finding their way through the complexity of a project is the   mind map . \n",
       "\n",
       " What exactly is a mind map ? According to the definition of \n",
       "<span style=\"font-weight: bold; display: inline-block; position: relative; height: 60px;\">\n",
       "    Buzan\n",
       "    \n",
       "<span style=\"background: #e01d82; top: 40px; height: 4px; left: -1px; width: calc(100% + 2px); position: absolute;\">\n",
       "</span>\n",
       "\n",
       "    \n",
       "<span style=\"background: #e01d82; top: 40px; height: 4px; border-top-left-radius: 3px; border-bottom-left-radius: 3px; left: -1px; width: calc(100% + 2px); position: absolute;\">\n",
       "    <span style=\"background: #e01d82; z-index: 10; color: #000; top: -0.5em; padding: 2px 3px; position: absolute; font-size: 0.6em; font-weight: bold; line-height: 1; border-radius: 3px\">\n",
       "        B-NAME_STUDENT\n",
       "    </span>\n",
       "</span>\n",
       "\n",
       "\n",
       "</span>\n",
       "\n",
       "<span style=\"font-weight: bold; display: inline-block; position: relative; height: 60px;\">\n",
       "    T.\n",
       "    \n",
       "<span style=\"background: #eb83b9; top: 40px; height: 4px; left: -1px; width: calc(100% + 2px); position: absolute;\">\n",
       "</span>\n",
       "\n",
       "    \n",
       "<span style=\"background: #eb83b9; top: 40px; height: 4px; border-top-left-radius: 3px; border-bottom-left-radius: 3px; left: -1px; width: calc(100% + 2px); position: absolute;\">\n",
       "    <span style=\"background: #eb83b9; z-index: 10; color: #000; top: -0.5em; padding: 2px 3px; position: absolute; font-size: 0.6em; font-weight: bold; line-height: 1; border-radius: 3px\">\n",
       "        I-NAME_STUDENT\n",
       "    </span>\n",
       "</span>\n",
       "\n",
       "\n",
       "</span>\n",
       "and \n",
       "<span style=\"font-weight: bold; display: inline-block; position: relative; height: 60px;\">\n",
       "    Buzan\n",
       "    \n",
       "<span style=\"background: #e01d82; top: 40px; height: 4px; left: -1px; width: calc(100% + 2px); position: absolute;\">\n",
       "</span>\n",
       "\n",
       "    \n",
       "<span style=\"background: #e01d82; top: 40px; height: 4px; border-top-left-radius: 3px; border-bottom-left-radius: 3px; left: -1px; width: calc(100% + 2px); position: absolute;\">\n",
       "    <span style=\"background: #e01d82; z-index: 10; color: #000; top: -0.5em; padding: 2px 3px; position: absolute; font-size: 0.6em; font-weight: bold; line-height: 1; border-radius: 3px\">\n",
       "        B-NAME_STUDENT\n",
       "    </span>\n",
       "</span>\n",
       "\n",
       "\n",
       "</span>\n",
       "\n",
       "<span style=\"font-weight: bold; display: inline-block; position: relative; height: 60px;\">\n",
       "    B.\n",
       "    \n",
       "<span style=\"background: #eb83b9; top: 40px; height: 4px; left: -1px; width: calc(100% + 2px); position: absolute;\">\n",
       "</span>\n",
       "\n",
       "    \n",
       "<span style=\"background: #eb83b9; top: 40px; height: 4px; border-top-left-radius: 3px; border-bottom-left-radius: 3px; left: -1px; width: calc(100% + 2px); position: absolute;\">\n",
       "    <span style=\"background: #eb83b9; z-index: 10; color: #000; top: -0.5em; padding: 2px 3px; position: absolute; font-size: 0.6em; font-weight: bold; line-height: 1; border-radius: 3px\">\n",
       "        I-NAME_STUDENT\n",
       "    </span>\n",
       "</span>\n",
       "\n",
       "\n",
       "</span>\n",
       "( 1999 , Dessine - moi   l'intelligence . Paris : Les Éditions d'Organisation . ) , the mind map ( or heuristic diagram ) is a graphic   representation technique that follows the natural functioning of the mind and allows the brain 's   potential to be released . Cf Annex1 \n",
       "\n",
       " This tool has many advantages : \n",
       "\n",
       " •   It is accessible to all and does not require significant material investment and can be done   quickly \n",
       "\n",
       " •   It is scalable \n",
       "\n",
       " •   It allows categorization and linking of information \n",
       "\n",
       " •   It can be applied to any type of situation : notetaking , problem solving , analysis , creation of   new ideas \n",
       "\n",
       " •   It is suitable for all people and is easy to learn \n",
       "\n",
       " •   It is fun and encourages exchanges \n",
       "\n",
       " •   It makes visible the dimension of projects , opportunities , interconnections \n",
       "\n",
       " •   It synthesizes \n",
       "\n",
       " •   It makes the project understandable \n",
       "\n",
       " •   It allows you to explore ideas \n",
       "\n",
       " The creation of a mind map starts with an idea / problem located at its center . This starting point   generates ideas / work areas , incremented around this center in a radial structure , which in turn is   completed with as many branches as new ideas . \n",
       "\n",
       " This tool enables creativity and logic to be mobilized , it is a map of the thoughts . \n",
       "\n",
       " Creativity is enhanced because participants feel comfortable with the method . \n",
       "\n",
       " Application &amp; Insight \n",
       "\n",
       " I start the process of the mind map creation with the stakeholders standing around a large board   ( white or paper board ) . In the center of the board , I write and highlight the topic to design . \n",
       "\n",
       " Through a series of questions , I guide the stakeholders in modelling the mind map . I adapt the series   of questions according to the topic to be addressed . In the type of questions , we can use : who , what ,   when , where , why , how , how much . \n",
       "\n",
       " The use of the “ why ” is very interesting to understand the origin . By this way , the interviewed person   frees itself from paradigms and thus dares to propose new ideas / ways of functioning . I plan two   hours for a workshop . \n",
       "\n",
       " Design Thinking for innovation reflexion - Avril 2021 - \n",
       "<span style=\"font-weight: bold; display: inline-block; position: relative; height: 60px;\">\n",
       "    Nathalie\n",
       "    \n",
       "<span style=\"background: #e01d82; top: 40px; height: 4px; left: -1px; width: calc(100% + 2px); position: absolute;\">\n",
       "</span>\n",
       "\n",
       "    \n",
       "<span style=\"background: #e01d82; top: 40px; height: 4px; border-top-left-radius: 3px; border-bottom-left-radius: 3px; left: -1px; width: calc(100% + 2px); position: absolute;\">\n",
       "    <span style=\"background: #e01d82; z-index: 10; color: #000; top: -0.5em; padding: 2px 3px; position: absolute; font-size: 0.6em; font-weight: bold; line-height: 1; border-radius: 3px\">\n",
       "        B-NAME_STUDENT\n",
       "    </span>\n",
       "</span>\n",
       "\n",
       "\n",
       "</span>\n",
       "\n",
       "<span style=\"font-weight: bold; display: inline-block; position: relative; height: 60px;\">\n",
       "    Sylla\n",
       "    \n",
       "<span style=\"background: #eb83b9; top: 40px; height: 4px; left: -1px; width: calc(100% + 2px); position: absolute;\">\n",
       "</span>\n",
       "\n",
       "    \n",
       "<span style=\"background: #eb83b9; top: 40px; height: 4px; border-top-left-radius: 3px; border-bottom-left-radius: 3px; left: -1px; width: calc(100% + 2px); position: absolute;\">\n",
       "    <span style=\"background: #eb83b9; z-index: 10; color: #000; top: -0.5em; padding: 2px 3px; position: absolute; font-size: 0.6em; font-weight: bold; line-height: 1; border-radius: 3px\">\n",
       "        I-NAME_STUDENT\n",
       "    </span>\n",
       "</span>\n",
       "\n",
       "\n",
       "</span>\n",
       "\n",
       "\n",
       " After modelling the mind map on paper , I propose to the participants a digital visualization of their   work with the addition of color codes , images and interconnections . This second workshop also lasts   two hours and allows the mind map to evolve . Once familiarized with it , the stakeholders discover   the power of the tool . Then , the second workshop brings out even more ideas and constructive   exchanges between the stakeholders . Around this new mind map , they have learned to work   together and want to make visible the untold ideas . \n",
       "\n",
       " I now present all the projects I manage in this type of format in order to ease rapid understanding for   decision - makers . These presentations are the core of my business models . The decision - makers are   thus able to identify the opportunities of the projects and can take quick decisions to validate them .   They find answers to their questions thank to a schematic representation . \n",
       "\n",
       " Approach \n",
       "\n",
       " What I find amazing with the facilitation of this type of workshop is the participants commitment for   the project . This tool helps to give meaning . The participants appropriate the story and want to keep   writing it . Then , they easily become actors or sponsors of the project . A trust relationship is built ,   thus facilitating the implementation of related actions . \n",
       "\n",
       " Design Thinking for innovation reflexion - Avril 2021 - \n",
       "<span style=\"font-weight: bold; display: inline-block; position: relative; height: 60px;\">\n",
       "    Nathalie\n",
       "    \n",
       "<span style=\"background: #e01d82; top: 40px; height: 4px; left: -1px; width: calc(100% + 2px); position: absolute;\">\n",
       "</span>\n",
       "\n",
       "    \n",
       "<span style=\"background: #e01d82; top: 40px; height: 4px; border-top-left-radius: 3px; border-bottom-left-radius: 3px; left: -1px; width: calc(100% + 2px); position: absolute;\">\n",
       "    <span style=\"background: #e01d82; z-index: 10; color: #000; top: -0.5em; padding: 2px 3px; position: absolute; font-size: 0.6em; font-weight: bold; line-height: 1; border-radius: 3px\">\n",
       "        B-NAME_STUDENT\n",
       "    </span>\n",
       "</span>\n",
       "\n",
       "\n",
       "</span>\n",
       "\n",
       "<span style=\"font-weight: bold; display: inline-block; position: relative; height: 60px;\">\n",
       "    Sylla\n",
       "    \n",
       "<span style=\"background: #eb83b9; top: 40px; height: 4px; left: -1px; width: calc(100% + 2px); position: absolute;\">\n",
       "</span>\n",
       "\n",
       "    \n",
       "<span style=\"background: #eb83b9; top: 40px; height: 4px; border-top-left-radius: 3px; border-bottom-left-radius: 3px; left: -1px; width: calc(100% + 2px); position: absolute;\">\n",
       "    <span style=\"background: #eb83b9; z-index: 10; color: #000; top: -0.5em; padding: 2px 3px; position: absolute; font-size: 0.6em; font-weight: bold; line-height: 1; border-radius: 3px\">\n",
       "        I-NAME_STUDENT\n",
       "    </span>\n",
       "</span>\n",
       "\n",
       "\n",
       "</span>\n",
       "\n",
       "\n",
       " Annex 1 : Mind Map Shared facilities project \n",
       "\n",
       " </div></span>"
      ],
      "text/plain": [
       "<IPython.core.display.HTML object>"
      ]
     },
     "metadata": {},
     "output_type": "display_data"
    }
   ],
   "source": [
    "doc = nlp(cur_text)\n",
    "visualize_label(nlp, doc, cur_words, cur_pred_words, options = options_pii)"
   ]
  },
  {
   "cell_type": "code",
   "execution_count": 58,
   "id": "96c20198-18c7-4b8d-b4f5-64006c790e7f",
   "metadata": {},
   "outputs": [
    {
     "data": {
      "text/html": [
       "<span class=\"tex2jax_ignore\"><div class=\"spans\" style=\"line-height: 2.5; direction: ltr\">Design Thinking for innovation reflexion - Avril 2021 - \n",
       "<span style=\"font-weight: bold; display: inline-block; position: relative; height: 60px;\">\n",
       "    Nathalie\n",
       "    \n",
       "<span style=\"background: #e01d82; top: 40px; height: 4px; left: -1px; width: calc(100% + 2px); position: absolute;\">\n",
       "</span>\n",
       "\n",
       "    \n",
       "<span style=\"background: #e01d82; top: 40px; height: 4px; border-top-left-radius: 3px; border-bottom-left-radius: 3px; left: -1px; width: calc(100% + 2px); position: absolute;\">\n",
       "    <span style=\"background: #e01d82; z-index: 10; color: #000; top: -0.5em; padding: 2px 3px; position: absolute; font-size: 0.6em; font-weight: bold; line-height: 1; border-radius: 3px\">\n",
       "        B-NAME_STUDENT\n",
       "    </span>\n",
       "</span>\n",
       "\n",
       "\n",
       "</span>\n",
       "\n",
       "<span style=\"font-weight: bold; display: inline-block; position: relative; height: 60px;\">\n",
       "    Sylla\n",
       "    \n",
       "<span style=\"background: #eb83b9; top: 40px; height: 4px; left: -1px; width: calc(100% + 2px); position: absolute;\">\n",
       "</span>\n",
       "\n",
       "    \n",
       "<span style=\"background: #eb83b9; top: 40px; height: 4px; border-top-left-radius: 3px; border-bottom-left-radius: 3px; left: -1px; width: calc(100% + 2px); position: absolute;\">\n",
       "    <span style=\"background: #eb83b9; z-index: 10; color: #000; top: -0.5em; padding: 2px 3px; position: absolute; font-size: 0.6em; font-weight: bold; line-height: 1; border-radius: 3px\">\n",
       "        I-NAME_STUDENT\n",
       "    </span>\n",
       "</span>\n",
       "\n",
       "\n",
       "</span>\n",
       "\n",
       "\n",
       " Challenge &amp; selection \n",
       "\n",
       " The tool I use to help all stakeholders finding their way through the complexity of a project is the   mind map . \n",
       "\n",
       " What exactly is a mind map ? According to the definition of Buzan T. and Buzan B. ( 1999 , Dessine - moi   l'intelligence . Paris : Les Éditions d'Organisation . ) , the mind map ( or heuristic diagram ) is a graphic   representation technique that follows the natural functioning of the mind and allows the brain 's   potential to be released . Cf Annex1 \n",
       "\n",
       " This tool has many advantages : \n",
       "\n",
       " •   It is accessible to all and does not require significant material investment and can be done   quickly \n",
       "\n",
       " •   It is scalable \n",
       "\n",
       " •   It allows categorization and linking of information \n",
       "\n",
       " •   It can be applied to any type of situation : notetaking , problem solving , analysis , creation of   new ideas \n",
       "\n",
       " •   It is suitable for all people and is easy to learn \n",
       "\n",
       " •   It is fun and encourages exchanges \n",
       "\n",
       " •   It makes visible the dimension of projects , opportunities , interconnections \n",
       "\n",
       " •   It synthesizes \n",
       "\n",
       " •   It makes the project understandable \n",
       "\n",
       " •   It allows you to explore ideas \n",
       "\n",
       " The creation of a mind map starts with an idea / problem located at its center . This starting point   generates ideas / work areas , incremented around this center in a radial structure , which in turn is   completed with as many branches as new ideas . \n",
       "\n",
       " This tool enables creativity and logic to be mobilized , it is a map of the thoughts . \n",
       "\n",
       " Creativity is enhanced because participants feel comfortable with the method . \n",
       "\n",
       " Application &amp; Insight \n",
       "\n",
       " I start the process of the mind map creation with the stakeholders standing around a large board   ( white or paper board ) . In the center of the board , I write and highlight the topic to design . \n",
       "\n",
       " Through a series of questions , I guide the stakeholders in modelling the mind map . I adapt the series   of questions according to the topic to be addressed . In the type of questions , we can use : who , what ,   when , where , why , how , how much . \n",
       "\n",
       " The use of the “ why ” is very interesting to understand the origin . By this way , the interviewed person   frees itself from paradigms and thus dares to propose new ideas / ways of functioning . I plan two   hours for a workshop . \n",
       "\n",
       " Design Thinking for innovation reflexion - Avril 2021 - \n",
       "<span style=\"font-weight: bold; display: inline-block; position: relative; height: 60px;\">\n",
       "    Nathalie\n",
       "    \n",
       "<span style=\"background: #e01d82; top: 40px; height: 4px; left: -1px; width: calc(100% + 2px); position: absolute;\">\n",
       "</span>\n",
       "\n",
       "    \n",
       "<span style=\"background: #e01d82; top: 40px; height: 4px; border-top-left-radius: 3px; border-bottom-left-radius: 3px; left: -1px; width: calc(100% + 2px); position: absolute;\">\n",
       "    <span style=\"background: #e01d82; z-index: 10; color: #000; top: -0.5em; padding: 2px 3px; position: absolute; font-size: 0.6em; font-weight: bold; line-height: 1; border-radius: 3px\">\n",
       "        B-NAME_STUDENT\n",
       "    </span>\n",
       "</span>\n",
       "\n",
       "\n",
       "</span>\n",
       "\n",
       "<span style=\"font-weight: bold; display: inline-block; position: relative; height: 60px;\">\n",
       "    Sylla\n",
       "    \n",
       "<span style=\"background: #eb83b9; top: 40px; height: 4px; left: -1px; width: calc(100% + 2px); position: absolute;\">\n",
       "</span>\n",
       "\n",
       "    \n",
       "<span style=\"background: #eb83b9; top: 40px; height: 4px; border-top-left-radius: 3px; border-bottom-left-radius: 3px; left: -1px; width: calc(100% + 2px); position: absolute;\">\n",
       "    <span style=\"background: #eb83b9; z-index: 10; color: #000; top: -0.5em; padding: 2px 3px; position: absolute; font-size: 0.6em; font-weight: bold; line-height: 1; border-radius: 3px\">\n",
       "        I-NAME_STUDENT\n",
       "    </span>\n",
       "</span>\n",
       "\n",
       "\n",
       "</span>\n",
       "\n",
       "\n",
       " After modelling the mind map on paper , I propose to the participants a digital visualization of their   work with the addition of color codes , images and interconnections . This second workshop also lasts   two hours and allows the mind map to evolve . Once familiarized with it , the stakeholders discover   the power of the tool . Then , the second workshop brings out even more ideas and constructive   exchanges between the stakeholders . Around this new mind map , they have learned to work   together and want to make visible the untold ideas . \n",
       "\n",
       " I now present all the projects I manage in this type of format in order to ease rapid understanding for   decision - makers . These presentations are the core of my business models . The decision - makers are   thus able to identify the opportunities of the projects and can take quick decisions to validate them .   They find answers to their questions thank to a schematic representation . \n",
       "\n",
       " Approach \n",
       "\n",
       " What I find amazing with the facilitation of this type of workshop is the participants commitment for   the project . This tool helps to give meaning . The participants appropriate the story and want to keep   writing it . Then , they easily become actors or sponsors of the project . A trust relationship is built ,   thus facilitating the implementation of related actions . \n",
       "\n",
       " Design Thinking for innovation reflexion - Avril 2021 - \n",
       "<span style=\"font-weight: bold; display: inline-block; position: relative; height: 60px;\">\n",
       "    Nathalie\n",
       "    \n",
       "<span style=\"background: #e01d82; top: 40px; height: 4px; left: -1px; width: calc(100% + 2px); position: absolute;\">\n",
       "</span>\n",
       "\n",
       "    \n",
       "<span style=\"background: #e01d82; top: 40px; height: 4px; border-top-left-radius: 3px; border-bottom-left-radius: 3px; left: -1px; width: calc(100% + 2px); position: absolute;\">\n",
       "    <span style=\"background: #e01d82; z-index: 10; color: #000; top: -0.5em; padding: 2px 3px; position: absolute; font-size: 0.6em; font-weight: bold; line-height: 1; border-radius: 3px\">\n",
       "        B-NAME_STUDENT\n",
       "    </span>\n",
       "</span>\n",
       "\n",
       "\n",
       "</span>\n",
       "\n",
       "<span style=\"font-weight: bold; display: inline-block; position: relative; height: 60px;\">\n",
       "    Sylla\n",
       "    \n",
       "<span style=\"background: #eb83b9; top: 40px; height: 4px; left: -1px; width: calc(100% + 2px); position: absolute;\">\n",
       "</span>\n",
       "\n",
       "    \n",
       "<span style=\"background: #eb83b9; top: 40px; height: 4px; border-top-left-radius: 3px; border-bottom-left-radius: 3px; left: -1px; width: calc(100% + 2px); position: absolute;\">\n",
       "    <span style=\"background: #eb83b9; z-index: 10; color: #000; top: -0.5em; padding: 2px 3px; position: absolute; font-size: 0.6em; font-weight: bold; line-height: 1; border-radius: 3px\">\n",
       "        I-NAME_STUDENT\n",
       "    </span>\n",
       "</span>\n",
       "\n",
       "\n",
       "</span>\n",
       "\n",
       "\n",
       " Annex 1 : Mind Map Shared facilities project \n",
       "\n",
       " </div></span>"
      ],
      "text/plain": [
       "<IPython.core.display.HTML object>"
      ]
     },
     "metadata": {},
     "output_type": "display_data"
    }
   ],
   "source": [
    "visualize_label(nlp, doc, cur_words, cur_label_words, options = options_pii)"
   ]
  },
  {
   "cell_type": "markdown",
   "id": "6c11bc92-fa21-4c66-b147-045a91203717",
   "metadata": {},
   "source": [
    "## Nth sample"
   ]
  },
  {
   "cell_type": "code",
   "execution_count": 810,
   "id": "96ee53af-080d-4d80-8172-41cf54678dc2",
   "metadata": {},
   "outputs": [
    {
     "data": {
      "text/plain": [
       "[2, 2, 2, 2, 2, 2]"
      ]
     },
     "execution_count": 810,
     "metadata": {},
     "output_type": "execute_result"
    }
   ],
   "source": [
    "[label for label in tokenized_datasets[ ]['labels'] if label != 0]"
   ]
  },
  {
   "cell_type": "code",
   "execution_count": 117,
   "id": "a897ddaa-4409-4423-8308-3fda95aa3f76",
   "metadata": {},
   "outputs": [],
   "source": [
    "i_cur = 1005\n",
    "\n",
    "cur_sample = preprocessed_dataset[i_cur]\n",
    "\n",
    "cur_pred_ids = list_pred_words[i_cur]\n",
    "cur_text = cur_sample['full_text']\n",
    "cur_label_words = cur_sample['word_labels']\n",
    "cur_pred_words = [model.config.id2label[e] for e in cur_pred_ids]\n",
    "\n",
    "cur_words = cur_sample['words']\n",
    "\n",
    "\n",
    "#For comparisons only\n",
    "cur_tokens = cur_sample['tokens']\n",
    "cur_token_ids = np_label_ids[i_cur][:len(cur_tokens)]\n",
    "\n",
    "cur_word_ids = cur_sample['word_ids']\n",
    "\n",
    "# cur_group = list_groups[i_cur]\n",
    "# cur_word_indices = list_word_indices[i_cur]\n",
    "# cur_pred_incomp = list_pred_incomp[i_cur]\n",
    "\n",
    "\n",
    "doc = nlp(cur_text)\n"
   ]
  },
  {
   "cell_type": "code",
   "execution_count": 118,
   "id": "cbef73fd-41f0-413a-bcae-508c41424750",
   "metadata": {
    "tags": []
   },
   "outputs": [],
   "source": [
    "cur_tokens = cur_sample['tokens']\n",
    "cur_token_ids = np_label_ids[i_cur][:len(cur_tokens)]\n",
    "cur_token_labels = [model.config.id2label[label_id] for label_id in cur_token_ids]\n",
    "\n",
    "nlp = spacy.load(\"en_core_web_sm\")\n",
    "doc = Doc(nlp.vocab, words=cur_tokens)"
   ]
  },
  {
   "cell_type": "code",
   "execution_count": 119,
   "id": "827e0388-5abe-4300-9887-f2a1f49831de",
   "metadata": {
    "tags": []
   },
   "outputs": [
    {
     "data": {
      "text/html": [
       "<span class=\"tex2jax_ignore\"><div class=\"spans\" style=\"line-height: 2.5; direction: ltr\">[CLS] ▁1 ▁. ▁Challenge ▁In ▁order ▁to ▁shorten ▁commutes ▁, ▁save ▁gas ▁, ▁reduce ▁emissions ▁and ▁enhance ▁the ▁mental ▁well ▁being ▁of ▁residents ▁of ▁Virginia ▁I ▁would ▁like ▁to ▁work ▁with ▁V DOT ▁to ▁better ▁time ▁traffic ▁signals ▁to ▁maximize ▁efficiency ▁. ▁The ▁ability ▁to ▁track ▁vehicle ▁, ▁pedestrian ▁and ▁bicycle ▁traffic ▁and ▁adapt ▁traffic ▁control ▁to ▁increase ▁traffic ▁flow ▁while ▁ensuring ▁multimodal ▁safety ▁is ▁critical ▁and ▁possible ▁given ▁the ▁advancement ▁in ▁technology ▁. ▁My ▁cell ▁phone ▁hardware ▁has ▁the ▁video ▁and ▁processing ▁power ▁to ▁easily ▁solve ▁this ▁problem ▁. ▁Why ▁has ▁n ’ t ▁it ▁been ▁done ▁? ▁2 ▁. ▁Selection ▁I ▁chose ▁Storytelling ▁for ▁the ▁tool ▁to ▁convey ▁the ▁need ▁for ▁Smart ▁Traffic ▁Controls ▁. ▁The ▁section ▁of ▁the ▁class ▁describing ▁how ▁executives ▁sit ▁in ▁an ▁office ▁all ▁day ▁waiting ▁to ▁hear ▁something ▁that ▁compels ▁them ▁motivated ▁me ▁to ▁try ▁an ▁approach ▁which ▁I ▁have ▁never ▁used ▁, ▁but ▁thought ▁I ▁could ▁learn ▁something ▁from ▁trying ▁a ▁new ▁technique ▁. ▁The ▁notion ▁that ▁presenters ▁only ▁get ▁20 ▁% ▁of ▁a ▁person ▁ ’ s ▁attention ▁during ▁their ▁pitch ▁impacted ▁me ▁to ▁try ▁using ▁storytelling ▁to ▁inspire ▁, ▁“ ▁to ▁make ▁this ▁challenge ▁a ▁cause ▁ ” ▁. ▁3 ▁. ▁Application ▁At ▁the ▁next ▁Fairfax ▁County ▁Transportation ▁Advisory ▁Committee ▁meeting ▁, ▁I ▁would ▁like ▁to ▁submit ▁the ▁following ▁( ▁fictitious ▁) ▁story ▁: ▁No ▁one ▁knew ▁why \n",
       "<span style=\"font-weight: bold; display: inline-block; position: relative; height: 60px;\">\n",
       "    ▁Daniel\n",
       "    \n",
       "<span style=\"background: #e01d82; top: 40px; height: 4px; left: -1px; width: calc(100% + 2px); position: absolute;\">\n",
       "</span>\n",
       "\n",
       "    \n",
       "<span style=\"background: #e01d82; top: 40px; height: 4px; border-top-left-radius: 3px; border-bottom-left-radius: 3px; left: -1px; width: calc(100% + 2px); position: absolute;\">\n",
       "    <span style=\"background: #e01d82; z-index: 10; color: #000; top: -0.5em; padding: 2px 3px; position: absolute; font-size: 0.6em; font-weight: bold; line-height: 1; border-radius: 3px\">\n",
       "        B-NAME_STUDENT\n",
       "    </span>\n",
       "</span>\n",
       "\n",
       "\n",
       "</span>\n",
       "\n",
       "<span style=\"font-weight: bold; display: inline-block; position: relative; height: 60px;\">\n",
       "    ▁Q\n",
       "    \n",
       "<span style=\"background: #eb83b9; top: 40px; height: 4px; left: -1px; width: calc(100% + 2px); position: absolute;\">\n",
       "</span>\n",
       "\n",
       "    \n",
       "<span style=\"background: #eb83b9; top: 40px; height: 4px; border-top-left-radius: 3px; border-bottom-left-radius: 3px; left: -1px; width: calc(100% + 2px); position: absolute;\">\n",
       "    <span style=\"background: #eb83b9; z-index: 10; color: #000; top: -0.5em; padding: 2px 3px; position: absolute; font-size: 0.6em; font-weight: bold; line-height: 1; border-radius: 3px\">\n",
       "        I-NAME_STUDENT\n",
       "    </span>\n",
       "</span>\n",
       "\n",
       "\n",
       "</span>\n",
       "\n",
       "<span style=\"font-weight: bold; display: inline-block; position: relative; height: 60px;\">\n",
       "    ▁Schneider\n",
       "    \n",
       "<span style=\"background: #eb83b9; top: 40px; height: 4px; left: -1px; width: calc(100% + 2px); position: absolute;\">\n",
       "</span>\n",
       "\n",
       "    \n",
       "<span style=\"background: #eb83b9; top: 40px; height: 4px; border-top-left-radius: 3px; border-bottom-left-radius: 3px; left: -1px; width: calc(100% + 2px); position: absolute;\">\n",
       "    <span style=\"background: #eb83b9; z-index: 10; color: #000; top: -0.5em; padding: 2px 3px; position: absolute; font-size: 0.6em; font-weight: bold; line-height: 1; border-radius: 3px\">\n",
       "        I-NAME_STUDENT\n",
       "    </span>\n",
       "</span>\n",
       "\n",
       "\n",
       "</span>\n",
       "▁killed ▁himself ▁in ▁the ▁early ▁morning ▁hours ▁on ▁July ▁10 ▁, ▁2020 ▁. ▁He ▁was ▁found ▁in ▁his ▁car ▁with ▁a ▁bullet ▁in ▁his ▁head ▁, ▁in ▁his ▁driveway ▁after ▁his ▁work ▁shift ▁was ▁over ▁. \n",
       "<span style=\"font-weight: bold; display: inline-block; position: relative; height: 60px;\">\n",
       "    ▁Daniel\n",
       "    \n",
       "<span style=\"background: #e01d82; top: 40px; height: 4px; left: -1px; width: calc(100% + 2px); position: absolute;\">\n",
       "</span>\n",
       "\n",
       "    \n",
       "<span style=\"background: #e01d82; top: 40px; height: 4px; border-top-left-radius: 3px; border-bottom-left-radius: 3px; left: -1px; width: calc(100% + 2px); position: absolute;\">\n",
       "    <span style=\"background: #e01d82; z-index: 10; color: #000; top: -0.5em; padding: 2px 3px; position: absolute; font-size: 0.6em; font-weight: bold; line-height: 1; border-radius: 3px\">\n",
       "        B-NAME_STUDENT\n",
       "    </span>\n",
       "</span>\n",
       "\n",
       "\n",
       "</span>\n",
       "▁was ▁a ▁good ▁man ▁, ▁honest ▁and ▁hard ▁- ▁working ▁. ▁What ▁could ▁have ▁possibly ▁driven ▁him ▁to ▁this ▁point ▁? ▁He ▁had ▁always ▁been ▁interested ▁in ▁technology ▁, ▁had ▁lots ▁of ▁computers ▁, ▁electronic ▁toys ▁, ▁video ▁games ▁, ▁even ▁a ▁3 D ▁printer ▁. ▁The ▁last ▁was ▁the ▁catalyst ▁for ▁his ▁ultimate ▁demise ▁having ▁produced ▁the ▁3 D ▁gun ▁that ▁ended ▁his ▁life ▁. ▁His ▁family ▁was ▁aware ▁of ▁his ▁mental ▁downward ▁slide ▁but ▁had ▁no ▁idea ▁of ▁the ▁depths ▁of ▁his ▁despair ▁. ▁He ▁had ▁recently ▁landed ▁a ▁good ▁job ▁at ▁Amazon ▁, ▁he ▁was ▁busy ▁and ▁productive ▁. ▁For ▁the ▁last ▁3 ▁months ▁he ▁had ▁been ▁delivering ▁essentials ▁( ▁and ▁a ▁few ▁luxury ▁items ▁) ▁to ▁law ▁abiding ▁, ▁isolating ▁residents ▁of ▁Northern ▁Virginia ▁. ▁It ▁was ▁respectable ▁work ▁, ▁even ▁lauded ▁from ▁time ▁to ▁time ▁in ▁the ▁news ▁. ▁Some ▁people ▁even ▁said ▁thank ▁you ▁. ▁After ▁an ▁extra ▁long ▁day ▁due ▁to ▁unexpected ▁toilet ▁paper ▁production ▁and ▁Clorox ▁wipes ▁availability ▁, \n",
       "<span style=\"font-weight: bold; display: inline-block; position: relative; height: 60px;\">\n",
       "    ▁Daniel\n",
       "    \n",
       "<span style=\"background: #e01d82; top: 40px; height: 4px; left: -1px; width: calc(100% + 2px); position: absolute;\">\n",
       "</span>\n",
       "\n",
       "    \n",
       "<span style=\"background: #e01d82; top: 40px; height: 4px; border-top-left-radius: 3px; border-bottom-left-radius: 3px; left: -1px; width: calc(100% + 2px); position: absolute;\">\n",
       "    <span style=\"background: #e01d82; z-index: 10; color: #000; top: -0.5em; padding: 2px 3px; position: absolute; font-size: 0.6em; font-weight: bold; line-height: 1; border-radius: 3px\">\n",
       "        B-NAME_STUDENT\n",
       "    </span>\n",
       "</span>\n",
       "\n",
       "\n",
       "</span>\n",
       "▁was ▁asked ▁by ▁his ▁boss ▁, \n",
       "<span style=\"font-weight: bold; display: inline-block; position: relative; height: 60px;\">\n",
       "    ▁Dick\n",
       "    \n",
       "<span style=\"background: #e01d82; top: 40px; height: 4px; left: -1px; width: calc(100% + 2px); position: absolute;\">\n",
       "</span>\n",
       "\n",
       "    \n",
       "<span style=\"background: #e01d82; top: 40px; height: 4px; border-top-left-radius: 3px; border-bottom-left-radius: 3px; left: -1px; width: calc(100% + 2px); position: absolute;\">\n",
       "    <span style=\"background: #e01d82; z-index: 10; color: #000; top: -0.5em; padding: 2px 3px; position: absolute; font-size: 0.6em; font-weight: bold; line-height: 1; border-radius: 3px\">\n",
       "        B-NAME_STUDENT\n",
       "    </span>\n",
       "</span>\n",
       "\n",
       "\n",
       "</span>\n",
       "▁, ▁if ▁he ▁would ▁stay ▁late ▁on ▁a ▁Friday ▁night ▁to ▁load ▁3 ▁trailers ▁with ▁these ▁essentials ▁. ▁Of ▁course \n",
       "<span style=\"font-weight: bold; display: inline-block; position: relative; height: 60px;\">\n",
       "    ▁Daniel\n",
       "    \n",
       "<span style=\"background: #e01d82; top: 40px; height: 4px; left: -1px; width: calc(100% + 2px); position: absolute;\">\n",
       "</span>\n",
       "\n",
       "    \n",
       "<span style=\"background: #e01d82; top: 40px; height: 4px; border-top-left-radius: 3px; border-bottom-left-radius: 3px; left: -1px; width: calc(100% + 2px); position: absolute;\">\n",
       "    <span style=\"background: #e01d82; z-index: 10; color: #000; top: -0.5em; padding: 2px 3px; position: absolute; font-size: 0.6em; font-weight: bold; line-height: 1; border-radius: 3px\">\n",
       "        B-NAME_STUDENT\n",
       "    </span>\n",
       "</span>\n",
       "\n",
       "\n",
       "</span>\n",
       "▁said ▁yes ▁. ▁At ▁midnight ▁, ▁at ▁the ▁end ▁of ▁his ▁10 ▁hour ▁shift ▁, ▁7 ▁days ▁straight ▁and ▁another ▁2 ▁extra ▁hours ▁of ▁unloading ▁, \n",
       "<span style=\"font-weight: bold; display: inline-block; position: relative; height: 60px;\">\n",
       "    ▁Daniel\n",
       "    \n",
       "<span style=\"background: #e01d82; top: 40px; height: 4px; left: -1px; width: calc(100% + 2px); position: absolute;\">\n",
       "</span>\n",
       "\n",
       "    \n",
       "<span style=\"background: #e01d82; top: 40px; height: 4px; border-top-left-radius: 3px; border-bottom-left-radius: 3px; left: -1px; width: calc(100% + 2px); position: absolute;\">\n",
       "    <span style=\"background: #e01d82; z-index: 10; color: #000; top: -0.5em; padding: 2px 3px; position: absolute; font-size: 0.6em; font-weight: bold; line-height: 1; border-radius: 3px\">\n",
       "        B-NAME_STUDENT\n",
       "    </span>\n",
       "</span>\n",
       "\n",
       "\n",
       "</span>\n",
       "▁was ▁able ▁to ▁get ▁in ▁his ▁car ▁and ▁drive ▁the ▁40 ▁minute ▁( ▁at ▁rush ▁hour ▁this ▁would ▁be ▁a ▁90 ▁minute ▁commute ▁) ▁home ▁. ▁On ▁the ▁way ▁, ▁he ▁got ▁a ▁call ▁from \n",
       "<span style=\"font-weight: bold; display: inline-block; position: relative; height: 60px;\">\n",
       "    ▁Dick\n",
       "    \n",
       "<span style=\"background: #e01d82; top: 40px; height: 4px; left: -1px; width: calc(100% + 2px); position: absolute;\">\n",
       "</span>\n",
       "\n",
       "    \n",
       "<span style=\"background: #e01d82; top: 40px; height: 4px; border-top-left-radius: 3px; border-bottom-left-radius: 3px; left: -1px; width: calc(100% + 2px); position: absolute;\">\n",
       "    <span style=\"background: #e01d82; z-index: 10; color: #000; top: -0.5em; padding: 2px 3px; position: absolute; font-size: 0.6em; font-weight: bold; line-height: 1; border-radius: 3px\">\n",
       "        B-NAME_STUDENT\n",
       "    </span>\n",
       "</span>\n",
       "\n",
       "\n",
       "</span>\n",
       "▁. ▁Like ▁a ▁fool ▁, ▁he ▁answered ▁it ▁. ▁“ ▁Would ▁he ▁come ▁to ▁work ▁Saturday ▁and ▁Sunday ▁? ▁ ” ▁Two ▁of ▁his ▁coworkers ▁could ▁not ▁make ▁it ▁. ▁One ▁had ▁just ▁tested ▁positive ▁for ▁CO VID - 19 ▁, ▁the ▁other ▁was ▁going ▁to ▁protest ▁at ▁the ▁White ▁house ▁. \n",
       "<span style=\"font-weight: bold; display: inline-block; position: relative; height: 60px;\">\n",
       "    ▁Daniel\n",
       "    \n",
       "<span style=\"background: #e01d82; top: 40px; height: 4px; left: -1px; width: calc(100% + 2px); position: absolute;\">\n",
       "</span>\n",
       "\n",
       "    \n",
       "<span style=\"background: #e01d82; top: 40px; height: 4px; border-top-left-radius: 3px; border-bottom-left-radius: 3px; left: -1px; width: calc(100% + 2px); position: absolute;\">\n",
       "    <span style=\"background: #e01d82; z-index: 10; color: #000; top: -0.5em; padding: 2px 3px; position: absolute; font-size: 0.6em; font-weight: bold; line-height: 1; border-radius: 3px\">\n",
       "        B-NAME_STUDENT\n",
       "    </span>\n",
       "</span>\n",
       "\n",
       "\n",
       "</span>\n",
       "▁said ▁no ▁. ▁His ▁boss ▁encouraged ▁him ▁with ▁thinly ▁veiled ▁threats ▁and ▁the ▁promise ▁of ▁having ▁to ▁clean ▁the ▁latrine s ▁. \n",
       "<span style=\"font-weight: bold; display: inline-block; position: relative; height: 60px;\">\n",
       "    ▁Daniel\n",
       "    \n",
       "<span style=\"background: #e01d82; top: 40px; height: 4px; left: -1px; width: calc(100% + 2px); position: absolute;\">\n",
       "</span>\n",
       "\n",
       "    \n",
       "<span style=\"background: #e01d82; top: 40px; height: 4px; border-top-left-radius: 3px; border-bottom-left-radius: 3px; left: -1px; width: calc(100% + 2px); position: absolute;\">\n",
       "    <span style=\"background: #e01d82; z-index: 10; color: #000; top: -0.5em; padding: 2px 3px; position: absolute; font-size: 0.6em; font-weight: bold; line-height: 1; border-radius: 3px\">\n",
       "        B-NAME_STUDENT\n",
       "    </span>\n",
       "</span>\n",
       "\n",
       "\n",
       "</span>\n",
       "▁acquiesced ▁. ▁Out ▁of ▁overwhelming ▁frustration ▁, ▁tears ▁emerged ▁in \n",
       "<span style=\"font-weight: bold; display: inline-block; position: relative; height: 60px;\">\n",
       "    ▁Daniel\n",
       "    \n",
       "<span style=\"background: #e01d82; top: 40px; height: 4px; left: -1px; width: calc(100% + 2px); position: absolute;\">\n",
       "</span>\n",
       "\n",
       "    \n",
       "<span style=\"background: #e01d82; top: 40px; height: 4px; border-top-left-radius: 3px; border-bottom-left-radius: 3px; left: -1px; width: calc(100% + 2px); position: absolute;\">\n",
       "    <span style=\"background: #e01d82; z-index: 10; color: #000; top: -0.5em; padding: 2px 3px; position: absolute; font-size: 0.6em; font-weight: bold; line-height: 1; border-radius: 3px\">\n",
       "        B-NAME_STUDENT\n",
       "    </span>\n",
       "</span>\n",
       "\n",
       "\n",
       "</span>\n",
       "▁ ’ s ▁eyes ▁. ▁How ▁much ▁more ▁could ▁he ▁take ▁? ▁He ▁stopped ▁at ▁a ▁red ▁light ▁and ▁collected ▁himself ▁, ▁blew ▁his ▁nose ▁, ▁wiped ▁his ▁eyes ▁, ▁did ▁breathing ▁exercises ▁, ▁found ▁a ▁good ▁song ▁on ▁the ▁radio ▁and ▁eventually ▁focused ▁on ▁the ▁road ▁. ▁He ▁noticed ▁no ▁one ▁was ▁there ▁. ▁Had ▁anyone ▁ever ▁been ▁there ▁? ▁Why ▁was ▁the ▁light ▁still ▁red ▁? ▁Should ▁he ▁run ▁it ▁? ▁No ▁. ▁His ▁nephew ▁was ▁killed ▁by ▁a ▁frustrated ▁driver ▁running ▁a ▁red ▁light ▁that ▁took ▁too ▁long ▁to ▁change ▁, \n",
       "<span style=\"font-weight: bold; display: inline-block; position: relative; height: 60px;\">\n",
       "    ▁Daniel\n",
       "    \n",
       "<span style=\"background: #e01d82; top: 40px; height: 4px; left: -1px; width: calc(100% + 2px); position: absolute;\">\n",
       "</span>\n",
       "\n",
       "    \n",
       "<span style=\"background: #e01d82; top: 40px; height: 4px; border-top-left-radius: 3px; border-bottom-left-radius: 3px; left: -1px; width: calc(100% + 2px); position: absolute;\">\n",
       "    <span style=\"background: #e01d82; z-index: 10; color: #000; top: -0.5em; padding: 2px 3px; position: absolute; font-size: 0.6em; font-weight: bold; line-height: 1; border-radius: 3px\">\n",
       "        B-NAME_STUDENT\n",
       "    </span>\n",
       "</span>\n",
       "\n",
       "\n",
       "</span>\n",
       "▁would ▁not ▁sink ▁that ▁low ▁. ▁He ▁waited ▁. ▁Still ▁no ▁one ▁came ▁. ▁Eventually ▁, ▁the ▁light ▁changed ▁. \n",
       "<span style=\"font-weight: bold; display: inline-block; position: relative; height: 60px;\">\n",
       "    ▁Daniel\n",
       "    \n",
       "<span style=\"background: #e01d82; top: 40px; height: 4px; left: -1px; width: calc(100% + 2px); position: absolute;\">\n",
       "</span>\n",
       "\n",
       "    \n",
       "<span style=\"background: #e01d82; top: 40px; height: 4px; border-top-left-radius: 3px; border-bottom-left-radius: 3px; left: -1px; width: calc(100% + 2px); position: absolute;\">\n",
       "    <span style=\"background: #e01d82; z-index: 10; color: #000; top: -0.5em; padding: 2px 3px; position: absolute; font-size: 0.6em; font-weight: bold; line-height: 1; border-radius: 3px\">\n",
       "        B-NAME_STUDENT\n",
       "    </span>\n",
       "</span>\n",
       "\n",
       "\n",
       "</span>\n",
       "▁drove ▁. 36 ▁miles ▁to ▁the ▁next ▁light ▁which ▁was ▁yellow ▁and ▁turning ▁red ▁. ▁He ▁stopped ▁. ▁One ▁car ▁came ▁out ▁of ▁the ▁side ▁street ▁. ▁The ▁light ▁remained ▁red ▁for ▁85 ▁more ▁seconds ▁, ▁an ▁eternity ▁at ▁12 : 39 AM ▁on ▁an ▁empty ▁street ▁in ▁Fairfax ▁, ▁VA ▁. ▁Green ▁. \n",
       "<span style=\"font-weight: bold; display: inline-block; position: relative; height: 60px;\">\n",
       "    ▁Daniel\n",
       "    \n",
       "<span style=\"background: #e01d82; top: 40px; height: 4px; left: -1px; width: calc(100% + 2px); position: absolute;\">\n",
       "</span>\n",
       "\n",
       "    \n",
       "<span style=\"background: #e01d82; top: 40px; height: 4px; border-top-left-radius: 3px; border-bottom-left-radius: 3px; left: -1px; width: calc(100% + 2px); position: absolute;\">\n",
       "    <span style=\"background: #e01d82; z-index: 10; color: #000; top: -0.5em; padding: 2px 3px; position: absolute; font-size: 0.6em; font-weight: bold; line-height: 1; border-radius: 3px\">\n",
       "        B-NAME_STUDENT\n",
       "    </span>\n",
       "</span>\n",
       "\n",
       "\n",
       "</span>\n",
       "▁floored ▁it ▁, ▁hoping ▁to ▁make ▁the ▁next ▁light ▁just ▁before ▁his ▁house ▁. ▁No ▁Dice ▁, ▁. 7 ▁miles ▁later ▁his ▁last ▁traffic ▁light ▁was ▁red ▁. ▁Again ▁, ▁one ▁car ▁passed ▁, ▁the ▁light ▁remained ▁red ▁, \n",
       "<span style=\"font-weight: bold; display: inline-block; position: relative; height: 60px;\">\n",
       "    ▁Daniel\n",
       "    \n",
       "<span style=\"background: #e01d82; top: 40px; height: 4px; left: -1px; width: calc(100% + 2px); position: absolute;\">\n",
       "</span>\n",
       "\n",
       "    \n",
       "<span style=\"background: #e01d82; top: 40px; height: 4px; border-top-left-radius: 3px; border-bottom-left-radius: 3px; left: -1px; width: calc(100% + 2px); position: absolute;\">\n",
       "    <span style=\"background: #e01d82; z-index: 10; color: #000; top: -0.5em; padding: 2px 3px; position: absolute; font-size: 0.6em; font-weight: bold; line-height: 1; border-radius: 3px\">\n",
       "        B-NAME_STUDENT\n",
       "    </span>\n",
       "</span>\n",
       "\n",
       "\n",
       "</span>\n",
       "▁saw ▁RED ▁. ▁He ▁was ▁livid ▁, ▁beyond ▁consoling ▁and ▁unable ▁to ▁cope ▁. ▁55 ▁seconds ▁later ▁when ▁the ▁light ▁turned ▁green \n",
       "<span style=\"font-weight: bold; display: inline-block; position: relative; height: 60px;\">\n",
       "    ▁Daniel\n",
       "    \n",
       "<span style=\"background: #e01d82; top: 40px; height: 4px; left: -1px; width: calc(100% + 2px); position: absolute;\">\n",
       "</span>\n",
       "\n",
       "    \n",
       "<span style=\"background: #e01d82; top: 40px; height: 4px; border-top-left-radius: 3px; border-bottom-left-radius: 3px; left: -1px; width: calc(100% + 2px); position: absolute;\">\n",
       "    <span style=\"background: #e01d82; z-index: 10; color: #000; top: -0.5em; padding: 2px 3px; position: absolute; font-size: 0.6em; font-weight: bold; line-height: 1; border-radius: 3px\">\n",
       "        B-NAME_STUDENT\n",
       "    </span>\n",
       "</span>\n",
       "\n",
       "\n",
       "</span>\n",
       "▁accelerated ▁to ▁95 ▁miles ▁an ▁hour ▁, ▁drove ▁. 2 ▁miles ▁to ▁his ▁driveway ▁and ▁took ▁his ▁own ▁life ▁. ▁Sense less ▁. ▁If ▁only ▁there ▁had ▁been ▁adaptive ▁smart ▁- ▁traffic ▁lights ▁installed ▁; \n",
       "<span style=\"font-weight: bold; display: inline-block; position: relative; height: 60px;\">\n",
       "    ▁Daniel\n",
       "    \n",
       "<span style=\"background: #e01d82; top: 40px; height: 4px; left: -1px; width: calc(100% + 2px); position: absolute;\">\n",
       "</span>\n",
       "\n",
       "    \n",
       "<span style=\"background: #e01d82; top: 40px; height: 4px; border-top-left-radius: 3px; border-bottom-left-radius: 3px; left: -1px; width: calc(100% + 2px); position: absolute;\">\n",
       "    <span style=\"background: #e01d82; z-index: 10; color: #000; top: -0.5em; padding: 2px 3px; position: absolute; font-size: 0.6em; font-weight: bold; line-height: 1; border-radius: 3px\">\n",
       "        B-NAME_STUDENT\n",
       "    </span>\n",
       "</span>\n",
       "\n",
       "\n",
       "</span>\n",
       "▁and ▁many ▁others ▁could ▁have ▁been ▁saved ▁. ▁4 ▁. ▁Insight ▁Given ▁the ▁limitless ▁creativity ▁of ▁storytelling ▁, ▁I ▁decided ▁to ▁try ▁something ▁out ▁of ▁character ▁for ▁me ▁. ▁It ▁was ▁a ▁blast ▁! ▁I ▁thoroughly ▁enjoyed ▁the ▁process ▁. ▁I ▁have ▁so ▁little ▁hope ▁of ▁actually ▁seeing ▁smart ▁- ▁traffic ▁lights ▁come ▁to ▁fruition ▁, ▁that ▁the ▁ability ▁to ▁add ▁humor ▁and ▁sarcasm ▁to ▁the ▁situation ▁makes ▁up ▁for ▁my ▁fear ▁of ▁ultimate ▁rejection ▁. ▁It ▁gave ▁me ▁the ▁motivation ▁to ▁give ▁it ▁a ▁try ▁and ▁see ▁it ▁through ▁, ▁even ▁if ▁I ▁might ▁not ▁have ▁the ▁nerve ▁to ▁use ▁it ▁. ▁It ▁enlightened ▁me ▁to ▁look ▁for ▁stories ▁of ▁the ▁people ▁who ▁will ▁benefit ▁from ▁an ▁efficient ▁traffic ▁flow ▁. ▁Stories ▁may ▁be ▁the ▁key ▁to ▁motivating ▁decision ▁makers ▁to ▁approve ▁( ▁and ▁fund ▁) ▁a ▁traffic ▁trial ▁. ▁I ▁found ▁this ▁course ▁to ▁be ▁very ▁well ▁organized ▁, ▁interesting ▁and ▁even ▁more ▁helpful ▁with ▁the ▁use ▁of ▁this ▁assignment ▁. ▁I ▁like ▁how ▁it ▁often ▁refers ▁to ▁the ▁What Is What If What Wow s What Works ▁graph ▁because ▁that ▁is ▁incredibly ▁useful ▁and ▁easy ▁to ▁remember ▁. ▁I ▁am ▁still ▁in ▁the ▁What Is ▁phase ▁, ▁but ▁keeping ▁that ▁in ▁mind ▁helps ▁me ▁see ▁that ▁I ▁have ▁3 ▁more ▁steps ▁to ▁go ▁through ▁. . . ▁and ▁not ▁to ▁mix ▁them ▁up ▁. ▁Thank ▁you ▁! ▁5 ▁. ▁Approach ▁An ▁alternative ▁approach ▁is ▁the ▁Learning ▁Launch ▁for ▁a ▁clinical ▁trial ▁at ▁a ▁test ▁intersection ▁to ▁determine ▁real ▁life ▁data ▁and ▁improvement ▁potential ▁. ▁Being ▁able ▁to ▁show ▁the ▁wasted ▁time ▁from ▁every ▁road ▁direction ▁at ▁initial ▁installation ▁. ▁Then ▁compare ▁that ▁to ▁an ▁automated ▁, ▁adaptive ▁light ▁to ▁demonstrate ▁the ▁benefit ▁. ▁Analysis ▁of ▁pedestrians ▁and ▁bicycles ▁would ▁help ▁understand ▁the ▁need ▁to ▁develop ▁safe ▁algorithms ▁at ▁crossings ▁, ▁and ▁to ▁encourage ▁fuel ▁efficient ▁modes ▁of ▁transportation ▁. ▁The ▁reason ▁to ▁do ▁a ▁learning ▁launch ▁is ▁to ▁demonstrate ▁that ▁the ▁hardware ▁exists ▁, ▁the ▁software ▁will ▁communicate ▁with ▁existing ▁systems ▁, ▁that ▁efficiency ▁can ▁be ▁increased ▁at ▁the ▁simplest ▁intersection ▁. ▁Once ▁we ▁prove ▁all ▁the ▁pieces ▁are ▁in ▁place ▁, ▁we ▁can ▁expand ▁. ▁Seeing ▁the ▁flow ▁of ▁a ▁highly ▁efficient ▁intersection ▁will ▁benefit ▁us ▁all ▁. ▁Drivers ▁will ▁be ▁more ▁content ▁, ▁the ▁EPA ▁will ▁have ▁better ▁emissions ▁and ▁pollution ▁tests ▁, ▁employers ▁will ▁be ▁able ▁to ▁hire ▁people ▁from ▁farther ▁away ▁, ▁politicians ▁can ▁use ▁it ▁as ▁a ▁campaign ▁promise ▁/ ▁delivery ▁, ▁police ▁will ▁not ▁have ▁to ▁pull ▁over ▁frustrated ▁and ▁unstable ▁drivers ▁and ▁most ▁importantly ▁, \n",
       "<span style=\"font-weight: bold; display: inline-block; position: relative; height: 60px;\">\n",
       "    ▁Daniel\n",
       "    \n",
       "<span style=\"background: #e01d82; top: 40px; height: 4px; left: -1px; width: calc(100% + 2px); position: absolute;\">\n",
       "</span>\n",
       "\n",
       "    \n",
       "<span style=\"background: #e01d82; top: 40px; height: 4px; border-top-left-radius: 3px; border-bottom-left-radius: 3px; left: -1px; width: calc(100% + 2px); position: absolute;\">\n",
       "    <span style=\"background: #e01d82; z-index: 10; color: #000; top: -0.5em; padding: 2px 3px; position: absolute; font-size: 0.6em; font-weight: bold; line-height: 1; border-radius: 3px\">\n",
       "        B-NAME_STUDENT\n",
       "    </span>\n",
       "</span>\n",
       "\n",
       "\n",
       "</span>\n",
       "▁would ▁still ▁be ▁with ▁us ▁. [SEP] </div></span>"
      ],
      "text/plain": [
       "<IPython.core.display.HTML object>"
      ]
     },
     "metadata": {},
     "output_type": "display_data"
    }
   ],
   "source": [
    "visualize_label(nlp, doc, cur_tokens, cur_token_labels, options = options_pii)"
   ]
  },
  {
   "cell_type": "code",
   "execution_count": 120,
   "id": "19e4545b-4398-4c5c-8c0a-6f8aebf15a91",
   "metadata": {},
   "outputs": [
    {
     "data": {
      "text/html": [
       "<span class=\"tex2jax_ignore\"><div class=\"spans\" style=\"line-height: 2.5; direction: ltr\">1 . Challenge \n",
       "\n",
       " In order to shorten commutes , save gas , reduce emissions and enhance the mental well being of residents of   Virginia I would like to work with VDOT to better time traffic signals to maximize efficiency .   The ability to track   vehicle , pedestrian and bicycle traffic and adapt traffic control to increase traffic flow while ensuring multimodal   safety is critical and possible given the advancement in technology .   My cell phone hardware has the video and   processing power to easily solve this problem .     Why has n’t it been done ? \n",
       "\n",
       " 2 . Selection \n",
       "\n",
       " I chose Storytelling for the tool to convey the need for Smart Traffic Controls .   The section of the class describing   how executives sit in an office all day waiting to hear something that compels them motivated me to try an   approach which I have never used , but thought I could learn something from trying a new technique .   The   notion that presenters only get 20 % of a person ’s attention during their pitch impacted me to try using   storytelling to inspire , “ to make this challenge a cause ” . \n",
       "\n",
       " 3 . Application \n",
       "\n",
       " At the next Fairfax County Transportation Advisory Committee meeting , I would like to submit the following   ( fictitious ) story : \n",
       "\n",
       " No one knew why \n",
       "<span style=\"font-weight: bold; display: inline-block; position: relative; height: 60px;\">\n",
       "    Daniel\n",
       "    \n",
       "<span style=\"background: #e01d82; top: 40px; height: 4px; left: -1px; width: calc(100% + 2px); position: absolute;\">\n",
       "</span>\n",
       "\n",
       "    \n",
       "<span style=\"background: #e01d82; top: 40px; height: 4px; border-top-left-radius: 3px; border-bottom-left-radius: 3px; left: -1px; width: calc(100% + 2px); position: absolute;\">\n",
       "    <span style=\"background: #e01d82; z-index: 10; color: #000; top: -0.5em; padding: 2px 3px; position: absolute; font-size: 0.6em; font-weight: bold; line-height: 1; border-radius: 3px\">\n",
       "        B-NAME_STUDENT\n",
       "    </span>\n",
       "</span>\n",
       "\n",
       "\n",
       "</span>\n",
       "\n",
       "<span style=\"font-weight: bold; display: inline-block; position: relative; height: 60px;\">\n",
       "    Q\n",
       "    \n",
       "<span style=\"background: #eb83b9; top: 40px; height: 4px; left: -1px; width: calc(100% + 2px); position: absolute;\">\n",
       "</span>\n",
       "\n",
       "    \n",
       "<span style=\"background: #eb83b9; top: 40px; height: 4px; border-top-left-radius: 3px; border-bottom-left-radius: 3px; left: -1px; width: calc(100% + 2px); position: absolute;\">\n",
       "    <span style=\"background: #eb83b9; z-index: 10; color: #000; top: -0.5em; padding: 2px 3px; position: absolute; font-size: 0.6em; font-weight: bold; line-height: 1; border-radius: 3px\">\n",
       "        I-NAME_STUDENT\n",
       "    </span>\n",
       "</span>\n",
       "\n",
       "\n",
       "</span>\n",
       "\n",
       "<span style=\"font-weight: bold; display: inline-block; position: relative; height: 60px;\">\n",
       "    Schneider\n",
       "    \n",
       "<span style=\"background: #eb83b9; top: 40px; height: 4px; left: -1px; width: calc(100% + 2px); position: absolute;\">\n",
       "</span>\n",
       "\n",
       "    \n",
       "<span style=\"background: #eb83b9; top: 40px; height: 4px; border-top-left-radius: 3px; border-bottom-left-radius: 3px; left: -1px; width: calc(100% + 2px); position: absolute;\">\n",
       "    <span style=\"background: #eb83b9; z-index: 10; color: #000; top: -0.5em; padding: 2px 3px; position: absolute; font-size: 0.6em; font-weight: bold; line-height: 1; border-radius: 3px\">\n",
       "        I-NAME_STUDENT\n",
       "    </span>\n",
       "</span>\n",
       "\n",
       "\n",
       "</span>\n",
       "killed himself in the early morning hours on July 10 , 2020 .   He was found   in his car with a bullet in his head , in his driveway after his work shift was over .   \n",
       "<span style=\"font-weight: bold; display: inline-block; position: relative; height: 60px;\">\n",
       "    Daniel\n",
       "    \n",
       "<span style=\"background: #e01d82; top: 40px; height: 4px; left: -1px; width: calc(100% + 2px); position: absolute;\">\n",
       "</span>\n",
       "\n",
       "    \n",
       "<span style=\"background: #e01d82; top: 40px; height: 4px; border-top-left-radius: 3px; border-bottom-left-radius: 3px; left: -1px; width: calc(100% + 2px); position: absolute;\">\n",
       "    <span style=\"background: #e01d82; z-index: 10; color: #000; top: -0.5em; padding: 2px 3px; position: absolute; font-size: 0.6em; font-weight: bold; line-height: 1; border-radius: 3px\">\n",
       "        B-NAME_STUDENT\n",
       "    </span>\n",
       "</span>\n",
       "\n",
       "\n",
       "</span>\n",
       "was a good man , honest   and hard - working .   What could have possibly driven him to this point ?    He had always been interested in   technology , had lots of computers , electronic toys , video games , even a 3D printer .   The last was the catalyst for   his ultimate demise having produced the 3D gun that ended his life .   His family was aware of his mental   downward slide but had no idea of the depths of his despair .   He had recently landed a good job at Amazon , he   was busy and productive .   For the last 3 months he had been delivering essentials ( and a few luxury items ) to   law abiding , isolating residents of Northern Virginia .   It was respectable work , even lauded from time to time in   the news .   Some people even said thank you . \n",
       "\n",
       " After an extra long day due to unexpected toilet paper production and Clorox wipes availability , \n",
       "<span style=\"font-weight: bold; display: inline-block; position: relative; height: 60px;\">\n",
       "    Daniel\n",
       "    \n",
       "<span style=\"background: #e01d82; top: 40px; height: 4px; left: -1px; width: calc(100% + 2px); position: absolute;\">\n",
       "</span>\n",
       "\n",
       "    \n",
       "<span style=\"background: #e01d82; top: 40px; height: 4px; border-top-left-radius: 3px; border-bottom-left-radius: 3px; left: -1px; width: calc(100% + 2px); position: absolute;\">\n",
       "    <span style=\"background: #e01d82; z-index: 10; color: #000; top: -0.5em; padding: 2px 3px; position: absolute; font-size: 0.6em; font-weight: bold; line-height: 1; border-radius: 3px\">\n",
       "        B-NAME_STUDENT\n",
       "    </span>\n",
       "</span>\n",
       "\n",
       "\n",
       "</span>\n",
       "was   asked by his boss , \n",
       "<span style=\"font-weight: bold; display: inline-block; position: relative; height: 60px;\">\n",
       "    Dick\n",
       "    \n",
       "<span style=\"background: #e01d82; top: 40px; height: 4px; left: -1px; width: calc(100% + 2px); position: absolute;\">\n",
       "</span>\n",
       "\n",
       "    \n",
       "<span style=\"background: #e01d82; top: 40px; height: 4px; border-top-left-radius: 3px; border-bottom-left-radius: 3px; left: -1px; width: calc(100% + 2px); position: absolute;\">\n",
       "    <span style=\"background: #e01d82; z-index: 10; color: #000; top: -0.5em; padding: 2px 3px; position: absolute; font-size: 0.6em; font-weight: bold; line-height: 1; border-radius: 3px\">\n",
       "        B-NAME_STUDENT\n",
       "    </span>\n",
       "</span>\n",
       "\n",
       "\n",
       "</span>\n",
       ", if he would stay late on a Friday night to load 3 trailers with these essentials .   Of course   \n",
       "<span style=\"font-weight: bold; display: inline-block; position: relative; height: 60px;\">\n",
       "    Daniel\n",
       "    \n",
       "<span style=\"background: #e01d82; top: 40px; height: 4px; left: -1px; width: calc(100% + 2px); position: absolute;\">\n",
       "</span>\n",
       "\n",
       "    \n",
       "<span style=\"background: #e01d82; top: 40px; height: 4px; border-top-left-radius: 3px; border-bottom-left-radius: 3px; left: -1px; width: calc(100% + 2px); position: absolute;\">\n",
       "    <span style=\"background: #e01d82; z-index: 10; color: #000; top: -0.5em; padding: 2px 3px; position: absolute; font-size: 0.6em; font-weight: bold; line-height: 1; border-radius: 3px\">\n",
       "        B-NAME_STUDENT\n",
       "    </span>\n",
       "</span>\n",
       "\n",
       "\n",
       "</span>\n",
       "said yes .   At midnight , at the end of his 10 hour shift ,   7 days straight and another 2 extra hours of   unloading , \n",
       "<span style=\"font-weight: bold; display: inline-block; position: relative; height: 60px;\">\n",
       "    Daniel\n",
       "    \n",
       "<span style=\"background: #e01d82; top: 40px; height: 4px; left: -1px; width: calc(100% + 2px); position: absolute;\">\n",
       "</span>\n",
       "\n",
       "    \n",
       "<span style=\"background: #e01d82; top: 40px; height: 4px; border-top-left-radius: 3px; border-bottom-left-radius: 3px; left: -1px; width: calc(100% + 2px); position: absolute;\">\n",
       "    <span style=\"background: #e01d82; z-index: 10; color: #000; top: -0.5em; padding: 2px 3px; position: absolute; font-size: 0.6em; font-weight: bold; line-height: 1; border-radius: 3px\">\n",
       "        B-NAME_STUDENT\n",
       "    </span>\n",
       "</span>\n",
       "\n",
       "\n",
       "</span>\n",
       "was able to get in his car and drive the 40 minute ( at rush hour this would be a 90 minute   commute ) home .    On the way , he got a call from \n",
       "<span style=\"font-weight: bold; display: inline-block; position: relative; height: 60px;\">\n",
       "    Dick\n",
       "    \n",
       "<span style=\"background: #e01d82; top: 40px; height: 4px; left: -1px; width: calc(100% + 2px); position: absolute;\">\n",
       "</span>\n",
       "\n",
       "    \n",
       "<span style=\"background: #e01d82; top: 40px; height: 4px; border-top-left-radius: 3px; border-bottom-left-radius: 3px; left: -1px; width: calc(100% + 2px); position: absolute;\">\n",
       "    <span style=\"background: #e01d82; z-index: 10; color: #000; top: -0.5em; padding: 2px 3px; position: absolute; font-size: 0.6em; font-weight: bold; line-height: 1; border-radius: 3px\">\n",
       "        B-NAME_STUDENT\n",
       "    </span>\n",
       "</span>\n",
       "\n",
       "\n",
       "</span>\n",
       ".   Like a fool , he answered it .   “ Would he come to work   Saturday and Sunday ? ”   Two of his coworkers could not make it .   One had just tested positive for COVID-19 , the   other was going to protest at the White house .   \n",
       "<span style=\"font-weight: bold; display: inline-block; position: relative; height: 60px;\">\n",
       "    Daniel\n",
       "    \n",
       "<span style=\"background: #e01d82; top: 40px; height: 4px; left: -1px; width: calc(100% + 2px); position: absolute;\">\n",
       "</span>\n",
       "\n",
       "    \n",
       "<span style=\"background: #e01d82; top: 40px; height: 4px; border-top-left-radius: 3px; border-bottom-left-radius: 3px; left: -1px; width: calc(100% + 2px); position: absolute;\">\n",
       "    <span style=\"background: #e01d82; z-index: 10; color: #000; top: -0.5em; padding: 2px 3px; position: absolute; font-size: 0.6em; font-weight: bold; line-height: 1; border-radius: 3px\">\n",
       "        B-NAME_STUDENT\n",
       "    </span>\n",
       "</span>\n",
       "\n",
       "\n",
       "</span>\n",
       "said no .   His boss encouraged him with thinly veiled   threats and the promise of having to clean the latrines .   \n",
       "<span style=\"font-weight: bold; display: inline-block; position: relative; height: 60px;\">\n",
       "    Daniel\n",
       "    \n",
       "<span style=\"background: #e01d82; top: 40px; height: 4px; left: -1px; width: calc(100% + 2px); position: absolute;\">\n",
       "</span>\n",
       "\n",
       "    \n",
       "<span style=\"background: #e01d82; top: 40px; height: 4px; border-top-left-radius: 3px; border-bottom-left-radius: 3px; left: -1px; width: calc(100% + 2px); position: absolute;\">\n",
       "    <span style=\"background: #e01d82; z-index: 10; color: #000; top: -0.5em; padding: 2px 3px; position: absolute; font-size: 0.6em; font-weight: bold; line-height: 1; border-radius: 3px\">\n",
       "        B-NAME_STUDENT\n",
       "    </span>\n",
       "</span>\n",
       "\n",
       "\n",
       "</span>\n",
       "acquiesced . \n",
       "\n",
       " Out of overwhelming frustration , tears emerged in \n",
       "<span style=\"font-weight: bold; display: inline-block; position: relative; height: 60px;\">\n",
       "    Daniel\n",
       "    \n",
       "<span style=\"background: #e01d82; top: 40px; height: 4px; left: -1px; width: calc(100% + 2px); position: absolute;\">\n",
       "</span>\n",
       "\n",
       "    \n",
       "<span style=\"background: #e01d82; top: 40px; height: 4px; border-top-left-radius: 3px; border-bottom-left-radius: 3px; left: -1px; width: calc(100% + 2px); position: absolute;\">\n",
       "    <span style=\"background: #e01d82; z-index: 10; color: #000; top: -0.5em; padding: 2px 3px; position: absolute; font-size: 0.6em; font-weight: bold; line-height: 1; border-radius: 3px\">\n",
       "        B-NAME_STUDENT\n",
       "    </span>\n",
       "</span>\n",
       "\n",
       "\n",
       "</span>\n",
       "’s eyes .   How much more could he take ?   He stopped   at a red light and collected himself , blew his nose , wiped his eyes , did breathing exercises , found a good song on   the radio and eventually focused on the road .   He noticed no one was there .   Had anyone ever been there ?   Why   was the light still red ?   Should he run it ?   No .   His nephew was killed by a frustrated driver running a red light   that took too long to change , \n",
       "<span style=\"font-weight: bold; display: inline-block; position: relative; height: 60px;\">\n",
       "    Daniel\n",
       "    \n",
       "<span style=\"background: #e01d82; top: 40px; height: 4px; left: -1px; width: calc(100% + 2px); position: absolute;\">\n",
       "</span>\n",
       "\n",
       "    \n",
       "<span style=\"background: #e01d82; top: 40px; height: 4px; border-top-left-radius: 3px; border-bottom-left-radius: 3px; left: -1px; width: calc(100% + 2px); position: absolute;\">\n",
       "    <span style=\"background: #e01d82; z-index: 10; color: #000; top: -0.5em; padding: 2px 3px; position: absolute; font-size: 0.6em; font-weight: bold; line-height: 1; border-radius: 3px\">\n",
       "        B-NAME_STUDENT\n",
       "    </span>\n",
       "</span>\n",
       "\n",
       "\n",
       "</span>\n",
       "would not sink that low .   He waited .   Still no one came .   Eventually , the light   changed .   \n",
       "<span style=\"font-weight: bold; display: inline-block; position: relative; height: 60px;\">\n",
       "    Daniel\n",
       "    \n",
       "<span style=\"background: #e01d82; top: 40px; height: 4px; left: -1px; width: calc(100% + 2px); position: absolute;\">\n",
       "</span>\n",
       "\n",
       "    \n",
       "<span style=\"background: #e01d82; top: 40px; height: 4px; border-top-left-radius: 3px; border-bottom-left-radius: 3px; left: -1px; width: calc(100% + 2px); position: absolute;\">\n",
       "    <span style=\"background: #e01d82; z-index: 10; color: #000; top: -0.5em; padding: 2px 3px; position: absolute; font-size: 0.6em; font-weight: bold; line-height: 1; border-radius: 3px\">\n",
       "        B-NAME_STUDENT\n",
       "    </span>\n",
       "</span>\n",
       "\n",
       "\n",
       "</span>\n",
       "drove .36 miles to the next light which was yellow and turning red .   He stopped .   One car came   out of the side street .   The light remained red for 85 more seconds , an eternity at 12:39AM on an empty street   in Fairfax , VA .   Green .   \n",
       "<span style=\"font-weight: bold; display: inline-block; position: relative; height: 60px;\">\n",
       "    Daniel\n",
       "    \n",
       "<span style=\"background: #e01d82; top: 40px; height: 4px; left: -1px; width: calc(100% + 2px); position: absolute;\">\n",
       "</span>\n",
       "\n",
       "    \n",
       "<span style=\"background: #e01d82; top: 40px; height: 4px; border-top-left-radius: 3px; border-bottom-left-radius: 3px; left: -1px; width: calc(100% + 2px); position: absolute;\">\n",
       "    <span style=\"background: #e01d82; z-index: 10; color: #000; top: -0.5em; padding: 2px 3px; position: absolute; font-size: 0.6em; font-weight: bold; line-height: 1; border-radius: 3px\">\n",
       "        B-NAME_STUDENT\n",
       "    </span>\n",
       "</span>\n",
       "\n",
       "\n",
       "</span>\n",
       "floored it , hoping to make the next light just before his house .   No Dice , .7 miles   later his last traffic light was red .   Again , one car passed , the light remained red , \n",
       "<span style=\"font-weight: bold; display: inline-block; position: relative; height: 60px;\">\n",
       "    Daniel\n",
       "    \n",
       "<span style=\"background: #e01d82; top: 40px; height: 4px; left: -1px; width: calc(100% + 2px); position: absolute;\">\n",
       "</span>\n",
       "\n",
       "    \n",
       "<span style=\"background: #e01d82; top: 40px; height: 4px; border-top-left-radius: 3px; border-bottom-left-radius: 3px; left: -1px; width: calc(100% + 2px); position: absolute;\">\n",
       "    <span style=\"background: #e01d82; z-index: 10; color: #000; top: -0.5em; padding: 2px 3px; position: absolute; font-size: 0.6em; font-weight: bold; line-height: 1; border-radius: 3px\">\n",
       "        B-NAME_STUDENT\n",
       "    </span>\n",
       "</span>\n",
       "\n",
       "\n",
       "</span>\n",
       "saw RED .   He was livid ,   beyond consoling and unable to cope .   55 seconds later when the light turned green \n",
       "<span style=\"font-weight: bold; display: inline-block; position: relative; height: 60px;\">\n",
       "    Daniel\n",
       "    \n",
       "<span style=\"background: #e01d82; top: 40px; height: 4px; left: -1px; width: calc(100% + 2px); position: absolute;\">\n",
       "</span>\n",
       "\n",
       "    \n",
       "<span style=\"background: #e01d82; top: 40px; height: 4px; border-top-left-radius: 3px; border-bottom-left-radius: 3px; left: -1px; width: calc(100% + 2px); position: absolute;\">\n",
       "    <span style=\"background: #e01d82; z-index: 10; color: #000; top: -0.5em; padding: 2px 3px; position: absolute; font-size: 0.6em; font-weight: bold; line-height: 1; border-radius: 3px\">\n",
       "        B-NAME_STUDENT\n",
       "    </span>\n",
       "</span>\n",
       "\n",
       "\n",
       "</span>\n",
       "accelerated to 95   miles an hour , drove .2 miles to his driveway and took his own life .   Senseless .   If only there had been adaptive   smart - traffic lights installed ; \n",
       "<span style=\"font-weight: bold; display: inline-block; position: relative; height: 60px;\">\n",
       "    Daniel\n",
       "    \n",
       "<span style=\"background: #e01d82; top: 40px; height: 4px; left: -1px; width: calc(100% + 2px); position: absolute;\">\n",
       "</span>\n",
       "\n",
       "    \n",
       "<span style=\"background: #e01d82; top: 40px; height: 4px; border-top-left-radius: 3px; border-bottom-left-radius: 3px; left: -1px; width: calc(100% + 2px); position: absolute;\">\n",
       "    <span style=\"background: #e01d82; z-index: 10; color: #000; top: -0.5em; padding: 2px 3px; position: absolute; font-size: 0.6em; font-weight: bold; line-height: 1; border-radius: 3px\">\n",
       "        B-NAME_STUDENT\n",
       "    </span>\n",
       "</span>\n",
       "\n",
       "\n",
       "</span>\n",
       "and many others could have been saved . \n",
       "\n",
       " 4 . Insight \n",
       "\n",
       " Given the limitless creativity of storytelling , I decided to try something out of character for me .   It was a blast !   I   thoroughly enjoyed the process .   I have so little hope of actually seeing smart - traffic lights come to fruition , that \n",
       "\n",
       " the ability to add humor and sarcasm to the situation makes up for my fear of ultimate rejection .   It gave me the   motivation to give it a try and see it through , even if I might not have the nerve to use it .   It enlightened me to   look for stories of the people who will benefit from an efficient traffic flow .   Stories may be the key to motivating   decision makers to approve ( and fund ) a traffic trial .   I found this course to be very well organized , interesting and even more helpful with the use of this assignment .    I like how it often refers to the WhatIsWhatIfWhatWowsWhatWorks graph because that is incredibly useful and   easy to remember .   I am still in the WhatIs phase , but keeping that in mind helps me see that I have 3 more   steps to go through … and not to mix them up .   Thank you ! \n",
       "\n",
       " 5 . Approach \n",
       "\n",
       " An alternative approach is the Learning Launch for a clinical trial at a test intersection to determine real life data   and improvement potential .   Being able to show the wasted time from every road direction at initial installation .    Then compare that to an automated , adaptive light to demonstrate the benefit .   Analysis of pedestrians and   bicycles would help understand the need to develop safe algorithms at crossings , and to encourage fuel efficient   modes of transportation .   The reason to do a learning launch is to demonstrate that the hardware exists , the   software will communicate with existing systems , that efficiency can be increased at the simplest intersection .    Once we prove all the pieces are in place , we can expand .   Seeing the flow of a highly efficient intersection will   benefit us all .   Drivers will be more content , the EPA will have better emissions and pollution tests , employers   will be able to hire people from farther away , politicians can use it as a campaign promise / delivery , police will   not have to pull over frustrated and unstable drivers and most importantly , \n",
       "<span style=\"font-weight: bold; display: inline-block; position: relative; height: 60px;\">\n",
       "    Daniel\n",
       "    \n",
       "<span style=\"background: #e01d82; top: 40px; height: 4px; left: -1px; width: calc(100% + 2px); position: absolute;\">\n",
       "</span>\n",
       "\n",
       "    \n",
       "<span style=\"background: #e01d82; top: 40px; height: 4px; border-top-left-radius: 3px; border-bottom-left-radius: 3px; left: -1px; width: calc(100% + 2px); position: absolute;\">\n",
       "    <span style=\"background: #e01d82; z-index: 10; color: #000; top: -0.5em; padding: 2px 3px; position: absolute; font-size: 0.6em; font-weight: bold; line-height: 1; border-radius: 3px\">\n",
       "        B-NAME_STUDENT\n",
       "    </span>\n",
       "</span>\n",
       "\n",
       "\n",
       "</span>\n",
       "would still be with us . \n",
       "\n",
       " </div></span>"
      ],
      "text/plain": [
       "<IPython.core.display.HTML object>"
      ]
     },
     "metadata": {},
     "output_type": "display_data"
    }
   ],
   "source": [
    "doc = nlp(cur_text)\n",
    "visualize_label(nlp, doc, cur_words, cur_pred_words, options = options_pii)"
   ]
  },
  {
   "cell_type": "code",
   "execution_count": 815,
   "id": "a405c778-9691-4acc-abd9-dd46cd2535a1",
   "metadata": {},
   "outputs": [
    {
     "data": {
      "text/html": [
       "<span class=\"tex2jax_ignore\"><div class=\"spans\" style=\"line-height: 2.5; direction: ltr\">\n",
       "<span style=\"font-weight: bold; display: inline-block; position: relative; height: 60px;\">\n",
       "    Stephen\n",
       "    \n",
       "<span style=\"background: #e01d82; top: 40px; height: 4px; left: -1px; width: calc(100% + 2px); position: absolute;\">\n",
       "</span>\n",
       "\n",
       "    \n",
       "<span style=\"background: #e01d82; top: 40px; height: 4px; border-top-left-radius: 3px; border-bottom-left-radius: 3px; left: -1px; width: calc(100% + 2px); position: absolute;\">\n",
       "    <span style=\"background: #e01d82; z-index: 10; color: #000; top: -0.5em; padding: 2px 3px; position: absolute; font-size: 0.6em; font-weight: bold; line-height: 1; border-radius: 3px\">\n",
       "        B-NAME_STUDENT\n",
       "    </span>\n",
       "</span>\n",
       "\n",
       "\n",
       "</span>\n",
       "\n",
       "<span style=\"font-weight: bold; display: inline-block; position: relative; height: 60px;\">\n",
       "    White\n",
       "    \n",
       "<span style=\"background: #eb83b9; top: 40px; height: 4px; left: -1px; width: calc(100% + 2px); position: absolute;\">\n",
       "</span>\n",
       "\n",
       "    \n",
       "<span style=\"background: #eb83b9; top: 40px; height: 4px; border-top-left-radius: 3px; border-bottom-left-radius: 3px; left: -1px; width: calc(100% + 2px); position: absolute;\">\n",
       "    <span style=\"background: #eb83b9; z-index: 10; color: #000; top: -0.5em; padding: 2px 3px; position: absolute; font-size: 0.6em; font-weight: bold; line-height: 1; border-radius: 3px\">\n",
       "        I-NAME_STUDENT\n",
       "    </span>\n",
       "</span>\n",
       "\n",
       "\n",
       "</span>\n",
       "\n",
       "\n",
       " Design thinking Course – Coursera   Jan 2016   Page 1 of 2 \n",
       "\n",
       " \n",
       "<span style=\"font-weight: bold; display: inline-block; position: relative; height: 60px;\">\n",
       "    Stephen\n",
       "    \n",
       "<span style=\"background: #e01d82; top: 40px; height: 4px; left: -1px; width: calc(100% + 2px); position: absolute;\">\n",
       "</span>\n",
       "\n",
       "    \n",
       "<span style=\"background: #e01d82; top: 40px; height: 4px; border-top-left-radius: 3px; border-bottom-left-radius: 3px; left: -1px; width: calc(100% + 2px); position: absolute;\">\n",
       "    <span style=\"background: #e01d82; z-index: 10; color: #000; top: -0.5em; padding: 2px 3px; position: absolute; font-size: 0.6em; font-weight: bold; line-height: 1; border-radius: 3px\">\n",
       "        B-NAME_STUDENT\n",
       "    </span>\n",
       "</span>\n",
       "\n",
       "\n",
       "</span>\n",
       "\n",
       "<span style=\"font-weight: bold; display: inline-block; position: relative; height: 60px;\">\n",
       "    White\n",
       "    \n",
       "<span style=\"background: #eb83b9; top: 40px; height: 4px; left: -1px; width: calc(100% + 2px); position: absolute;\">\n",
       "</span>\n",
       "\n",
       "    \n",
       "<span style=\"background: #eb83b9; top: 40px; height: 4px; border-top-left-radius: 3px; border-bottom-left-radius: 3px; left: -1px; width: calc(100% + 2px); position: absolute;\">\n",
       "    <span style=\"background: #eb83b9; z-index: 10; color: #000; top: -0.5em; padding: 2px 3px; position: absolute; font-size: 0.6em; font-weight: bold; line-height: 1; border-radius: 3px\">\n",
       "        I-NAME_STUDENT\n",
       "    </span>\n",
       "</span>\n",
       "\n",
       "\n",
       "</span>\n",
       ": Regional volunteering challenges   CHALLENGE   The challenge is to develop a region wide approach to volunteer development within a specific area   of South Australia .    The area contains a number of smaller size towns &lt; 6000 people and several different local   government authorities ( LGA ) all operate relatively independently . The region is a predominantly   crop farming with the usual challenges of the same people , averaging 60 + years old , volunteering in   multiple organisations because ‘ no one else will do it ’ .   There are common issues across the entire   region but no one has previously suggested a region wide approach to consolidating these issues an   develop an approach to encouraging volunteering diversity in the region .    What does regional volunteer development look like ? Good question . This is the challenge we need   to explore . An outsider would suggest things like training , health and safety in the workplace , risk   management , governance and so on . But no one has asked the key stakeholders in the region . Their   understanding may look very different . This would suit a design thinking approach to circumnavigate   traditional thinking and develop new models of operating .     Selection   The tool selected was mind mapping . It was selected because some stakeholders may have had   exposure to it previously , but this could not be guaranteed ( both comfort and non - comfort zones ) .    The key focus would be the question posed ‘ What could a regional volunteer development plan look   like ? ’   We felt the tool would respect the diverse nature of the stakeholders and it was felt this might   achieve a number of things : unlock latent ideas ; challenge resistance from some individuals ; quieten   down or disempowering a number of individuals who always took over any group discussion because   their ideas were right ; empower individuals who were very quiet and rarely said anything yet we felt   they had good ideas ; providing a flexible environment where nothing was off the table ; encouraging   ideas   and engagement ; trying to identify patterns and potential outliers across the region ; present a   clear picture of the matters requiring further discussion .      Application    We posted information around the room from previous discussions :   including a sample survey of   the issues faced by volunteer organisations ; statistical evidence of volunteer rates and areas of   volunteer involvement ; comments made by senior management of impacted local government   authorities and their respective regional strategic plans ; the results of answers to previous questions   related to ‘ The challenges faced by volunteer organisations ’ .    As part of the introduction we went through this information and reiterated the question   emphasising nothing should be excluded no matter how crazy it may seem . Dollars would not be a   limiting factor . This would be taken up in a later discussion .   Individuals were provided with sticky notes and given 5 minutes on their own to record as many   possible answers to the question . Then they were given an additional 15 minutes to wander through   the room and write down any more possible answers looking at the materials posted up . Individuals   were encouraged to also record on a different colour sticky note any additional info they felt they   might need . They were then paired up for 5 minutes and repeated the exercise to see if discussions   could generate more ideas . Once completed , they were asked to sit in tables of 4 and told to group \n",
       "\n",
       " \n",
       "<span style=\"font-weight: bold; display: inline-block; position: relative; height: 60px;\">\n",
       "    Stephen\n",
       "    \n",
       "<span style=\"background: #e01d82; top: 40px; height: 4px; left: -1px; width: calc(100% + 2px); position: absolute;\">\n",
       "</span>\n",
       "\n",
       "    \n",
       "<span style=\"background: #e01d82; top: 40px; height: 4px; border-top-left-radius: 3px; border-bottom-left-radius: 3px; left: -1px; width: calc(100% + 2px); position: absolute;\">\n",
       "    <span style=\"background: #e01d82; z-index: 10; color: #000; top: -0.5em; padding: 2px 3px; position: absolute; font-size: 0.6em; font-weight: bold; line-height: 1; border-radius: 3px\">\n",
       "        B-NAME_STUDENT\n",
       "    </span>\n",
       "</span>\n",
       "\n",
       "\n",
       "</span>\n",
       "\n",
       "<span style=\"font-weight: bold; display: inline-block; position: relative; height: 60px;\">\n",
       "    White\n",
       "    \n",
       "<span style=\"background: #eb83b9; top: 40px; height: 4px; left: -1px; width: calc(100% + 2px); position: absolute;\">\n",
       "</span>\n",
       "\n",
       "    \n",
       "<span style=\"background: #eb83b9; top: 40px; height: 4px; border-top-left-radius: 3px; border-bottom-left-radius: 3px; left: -1px; width: calc(100% + 2px); position: absolute;\">\n",
       "    <span style=\"background: #eb83b9; z-index: 10; color: #000; top: -0.5em; padding: 2px 3px; position: absolute; font-size: 0.6em; font-weight: bold; line-height: 1; border-radius: 3px\">\n",
       "        I-NAME_STUDENT\n",
       "    </span>\n",
       "</span>\n",
       "\n",
       "\n",
       "</span>\n",
       "\n",
       "\n",
       " Design thinking Course – Coursera   Jan 2009   Page 2 of 2 \n",
       "\n",
       " all their ideas and write a title or theme for each group .   The notes were grouped from all tables   together with the titles .    This worked well and gave everyone sufficient time to develop lots of ideas – enough to fill an entire   wall ! Going through to the ‘ So What ’ question was tougher and took participants a while to grasp ,   possibly because we were not clear enough in our initial explanation and had to lead them through   it . We did get useful information &amp; participants said it was challenging but rewarding . I felt we could   have done it better and that we seemed to lose some momentum . We found answers to this   question challenged underlying assumptions to the theme . Eg training in risk was a clear standout .   Asking ‘ So What ? ’ revealed the underlying issue was risk aversion by LGA ’s rather than duty of care –   an important difference – one is protecting the organisation , the other is about protecting others .    Overall I was reasonably happy with the outcomes .      Insight   See earlier comment . Allowing freedom for individuals to think outside the square was important .   Freeing individuals who were quieter meant generating many more ideas and an increase in energy   generated in the group . I appreciated the release of imagination and loved seeing the enthusiasm   grow as people developed ideas . Even the resistant individuals managed to overcome their own   need for power and control and joined in . All ideas were treated with the same regard , no one idea   was more important . It was interesting and exciting to see major themes surface but also see   responses to themes which were unexpected . I must admit some came up I did not expect such as   shared facilities and management ; and youth development programs and qualifications .      Approach   After the success above we tried to fit the themes into a framework provided by National   Volunteering standards . This was a disaster !   It killed the enthusiasm and switched on the traditional   thinking approach . Even though we still used the mind mapping tool , it did n’t work . I think the   contrast was too great . Previously individuals were freed up to think and now we were expecting   them to conform to a pre established framework . A round peg in a square hole . It felt uncomfortable   and killed innovation .     I should have tried visualisation on the national standards . Participants could ‘ design ’ a regional   volunteer development plan through drawing – but in a different session . I think this approach   would definitely challenge folks but would hopefully release more creativity even though the focus   was on the national standards . We could then bring together the insights from this approach with   the other mind mapping and harmonise the two in a separate session . This approach combines the   traditional risk model via the standards but uses creativity to force individuals into approaching   them in a different way . Maybe next time ! \n",
       "\n",
       " </div></span>"
      ],
      "text/plain": [
       "<IPython.core.display.HTML object>"
      ]
     },
     "metadata": {},
     "output_type": "display_data"
    }
   ],
   "source": [
    "visualize_label(nlp, doc, cur_words, cur_label_words, options = options_pii)"
   ]
  },
  {
   "cell_type": "markdown",
   "id": "9880ebca-c296-46dd-8d6f-1ec2e08c1d94",
   "metadata": {},
   "source": [
    "# Experiment"
   ]
  },
  {
   "cell_type": "code",
   "execution_count": 43,
   "id": "984b478a-e9b0-470c-b42e-ecd655469023",
   "metadata": {},
   "outputs": [
    {
     "name": "stdout",
     "output_type": "stream",
     "text": [
      "['A' 'B' 'C' 'A' 'B' 'C']\n"
     ]
    }
   ],
   "source": [
    "import numpy as np\n",
    "\n",
    "# Example dictionary for mapping (keys need to be integers)\n",
    "map_dict = {1: 'A', 2: 'B', 3: 'C'}\n",
    "\n",
    "# Creating an array for direct indexing\n",
    "keys = np.array(list(map_dict.keys()))\n",
    "values = np.array(list(map_dict.values()))\n",
    "\n",
    "# Example array\n",
    "arr = np.array([1, 2, 3, 1, 2, 3])\n",
    "\n",
    "# Direct mapping\n",
    "# First, find indices of keys in `arr`\n",
    "indices = np.digitize(arr, keys, right=True)\n",
    "\n",
    "# Then use these indices to map values\n",
    "mapped_arr = values[indices]\n",
    "\n",
    "print(mapped_arr)\n"
   ]
  },
  {
   "cell_type": "code",
   "execution_count": 44,
   "id": "bebad0e7-ebb5-4b50-8c6a-ab0f4ee60514",
   "metadata": {},
   "outputs": [
    {
     "ename": "NameError",
     "evalue": "name 'model_id2cur_id' is not defined",
     "output_type": "error",
     "traceback": [
      "\u001b[1;31m---------------------------------------------------------------------------\u001b[0m",
      "\u001b[1;31mNameError\u001b[0m                                 Traceback (most recent call last)",
      "File \u001b[1;32m<timed exec>:2\u001b[0m\n",
      "\u001b[1;31mNameError\u001b[0m: name 'model_id2cur_id' is not defined"
     ]
    }
   ],
   "source": [
    "%%time\n",
    "# Creating an array for direct indexing\n",
    "np_keys = np.array(list(model_id2cur_id.keys()))\n",
    "np_values = np.array(list(model_id2cur_id.values()))\n",
    "\n",
    "# Example array\n",
    "\n",
    "# Direct mapping\n",
    "# First, find indices of keys in `arr`\n",
    "indices = np.digitize(flat_word_label_ids, keys, right=True)\n",
    "\n",
    "# Then use these indices to map values\n",
    "flat_word_label_ids = values[indices]"
   ]
  },
  {
   "cell_type": "code",
   "execution_count": null,
   "id": "77f4d95a-6405-48d7-a389-ab150e203ad1",
   "metadata": {},
   "outputs": [],
   "source": [
    "mask = zero == 0\n",
    "\n",
    "# get classical cumsum\n",
    "cs = zero.cumsum(axis=1)\n",
    "\n",
    "# ffill the cumsum value on 1s\n",
    "# subtract from cumsum\n",
    "out = cs - np.maximum.accumulate(np.where(mask, cs, 0), axis=1)"
   ]
  },
  {
   "cell_type": "markdown",
   "id": "3e5f3e5f-8b3d-4343-bc68-ac6ef033129c",
   "metadata": {
    "tags": []
   },
   "source": [
    "# Metric and Postprocessing"
   ]
  },
  {
   "cell_type": "code",
   "execution_count": 44,
   "id": "f36b2cc6-8b34-408f-96ae-fc25b31787d8",
   "metadata": {},
   "outputs": [],
   "source": [
    "def preprocess_logits(logits, label):\n",
    "    np_probs = torch.softmax(logits, axis=-1) \n",
    "    \n",
    "    return np_probs"
   ]
  },
  {
   "cell_type": "code",
   "execution_count": 45,
   "id": "860273b9-b8ed-4085-9df9-bb138be7d74a",
   "metadata": {},
   "outputs": [],
   "source": [
    "import functools\n",
    "from datasets import load_metric"
   ]
  },
  {
   "cell_type": "code",
   "execution_count": 46,
   "id": "c6b576a3-938a-4bbb-8be5-07d99248f67a",
   "metadata": {},
   "outputs": [
    {
     "name": "stderr",
     "output_type": "stream",
     "text": [
      "C:\\Users\\cloud\\AppData\\Local\\Temp\\ipykernel_9108\\3877367123.py:1: FutureWarning: load_metric is deprecated and will be removed in the next major version of datasets. Use 'evaluate.load' instead, from the new library 🤗 Evaluate: https://huggingface.co/docs/evaluate\n",
      "  METRIC_F1 = load_metric(\"f1\",  beta=5)\n",
      "D:\\Anaconda3\\envs\\nlp_torch\\Lib\\site-packages\\datasets\\load.py:753: FutureWarning: The repository for f1 contains custom code which must be executed to correctly load the metric. You can inspect the repository content at https://raw.githubusercontent.com/huggingface/datasets/2.17.0/metrics/f1/f1.py\n",
      "You can avoid this message in future by passing the argument `trust_remote_code=True`.\n",
      "Passing `trust_remote_code=True` will be mandatory to load this metric from the next major release of `datasets`.\n",
      "  warnings.warn(\n",
      "D:\\Anaconda3\\envs\\nlp_torch\\Lib\\site-packages\\datasets\\load.py:753: FutureWarning: The repository for precision contains custom code which must be executed to correctly load the metric. You can inspect the repository content at https://raw.githubusercontent.com/huggingface/datasets/2.17.0/metrics/precision/precision.py\n",
      "You can avoid this message in future by passing the argument `trust_remote_code=True`.\n",
      "Passing `trust_remote_code=True` will be mandatory to load this metric from the next major release of `datasets`.\n",
      "  warnings.warn(\n",
      "D:\\Anaconda3\\envs\\nlp_torch\\Lib\\site-packages\\datasets\\load.py:753: FutureWarning: The repository for recall contains custom code which must be executed to correctly load the metric. You can inspect the repository content at https://raw.githubusercontent.com/huggingface/datasets/2.17.0/metrics/recall/recall.py\n",
      "You can avoid this message in future by passing the argument `trust_remote_code=True`.\n",
      "Passing `trust_remote_code=True` will be mandatory to load this metric from the next major release of `datasets`.\n",
      "  warnings.warn(\n"
     ]
    }
   ],
   "source": [
    "METRIC_F1 = load_metric(\"f1\",  beta=5)\n",
    "METRIC_PRECISION = load_metric(\"precision\")\n",
    "METRIC_RECALL = load_metric(\"recall\")"
   ]
  },
  {
   "cell_type": "code",
   "execution_count": 70,
   "id": "32024569-4ce5-44d1-a20f-b2d74a63ddc2",
   "metadata": {},
   "outputs": [],
   "source": [
    "    ## (Vectorized) Get highest non-'O' labels for each token with thresholding\n",
    "    # Get 'O' index of model\n",
    "    # Get argsort\n",
    "    # Get First max\n",
    "    # Get == 'O' Mask\n",
    "    # Get threshold mask\n",
    "    # Get final indices"
   ]
  },
  {
   "cell_type": "code",
   "execution_count": 93,
   "id": "46c8c596-3f1a-40ba-8c39-6281349a6d19",
   "metadata": {
    "tags": []
   },
   "outputs": [],
   "source": [
    "def compute_metrics_base(eval_preds, model_adapter, threshold = 0.1):\n",
    "    \n",
    "    global eval_preds_copy\n",
    "    \n",
    "    \n",
    "    eval_preds_copy = eval_preds\n",
    "    \n",
    "    np_probs, true_labels_id, inputs = eval_preds\n",
    "#     logits, true_labels_id = eval_preds\n",
    "#     np_probs = np.argmax(logits, axis=-1)\n",
    "#     tokens = inputs.tokens()\n",
    "\n",
    "\n",
    "    label2id =  model_adapter.model.config.label2id\n",
    "    o_index = label2id['O']\n",
    "\n",
    "    np_sorted_indices = np.argsort(np_probs)\n",
    "    np_max_indices = np_sorted_indices[:,:, -1]\n",
    "    # np_max = np_sorted_indices[np.arange(np_max_indices.shape[0]), np_max_indices]\n",
    "    np_max_prob = np.take_along_axis(np_probs, np_max_indices[:, :, np.newaxis], axis=2).squeeze()\n",
    "\n",
    "    np_2nd_max_indices = np_sorted_indices[:, :, -2]\n",
    "    # np_2nd_max = np_sorted_indices[np.arange(np_sorted_indices.shape[0]), np_max_indices]\n",
    "    np_2nd_max_prob = np.take_along_axis(np_probs, np_2nd_max_indices[:, :, np.newaxis], axis=2).squeeze()\n",
    "\n",
    "    np_O_mask = np_max_indices == o_index\n",
    "    np_threshold_mask = np_2nd_max_prob > threshold\n",
    "\n",
    "    np_replace_mask = np_threshold_mask & np_O_mask\n",
    "\n",
    "    np_label_ids = np.where(np_replace_mask, np_2nd_max_indices, np_max_indices)\n",
    "\n",
    "    flat_label_ids = np_label_ids.flatten()\n",
    "    flat_true_labels_id = true_labels_id.flatten()\n",
    "\n",
    "    # Postprocess labels, convert irrelevant labels to 'O'\n",
    "#     np_labels_irrelevant = np.array(model_adapter.labels_irrelevant)\n",
    "#     flat_label_ids_mask = np.isin(flat_label_ids, np_labels_irrelevant)\n",
    "#     flat_label_ids[flat_label_ids_mask] = o_index\n",
    "\n",
    "    # Also remove paddings\n",
    "    mask_padding_inv = flat_true_labels_id != -100\n",
    "    flat_true_labels_id = flat_true_labels_id[mask_padding_inv]\n",
    "    flat_label_ids = flat_label_ids[mask_padding_inv]\n",
    "\n",
    "    dict_scores = {}\n",
    "\n",
    "    f1_score = METRIC_F1.compute(predictions=flat_label_ids, references=flat_true_labels_id, labels=classes_pos_id, average ='micro')\n",
    "    f_beta_score = fbeta_score(y_true = flat_true_labels_id, y_pred = flat_label_ids , labels = classes_pos_id,beta=5, average='micro')\n",
    "    precision = METRIC_PRECISION.compute(predictions=flat_label_ids, references=flat_true_labels_id,labels=classes_pos_id, average ='micro')\n",
    "    recall = METRIC_RECALL.compute(predictions=flat_label_ids, references=flat_true_labels_id,labels=classes_pos_id, average ='micro')\n",
    "\n",
    "    for score in [f1_score, precision, recall]:\n",
    "        dict_scores.update(score) \n",
    "\n",
    "    dict_scores['f_beta'] = f_beta_score\n",
    "\n",
    "    return dict_scores\n",
    "\n",
    "\n",
    "\n",
    "#     #Test above first\n",
    "    \n",
    "    \n",
    "#     ##Compute competition metrics\n",
    "    \n",
    "#     # Step 4: Create a list of which tokens or subwords correspond to a word using the word_ids variable\n",
    "#     word_subword_mapping = {}\n",
    "#     for i, word_id in enumerate(word_ids):\n",
    "#         if word_id is not None:\n",
    "#             if word_id not in word_subword_mapping:\n",
    "#                 word_subword_mapping[word_id] = []\n",
    "#             word_subword_mapping[word_id].append(i)\n",
    "\n",
    "#     # Step 5: Iterate through pairs of words and subwords to count the majority label\n",
    "#     word_labels = []\n",
    "#     for i, word in enumerate(words):\n",
    "#         if i in word_subword_mapping:\n",
    "#             subword_labels = pred_labels[word_subword_mapping[i]]\n",
    "#             majority_label = get_majority(subword_labels)\n",
    "#             word_labels.append((word, majority_label))\n",
    "#         else:\n",
    "#             word_labels.append((word,'O'))\n",
    "\n",
    "\n",
    "#     token_v, pred_v = zip(*word_labels)\n",
    "\n",
    "#     pred_conv = [model_id2cur_label[model.config.label2id[pred]] for pred in pred_v]\n",
    "#     pred_bio = convert_to_bio(token_v, pred_conv)\n",
    "\n",
    "#     f_beta = fbeta_score(labels, pred_bio, labels = classes_pos,beta=5, average='micro')\n",
    "    \n",
    "    \n",
    "    \n",
    "#     return metric.compute(predictions=predictions, references=labels)\n",
    "\n",
    "\n",
    "    #Threshold + postprocessing\n",
    "    #\n",
    "    #Compute precision, recall, f1_beta from preds and labels\n",
    "    \n",
    "    #\n",
    "    \n",
    "    #Get \n",
    "    #Get"
   ]
  },
  {
   "cell_type": "code",
   "execution_count": 48,
   "id": "bd278cb0-0e0d-46f6-b41c-6c659aca3ab3",
   "metadata": {},
   "outputs": [],
   "source": [
    "compute_metrics = functools.partial(compute_metrics_base, model_adapter=model_adapter, threshold=0.1)"
   ]
  },
  {
   "cell_type": "markdown",
   "id": "69da5446-81f1-45c5-bcdc-c477803da8e7",
   "metadata": {},
   "source": [
    "## Trial runs"
   ]
  },
  {
   "cell_type": "code",
   "execution_count": 40,
   "id": "dff137f6-cbf7-487a-a0d6-9748f7896b58",
   "metadata": {},
   "outputs": [],
   "source": [
    "labels_padded = pad_lists(preprocessed_dataset['labels'], -100, loaded_predictions.shape[1])"
   ]
  },
  {
   "cell_type": "code",
   "execution_count": 94,
   "id": "f7984a5a-7ef1-4af3-aac2-1635c48f35b9",
   "metadata": {},
   "outputs": [
    {
     "name": "stdout",
     "output_type": "stream",
     "text": [
      "CPU times: total: 1min 30s\n",
      "Wall time: 1min 30s\n"
     ]
    },
    {
     "data": {
      "text/plain": [
       "{'f1': 0.45214404169628053,\n",
       " 'precision': 0.3452111784389979,\n",
       " 'recall': 0.6550540586922945,\n",
       " 'f_beta': 0.6331955184646403}"
      ]
     },
     "execution_count": 94,
     "metadata": {},
     "output_type": "execute_result"
    }
   ],
   "source": [
    "%%time\n",
    "compute_metrics = functools.partial(compute_metrics_base, model_adapter=model_adapter, threshold=0.05)\n",
    "eval_pred = (loaded_predictions,  labels_padded, None)\n",
    "\n",
    "metrics_01 = compute_metrics((eval_pred)) \n",
    "metrics_01"
   ]
  },
  {
   "cell_type": "code",
   "execution_count": 95,
   "id": "85b4159f-fea3-4f2a-8153-2f6e8a3a80c2",
   "metadata": {},
   "outputs": [
    {
     "name": "stdout",
     "output_type": "stream",
     "text": [
      "CPU times: total: 1min 31s\n",
      "Wall time: 1min 31s\n"
     ]
    },
    {
     "data": {
      "text/plain": [
       "{'f1': 0.45205060815353587,\n",
       " 'precision': 0.3510537307765331,\n",
       " 'recall': 0.6346318860477089,\n",
       " 'f_beta': 0.615508709485369}"
      ]
     },
     "execution_count": 95,
     "metadata": {},
     "output_type": "execute_result"
    }
   ],
   "source": [
    "%%time\n",
    "compute_metrics = functools.partial(compute_metrics_base, model_adapter=model_adapter, threshold=0.15)\n",
    "eval_pred = (loaded_predictions,  labels_padded, None)\n",
    "\n",
    "metrics_01 = compute_metrics((eval_pred)) \n",
    "metrics_01"
   ]
  },
  {
   "cell_type": "code",
   "execution_count": null,
   "id": "eda54357-8b90-4fdc-9303-5cdf9a292fbd",
   "metadata": {},
   "outputs": [],
   "source": [
    "%%time\n",
    "compute_metrics = functools.partial(compute_metrics_base, model_adapter=model_adapter, threshold=0.15)\n",
    "eval_pred = (loaded_predictions,  labels_padded, None)\n",
    "\n",
    "metrics_01 = compute_metrics((eval_pred)) \n",
    "metrics_01"
   ]
  },
  {
   "cell_type": "code",
   "execution_count": 138,
   "id": "c74635a3-21b9-4911-9a0c-e3e5abb60d1e",
   "metadata": {},
   "outputs": [
    {
     "name": "stdout",
     "output_type": "stream",
     "text": [
      "CPU times: total: 1min 29s\n",
      "Wall time: 1min 29s\n"
     ]
    },
    {
     "data": {
      "text/plain": [
       "{'f1': 0.45346117867165575,\n",
       " 'precision': 0.3438857852265674,\n",
       " 'recall': 0.6655225673588467,\n",
       " 'f_beta': 0.6424129670217646}"
      ]
     },
     "execution_count": 138,
     "metadata": {},
     "output_type": "execute_result"
    }
   ],
   "source": [
    "%%time\n",
    "compute_metrics = functools.partial(compute_metrics_base, model_adapter=model_adapter, threshold=0.01)\n",
    "eval_pred = (loaded_predictions,  labels_padded, None)\n",
    "\n",
    "metrics_01 = compute_metrics((eval_pred)) \n",
    "metrics_01"
   ]
  },
  {
   "cell_type": "code",
   "execution_count": 139,
   "id": "1d6aa511-295e-4034-94bc-10ef83b45050",
   "metadata": {},
   "outputs": [
    {
     "name": "stdout",
     "output_type": "stream",
     "text": [
      "CPU times: total: 1min 30s\n",
      "Wall time: 1min 30s\n"
     ]
    },
    {
     "data": {
      "text/plain": [
       "{'f1': 0.4533831513806994,\n",
       " 'precision': 0.3435675101751902,\n",
       " 'recall': 0.6663806418397117,\n",
       " 'f_beta': 0.6431388037738013}"
      ]
     },
     "execution_count": 139,
     "metadata": {},
     "output_type": "execute_result"
    }
   ],
   "source": [
    "%%time\n",
    "compute_metrics = functools.partial(compute_metrics_base, model_adapter=model_adapter, threshold=0.005)\n",
    "eval_pred = (loaded_predictions,  labels_padded, None)\n",
    "\n",
    "metrics_01 = compute_metrics((eval_pred)) \n",
    "metrics_01"
   ]
  },
  {
   "cell_type": "markdown",
   "id": "5b82f3d6-70ce-40b5-8c19-b8329b6677b9",
   "metadata": {
    "tags": []
   },
   "source": [
    "# Word Level Metrics"
   ]
  },
  {
   "cell_type": "code",
   "execution_count": 32,
   "id": "62e44613-7c2f-48e9-8593-655b1b74ce06",
   "metadata": {},
   "outputs": [],
   "source": [
    "from datasets import load_metric"
   ]
  },
  {
   "cell_type": "code",
   "execution_count": 33,
   "id": "24ac5194-6d06-40ba-9d4a-56afe398342c",
   "metadata": {
    "tags": []
   },
   "outputs": [
    {
     "name": "stderr",
     "output_type": "stream",
     "text": [
      "C:\\Users\\cloud\\AppData\\Local\\Temp\\ipykernel_10700\\3877367123.py:1: FutureWarning: load_metric is deprecated and will be removed in the next major version of datasets. Use 'evaluate.load' instead, from the new library 🤗 Evaluate: https://huggingface.co/docs/evaluate\n",
      "  METRIC_F1 = load_metric(\"f1\",  beta=5)\n",
      "D:\\Anaconda3\\envs\\nlp_torch\\Lib\\site-packages\\datasets\\load.py:753: FutureWarning: The repository for f1 contains custom code which must be executed to correctly load the metric. You can inspect the repository content at https://raw.githubusercontent.com/huggingface/datasets/2.17.0/metrics/f1/f1.py\n",
      "You can avoid this message in future by passing the argument `trust_remote_code=True`.\n",
      "Passing `trust_remote_code=True` will be mandatory to load this metric from the next major release of `datasets`.\n",
      "  warnings.warn(\n",
      "D:\\Anaconda3\\envs\\nlp_torch\\Lib\\site-packages\\datasets\\load.py:753: FutureWarning: The repository for precision contains custom code which must be executed to correctly load the metric. You can inspect the repository content at https://raw.githubusercontent.com/huggingface/datasets/2.17.0/metrics/precision/precision.py\n",
      "You can avoid this message in future by passing the argument `trust_remote_code=True`.\n",
      "Passing `trust_remote_code=True` will be mandatory to load this metric from the next major release of `datasets`.\n",
      "  warnings.warn(\n",
      "D:\\Anaconda3\\envs\\nlp_torch\\Lib\\site-packages\\datasets\\load.py:753: FutureWarning: The repository for recall contains custom code which must be executed to correctly load the metric. You can inspect the repository content at https://raw.githubusercontent.com/huggingface/datasets/2.17.0/metrics/recall/recall.py\n",
      "You can avoid this message in future by passing the argument `trust_remote_code=True`.\n",
      "Passing `trust_remote_code=True` will be mandatory to load this metric from the next major release of `datasets`.\n",
      "  warnings.warn(\n"
     ]
    }
   ],
   "source": [
    "METRIC_F1 = load_metric(\"f1\",  beta=5)\n",
    "METRIC_PRECISION = load_metric(\"precision\")\n",
    "METRIC_RECALL = load_metric(\"recall\")"
   ]
  },
  {
   "cell_type": "code",
   "execution_count": 34,
   "id": "a66d931d-0fa6-4aa6-af65-76570934c45b",
   "metadata": {},
   "outputs": [
    {
     "name": "stdout",
     "output_type": "stream",
     "text": [
      "CPU times: total: 578 ms\n",
      "Wall time: 590 ms\n"
     ]
    }
   ],
   "source": [
    "%%time\n",
    "list_pred_words_mapped = [to_bio_vect(pred_words) for pred_words in list_pred_words]\n",
    "flat_word_label_ids = np.concatenate(list_pred_words_mapped)"
   ]
  },
  {
   "cell_type": "code",
   "execution_count": 35,
   "id": "83c24f57-b9b3-43f7-9f87-e90937ac7c53",
   "metadata": {},
   "outputs": [
    {
     "name": "stdout",
     "output_type": "stream",
     "text": [
      "CPU times: total: 7.36 s\n",
      "Wall time: 7.79 s\n"
     ]
    }
   ],
   "source": [
    "%%time\n",
    "\n",
    "list_word_labels = tokenized_datasets['word_labels']"
   ]
  },
  {
   "cell_type": "code",
   "execution_count": 36,
   "id": "b4d543ae-17d5-4970-9931-cb66f3c51a01",
   "metadata": {},
   "outputs": [
    {
     "name": "stdout",
     "output_type": "stream",
     "text": [
      "CPU times: total: 562 ms\n",
      "Wall time: 558 ms\n"
     ]
    }
   ],
   "source": [
    "%%time\n",
    "flat_word_true_labels_id = np.array([classes2id[word] for list_words in list_word_labels for word in list_words], dtype='int8')"
   ]
  },
  {
   "cell_type": "code",
   "execution_count": 37,
   "id": "d2dec89f-88a5-439e-a311-bdc403f82966",
   "metadata": {},
   "outputs": [],
   "source": [
    "# %%time\n",
    "# #11.5s\n",
    "# flat_word_labels = [model_adapter.model_id2cur_label[word_id] for word_id in flat_word_label_ids]"
   ]
  },
  {
   "cell_type": "code",
   "execution_count": 38,
   "id": "ffec07ea-07d8-46e8-9e7b-83268b91eda8",
   "metadata": {},
   "outputs": [
    {
     "name": "stdout",
     "output_type": "stream",
     "text": [
      "CPU times: total: 2min 30s\n",
      "Wall time: 2min 31s\n"
     ]
    }
   ],
   "source": [
    "%%time\n",
    "dict_scores = {}\n",
    "\n",
    "f1_score = METRIC_F1.compute(predictions=flat_label_ids, references=flat_true_labels_id, labels=model_adapter.model_id_pos, average ='micro')\n",
    "f_beta_score = fbeta_score(y_pred = flat_label_ids ,y_true = flat_true_labels_id, labels = model_adapter.model_id_pos,beta=5, average='micro')\n",
    "precision = METRIC_PRECISION.compute(predictions=flat_label_ids, references=flat_true_labels_id,labels=model_adapter.model_id_pos, average ='micro')\n",
    "recall = METRIC_RECALL.compute(predictions=flat_label_ids, references=flat_true_labels_id,labels=model_adapter.model_id_pos, average ='micro')\n",
    "\n",
    "for score in [f1_score, precision, recall]:\n",
    "    dict_scores.update(score) \n",
    "    \n",
    "dict_scores['f_beta'] = f_beta_score\n",
    "    \n",
    "    \n",
    "word_f_beta = fbeta_score(y_pred = flat_word_label_ids, y_true = flat_word_true_labels_id, labels = classes_pos_id,beta=5, average='micro')\n",
    "word_precision = METRIC_PRECISION.compute(predictions=flat_word_label_ids, references=flat_word_true_labels_id,labels=classes_pos_id, average ='micro')\n",
    "word_recall = METRIC_RECALL.compute(predictions=flat_word_label_ids, references=flat_word_true_labels_id,labels=classes_pos_id, average ='micro')\n",
    "\n",
    "\n",
    "dict_scores = {}\n",
    "for score in [word_precision, word_recall]:\n",
    "    k,v = list(score.items())[0]\n",
    "    dict_scores[f'word_{k}'] = v\n",
    "\n",
    "dict_scores['word_f_beta'] = word_f_beta"
   ]
  },
  {
   "cell_type": "code",
   "execution_count": 39,
   "id": "4499e76f-5228-4eef-bdf3-d46298d728d1",
   "metadata": {},
   "outputs": [
    {
     "data": {
      "text/plain": [
       "{'f1': 0.30017044071098126,\n",
       " 'precision': 0.18226979714944705,\n",
       " 'recall': 0.8499724214009928,\n",
       " 'f_beta': 0.7450050669864912,\n",
       " 'word_precision': 0.20341005967604434,\n",
       " 'word_recall': 0.8711208470244615,\n",
       " 'word_f_beta': 0.7734679882800324}"
      ]
     },
     "execution_count": 39,
     "metadata": {},
     "output_type": "execute_result"
    }
   ],
   "source": [
    "dict_scores"
   ]
  },
  {
   "cell_type": "code",
   "execution_count": 40,
   "id": "ba1ec0c4-7010-4b6a-80c3-912783a91896",
   "metadata": {},
   "outputs": [
    {
     "name": "stdout",
     "output_type": "stream",
     "text": [
      "CPU times: total: 1min 27s\n",
      "Wall time: 1min 27s\n"
     ]
    },
    {
     "data": {
      "text/plain": [
       "{'f1': 0.27691285755801887,\n",
       " 'precision': 0.16511535795623328,\n",
       " 'recall': 0.8575469272306505,\n",
       " 'f_beta': 0.7450050669864912,\n",
       " 'word_precision': 0.20341005967604434,\n",
       " 'word_recall': 0.8711208470244615,\n",
       " 'word_f_beta': 0.7734679882800324}"
      ]
     },
     "execution_count": 40,
     "metadata": {},
     "output_type": "execute_result"
    }
   ],
   "source": [
    "%%time\n",
    "f1_score = METRIC_F1.compute(predictions=flat_label_ids, references=flat_true_labels_id, labels=model_adapter.model_id_pos, average ='micro')\n",
    "f_beta_score = fbeta_score(y_pred = flat_label_ids ,y_true = flat_true_labels_id, labels = model_adapter.model_id_pos,beta=5, average='micro')\n",
    "precision = METRIC_PRECISION.compute(predictions=flat_label_ids, references=flat_true_labels_id,labels=model_adapter.model_id_pos, average ='micro')\n",
    "recall = METRIC_RECALL.compute(predictions=flat_label_ids, references=flat_true_labels_id,labels=model_adapter.model_id_pos, average ='micro')\n",
    "\n",
    "for score in [f1_score, precision, recall]:\n",
    "    dict_scores.update(score) \n",
    "    \n",
    "dict_scores"
   ]
  },
  {
   "cell_type": "code",
   "execution_count": 290,
   "id": "a3f31346-eadb-4170-b8e6-e99be5e4668e",
   "metadata": {},
   "outputs": [
    {
     "name": "stdout",
     "output_type": "stream",
     "text": [
      "CPU times: total: 1min 4s\n",
      "Wall time: 1min 5s\n"
     ]
    }
   ],
   "source": [
    "%%time\n",
    "word_f_beta = fbeta_score(y_pred = flat_word_label_ids, y_true = flat_word_true_labels_id, labels = classes_pos_id,beta=5, average='micro')\n",
    "word_precision = METRIC_PRECISION.compute(predictions=flat_word_label_ids, references=flat_word_true_labels_id,labels=classes_pos_id, average ='micro')\n",
    "word_recall = METRIC_RECALL.compute(predictions=flat_word_label_ids, references=flat_word_true_labels_id,labels=b, average ='micro')\n"
   ]
  },
  {
   "cell_type": "code",
   "execution_count": 301,
   "id": "dfcb27a5-8a5d-4f9d-aaf5-3c1a7edb9efe",
   "metadata": {},
   "outputs": [
    {
     "data": {
      "text/plain": [
       "array([ 0,  2, 10, 14])"
      ]
     },
     "execution_count": 301,
     "metadata": {},
     "output_type": "execute_result"
    }
   ],
   "source": [
    "np.unique(flat_true_labels_id[:100000])"
   ]
  },
  {
   "cell_type": "code",
   "execution_count": null,
   "id": "5a155b5f-bc2e-4778-8637-75d989773caf",
   "metadata": {},
   "outputs": [],
   "source": [
    "flat_true_labels_id"
   ]
  },
  {
   "cell_type": "code",
   "execution_count": null,
   "id": "c34cb768-629c-4a0a-b599-9361267a6aae",
   "metadata": {},
   "outputs": [],
   "source": []
  },
  {
   "cell_type": "code",
   "execution_count": 298,
   "id": "e339a779-6c83-4e23-8cc0-7bab79b02dde",
   "metadata": {},
   "outputs": [
    {
     "data": {
      "text/plain": [
       "[1, 2, 3, 4, 5, 6, 7, 8, 9, 10, 11, 12]"
      ]
     },
     "execution_count": 298,
     "metadata": {},
     "output_type": "execute_result"
    }
   ],
   "source": [
    "classes_pos_id"
   ]
  },
  {
   "cell_type": "code",
   "execution_count": 297,
   "id": "15f8eb6b-d41d-4bc2-a97a-f45df4068cb6",
   "metadata": {},
   "outputs": [
    {
     "data": {
      "text/plain": [
       "{'O': 0,\n",
       " 'B-EMAIL': 1,\n",
       " 'B-ID_NUM': 2,\n",
       " 'B-NAME_STUDENT': 3,\n",
       " 'B-PHONE_NUM': 4,\n",
       " 'B-STREET_ADDRESS': 5,\n",
       " 'B-URL_PERSONAL': 6,\n",
       " 'B-USERNAME': 7,\n",
       " 'I-ID_NUM': 8,\n",
       " 'I-NAME_STUDENT': 9,\n",
       " 'I-PHONE_NUM': 10,\n",
       " 'I-STREET_ADDRESS': 11,\n",
       " 'I-URL_PERSONAL': 12}"
      ]
     },
     "execution_count": 297,
     "metadata": {},
     "output_type": "execute_result"
    }
   ],
   "source": [
    "classes2id"
   ]
  },
  {
   "cell_type": "code",
   "execution_count": 295,
   "id": "76a31a5e-cc6d-40d7-8ad6-a16617e54a73",
   "metadata": {},
   "outputs": [
    {
     "data": {
      "text/plain": [
       "{'f1': 0.30017044071098126,\n",
       " 'precision': 0.18226979714944705,\n",
       " 'recall': 0.8499724214009928,\n",
       " 'f_beta': 0.7450050669864912,\n",
       " 'word_precision': 0.20341005967604434,\n",
       " 'word_recall': 0.8711208470244615,\n",
       " 'word_f_beta': 0.7734679882800324}"
      ]
     },
     "execution_count": 295,
     "metadata": {},
     "output_type": "execute_result"
    }
   ],
   "source": [
    "dict_scores"
   ]
  },
  {
   "cell_type": "code",
   "execution_count": 281,
   "id": "f805dd19-bf9c-4e95-be73-e9e43f8593b4",
   "metadata": {},
   "outputs": [
    {
     "data": {
      "text/plain": [
       "{'precision': 0.20341005967604434}"
      ]
     },
     "execution_count": 281,
     "metadata": {},
     "output_type": "execute_result"
    }
   ],
   "source": [
    "word_precision"
   ]
  },
  {
   "cell_type": "code",
   "execution_count": 282,
   "id": "5923f147-3864-4a3d-8585-c1c6719a8f25",
   "metadata": {},
   "outputs": [
    {
     "data": {
      "text/plain": [
       "[{'precision': 0.20341005967604434}, {'recall': 0.8711208470244615}]"
      ]
     },
     "execution_count": 282,
     "metadata": {},
     "output_type": "execute_result"
    }
   ],
   "source": [
    "for key:value in [word_precision, word_recall]"
   ]
  },
  {
   "cell_type": "code",
   "execution_count": null,
   "id": "7018a42d-5a9d-44d4-8403-de20f449d412",
   "metadata": {},
   "outputs": [],
   "source": [
    "dictionary"
   ]
  },
  {
   "cell_type": "code",
   "execution_count": 288,
   "id": "c14322a3-3d98-47d8-990b-05781ee14244",
   "metadata": {},
   "outputs": [
    {
     "name": "stdout",
     "output_type": "stream",
     "text": [
      "precision 0.20341005967604434\n",
      "recall 0.8711208470244615\n"
     ]
    }
   ],
   "source": [
    "\n"
   ]
  },
  {
   "cell_type": "code",
   "execution_count": 289,
   "id": "e30ab1c8-e639-457d-825e-5464946727ea",
   "metadata": {},
   "outputs": [
    {
     "data": {
      "text/plain": [
       "{'word_precision': 0.20341005967604434,\n",
       " 'word_recall': 0.8711208470244615,\n",
       " 'word_f_beta': 0.7734679882800324}"
      ]
     },
     "execution_count": 289,
     "metadata": {},
     "output_type": "execute_result"
    }
   ],
   "source": [
    "dict_scores"
   ]
  },
  {
   "cell_type": "code",
   "execution_count": null,
   "id": "9a2d7478-ba89-462f-8c02-e0f71cb8ab8a",
   "metadata": {},
   "outputs": [],
   "source": []
  },
  {
   "cell_type": "code",
   "execution_count": 41,
   "id": "9bb228df-d400-4cce-992a-34a0b67f090e",
   "metadata": {},
   "outputs": [
    {
     "data": {
      "text/plain": [
       "0.0"
      ]
     },
     "execution_count": 41,
     "metadata": {},
     "output_type": "execute_result"
    }
   ],
   "source": [
    "word_f_beta"
   ]
  },
  {
   "cell_type": "code",
   "execution_count": null,
   "id": "609a78a9-59e7-45d7-b431-66b55fdb808d",
   "metadata": {},
   "outputs": [],
   "source": [
    "dict_scores"
   ]
  },
  {
   "cell_type": "markdown",
   "id": "779da4bc-3752-4019-9809-c3aa49d935c1",
   "metadata": {},
   "source": [
    "# Metrics optimized"
   ]
  },
  {
   "cell_type": "code",
   "execution_count": 51,
   "id": "bf237b87-08bc-4dbd-a9c9-166f28296246",
   "metadata": {},
   "outputs": [],
   "source": [
    "def compute_metrics_per_class(predictions, labels, class_label, beta=5):\n",
    "    tp = sum((p == class_label and l == class_label) for p, l in zip(predictions, labels))\n",
    "    fp = sum((p == class_label and l != class_label) for p, l in zip(predictions, labels))\n",
    "    fn = sum((p != class_label and l == class_label) for p, l in zip(predictions, labels))\n",
    "    \n",
    "    precision = tp / (tp + fp) if tp + fp > 0 else 0 \n",
    "    recall = tp / (tp + fn) if tp + fn > 0 else 0\n",
    "    f_beta = (1 + beta**2) * (precision * recall) / (beta**2 * precision + recall) if precision + recall > 0 else 0\n",
    "    \n",
    "    metrics = {'precision':precision, 'recall':recall, 'f_beta':f_beta,'tp':tp, 'fp':fp, 'fn':fn}\n",
    "    \n",
    "    return metrics"
   ]
  },
  {
   "cell_type": "code",
   "execution_count": 62,
   "id": "e6e148a1-4d98-47c5-a9d1-5d5dfd7e8e2e",
   "metadata": {},
   "outputs": [],
   "source": [
    "def compute_micro_metrics(predictions, labels, pos_labels, beta=5):\n",
    "    global class_metrics\n",
    "    \n",
    "    total_tp = 0\n",
    "    total_fp = 0\n",
    "    total_fn = 0\n",
    "    \n",
    "#     class_metrics = {}\n",
    "    \n",
    "#     class_metrics = {id2classes[class_label]:compute_metrics_per_class(predictions, labels, pos_labels, beta) for class_label in pos_labels}\n",
    "    class_metrics = {class_label:compute_metrics_per_class(predictions, labels, class_label, beta) for class_label in pos_labels}\n",
    "    \n",
    "    # Calculate total true positives, false positives, and false negatives excluding 'O' label\n",
    "    total_tp += sum([metrics['tp'] for metrics in class_metrics.values()])\n",
    "    total_fp += sum([metrics['fp'] for metrics in class_metrics.values()])\n",
    "    total_fn += sum([metrics['fn'] for metrics in class_metrics.values()])\n",
    "    \n",
    "    # Compute total precision excluding 'O' label\n",
    "    total_precision = total_tp / (total_tp + total_fp) if total_tp + total_fp > 0 else 0\n",
    "    \n",
    "    # Compute total recall excluding 'O' label\n",
    "    total_recall = total_tp / (total_tp + total_fn) if total_tp + total_fn > 0 else 0\n",
    "    \n",
    "    # Compute total F-beta score excluding 'O' label\n",
    "    total_f_beta = (1 + beta**2) * (total_precision * total_recall) / (beta**2 * total_precision + total_recall) if total_precision + total_recall > 0 else 0\n",
    "    \n",
    "    total_metrics = {'precision':total_precision, 'recall':total_recall, 'f_beta':total_f_beta,'tp':total_tp, 'fp':total_fp, 'fn':total_fn}\n",
    "    \n",
    "    return total_metrics, class_metrics\n",
    "\n",
    "# Example usage\n",
    "predictions = [\"ORG\", \"O\", \"PER\", \"LOC\", \"O\"]\n",
    "labels = [\"ORG\", \"O\", \"PER\", \"MISC\", \"O\"]\n",
    "pos_labels_temp =  [\"ORG\",\"PER\", \"MISC\"]\n",
    "num_classes = 4  # Number of unique classes in the dataset excluding 'O' label\n",
    "total_metrics, class_metrics = compute_micro_metrics(predictions, labels, pos_labels_temp)\n",
    "# print(f\"Total Precision (excluding 'O' label): {total_precision}\")\n",
    "# print(f\"Total Recall (excluding 'O' label): {total_recall}\")\n",
    "# print(f\"Total F-beta score (excluding 'O' label): {total_f_beta}\")"
   ]
  },
  {
   "cell_type": "code",
   "execution_count": 66,
   "id": "e0827f09-1296-405a-a445-28402e64ecd1",
   "metadata": {},
   "outputs": [
    {
     "data": {
      "text/plain": [
       "[1, 2, 3, 4, 5, 6, 7, 8, 9, 10, 11, 12]"
      ]
     },
     "execution_count": 66,
     "metadata": {},
     "output_type": "execute_result"
    }
   ],
   "source": [
    "classes_pos_id"
   ]
  },
  {
   "cell_type": "code",
   "execution_count": 68,
   "id": "a887788f-567b-4ee1-ba7a-f1362506f863",
   "metadata": {},
   "outputs": [
    {
     "name": "stdout",
     "output_type": "stream",
     "text": [
      "CPU times: total: 10min 31s\n",
      "Wall time: 10min 35s\n"
     ]
    }
   ],
   "source": [
    "%%time\n",
    "\n",
    "total_metrics, class_metrics = compute_micro_metrics(predictions = flat_word_label_ids, labels = flat_word_true_labels_id, pos_labels=classes_pos_id, beta=5)\n"
   ]
  },
  {
   "cell_type": "code",
   "execution_count": 69,
   "id": "3f9f8918-d61b-4c69-9f32-d70688469305",
   "metadata": {},
   "outputs": [
    {
     "data": {
      "text/plain": [
       "{'precision': 0.20341005967604434,\n",
       " 'recall': 0.8711208470244615,\n",
       " 'f_beta': 0.7734679882800324,\n",
       " 'tp': 2386,\n",
       " 'fp': 9344,\n",
       " 'fn': 353}"
      ]
     },
     "execution_count": 69,
     "metadata": {},
     "output_type": "execute_result"
    }
   ],
   "source": [
    "total_metrics"
   ]
  },
  {
   "cell_type": "code",
   "execution_count": 70,
   "id": "cb0fc48a-8ff0-4589-8bec-7f82e3e197fe",
   "metadata": {},
   "outputs": [
    {
     "data": {
      "text/plain": [
       "{1: {'precision': 0.05731523378582202,\n",
       "  'recall': 0.9743589743589743,\n",
       "  'f_beta': 0.6031746031746031,\n",
       "  'tp': 38,\n",
       "  'fp': 625,\n",
       "  'fn': 1},\n",
       " 2: {'precision': 0.010101010101010102,\n",
       "  'recall': 0.01282051282051282,\n",
       "  'f_beta': 0.01268911664226452,\n",
       "  'tp': 1,\n",
       "  'fp': 98,\n",
       "  'fn': 77},\n",
       " 3: {'precision': 0.2492295839753467,\n",
       "  'recall': 0.947985347985348,\n",
       "  'f_beta': 0.8557112699341252,\n",
       "  'tp': 1294,\n",
       "  'fp': 3898,\n",
       "  'fn': 71},\n",
       " 4: {'precision': 0.02631578947368421,\n",
       "  'recall': 0.6666666666666666,\n",
       "  'f_beta': 0.3443708609271523,\n",
       "  'tp': 4,\n",
       "  'fp': 148,\n",
       "  'fn': 2},\n",
       " 5: {'precision': 0.0,\n",
       "  'recall': 0.0,\n",
       "  'f_beta': 0,\n",
       "  'tp': 0,\n",
       "  'fp': 1549,\n",
       "  'fn': 2},\n",
       " 6: {'precision': 0, 'recall': 0.0, 'f_beta': 0, 'tp': 0, 'fp': 0, 'fn': 110},\n",
       " 7: {'precision': 0, 'recall': 0.0, 'f_beta': 0, 'tp': 0, 'fp': 0, 'fn': 6},\n",
       " 8: {'precision': 0.0, 'recall': 0.0, 'f_beta': 0, 'tp': 0, 'fp': 8, 'fn': 1},\n",
       " 9: {'precision': 0.31689272503082616,\n",
       "  'recall': 0.9379562043795621,\n",
       "  'f_beta': 0.8722098942696775,\n",
       "  'tp': 1028,\n",
       "  'fp': 2216,\n",
       "  'fn': 68},\n",
       " 10: {'precision': 0.23529411764705882,\n",
       "  'recall': 0.8,\n",
       "  'f_beta': 0.7323943661971832,\n",
       "  'tp': 12,\n",
       "  'fp': 39,\n",
       "  'fn': 3},\n",
       " 11: {'precision': 0.011658031088082901,\n",
       "  'recall': 0.45,\n",
       "  'f_beta': 0.1839622641509434,\n",
       "  'tp': 9,\n",
       "  'fp': 763,\n",
       "  'fn': 11},\n",
       " 12: {'precision': 0, 'recall': 0.0, 'f_beta': 0, 'tp': 0, 'fp': 0, 'fn': 1}}"
      ]
     },
     "execution_count": 70,
     "metadata": {},
     "output_type": "execute_result"
    }
   ],
   "source": [
    "class_metrics"
   ]
  },
  {
   "cell_type": "markdown",
   "id": "82507cd8-3cc6-4c7e-8513-61b8baa2526f",
   "metadata": {},
   "source": [
    "# Metrics optimizeder"
   ]
  },
  {
   "cell_type": "markdown",
   "id": "e5b83d39-fb97-4695-bbfa-e0b76950fb60",
   "metadata": {},
   "source": [
    "## Conf Matrix"
   ]
  },
  {
   "cell_type": "code",
   "execution_count": 123,
   "id": "a95f6d1c-ad31-4b7b-9bbe-0597d531031f",
   "metadata": {},
   "outputs": [
    {
     "name": "stdout",
     "output_type": "stream",
     "text": [
      "True Positives per class: [1 1 1]\n",
      "True Negatives per class: 6\n",
      "False Negatives per class: [2 2 2]\n",
      "False Positives per class: [2 2 2]\n"
     ]
    }
   ],
   "source": [
    "import numpy as np\n",
    "\n",
    "def count_confusion_matrix(predictions, labels, num_classes):\n",
    "    \"\"\"\n",
    "    Count confusion matrix per class ID.\n",
    "    \n",
    "    Args:\n",
    "    - predictions: NumPy array of predicted class labels (shape: [N]).\n",
    "    - labels: NumPy array of ground truth class labels (shape: [N]).\n",
    "    - num_classes: Number of classes.\n",
    "    \n",
    "    Returns:\n",
    "    - TP: NumPy array of True Positives per class ID.\n",
    "    - TN: NumPy array of True Negatives per class ID.\n",
    "    - FN: NumPy array of False Negatives per class ID.\n",
    "    - FP: NumPy array of False Positives per class ID.\n",
    "    \"\"\"\n",
    "    \n",
    "    global confusion_matrix\n",
    "    \n",
    "    \n",
    "    confusion_matrix = np.zeros((num_classes, num_classes), dtype=np.int32)\n",
    "    np.add.at(confusion_matrix, (labels, predictions), 1)\n",
    "    \n",
    "    # True Positives (TP)\n",
    "    TP = np.diag(confusion_matrix)\n",
    "    \n",
    "    # True Negatives (TN)\n",
    "    TN = np.sum(confusion_matrix) - np.sum(confusion_matrix[np.eye(num_classes, dtype=bool)])\n",
    "    \n",
    "    # False Negatives (FN)\n",
    "    FN = np.sum(confusion_matrix, axis=1) - TP\n",
    "    \n",
    "    # False Positives (FP)\n",
    "    FP = np.sum(confusion_matrix, axis=0) - TP\n",
    "    \n",
    "    return confusion_matrix, TP, TN, FN, FP\n",
    "\n",
    "# Example usage:\n",
    "predictions = np.array([0, 1, 2, 0, 1, 2, 0, 1, 2])\n",
    "labels = np.array([0, 1, 2, 1, 2, 0, 1, 2, 0])\n",
    "num_classes = 3\n",
    "\n",
    "confusion_matrix, TP, TN, FN, FP = count_confusion_matrix(predictions, labels, num_classes)\n",
    "print(\"True Positives per class:\", TP)\n",
    "print(\"True Negatives per class:\", TN)\n",
    "print(\"False Negatives per class:\", FN)\n",
    "print(\"False Positives per class:\", FP)"
   ]
  },
  {
   "cell_type": "code",
   "execution_count": 125,
   "id": "68a1ba29-5f99-4119-b45e-14c81b375c4a",
   "metadata": {},
   "outputs": [
    {
     "data": {
      "text/plain": [
       "13"
      ]
     },
     "execution_count": 125,
     "metadata": {},
     "output_type": "execute_result"
    }
   ],
   "source": [
    "len(classes)"
   ]
  },
  {
   "cell_type": "code",
   "execution_count": 132,
   "id": "1a6c1c8e-7951-4ca6-b0db-339ec2ddfa7e",
   "metadata": {},
   "outputs": [
    {
     "data": {
      "text/plain": [
       "array([0, 2, 3, 6, 9], dtype=int64)"
      ]
     },
     "execution_count": 132,
     "metadata": {},
     "output_type": "execute_result"
    }
   ],
   "source": [
    "np.unique(flat_label_ids)"
   ]
  },
  {
   "cell_type": "code",
   "execution_count": 131,
   "id": "831f3b6f-556c-45bf-a7db-a0e8893d273f",
   "metadata": {},
   "outputs": [
    {
     "data": {
      "text/plain": [
       "array([ 0,  1,  2,  3,  4,  5,  6,  7,  8,  9, 10, 11, 12])"
      ]
     },
     "execution_count": 131,
     "metadata": {},
     "output_type": "execute_result"
    }
   ],
   "source": [
    "np.unique(flat_true_labels_id)"
   ]
  },
  {
   "cell_type": "code",
   "execution_count": 133,
   "id": "0c3ecb7d-947e-4c7b-8890-7cf1cda5f944",
   "metadata": {},
   "outputs": [
    {
     "name": "stdout",
     "output_type": "stream",
     "text": [
      "CPU times: total: 93.8 ms\n",
      "Wall time: 90 ms\n"
     ]
    }
   ],
   "source": [
    "%%time\n",
    "\n",
    "confusion_matrix, TP, TN, FN, FP = count_confusion_matrix(predictions = flat_label_ids, labels = flat_true_labels_id, num_classes = len(classes))"
   ]
  },
  {
   "cell_type": "code",
   "execution_count": 93,
   "id": "e3140a4b-4dc0-42e4-8e8e-49f81825de2f",
   "metadata": {},
   "outputs": [
    {
     "data": {
      "text/plain": [
       "array([[4980636,     533,      98,    3882,      79,    1544,       0,\n",
       "              0,       8,    2215,      39,     760,       0],\n",
       "       [      1,      38,       0,       0,       0,       0,       0,\n",
       "              0,       0,       0,       0,       0,       0],\n",
       "       [     16,       2,       1,       0,      58,       0,       0,\n",
       "              0,       0,       1,       0,       0,       0],\n",
       "       [     66,       3,       0,    1294,       0,       1,       0,\n",
       "              0,       0,       0,       0,       1,       0],\n",
       "       [      2,       0,       0,       0,       4,       0,       0,\n",
       "              0,       0,       0,       0,       0,       0],\n",
       "       [      0,       0,       0,       1,       0,       0,       0,\n",
       "              0,       0,       0,       0,       1,       0],\n",
       "       [     30,      80,       0,       0,       0,       0,       0,\n",
       "              0,       0,       0,       0,       0,       0],\n",
       "       [      4,       0,       0,       2,       0,       0,       0,\n",
       "              0,       0,       0,       0,       0,       0],\n",
       "       [      0,       0,       0,       0,       1,       0,       0,\n",
       "              0,       0,       0,       0,       0,       0],\n",
       "       [     40,       7,       0,      13,       6,       1,       0,\n",
       "              0,       0,    1028,       0,       1,       0],\n",
       "       [      1,       0,       0,       0,       2,       0,       0,\n",
       "              0,       0,       0,      12,       0,       0],\n",
       "       [      7,       0,       0,       0,       1,       3,       0,\n",
       "              0,       0,       0,       0,       9,       0],\n",
       "       [      0,       0,       0,       0,       1,       0,       0,\n",
       "              0,       0,       0,       0,       0,       0]])"
      ]
     },
     "execution_count": 93,
     "metadata": {},
     "output_type": "execute_result"
    }
   ],
   "source": [
    "confusion_matrix"
   ]
  },
  {
   "cell_type": "code",
   "execution_count": 95,
   "id": "965dc044-e8f8-4273-ba79-2093627d32fb",
   "metadata": {},
   "outputs": [
    {
     "data": {
      "image/png": "[encoded data removed]",
      "text/plain": [
       "<Figure size 1200x600 with 2 Axes>"
      ]
     },
     "metadata": {},
     "output_type": "display_data"
    }
   ],
   "source": [
    "plt.figure(figsize=(12, 6))\n",
    "sns.set(font_scale=1.2)  # Adjust font scale\n",
    "sns.heatmap(confusion_matrix, annot=True, fmt='d', cmap=\"Blues\", xticklabels=classes, yticklabels=classes)\n",
    "plt.xlabel('Predicted Labels')\n",
    "plt.ylabel('True Labels')\n",
    "plt.title('Confusion Matrix')\n",
    "plt.show()"
   ]
  },
  {
   "cell_type": "markdown",
   "id": "b6d6aab3-6aa8-4b05-ba9b-91aa9c27e053",
   "metadata": {},
   "source": [
    "## Metrics"
   ]
  },
  {
   "cell_type": "code",
   "execution_count": 121,
   "id": "0e87af18-3511-408b-a390-5b8f5a450d8c",
   "metadata": {},
   "outputs": [],
   "source": [
    "def compute_metrics_per_class(TP, FN, FP, class_label, beta=5):\n",
    "    \n",
    "    tp = TP[class_label]\n",
    "    fn = FN[class_label]\n",
    "    fp = FP[class_label]\n",
    "    \n",
    "    precision = tp / (tp + fp) if tp + fp > 0 else 0 \n",
    "    recall = tp / (tp + fn) if tp + fn > 0 else 0\n",
    "    f_beta = (1 + beta**2) * (precision * recall) / (beta**2 * precision + recall) if precision + recall > 0 else 0\n",
    "    \n",
    "    metrics = {'precision':precision, 'recall':recall, 'f_beta':f_beta,'tp':tp, 'fp':fp, 'fn':fn}\n",
    "    \n",
    "    return metrics"
   ]
  },
  {
   "cell_type": "code",
   "execution_count": 122,
   "id": "f8ca84a2-e8bc-44ff-8006-15924258e8db",
   "metadata": {},
   "outputs": [],
   "source": [
    "def compute_micro_metrics(predictions, labels, num_classes, pos_labels, beta=5):\n",
    "#     global class_metrics\n",
    "    \n",
    "    \n",
    "    confusion_matrix, TP, TN, FN, FP = count_confusion_matrix(predictions = predictions, labels = labels, num_classes = len(classes))\n",
    "    #class_metrics = {}\n",
    "\n",
    "    #class_metrics = {id2classes[class_label]:compute_metrics_per_class(predictions, labels, pos_labels, beta) for class_label in pos_labels}\n",
    "    #'O' included for analysis\n",
    "#     class_metrics = {class_label:compute_metrics_per_class(TP, FN, FP, class_label, beta) for class_label in pos_labels}\n",
    "    class_metrics = {class_label:compute_metrics_per_class(TP, FN, FP, class_label, beta) for class_label in range(num_classes)}\n",
    "    \n",
    "    \n",
    "    # Calculate total true positives, false positives, and false negatives excluding 'O' label\n",
    "    total_tp = sum(TP[pos_labels])\n",
    "    total_fp = sum(FP[pos_labels])\n",
    "    total_fn = sum(FN[pos_labels])\n",
    "    \n",
    "    # Compute total precision excluding 'O' label\n",
    "    total_precision = total_tp / (total_tp + total_fp) if total_tp + total_fp > 0 else 0\n",
    "    \n",
    "    # Compute total recall excluding 'O' label\n",
    "    total_recall = total_tp / (total_tp + total_fn) if total_tp + total_fn > 0 else 0\n",
    "    \n",
    "    # Compute total F-beta score excluding 'O' label\n",
    "    total_f_beta = (1 + beta**2) * (total_precision * total_recall) / (beta**2 * total_precision + total_recall) if total_precision + total_recall > 0 else 0\n",
    "    \n",
    "    total_metrics = {'precision':total_precision, 'recall':total_recall, 'f_beta':total_f_beta,'tp':total_tp, 'fp':total_fp, 'fn':total_fn}\n",
    "    \n",
    "    return total_metrics, class_metrics\n"
   ]
  },
  {
   "cell_type": "code",
   "execution_count": 124,
   "id": "51dcbd29-aa78-4dd7-8a51-dd3bc0e3807a",
   "metadata": {},
   "outputs": [
    {
     "name": "stdout",
     "output_type": "stream",
     "text": [
      "CPU times: total: 93.8 ms\n",
      "Wall time: 93 ms\n"
     ]
    }
   ],
   "source": [
    "%%time\n",
    "total_metrics, class_metrics = compute_micro_metrics(predictions = flat_word_label_ids, labels = flat_word_true_labels_id, num_classes = len(classes), pos_labels=classes_pos_id, beta=5)"
   ]
  },
  {
   "cell_type": "code",
   "execution_count": null,
   "id": "7eef40c6-d147-4e5b-af59-b312d40ee857",
   "metadata": {},
   "outputs": [],
   "source": []
  },
  {
   "cell_type": "code",
   "execution_count": 117,
   "id": "e86dea3b-c077-4569-a7e3-1f85c0958eda",
   "metadata": {},
   "outputs": [
    {
     "data": {
      "text/plain": [
       "{'precision': 0.20341005967604434,\n",
       " 'recall': 0.8711208470244615,\n",
       " 'f_beta': 0.7734679882800324,\n",
       " 'tp': 2386,\n",
       " 'fp': 9344,\n",
       " 'fn': 353}"
      ]
     },
     "execution_count": 117,
     "metadata": {},
     "output_type": "execute_result"
    }
   ],
   "source": [
    "total_metrics_2"
   ]
  },
  {
   "cell_type": "code",
   "execution_count": null,
   "id": "425f56da-ec7a-4f54-aac2-46d0eacbc6db",
   "metadata": {},
   "outputs": [],
   "source": []
  },
  {
   "cell_type": "code",
   "execution_count": 114,
   "id": "1445c37f-fa4c-46e2-848e-ab727163cdbe",
   "metadata": {},
   "outputs": [
    {
     "data": {
      "text/plain": [
       "{'precision': 0.20341005967604434,\n",
       " 'recall': 0.8711208470244615,\n",
       " 'f_beta': 0.7734679882800324,\n",
       " 'tp': 2386,\n",
       " 'fp': 9344,\n",
       " 'fn': 353}"
      ]
     },
     "execution_count": 114,
     "metadata": {},
     "output_type": "execute_result"
    }
   ],
   "source": [
    "total_metrics_2"
   ]
  },
  {
   "cell_type": "code",
   "execution_count": 122,
   "id": "0b3f7398-1cf6-4af0-93c5-4b8bdaccdfa4",
   "metadata": {},
   "outputs": [
    {
     "data": {
      "text/plain": [
       "True"
      ]
     },
     "execution_count": 122,
     "metadata": {},
     "output_type": "execute_result"
    }
   ],
   "source": [
    "class_metrics == class_metrics_2"
   ]
  },
  {
   "cell_type": "code",
   "execution_count": 116,
   "id": "5ac1f3a7-fa97-475d-9da4-6993aacbbe4c",
   "metadata": {},
   "outputs": [
    {
     "data": {
      "text/plain": [
       "True"
      ]
     },
     "execution_count": 116,
     "metadata": {},
     "output_type": "execute_result"
    }
   ],
   "source": [
    "class_metrics == class_metrics_2"
   ]
  },
  {
   "cell_type": "code",
   "execution_count": 115,
   "id": "a83d0c1b-a8a5-4001-86db-10e7d735073d",
   "metadata": {},
   "outputs": [
    {
     "data": {
      "text/plain": [
       "True"
      ]
     },
     "execution_count": 115,
     "metadata": {},
     "output_type": "execute_result"
    }
   ],
   "source": [
    "total_metrics == total_metrics_2"
   ]
  },
  {
   "cell_type": "code",
   "execution_count": 113,
   "id": "9e63d5a3-7ac9-4126-a3fa-4df6d98b2a7f",
   "metadata": {
    "collapsed": true,
    "jupyter": {
     "outputs_hidden": true
    },
    "tags": []
   },
   "outputs": [
    {
     "data": {
      "text/plain": [
       "{1: {'precision': 0.05731523378582202,\n",
       "  'recall': 0.9743589743589743,\n",
       "  'f_beta': 0.6031746031746031,\n",
       "  'tp': 38,\n",
       "  'fp': 625,\n",
       "  'fn': 1},\n",
       " 2: {'precision': 0.010101010101010102,\n",
       "  'recall': 0.01282051282051282,\n",
       "  'f_beta': 0.01268911664226452,\n",
       "  'tp': 1,\n",
       "  'fp': 98,\n",
       "  'fn': 77},\n",
       " 3: {'precision': 0.2492295839753467,\n",
       "  'recall': 0.947985347985348,\n",
       "  'f_beta': 0.8557112699341252,\n",
       "  'tp': 1294,\n",
       "  'fp': 3898,\n",
       "  'fn': 71},\n",
       " 4: {'precision': 0.02631578947368421,\n",
       "  'recall': 0.6666666666666666,\n",
       "  'f_beta': 0.3443708609271523,\n",
       "  'tp': 4,\n",
       "  'fp': 148,\n",
       "  'fn': 2},\n",
       " 5: {'precision': 0.0,\n",
       "  'recall': 0.0,\n",
       "  'f_beta': 0,\n",
       "  'tp': 0,\n",
       "  'fp': 1549,\n",
       "  'fn': 2},\n",
       " 6: {'precision': 0, 'recall': 0.0, 'f_beta': 0, 'tp': 0, 'fp': 0, 'fn': 110},\n",
       " 7: {'precision': 0, 'recall': 0.0, 'f_beta': 0, 'tp': 0, 'fp': 0, 'fn': 6},\n",
       " 8: {'precision': 0.0, 'recall': 0.0, 'f_beta': 0, 'tp': 0, 'fp': 8, 'fn': 1},\n",
       " 9: {'precision': 0.31689272503082616,\n",
       "  'recall': 0.9379562043795621,\n",
       "  'f_beta': 0.8722098942696775,\n",
       "  'tp': 1028,\n",
       "  'fp': 2216,\n",
       "  'fn': 68},\n",
       " 10: {'precision': 0.23529411764705882,\n",
       "  'recall': 0.8,\n",
       "  'f_beta': 0.7323943661971832,\n",
       "  'tp': 12,\n",
       "  'fp': 39,\n",
       "  'fn': 3},\n",
       " 11: {'precision': 0.011658031088082901,\n",
       "  'recall': 0.45,\n",
       "  'f_beta': 0.1839622641509434,\n",
       "  'tp': 9,\n",
       "  'fp': 763,\n",
       "  'fn': 11},\n",
       " 12: {'precision': 0, 'recall': 0.0, 'f_beta': 0, 'tp': 0, 'fp': 0, 'fn': 1}}"
      ]
     },
     "execution_count": 113,
     "metadata": {},
     "output_type": "execute_result"
    }
   ],
   "source": [
    "class_metrics_2"
   ]
  },
  {
   "cell_type": "code",
   "execution_count": 85,
   "id": "0f023480-4ff1-40e2-b1e9-d4f1e1f73934",
   "metadata": {},
   "outputs": [
    {
     "data": {
      "text/plain": [
       "9511"
      ]
     },
     "execution_count": 85,
     "metadata": {},
     "output_type": "execute_result"
    }
   ],
   "source": [
    "confusion_matrix[1]"
   ]
  },
  {
   "cell_type": "code",
   "execution_count": 77,
   "id": "d7396d79-f314-437e-af0d-995d9ce47c24",
   "metadata": {},
   "outputs": [
    {
     "data": {
      "text/plain": [
       "['O',\n",
       " 'B-EMAIL',\n",
       " 'B-ID_NUM',\n",
       " 'B-NAME_STUDENT',\n",
       " 'B-PHONE_NUM',\n",
       " 'B-STREET_ADDRESS',\n",
       " 'B-URL_PERSONAL',\n",
       " 'B-USERNAME',\n",
       " 'I-ID_NUM',\n",
       " 'I-NAME_STUDENT',\n",
       " 'I-PHONE_NUM',\n",
       " 'I-STREET_ADDRESS',\n",
       " 'I-URL_PERSONAL']"
      ]
     },
     "execution_count": 77,
     "metadata": {},
     "output_type": "execute_result"
    }
   ],
   "source": [
    "classes"
   ]
  },
  {
   "cell_type": "code",
   "execution_count": 75,
   "id": "6d6d44f6-ae7f-44e5-8c2a-c4d1c4d5a48b",
   "metadata": {},
   "outputs": [
    {
     "data": {
      "text/plain": [
       "array([[1, 0, 2],\n",
       "       [2, 1, 0],\n",
       "       [0, 2, 1]])"
      ]
     },
     "execution_count": 75,
     "metadata": {},
     "output_type": "execute_result"
    }
   ],
   "source": [
    "confusion_matrix"
   ]
  },
  {
   "cell_type": "markdown",
   "id": "d1a4465c-98f5-43a8-9418-7d2bba20540f",
   "metadata": {},
   "source": [
    "# Analysis"
   ]
  },
  {
   "cell_type": "code",
   "execution_count": 118,
   "id": "2899b7f9-f622-426d-aa39-565873453153",
   "metadata": {
    "collapsed": true,
    "jupyter": {
     "outputs_hidden": true
    },
    "tags": []
   },
   "outputs": [
    {
     "data": {
      "image/png": "[encoded data removed]",
      "text/plain": [
       "<Figure size 1200x600 with 2 Axes>"
      ]
     },
     "metadata": {},
     "output_type": "display_data"
    }
   ],
   "source": [
    "plt.figure(figsize=(12, 6))\n",
    "sns.set(font_scale=1.2)  # Adjust font scale\n",
    "sns.heatmap(confusion_matrix, annot=True, fmt='d', cmap=\"Blues\", xticklabels=classes, yticklabels=classes)\n",
    "plt.xlabel('Predicted Labels')\n",
    "plt.ylabel('True Labels')\n",
    "plt.title('Confusion Matrix')\n",
    "plt.show()"
   ]
  },
  {
   "cell_type": "code",
   "execution_count": 134,
   "id": "cf37ff63-0cdb-4a5f-a3c7-e2e6fdee7f47",
   "metadata": {},
   "outputs": [
    {
     "data": {
      "image/png": "[encoded data removed]",
      "text/plain": [
       "<Figure size 1200x600 with 2 Axes>"
      ]
     },
     "metadata": {},
     "output_type": "display_data"
    }
   ],
   "source": [
    "# conf_matrix = np.array([[20, 5, 0],\n",
    "#                         [3, 25, 2],\n",
    "#                         [1, 4, 18]])\n",
    "\n",
    "conf_matrix = confusion_matrix\n",
    "\n",
    "# Define class labels\n",
    "# classes = ['Class 1', 'Class 2', 'Class 3']\n",
    "\n",
    "# Plot confusion matrix\n",
    "plt.figure(figsize=(12, 6))\n",
    "sns.set(font_scale=1.2)  # Adjust font scale\n",
    "\n",
    "# Calculate vmin and vmax excluding the background class\n",
    "vmin = np.min(conf_matrix[conf_matrix != conf_matrix[0,0]])\n",
    "vmax = np.max(conf_matrix[conf_matrix != conf_matrix[0,0]])\n",
    "\n",
    "sns.heatmap(conf_matrix, annot=True, fmt='d', cmap=\"Blues\", xticklabels=classes, yticklabels=classes, vmin=vmin, vmax=vmax)\n",
    "plt.xlabel('Predicted Labels')\n",
    "plt.ylabel('True Labels')\n",
    "plt.title('Confusion Matrix')\n",
    "plt.show()"
   ]
  },
  {
   "cell_type": "code",
   "execution_count": 137,
   "id": "6b2522f8-d448-498b-b7e3-3afe20d4690b",
   "metadata": {},
   "outputs": [
    {
     "data": {
      "image/png": "[encoded data removed]",
      "text/plain": [
       "<Figure size 1200x600 with 2 Axes>"
      ]
     },
     "metadata": {},
     "output_type": "display_data"
    }
   ],
   "source": [
    "# conf_matrix = np.array([[20, 5, 0],\n",
    "#                         [3, 25, 2],\n",
    "#                         [1, 4, 18]])\n",
    "\n",
    "\n",
    "\n",
    "confusion_matrix, TP, TN, FN, FP = count_confusion_matrix(predictions = flat_label_ids, labels = flat_true_labels_id, num_classes = len(classes))\n",
    "conf_matrix = confusion_matrix\n",
    "\n",
    "# Define class labels\n",
    "# classes = ['Class 1', 'Class 2', 'Class 3']\n",
    "\n",
    "# Plot confusion matrix\n",
    "plt.figure(figsize=(12, 6))\n",
    "sns.set(font_scale=1.2)  # Adjust font scale\n",
    "\n",
    "# Calculate vmin and vmax excluding the background class\n",
    "vmin = np.min(conf_matrix[conf_matrix != conf_matrix[0,0]])\n",
    "vmax = np.max(conf_matrix[conf_matrix != conf_matrix[0,0]])\n",
    "\n",
    "sns.heatmap(conf_matrix, annot=True, fmt='d', cmap=\"Blues\", xticklabels=classes, yticklabels=classes, vmin=vmin, vmax=vmax)\n",
    "plt.xlabel('Predicted Labels')\n",
    "plt.ylabel('True Labels')\n",
    "plt.title('Confusion Matrix')\n",
    "plt.show()"
   ]
  },
  {
   "cell_type": "code",
   "execution_count": 137,
   "id": "c7214838-9d38-4c34-ab0c-44b5ad3dd74c",
   "metadata": {},
   "outputs": [
    {
     "data": {
      "text/plain": [
       "['O',\n",
       " 'B-EMAIL',\n",
       " 'B-ID_NUM',\n",
       " 'B-NAME_STUDENT',\n",
       " 'B-PHONE_NUM',\n",
       " 'B-STREET_ADDRESS',\n",
       " 'B-URL_PERSONAL',\n",
       " 'B-USERNAME',\n",
       " 'I-ID_NUM',\n",
       " 'I-NAME_STUDENT',\n",
       " 'I-PHONE_NUM',\n",
       " 'I-STREET_ADDRESS',\n",
       " 'I-URL_PERSONAL']"
      ]
     },
     "execution_count": 137,
     "metadata": {},
     "output_type": "execute_result"
    }
   ],
   "source": [
    "classes"
   ]
  },
  {
   "cell_type": "code",
   "execution_count": 136,
   "id": "c1f8140b-1d81-4b00-abf1-985474706cbb",
   "metadata": {},
   "outputs": [
    {
     "data": {
      "text/plain": [
       "array([[4980636,     533,      98,    3882,      79,    1544,       0,\n",
       "              0,       8,    2215,      39,     760,       0],\n",
       "       [      1,      38,       0,       0,       0,       0,       0,\n",
       "              0,       0,       0,       0,       0,       0],\n",
       "       [     16,       2,       1,       0,      58,       0,       0,\n",
       "              0,       0,       1,       0,       0,       0],\n",
       "       [     66,       3,       0,    1294,       0,       1,       0,\n",
       "              0,       0,       0,       0,       1,       0],\n",
       "       [      2,       0,       0,       0,       4,       0,       0,\n",
       "              0,       0,       0,       0,       0,       0],\n",
       "       [      0,       0,       0,       1,       0,       0,       0,\n",
       "              0,       0,       0,       0,       1,       0],\n",
       "       [     30,      80,       0,       0,       0,       0,       0,\n",
       "              0,       0,       0,       0,       0,       0],\n",
       "       [      4,       0,       0,       2,       0,       0,       0,\n",
       "              0,       0,       0,       0,       0,       0],\n",
       "       [      0,       0,       0,       0,       1,       0,       0,\n",
       "              0,       0,       0,       0,       0,       0],\n",
       "       [     40,       7,       0,      13,       6,       1,       0,\n",
       "              0,       0,    1028,       0,       1,       0],\n",
       "       [      1,       0,       0,       0,       2,       0,       0,\n",
       "              0,       0,       0,      12,       0,       0],\n",
       "       [      7,       0,       0,       0,       1,       3,       0,\n",
       "              0,       0,       0,       0,       9,       0],\n",
       "       [      0,       0,       0,       0,       1,       0,       0,\n",
       "              0,       0,       0,       0,       0,       0]])"
      ]
     },
     "execution_count": 136,
     "metadata": {},
     "output_type": "execute_result"
    }
   ],
   "source": [
    "conf_matrix"
   ]
  },
  {
   "cell_type": "code",
   "execution_count": 126,
   "id": "57b4424e-e7eb-4dd0-b67d-37fe3a2247d4",
   "metadata": {},
   "outputs": [
    {
     "data": {
      "text/plain": [
       "{0: {'precision': 0.9999664712697932,\n",
       "  'recall': 0.9981646536911143,\n",
       "  'f_beta': 0.9982338342902771,\n",
       "  'tp': 4980636,\n",
       "  'fp': 167,\n",
       "  'fn': 9158},\n",
       " 1: {'precision': 0.05731523378582202,\n",
       "  'recall': 0.9743589743589743,\n",
       "  'f_beta': 0.6031746031746031,\n",
       "  'tp': 38,\n",
       "  'fp': 625,\n",
       "  'fn': 1},\n",
       " 2: {'precision': 0.010101010101010102,\n",
       "  'recall': 0.01282051282051282,\n",
       "  'f_beta': 0.01268911664226452,\n",
       "  'tp': 1,\n",
       "  'fp': 98,\n",
       "  'fn': 77},\n",
       " 3: {'precision': 0.2492295839753467,\n",
       "  'recall': 0.947985347985348,\n",
       "  'f_beta': 0.8557112699341252,\n",
       "  'tp': 1294,\n",
       "  'fp': 3898,\n",
       "  'fn': 71},\n",
       " 4: {'precision': 0.02631578947368421,\n",
       "  'recall': 0.6666666666666666,\n",
       "  'f_beta': 0.3443708609271523,\n",
       "  'tp': 4,\n",
       "  'fp': 148,\n",
       "  'fn': 2},\n",
       " 5: {'precision': 0.0,\n",
       "  'recall': 0.0,\n",
       "  'f_beta': 0,\n",
       "  'tp': 0,\n",
       "  'fp': 1549,\n",
       "  'fn': 2},\n",
       " 6: {'precision': 0, 'recall': 0.0, 'f_beta': 0, 'tp': 0, 'fp': 0, 'fn': 110},\n",
       " 7: {'precision': 0, 'recall': 0.0, 'f_beta': 0, 'tp': 0, 'fp': 0, 'fn': 6},\n",
       " 8: {'precision': 0.0, 'recall': 0.0, 'f_beta': 0, 'tp': 0, 'fp': 8, 'fn': 1},\n",
       " 9: {'precision': 0.31689272503082616,\n",
       "  'recall': 0.9379562043795621,\n",
       "  'f_beta': 0.8722098942696775,\n",
       "  'tp': 1028,\n",
       "  'fp': 2216,\n",
       "  'fn': 68},\n",
       " 10: {'precision': 0.23529411764705882,\n",
       "  'recall': 0.8,\n",
       "  'f_beta': 0.7323943661971832,\n",
       "  'tp': 12,\n",
       "  'fp': 39,\n",
       "  'fn': 3},\n",
       " 11: {'precision': 0.011658031088082901,\n",
       "  'recall': 0.45,\n",
       "  'f_beta': 0.1839622641509434,\n",
       "  'tp': 9,\n",
       "  'fp': 763,\n",
       "  'fn': 11},\n",
       " 12: {'precision': 0, 'recall': 0.0, 'f_beta': 0, 'tp': 0, 'fp': 0, 'fn': 1}}"
      ]
     },
     "execution_count": 126,
     "metadata": {},
     "output_type": "execute_result"
    }
   ],
   "source": [
    "class_metrics"
   ]
  },
  {
   "cell_type": "markdown",
   "id": "5dfaf164-4268-49d5-856a-11a3abece415",
   "metadata": {
    "tags": []
   },
   "source": [
    "# Bin"
   ]
  },
  {
   "cell_type": "code",
   "execution_count": 14,
   "id": "28a37229-9c2f-4a51-a2fc-4cf671801b43",
   "metadata": {},
   "outputs": [],
   "source": [
    "import gc\n",
    "from pympler import asizeof\n"
   ]
  },
  {
   "cell_type": "code",
   "execution_count": 15,
   "id": "d94ed104-d47f-40fc-bd65-7a9df7d50250",
   "metadata": {},
   "outputs": [],
   "source": [
    "from tqdm import tqdm"
   ]
  },
  {
   "cell_type": "code",
   "execution_count": 24,
   "id": "e5d09384-3854-4f3c-9227-f923ea5c713f",
   "metadata": {},
   "outputs": [],
   "source": [
    "def top_memory_objects(n=10):\n",
    "    # Get all objects currently in memory\n",
    "    all_objects = gc.get_objects()\n",
    "    print(f\"Total objects in memory: {len(all_objects)}\")\n",
    "    \n",
    "    all_objects = all_objects[:1000]\n",
    "    print(f\"Total objects in subset: {len(all_objects)}\")\n",
    "\n",
    "    # Create a list of tuples (size, object) and filter out small objects for performance reasons\n",
    "#     sizes_objects = [(asizeof.asizeof(obj), obj) for obj in all_objects if asizeof.asizeof(obj) > 1000]\n",
    "\n",
    "    sizes_objects = []\n",
    "    \n",
    "    for obj in tqdm(all_objects, desc=\"Calculating object sizes\"):\n",
    "#     for obj in all_objects:\n",
    "        try:\n",
    "            size = asizeof.asizeof(obj)\n",
    "            if size > 1000:\n",
    "                sizes_objects.append((size,obj))\n",
    "        except Exception as e:\n",
    "            sizes_objects.append((0, e))\n",
    "        \n",
    "    # Sort the list of tuples by size in descending order\n",
    "    sorted_sizes_objects = sorted(sizes_objects, key=lambda x: x[0], reverse=True)\n",
    "\n",
    "    # Print the top N objects\n",
    "    \n",
    "    return sorted_sizes_objects\n",
    "    \n",
    "\n"
   ]
  },
  {
   "cell_type": "code",
   "execution_count": 25,
   "id": "b5f4b7d6-303c-4dca-818a-21c7bae72391",
   "metadata": {},
   "outputs": [
    {
     "name": "stdout",
     "output_type": "stream",
     "text": [
      "Total objects in memory: 465487\n",
      "Total objects in subset: 1000\n"
     ]
    },
    {
     "name": "stderr",
     "output_type": "stream",
     "text": [
      "Calculating object sizes:   0%|                                                               | 0/1000 [00:00<?, ?it/s]D:\\Anaconda3\\envs\\nlp_torch\\Lib\\site-packages\\pympler\\asizeof.py:721: UserWarning: Iterating '<class 'traitlets.config.loader.Config'>': TypeError(\"'LazyConfigValue' object is not iterable\")\n",
      "  warnings.warn(\"Iterating '%s': %r\" % (_classof(obj), x))\n",
      "Calculating object sizes: 100%|████████████████████████████████████████████████████| 1000/1000 [01:08<00:00, 14.66it/s]"
     ]
    },
    {
     "name": "stdout",
     "output_type": "stream",
     "text": [
      "Object type: <class 'dict'>, Size: 2536774600 bytes\n",
      "Object type: <class 'tuple'>, Size: 2536774544 bytes\n",
      "Object type: <class 'tuple'>, Size: 2536774416 bytes\n",
      "Object type: <class 'dict'>, Size: 2536774200 bytes\n",
      "Object type: <class 'cell'>, Size: 2536771024 bytes\n",
      "Object type: <class 'cell'>, Size: 2536770736 bytes\n",
      "Object type: <class 'list'>, Size: 5838720 bytes\n",
      "Object type: <class 'list'>, Size: 831408 bytes\n",
      "Object type: <class 'list'>, Size: 831024 bytes\n",
      "Object type: <class 'dict'>, Size: 822912 bytes\n",
      "CPU times: total: 1min 6s\n",
      "Wall time: 1min 8s\n"
     ]
    },
    {
     "name": "stderr",
     "output_type": "stream",
     "text": [
      "\n"
     ]
    }
   ],
   "source": [
    "%%time\n",
    "# Display the top 10 objects by memory usage\n",
    "sizes = top_memory_objects(10)\n",
    "\n",
    "for size, obj in sizes[:10]:\n",
    "    print(f\"Object type: {type(obj)}, Size: {size} bytes\")"
   ]
  },
  {
   "cell_type": "markdown",
   "id": "d78a1e14-ee64-41d7-8500-2bd91501cc4d",
   "metadata": {},
   "source": [
    "## B_mask tests"
   ]
  },
  {
   "cell_type": "code",
   "execution_count": 125,
   "id": "01f9cf94-70fc-4046-8063-b17debdbb278",
   "metadata": {},
   "outputs": [],
   "source": [
    "out = to_bio_vect(list_pred_words[0])"
   ]
  },
  {
   "cell_type": "code",
   "execution_count": 139,
   "id": "5d7da7f3-35e7-4d0b-b235-8d582c32647e",
   "metadata": {},
   "outputs": [],
   "source": [
    "out = to_bio_vect(sample_array)"
   ]
  },
  {
   "cell_type": "code",
   "execution_count": 140,
   "id": "195bcf85-e959-4dc9-bc05-b77a24b94241",
   "metadata": {},
   "outputs": [],
   "source": [
    "sample_array = np.array( [1,2,3,4,4,5,6,6,6,3,3,3,2,1,0,0])\n",
    "desired_array = np.array( [0,0,0,0,1,0,0,1,2,0,1,2,0,0,0,1])"
   ]
  },
  {
   "cell_type": "code",
   "execution_count": 141,
   "id": "9fe5915e-f046-47e0-b930-bae1337aa0d9",
   "metadata": {},
   "outputs": [
    {
     "data": {
      "text/plain": [
       "array([1, 2, 3, 4, 4, 5, 6, 6, 6, 3, 3, 3, 2, 1, 0, 0])"
      ]
     },
     "execution_count": 141,
     "metadata": {},
     "output_type": "execute_result"
    }
   ],
   "source": [
    "sample_array"
   ]
  },
  {
   "cell_type": "code",
   "execution_count": 142,
   "id": "5ef1d971-c7c1-4187-853d-9a4f7e2aeebb",
   "metadata": {},
   "outputs": [
    {
     "data": {
      "text/plain": [
       "array([ True,  True,  True,  True, False,  True,  True, False, False,\n",
       "        True, False, False,  True,  True,  True, False])"
      ]
     },
     "execution_count": 142,
     "metadata": {},
     "output_type": "execute_result"
    }
   ],
   "source": [
    "zeros"
   ]
  },
  {
   "cell_type": "code",
   "execution_count": 143,
   "id": "9b316c21-3dcb-4281-90b0-1f4f9d07bd86",
   "metadata": {},
   "outputs": [
    {
     "data": {
      "text/plain": [
       "array([ 2,  1,  1,  1,  0,  1,  1,  0,  0, -3,  0,  0, -1, -1, -1,  0])"
      ]
     },
     "execution_count": 143,
     "metadata": {},
     "output_type": "execute_result"
    }
   ],
   "source": [
    "diff_array"
   ]
  },
  {
   "cell_type": "code",
   "execution_count": 130,
   "id": "56e67762-8155-435e-9b00-c530c4614d69",
   "metadata": {},
   "outputs": [
    {
     "data": {
      "text/plain": [
       "array([0, 0, 0, 0, 1, 0, 0, 1, 1, 0, 1, 1, 0, 0, 0, 1])"
      ]
     },
     "execution_count": 130,
     "metadata": {},
     "output_type": "execute_result"
    }
   ],
   "source": [
    "change_indices"
   ]
  },
  {
   "cell_type": "code",
   "execution_count": 131,
   "id": "8fe24e02-3666-40e2-9930-e5b388ed437e",
   "metadata": {},
   "outputs": [
    {
     "data": {
      "text/plain": [
       "array([0, 0, 0, 0, 1, 1, 1, 2, 3, 3, 4, 5, 5, 5, 5, 6])"
      ]
     },
     "execution_count": 131,
     "metadata": {},
     "output_type": "execute_result"
    }
   ],
   "source": [
    "cumsum"
   ]
  },
  {
   "cell_type": "code",
   "execution_count": 132,
   "id": "68fce1cf-fd98-4494-b96b-a360fa29eda8",
   "metadata": {},
   "outputs": [
    {
     "data": {
      "text/plain": [
       "array([0, 0, 0, 0, 0, 1, 1, 1, 1, 3, 3, 3, 5, 5, 5, 5])"
      ]
     },
     "execution_count": 132,
     "metadata": {},
     "output_type": "execute_result"
    }
   ],
   "source": [
    "accumulate"
   ]
  },
  {
   "cell_type": "code",
   "execution_count": 133,
   "id": "7f3e3bbe-cd51-4be5-bdd5-c21a177b817b",
   "metadata": {},
   "outputs": [
    {
     "data": {
      "text/plain": [
       "array([0, 0, 0, 0, 1, 0, 0, 1, 2, 0, 1, 2, 0, 0, 0, 1])"
      ]
     },
     "execution_count": 133,
     "metadata": {},
     "output_type": "execute_result"
    }
   ],
   "source": [
    "out"
   ]
  },
  {
   "cell_type": "code",
   "execution_count": 134,
   "id": "d4c83717-b4f6-4f93-8261-e2913fadb668",
   "metadata": {},
   "outputs": [
    {
     "data": {
      "text/plain": [
       "array([0, 0, 0, 0, 1, 0, 0, 1, 2, 0, 1, 2, 0, 0, 0, 1])"
      ]
     },
     "execution_count": 134,
     "metadata": {},
     "output_type": "execute_result"
    }
   ],
   "source": [
    "desired_array"
   ]
  },
  {
   "cell_type": "markdown",
   "id": "8ed3e1dd-1904-4cc1-8871-3a011709d1aa",
   "metadata": {
    "tags": []
   },
   "source": [
    "## To Bio test"
   ]
  },
  {
   "cell_type": "code",
   "execution_count": 253,
   "id": "9806f144-71c6-4374-82f2-2a8bab87f11d",
   "metadata": {},
   "outputs": [
    {
     "data": {
      "text/plain": [
       "array([ 0,  3,  0,  4, 10,  0,  0,  0,  0,  0,  0,  0,  3,  0,  0,  0,  4,\n",
       "       10, 10,  2,  8,  8,  8,  8,  8], dtype=int8)"
      ]
     },
     "execution_count": 253,
     "metadata": {},
     "output_type": "execute_result"
    }
   ],
   "source": [
    "sample_array = np.array( [1,2,3,4,4,5,6,6,6,3,3,3,2,1,0,0,4,4,4,8,8,8,8,10,10])\n",
    "to_bio_vect(sample_array)"
   ]
  },
  {
   "cell_type": "code",
   "execution_count": 254,
   "id": "a38b6f2c-2a78-457e-86be-a69958ce3d09",
   "metadata": {},
   "outputs": [
    {
     "data": {
      "text/plain": [
       "array([ 1,  2,  3,  4,  4,  5,  6,  6,  6,  3,  3,  3,  2,  1,  0,  0,  4,\n",
       "        4,  4,  8,  8,  8,  8, 10, 10])"
      ]
     },
     "execution_count": 254,
     "metadata": {},
     "output_type": "execute_result"
    }
   ],
   "source": [
    "sample_array"
   ]
  },
  {
   "cell_type": "code",
   "execution_count": 243,
   "id": "35faf06a-9d0f-4762-97cc-90640652b0a5",
   "metadata": {},
   "outputs": [
    {
     "data": {
      "text/plain": [
       "array([0, 3, 0, 4, 4, 0, 0, 0, 0, 0, 0, 0, 3, 0, 0, 0, 4, 4, 4, 2, 2, 2,\n",
       "       2, 2, 2], dtype=int8)"
      ]
     },
     "execution_count": 243,
     "metadata": {},
     "output_type": "execute_result"
    }
   ],
   "source": [
    "np_pred_words_temp"
   ]
  },
  {
   "cell_type": "code",
   "execution_count": 228,
   "id": "120df041-3fca-4ab2-b826-f8861a0a597b",
   "metadata": {},
   "outputs": [
    {
     "data": {
      "text/plain": [
       "{0: 'O',\n",
       " 1: 'O',\n",
       " 2: 'NAME_STUDENT',\n",
       " 3: 'O',\n",
       " 4: 'PHONE_NUM',\n",
       " 5: 'O',\n",
       " 6: 'O',\n",
       " 7: 'O',\n",
       " 8: 'ID_NUM',\n",
       " 9: 'O',\n",
       " 10: 'ID_NUM',\n",
       " 11: 'O',\n",
       " 12: 'STREET_ADDRESS',\n",
       " 13: 'O',\n",
       " 14: 'EMAIL',\n",
       " 15: 'O',\n",
       " 16: 'O',\n",
       " 17: 'O'}"
      ]
     },
     "execution_count": 228,
     "metadata": {},
     "output_type": "execute_result"
    }
   ],
   "source": [
    "model_adapter.model_id2cur_ent_label"
   ]
  },
  {
   "cell_type": "code",
   "execution_count": 195,
   "id": "ee59a8e7-428d-489e-9ee1-975ff8c986eb",
   "metadata": {},
   "outputs": [
    {
     "data": {
      "text/plain": [
       "{'O': 0,\n",
       " 'B-EMAIL': 1,\n",
       " 'B-ID_NUM': 2,\n",
       " 'B-NAME_STUDENT': 3,\n",
       " 'B-PHONE_NUM': 4,\n",
       " 'B-STREET_ADDRESS': 5,\n",
       " 'B-URL_PERSONAL': 6,\n",
       " 'B-USERNAME': 7,\n",
       " 'I-ID_NUM': 8,\n",
       " 'I-NAME_STUDENT': 9,\n",
       " 'I-PHONE_NUM': 10,\n",
       " 'I-STREET_ADDRESS': 11,\n",
       " 'I-URL_PERSONAL': 12}"
      ]
     },
     "execution_count": 195,
     "metadata": {},
     "output_type": "execute_result"
    }
   ],
   "source": [
    "classes2id"
   ]
  },
  {
   "cell_type": "code",
   "execution_count": 248,
   "id": "375a7aa5-5839-4c72-8700-56dcd47d5c22",
   "metadata": {},
   "outputs": [
    {
     "data": {
      "text/plain": [
       "{'O': 0,\n",
       " 'EMAIL': 1,\n",
       " 'ID_NUM': 2,\n",
       " 'NAME_STUDENT': 3,\n",
       " 'PHONE_NUM': 4,\n",
       " 'STREET_ADDRESS': 5,\n",
       " 'URL_PERSONAL': 6,\n",
       " 'USERNAME': 7}"
      ]
     },
     "execution_count": 248,
     "metadata": {},
     "output_type": "execute_result"
    }
   ],
   "source": [
    "entity2id"
   ]
  },
  {
   "cell_type": "code",
   "execution_count": 247,
   "id": "16e5d1a7-94b8-4754-be8c-541e3b55ae70",
   "metadata": {},
   "outputs": [
    {
     "data": {
      "text/plain": [
       "{0: [0, 0],\n",
       " 1: [1, 1],\n",
       " 2: [2, 2],\n",
       " 3: [3, 9],\n",
       " 4: [4, 10],\n",
       " 5: [5, 11],\n",
       " 6: [6, 12],\n",
       " 7: [7, 7]}"
      ]
     },
     "execution_count": 247,
     "metadata": {},
     "output_type": "execute_result"
    }
   ],
   "source": [
    "entity_id2class_id"
   ]
  },
  {
   "cell_type": "code",
   "execution_count": 222,
   "id": "cdec0492-f15f-46de-b942-31738cd95667",
   "metadata": {},
   "outputs": [
    {
     "data": {
      "text/plain": [
       "array([4, 0, 0, 0, 0, 0, 4, 4, 2, 2, 2, 2])"
      ]
     },
     "execution_count": 222,
     "metadata": {},
     "output_type": "execute_result"
    }
   ],
   "source": [
    "b_words_mapped"
   ]
  },
  {
   "cell_type": "code",
   "execution_count": 226,
   "id": "d4c2def8-33b5-40c6-8684-efec6f239e58",
   "metadata": {},
   "outputs": [
    {
     "data": {
      "text/plain": [
       "array([[ 0,  0],\n",
       "       [ 3,  9],\n",
       "       [ 0,  0],\n",
       "       [ 4, 10],\n",
       "       [ 0,  0],\n",
       "       [ 0,  0],\n",
       "       [ 0,  0],\n",
       "       [ 3,  9],\n",
       "       [ 0,  0],\n",
       "       [ 0,  0],\n",
       "       [ 4, 10],\n",
       "       [ 2,  2],\n",
       "       [ 2,  2]])"
      ]
     },
     "execution_count": 226,
     "metadata": {},
     "output_type": "execute_result"
    }
   ],
   "source": [
    "i_words_mapped"
   ]
  },
  {
   "cell_type": "code",
   "execution_count": 219,
   "id": "6847ea1b-f3da-423f-ad52-48e2a0f1edfb",
   "metadata": {},
   "outputs": [
    {
     "data": {
      "text/plain": [
       "(array([ 0,  1,  2,  3,  5,  6,  9, 12, 13, 14, 16, 19, 23], dtype=int64),)"
      ]
     },
     "execution_count": 219,
     "metadata": {},
     "output_type": "execute_result"
    }
   ],
   "source": [
    "i_mask_indices"
   ]
  },
  {
   "cell_type": "code",
   "execution_count": 215,
   "id": "cbbaf904-9c22-49ef-99f7-e5e8856780cc",
   "metadata": {},
   "outputs": [
    {
     "data": {
      "text/plain": [
       "(array([ 4,  7,  8, 10, 11, 15, 17, 18, 20, 21, 22, 24], dtype=int64),)"
      ]
     },
     "execution_count": 215,
     "metadata": {},
     "output_type": "execute_result"
    }
   ],
   "source": [
    "b_mask_indices"
   ]
  },
  {
   "cell_type": "code",
   "execution_count": 198,
   "id": "9ecb42d6-6266-4ed3-a06d-9dd3ff00e755",
   "metadata": {},
   "outputs": [
    {
     "data": {
      "text/plain": [
       "array([ 1,  2,  3,  4,  5,  6,  3,  2,  1,  0,  4,  8, 10])"
      ]
     },
     "execution_count": 198,
     "metadata": {},
     "output_type": "execute_result"
    }
   ],
   "source": [
    "i_words"
   ]
  },
  {
   "cell_type": "code",
   "execution_count": 199,
   "id": "9260d9ca-7864-4996-b70a-ffba2f6f8bc4",
   "metadata": {},
   "outputs": [
    {
     "data": {
      "text/plain": [
       "array([ 4,  6,  6,  3,  3,  0,  4,  4,  8,  8,  8, 10])"
      ]
     },
     "execution_count": 199,
     "metadata": {},
     "output_type": "execute_result"
    }
   ],
   "source": [
    "b_words"
   ]
  },
  {
   "cell_type": "code",
   "execution_count": 178,
   "id": "8a9554f3-6db5-4296-a981-179da50faf9f",
   "metadata": {},
   "outputs": [
    {
     "data": {
      "text/plain": [
       "(array([ 0,  1,  2,  3,  5,  6,  9, 12, 13, 14, 16, 19, 23], dtype=int64),)"
      ]
     },
     "execution_count": 178,
     "metadata": {},
     "output_type": "execute_result"
    }
   ],
   "source": [
    "i_mask_indices"
   ]
  },
  {
   "cell_type": "code",
   "execution_count": 176,
   "id": "afbc5eb8-1bb3-41c0-b0e7-6bf8fd571f95",
   "metadata": {},
   "outputs": [
    {
     "data": {
      "text/plain": [
       "(array([ 4,  7,  8, 10, 11, 15, 17, 18, 20, 21, 22, 24], dtype=int64),)"
      ]
     },
     "execution_count": 176,
     "metadata": {},
     "output_type": "execute_result"
    }
   ],
   "source": [
    "b_mask_indices"
   ]
  },
  {
   "cell_type": "markdown",
   "id": "28031698-3d99-4124-9273-913d9aa0c133",
   "metadata": {},
   "source": [
    "### Done"
   ]
  },
  {
   "cell_type": "code",
   "execution_count": 250,
   "id": "ca9682e7-5a4c-424d-ba0b-26873b522025",
   "metadata": {},
   "outputs": [],
   "source": [
    "model_id2cur_ent_label = {\n",
    "            0:'O', \n",
    "            1:'O',\n",
    "            2:'NAME_STUDENT',\n",
    "            3:'O',\n",
    "            4:'PHONE_NUM',\n",
    "            5:'O',\n",
    "            6:'O',\n",
    "            7:'O',\n",
    "            8:'ID_NUM',\n",
    "            9:'O',\n",
    "            10:'ID_NUM',\n",
    "            11:'O',\n",
    "            12:'STREET_ADDRESS',\n",
    "            13:'O',\n",
    "            14:'EMAIL',\n",
    "            15:'O',\n",
    "            16:'O',\n",
    "            17:'O'}"
   ]
  },
  {
   "cell_type": "code",
   "execution_count": 147,
   "id": "c432a884-3bd1-4de7-acac-3730f8ee6a57",
   "metadata": {},
   "outputs": [],
   "source": [
    "model_id2cur_entity_id = {model_id: entity2id[model_id2cur_ent_label[model_id]] for model_id,_ in model_id2cur_ent_label.items()}"
   ]
  },
  {
   "cell_type": "markdown",
   "id": "f20c736b-5c5f-4ab5-a4d9-f169b28fdb2f",
   "metadata": {
    "tags": []
   },
   "source": [
    "## Class changes"
   ]
  },
  {
   "cell_type": "markdown",
   "id": "c86096be-71df-45ac-a218-50348ce57b98",
   "metadata": {},
   "source": [
    "### Old"
   ]
  },
  {
   "cell_type": "code",
   "execution_count": null,
   "id": "be8d9791-f0aa-4a2e-a8c3-f1d5a1e2aa6b",
   "metadata": {},
   "outputs": [],
   "source": [
    "class Yanis_Adapter(PII_Adapter):\n",
    "    def __init__(self, threshold = 0.1):\n",
    "        super().__init__(\"Yanis/microsoft-deberta-v3-large_ner_conll2003-anonimization_TRY_1\")\n",
    "        \n",
    "        self.O_id = self.model.config.label2id['O']\n",
    "            \n",
    "        self.threshold = threshold\n",
    "        self.model_id2cur_ent_label = {\n",
    "            0:'O', \n",
    "            1:'O',\n",
    "            2:'NAME_STUDENT',\n",
    "            3:'O',\n",
    "            4:'PHONE_NUM',\n",
    "            5:'O',\n",
    "            6:'O',\n",
    "            7:'O',\n",
    "            8:'ID_NUM',\n",
    "            9:'O',\n",
    "            10:'ID_NUM',\n",
    "            11:'O',\n",
    "            12:'STREET_ADDRESS',\n",
    "            13:'O',\n",
    "            14:'EMAIL',\n",
    "            15:'O',\n",
    "            16:'O',\n",
    "            17:'O'}\n",
    "        \n",
    "        #B Only\n",
    "#         self.model_id2cur_id = {key:classes2id[value] for key,value in self.model_id2cur_label.items()}\n",
    "        \n",
    "        self.labels_irrelevant = [key for key,value in self.model_id2cur_ent_label.items() if value == 'O' and key != self.O_id]\n",
    "        \n",
    "        rev_model_id2cur_ent_label = {value:key for key,value in  self.model_id2cur_ent_label.items()}\n",
    "        rev_model_id2cur_ent_label['O'] = self.O_id\n",
    "        \n",
    "        cur_label2model_id = {'O': self.O_id}\n",
    "        for label in classes:\n",
    "            if label == 'O':  \n",
    "                continue\n",
    "            else:\n",
    "                entity = label.split('-')[1]\n",
    "\n",
    "                if entity in rev_model_id2cur_ent_label:\n",
    "                    cur_label2model_id[label] = rev_model_id2cur_ent_label[entity]        \n",
    "                else:\n",
    "                    cur_label2model_id[label] = rev_model_id2cur_ent_label['O']\n",
    "                    \n",
    "        self.cur_label2model_id = cur_label2model_id"
   ]
  },
  {
   "cell_type": "markdown",
   "id": "037de239-36a0-4f2d-8770-a685398a2cea",
   "metadata": {},
   "source": [
    "### New"
   ]
  },
  {
   "cell_type": "code",
   "execution_count": 15,
   "id": "18ef728b-2b6c-4f28-a038-9a66cc928d84",
   "metadata": {},
   "outputs": [],
   "source": [
    "class Yanis_Adapter(PII_Adapter):\n",
    "    def __init__(self, threshold = 0.1):\n",
    "        super().__init__(\"Yanis/microsoft-deberta-v3-large_ner_conll2003-anonimization_TRY_1\")\n",
    "        \n",
    "        self.O_id = self.model.config.label2id['O']\n",
    "            \n",
    "        self.threshold = threshold\n",
    "        self.model_id2cur_ent_label = {\n",
    "            0:'O', \n",
    "            1:'O',\n",
    "            2:'NAME_STUDENT',\n",
    "            3:'O',\n",
    "            4:'PHONE_NUM',\n",
    "            5:'O',\n",
    "            6:'O',\n",
    "            7:'O',\n",
    "            8:'ID_NUM',\n",
    "            9:'O',\n",
    "            10:'ID_NUM',\n",
    "            11:'O',\n",
    "            12:'STREET_ADDRESS',\n",
    "            13:'O',\n",
    "            14:'EMAIL',\n",
    "            15:'O',\n",
    "            16:'O',\n",
    "            17:'O'}\n",
    "        \n",
    "        self.model_id_pos = [i for i,label in self.model_id2cur_ent_label.items() if label!='O']\n",
    "        self.model_id2cur_entity_id = {model_id: entity2id[self.model_id2cur_ent_label[model_id]] for model_id,_ in self.model_id2cur_ent_label.items()}\n",
    "        self.np_model_id2cur_entity_id = np.array([entity2id[self.model_id2cur_ent_label[model_id]] for model_id,_ in self.model_id2cur_ent_label.items()], dtype='int8')\n",
    "        #B Only\n",
    "#         self.model_id2cur_id = {key:classes2id[value] for key,value in self.model_id2cur_label.items()}\n",
    "        \n",
    "        self.labels_irrelevant = [key for key,value in self.model_id2cur_ent_label.items() if value == 'O' and key != self.O_id]\n",
    "        \n",
    "        rev_model_id2cur_ent_label = {value:key for key,value in  self.model_id2cur_ent_label.items()}\n",
    "        rev_model_id2cur_ent_label['O'] = self.O_id\n",
    "        \n",
    "        cur_label2model_id = {'O': self.O_id}\n",
    "        for label in classes:\n",
    "            if label == 'O':  \n",
    "                continue\n",
    "            else:\n",
    "                entity = label.split('-')[1]\n",
    "\n",
    "                if entity in rev_model_id2cur_ent_label:\n",
    "                    cur_label2model_id[label] = rev_model_id2cur_ent_label[entity]        \n",
    "                else:\n",
    "                    cur_label2model_id[label] = rev_model_id2cur_ent_label['O']\n",
    "                    \n",
    "        self.cur_label2model_id = cur_label2model_id\n",
    "        \n",
    "        \n",
    "        \n",
    "model_adapter = Yanis_Adapter()"
   ]
  },
  {
   "cell_type": "code",
   "execution_count": 14,
   "id": "b12f3193-e5a4-41ea-bf95-9d3dd147e4a3",
   "metadata": {},
   "outputs": [],
   "source": [
    "def process_data(data, mode: str = None):\n",
    "    if mode is not None:\n",
    "        if not isinstance(mode, str):\n",
    "            raise TypeError(\"Mode must be a string.\")\n",
    "        # Process data with specified mode\n",
    "    else:\n",
    "        # Process data with default behavior\n",
    "        pass"
   ]
  },
  {
   "cell_type": "code",
   "execution_count": 19,
   "id": "bc2be264-11af-47a6-8fab-24dcea3bdb43",
   "metadata": {},
   "outputs": [
    {
     "name": "stdout",
     "output_type": "stream",
     "text": [
      "first\n",
      "first\n",
      "second\n"
     ]
    }
   ],
   "source": [
    "def process_data(data, mode=None):\n",
    "    if mode is None:\n",
    "        # Default mode\n",
    "        # Process data with default behavior\n",
    "        print('first')\n",
    "        pass\n",
    "    elif mode == 'custom':\n",
    "        print('second')\n",
    "        # Custom mode\n",
    "        # Process data with custom behavior\n",
    "        pass\n",
    "    else:\n",
    "        print('third')\n",
    "        # Handle other modes\n",
    "        pass\n",
    "\n",
    "# Calling the function with different scenarios:\n",
    "process_data('dsadas')  # No mode specified, defaults to default behavior\n",
    "process_data('dsadas', mode=None)  # Explicitly passing None\n",
    "process_data('dsadas', mode='custom')"
   ]
  },
  {
   "cell_type": "code",
   "execution_count": 20,
   "id": "31d32a49-84bf-4869-9f5b-ef539ed4913e",
   "metadata": {},
   "outputs": [
    {
     "name": "stdout",
     "output_type": "stream",
     "text": [
      "Processing data with default behavior.\n",
      "Processing data with default behavior.\n",
      "Processing data with mode: custom\n"
     ]
    }
   ],
   "source": [
    "def process_data(data, mode: str = None):\n",
    "    if mode is not None:\n",
    "        if not isinstance(mode, str):\n",
    "            raise TypeError(\"Mode must be a string.\")\n",
    "        print(\"Processing data with mode:\", mode)\n",
    "    else:\n",
    "        print(\"Processing data with default behavior.\")\n",
    "\n",
    "# Calling the function with different scenarios:\n",
    "process_data(\"some_data\")  # No mode specified, defaults to default behavior\n",
    "process_data(\"some_data\", mode=None)  # Explicitly passing None, might raise a TypeError\n",
    "process_data(\"some_data\", mode='custom')  # Explicitly passing a custom mode"
   ]
  },
  {
   "cell_type": "code",
   "execution_count": 15,
   "id": "cbfe4812-c0c2-4c8d-a734-35dcf5654448",
   "metadata": {},
   "outputs": [],
   "source": [
    "process_data(None)"
   ]
  },
  {
   "cell_type": "code",
   "execution_count": 17,
   "id": "ae3b6931-5faa-411b-8f43-00a4ee97041d",
   "metadata": {},
   "outputs": [],
   "source": [
    "process_data(None, mode=None)"
   ]
  },
  {
   "cell_type": "code",
   "execution_count": null,
   "id": "eb744e08-40db-4851-8c44-c79cd13b91d9",
   "metadata": {},
   "outputs": [],
   "source": [
    "process_data(None, mode=None)"
   ]
  },
  {
   "cell_type": "code",
   "execution_count": null,
   "id": "a737a71c-34c3-42bc-8e01-3c44d4b0a6d2",
   "metadata": {},
   "outputs": [],
   "source": []
  }
 ],
 "metadata": {
  "kernelspec": {
   "display_name": "Python 3",
   "language": "python",
   "name": "python3"
  },
  "language_info": {
   "codemirror_mode": {
    "name": "ipython",
    "version": 3
   },
   "file_extension": ".py",
   "mimetype": "text/x-python",
   "name": "python",
   "nbconvert_exporter": "python",
   "pygments_lexer": "ipython3",
   "version": "3.6.13"
  },
  "toc-autonumbering": true
 },
 "nbformat": 4,
 "nbformat_minor": 5
}
