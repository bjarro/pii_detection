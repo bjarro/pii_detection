{
 "cells": [
  {
   "cell_type": "markdown",
   "id": "134afcd1-fca5-48d7-ae5b-0594d29f220a",
   "metadata": {},
   "source": [
    "# Imports"
   ]
  },
  {
   "cell_type": "code",
   "execution_count": 1,
   "id": "e41dbb79-f9ad-4fa1-afba-9194b105db16",
   "metadata": {},
   "outputs": [
    {
     "name": "stderr",
     "output_type": "stream",
     "text": [
      "D:\\Anaconda3\\envs\\nlp_torch\\Lib\\site-packages\\tqdm\\auto.py:21: TqdmWarning: IProgress not found. Please update jupyter and ipywidgets. See https://ipywidgets.readthedocs.io/en/stable/user_install.html\n",
      "  from .autonotebook import tqdm as notebook_tqdm\n"
     ]
    }
   ],
   "source": [
    "%run PII_Util.py"
   ]
  },
  {
   "cell_type": "code",
   "execution_count": 2,
   "id": "ba8c47ad-dd01-42af-8847-b280df8bcd12",
   "metadata": {},
   "outputs": [
    {
     "name": "stdout",
     "output_type": "stream",
     "text": [
      "dsda\n"
     ]
    }
   ],
   "source": [
    "print('dsda')"
   ]
  },
  {
   "cell_type": "markdown",
   "id": "c3210f73-3d09-4a13-b6fe-a49718e93543",
   "metadata": {},
   "source": [
    "# Load Data"
   ]
  },
  {
   "cell_type": "code",
   "execution_count": 3,
   "id": "cb7a1969-6bec-4894-9214-68fd71db9c05",
   "metadata": {},
   "outputs": [],
   "source": [
    "path_train = './in/train.json'\n",
    "path_test = './in/test.json'"
   ]
  },
  {
   "cell_type": "code",
   "execution_count": 4,
   "id": "bb767dfb-fb4a-4d31-83ac-b7802a085eb5",
   "metadata": {},
   "outputs": [],
   "source": [
    "train_json = json.load(open(path_train))\n",
    "df_unsplitted = pd.json_normalize(train_json)\n",
    "\n",
    "test_json = json.load(open(path_test))\n",
    "df_test = pd.json_normalize(test_json)"
   ]
  },
  {
   "cell_type": "markdown",
   "id": "f7ff87e9-c7ea-4c6d-96a6-a9b336e10771",
   "metadata": {},
   "source": [
    "# Split (Stratified)"
   ]
  },
  {
   "cell_type": "code",
   "execution_count": 10,
   "id": "85579b1b-9262-4cb9-9b14-32d97411df38",
   "metadata": {},
   "outputs": [],
   "source": [
    "from sklearn.cluster import DBSCAN\n",
    "from sklearn.preprocessing import StandardScaler\n",
    "from sklearn.model_selection import train_test_split"
   ]
  },
  {
   "cell_type": "code",
   "execution_count": 5,
   "id": "84890797-fe5b-4296-bf5d-e1f71a814e1e",
   "metadata": {},
   "outputs": [],
   "source": [
    "def stratified_split(df_unsplitted, possible_labels, test_size=0.12, random_state=42):\n",
    "    df_dist = label_count_columns(df_unsplitted, classes)\n",
    "    df_dist = perform_dbscan_clustering(df_dist, eps=0.5, min_samples=5)\n",
    "\n",
    "    df_train, df_valid = train_test_split(df_unsplitted, test_size=test_size, random_state=random_state, stratify=df_dist['cluster'])\n",
    "    return df_train, df_valid\n",
    "\n",
    "def label_count_columns(df, possible_labels):\n",
    "    # Initialize a dictionary to store the count of each label\n",
    "    label_counts = {label: [] for label in possible_labels}\n",
    "    \n",
    "    # Iterate over each row in the DataFrame\n",
    "    for _, row in df.iterrows():\n",
    "        # Use Counter to count the occurrence of each label in the sequence\n",
    "        row_label_counts = Counter(row['labels'])\n",
    "        \n",
    "        # Append the counts to the label_counts dictionary\n",
    "        for label in possible_labels:\n",
    "            label_counts[label].append(row_label_counts[label])\n",
    "    \n",
    "    # Create a new DataFrame from the label_counts dictionary\n",
    "    label_counts_df = pd.DataFrame(label_counts)\n",
    "    \n",
    "    return label_counts_df\n",
    "\n",
    "\n",
    "\n",
    "def perform_dbscan_clustering(label_counts_df, eps=0.5, min_samples=5):\n",
    "    # Standardize the feature values\n",
    "    scaler = StandardScaler()\n",
    "    scaled_features = scaler.fit_transform(label_counts_df)\n",
    "    \n",
    "    # Perform DBSCAN clustering\n",
    "    dbscan = DBSCAN(eps=eps, min_samples=min_samples)\n",
    "    dbscan.fit(scaled_features)\n",
    "    \n",
    "    # Add cluster labels to the DataFrame\n",
    "    label_counts_df['cluster'] = dbscan.labels_\n",
    "    \n",
    "    return label_counts_df"
   ]
  },
  {
   "cell_type": "code",
   "execution_count": 11,
   "id": "23dda0bf-4982-4160-96cb-cea1aad0630b",
   "metadata": {},
   "outputs": [],
   "source": [
    "df_train, df_valid = stratified_split(df_unsplitted, classes, test_size=0.12, random_state=42)"
   ]
  },
  {
   "cell_type": "markdown",
   "id": "66e7dc97-ae56-4bf3-8efa-500368318c14",
   "metadata": {},
   "source": [
    "# Preprocessing"
   ]
  },
  {
   "cell_type": "code",
   "execution_count": 15,
   "id": "46f92b89-cc30-4255-8fd3-afb9ac541d23",
   "metadata": {},
   "outputs": [],
   "source": [
    "from datasets import Dataset"
   ]
  },
  {
   "cell_type": "code",
   "execution_count": 16,
   "id": "8278c0a6-3950-428f-b277-e8e258609eec",
   "metadata": {},
   "outputs": [],
   "source": [
    "ds_train = Dataset.from_pandas(df_train)\n",
    "ds_valid = Dataset.from_pandas(df_valid)"
   ]
  },
  {
   "cell_type": "code",
   "execution_count": 14,
   "id": "147ab4c7-c70b-4af9-b60b-8e28e05a8414",
   "metadata": {},
   "outputs": [
    {
     "name": "stderr",
     "output_type": "stream",
     "text": [
      "Some weights of DebertaV2ForTokenClassification were not initialized from the model checkpoint at Yanis/microsoft-deberta-v3-large_ner_conll2003-anonimization_TRY_1 and are newly initialized because the shapes did not match:\n",
      "- classifier.weight: found shape torch.Size([18, 1024]) in the checkpoint and torch.Size([15, 1024]) in the model instantiated\n",
      "- classifier.bias: found shape torch.Size([18]) in the checkpoint and torch.Size([15]) in the model instantiated\n",
      "You should probably TRAIN this model on a down-stream task to be able to use it for predictions and inference.\n"
     ]
    },
    {
     "name": "stdout",
     "output_type": "stream",
     "text": [
      "CPU times: total: 7.08 s\n",
      "Wall time: 11.9 s\n"
     ]
    }
   ],
   "source": [
    "%%time\n",
    "model_adapter = Yanis_Adapter(threshold = 0.1, from_scratch=True, mode_bio='reorder')"
   ]
  },
  {
   "cell_type": "code",
   "execution_count": 17,
   "id": "5b7c6c22-adab-4137-a868-0386dcba5de8",
   "metadata": {
    "scrolled": true
   },
   "outputs": [
    {
     "name": "stderr",
     "output_type": "stream",
     "text": [
      "Map: 100%|█████████████████████████████████████████████████████████████████| 5990/5990 [00:56<00:00, 105.68 examples/s]\n",
      "Map: 100%|███████████████████████████████████████████████████████████████████| 817/817 [00:07<00:00, 111.39 examples/s]"
     ]
    },
    {
     "name": "stdout",
     "output_type": "stream",
     "text": [
      "CPU times: total: 1min 12s\n",
      "Wall time: 1min 14s\n"
     ]
    },
    {
     "name": "stderr",
     "output_type": "stream",
     "text": [
      "\n"
     ]
    }
   ],
   "source": [
    "%%time\n",
    "ds_prep_train = ds_train.map(preprocess_from_words, fn_kwargs={\"model_adapter\": model_adapter, \"col_words\": \"tokens\", \"col_labels\": \"labels\", \"mode_bio\": model_adapter.mode_bio}, batched=False)\n",
    "ds_prep_valid = ds_valid.map(preprocess_from_words, fn_kwargs={\"model_adapter\": model_adapter, \"col_words\": \"tokens\", \"col_labels\": \"labels\", \"mode_bio\": model_adapter.mode_bio}, batched=False)"
   ]
  },
  {
   "cell_type": "markdown",
   "id": "ec928ec4-7659-45ca-821e-a8852bd0aa4e",
   "metadata": {},
   "source": [
    "# Training"
   ]
  },
  {
   "cell_type": "code",
   "execution_count": 18,
   "id": "6ecb47ac-fbcd-4767-8215-6449caefe147",
   "metadata": {},
   "outputs": [],
   "source": [
    "model = model_adapter.model"
   ]
  },
  {
   "cell_type": "code",
   "execution_count": 19,
   "id": "476b8f3c-b281-49a7-b881-11e187949319",
   "metadata": {},
   "outputs": [],
   "source": [
    "data_collator = DataCollatorForTokenClassification(model_adapter.tokenizer)"
   ]
  },
  {
   "cell_type": "code",
   "execution_count": 20,
   "id": "540af95e-266e-4d67-be62-0fe7de04b67e",
   "metadata": {},
   "outputs": [],
   "source": [
    "temp_train = ds_prep_train.select(range(0, 2))\n",
    "temp_valid = ds_prep_valid.select(range(0, 2))"
   ]
  },
  {
   "cell_type": "code",
   "execution_count": 22,
   "id": "dcc0c3d7-2bf5-4b8a-8851-3f33e3137267",
   "metadata": {},
   "outputs": [],
   "source": [
    "from transformers import Trainer, TrainingArguments, EarlyStoppingCallback"
   ]
  },
  {
   "cell_type": "code",
   "execution_count": 23,
   "id": "b95c9fc7-5550-4667-9993-25282feb83ee",
   "metadata": {},
   "outputs": [],
   "source": [
    "training_args = TrainingArguments(\n",
    "    per_device_train_batch_size=1,\n",
    "    num_train_epochs=3,\n",
    "    logging_dir=\"./logs\",\n",
    "    logging_steps=50,\n",
    "    save_steps=1000,\n",
    "    output_dir='./results', \n",
    "    optim=\"adafactor\",\n",
    "    per_device_eval_batch_size=1,        # batch size for evaluation\n",
    "    eval_accumulation_steps = 1,\n",
    "    \n",
    "#     warmup_steps=500,                    # number of warmup steps for learning rate scheduler\n",
    "#     weight_decay=0.01,                   # strength of weight decay\n",
    "    evaluation_strategy=\"steps\",\n",
    "    eval_steps=1000,                      # evaluate every 500 steps\n",
    "    load_best_model_at_end=True,           # stop training if no improvement for 3 evaluations\n",
    "    \n",
    ")\n",
    "\n",
    "trainer = Trainer(\n",
    "    model=model,                       # the instantiated 🤗 Transformers model to be trained\n",
    "    args=training_args,                # training arguments, defined above\n",
    "    train_dataset=temp_train,       # training dataset\n",
    "    eval_dataset=temp_valid,          # evaluation dataset\n",
    "    callbacks=[EarlyStoppingCallback(early_stopping_patience=3)],\n",
    "    data_collator=data_collator,\n",
    "\n",
    "    \n",
    ")"
   ]
  },
  {
   "cell_type": "code",
   "execution_count": 24,
   "id": "fc555459-2701-4e6d-b9e3-b3e0f53f3a2c",
   "metadata": {},
   "outputs": [],
   "source": [
    "#Freeze Base Layers\n",
    "\n",
    "for param in model.base_model.parameters():\n",
    "    param.requires_grad = False"
   ]
  },
  {
   "cell_type": "code",
   "execution_count": 25,
   "id": "9a2dddb3-0d0e-470f-9894-70918bfe639c",
   "metadata": {},
   "outputs": [
    {
     "data": {
      "text/html": [
       "\n",
       "    <div>\n",
       "      \n",
       "      <progress value='6' max='6' style='width:300px; height:20px; vertical-align: middle;'></progress>\n",
       "      [6/6 01:16, Epoch 3/3]\n",
       "    </div>\n",
       "    <table border=\"1\" class=\"dataframe\">\n",
       "  <thead>\n",
       " <tr style=\"text-align: left;\">\n",
       "      <th>Step</th>\n",
       "      <th>Training Loss</th>\n",
       "      <th>Validation Loss</th>\n",
       "    </tr>\n",
       "  </thead>\n",
       "  <tbody>\n",
       "  </tbody>\n",
       "</table><p>"
      ],
      "text/plain": [
       "<IPython.core.display.HTML object>"
      ]
     },
     "metadata": {},
     "output_type": "display_data"
    }
   ],
   "source": [
    "result = trainer.train()"
   ]
  },
  {
   "cell_type": "code",
   "execution_count": null,
   "id": "731bbaac-2aa2-45e4-bd65-0877267d9abd",
   "metadata": {},
   "outputs": [],
   "source": [
    "pred_results = trainer.predict(dataset_filtered)"
   ]
  },
  {
   "cell_type": "code",
   "execution_count": 26,
   "id": "4b1a1054-78df-439d-a161-0698fe661ae1",
   "metadata": {},
   "outputs": [
    {
     "ename": "TypeError",
     "evalue": "expected str, bytes or os.PathLike object, not NoneType",
     "output_type": "error",
     "traceback": [
      "\u001b[1;31m---------------------------------------------------------------------------\u001b[0m",
      "\u001b[1;31mTypeError\u001b[0m                                 Traceback (most recent call last)",
      "Cell \u001b[1;32mIn[26], line 6\u001b[0m\n\u001b[0;32m      3\u001b[0m \u001b[38;5;66;03m# Now you can save the best model wherever you want\u001b[39;00m\n\u001b[0;32m      4\u001b[0m \u001b[38;5;66;03m# For example, you can use shutil to copy the best model to a desired directory\u001b[39;00m\n\u001b[0;32m      5\u001b[0m \u001b[38;5;28;01mimport\u001b[39;00m \u001b[38;5;21;01mshutil\u001b[39;00m\n\u001b[1;32m----> 6\u001b[0m \u001b[43mshutil\u001b[49m\u001b[38;5;241;43m.\u001b[39;49m\u001b[43mcopytree\u001b[49m\u001b[43m(\u001b[49m\u001b[43mbest_model_path\u001b[49m\u001b[43m,\u001b[49m\u001b[43m \u001b[49m\u001b[38;5;124;43m\"\u001b[39;49m\u001b[38;5;124;43m./mock/yanis_02\u001b[39;49m\u001b[38;5;124;43m\"\u001b[39;49m\u001b[43m)\u001b[49m\n",
      "File \u001b[1;32mD:\\Anaconda3\\envs\\nlp_torch\\Lib\\shutil.py:600\u001b[0m, in \u001b[0;36mcopytree\u001b[1;34m(src, dst, symlinks, ignore, copy_function, ignore_dangling_symlinks, dirs_exist_ok)\u001b[0m\n\u001b[0;32m    598\u001b[0m \u001b[38;5;28;01mwith\u001b[39;00m os\u001b[38;5;241m.\u001b[39mscandir(src) \u001b[38;5;28;01mas\u001b[39;00m itr:\n\u001b[0;32m    599\u001b[0m     entries \u001b[38;5;241m=\u001b[39m \u001b[38;5;28mlist\u001b[39m(itr)\n\u001b[1;32m--> 600\u001b[0m \u001b[38;5;28;01mreturn\u001b[39;00m \u001b[43m_copytree\u001b[49m\u001b[43m(\u001b[49m\u001b[43mentries\u001b[49m\u001b[38;5;241;43m=\u001b[39;49m\u001b[43mentries\u001b[49m\u001b[43m,\u001b[49m\u001b[43m \u001b[49m\u001b[43msrc\u001b[49m\u001b[38;5;241;43m=\u001b[39;49m\u001b[43msrc\u001b[49m\u001b[43m,\u001b[49m\u001b[43m \u001b[49m\u001b[43mdst\u001b[49m\u001b[38;5;241;43m=\u001b[39;49m\u001b[43mdst\u001b[49m\u001b[43m,\u001b[49m\u001b[43m \u001b[49m\u001b[43msymlinks\u001b[49m\u001b[38;5;241;43m=\u001b[39;49m\u001b[43msymlinks\u001b[49m\u001b[43m,\u001b[49m\n\u001b[0;32m    601\u001b[0m \u001b[43m                 \u001b[49m\u001b[43mignore\u001b[49m\u001b[38;5;241;43m=\u001b[39;49m\u001b[43mignore\u001b[49m\u001b[43m,\u001b[49m\u001b[43m \u001b[49m\u001b[43mcopy_function\u001b[49m\u001b[38;5;241;43m=\u001b[39;49m\u001b[43mcopy_function\u001b[49m\u001b[43m,\u001b[49m\n\u001b[0;32m    602\u001b[0m \u001b[43m                 \u001b[49m\u001b[43mignore_dangling_symlinks\u001b[49m\u001b[38;5;241;43m=\u001b[39;49m\u001b[43mignore_dangling_symlinks\u001b[49m\u001b[43m,\u001b[49m\n\u001b[0;32m    603\u001b[0m \u001b[43m                 \u001b[49m\u001b[43mdirs_exist_ok\u001b[49m\u001b[38;5;241;43m=\u001b[39;49m\u001b[43mdirs_exist_ok\u001b[49m\u001b[43m)\u001b[49m\n",
      "File \u001b[1;32mD:\\Anaconda3\\envs\\nlp_torch\\Lib\\shutil.py:505\u001b[0m, in \u001b[0;36m_copytree\u001b[1;34m(entries, src, dst, symlinks, ignore, copy_function, ignore_dangling_symlinks, dirs_exist_ok)\u001b[0m\n\u001b[0;32m    503\u001b[0m \u001b[38;5;28;01mif\u001b[39;00m srcentry\u001b[38;5;241m.\u001b[39mname \u001b[38;5;129;01min\u001b[39;00m ignored_names:\n\u001b[0;32m    504\u001b[0m     \u001b[38;5;28;01mcontinue\u001b[39;00m\n\u001b[1;32m--> 505\u001b[0m srcname \u001b[38;5;241m=\u001b[39m \u001b[43mos\u001b[49m\u001b[38;5;241;43m.\u001b[39;49m\u001b[43mpath\u001b[49m\u001b[38;5;241;43m.\u001b[39;49m\u001b[43mjoin\u001b[49m\u001b[43m(\u001b[49m\u001b[43msrc\u001b[49m\u001b[43m,\u001b[49m\u001b[43m \u001b[49m\u001b[43msrcentry\u001b[49m\u001b[38;5;241;43m.\u001b[39;49m\u001b[43mname\u001b[49m\u001b[43m)\u001b[49m\n\u001b[0;32m    506\u001b[0m dstname \u001b[38;5;241m=\u001b[39m os\u001b[38;5;241m.\u001b[39mpath\u001b[38;5;241m.\u001b[39mjoin(dst, srcentry\u001b[38;5;241m.\u001b[39mname)\n\u001b[0;32m    507\u001b[0m srcobj \u001b[38;5;241m=\u001b[39m srcentry \u001b[38;5;28;01mif\u001b[39;00m use_srcentry \u001b[38;5;28;01melse\u001b[39;00m srcname\n",
      "File \u001b[1;32m<frozen ntpath>:108\u001b[0m, in \u001b[0;36mjoin\u001b[1;34m(path, *paths)\u001b[0m\n",
      "\u001b[1;31mTypeError\u001b[0m: expected str, bytes or os.PathLike object, not NoneType"
     ]
    }
   ],
   "source": [
    "best_model_path = trainer.state.best_model_checkpoint\n",
    "\n",
    "# Now you can save the best model wherever you want\n",
    "# For example, you can use shutil to copy the best model to a desired directory\n",
    "import shutil\n",
    "shutil.copytree(best_model_path, \"./mock/yanis_02\")"
   ]
  }
 ],
 "metadata": {
  "kernelspec": {
   "display_name": "Python 3",
   "language": "python",
   "name": "python3"
  },
  "language_info": {
   "codemirror_mode": {
    "name": "ipython",
    "version": 3
   },
   "file_extension": ".py",
   "mimetype": "text/x-python",
   "name": "python",
   "nbconvert_exporter": "python",
   "pygments_lexer": "ipython3",
   "version": "3.6.13"
  }
 },
 "nbformat": 4,
 "nbformat_minor": 5
}
