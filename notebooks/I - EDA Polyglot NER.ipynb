{
 "cells": [
  {
   "cell_type": "markdown",
   "id": "8a7381c7-ffe5-4394-aab3-608a54686b60",
   "metadata": {},
   "source": [
    "# Imports"
   ]
  },
  {
   "cell_type": "code",
   "execution_count": 1,
   "id": "60480d6f-c289-423a-8a4f-fb20d012828e",
   "metadata": {},
   "outputs": [],
   "source": [
    "import json\n",
    "import os\n",
    "import pandas as pd\n",
    "import re"
   ]
  },
  {
   "cell_type": "code",
   "execution_count": 2,
   "id": "91f9d563-cc48-4964-8b6b-947b8d97ef3c",
   "metadata": {},
   "outputs": [],
   "source": [
    "import spacy\n",
    "from spacy import displacy\n",
    "from spacy.tokens import Span, Doc"
   ]
  },
  {
   "cell_type": "code",
   "execution_count": 3,
   "id": "61de4eff-cde9-416a-ab9d-f5ec972f98de",
   "metadata": {},
   "outputs": [],
   "source": [
    "import matplotlib.pyplot as plt\n",
    "import seaborn as sns"
   ]
  },
  {
   "cell_type": "code",
   "execution_count": 4,
   "id": "78bf5f6a-b224-4831-bacb-4c9a9f65fd6f",
   "metadata": {},
   "outputs": [
    {
     "name": "stderr",
     "output_type": "stream",
     "text": [
      "D:\\Anaconda3\\envs\\nlp_torch\\Lib\\site-packages\\tqdm\\auto.py:21: TqdmWarning: IProgress not found. Please update jupyter and ipywidgets. See https://ipywidgets.readthedocs.io/en/stable/user_install.html\n",
      "  from .autonotebook import tqdm as notebook_tqdm\n"
     ]
    }
   ],
   "source": [
    "import pandas as pd\n",
    "from datasets import Dataset\n",
    "from datasets import load_dataset, load_from_disk\n",
    "from datasets import load_dataset_builder"
   ]
  },
  {
   "cell_type": "code",
   "execution_count": 5,
   "id": "c823290d-08be-4baa-a520-ca5910be4354",
   "metadata": {},
   "outputs": [],
   "source": [
    "%run PII_Util.py"
   ]
  },
  {
   "cell_type": "markdown",
   "id": "e2cc68e3-75da-4fb3-a64a-33e1c0207c3e",
   "metadata": {
    "tags": []
   },
   "source": [
    "# Data"
   ]
  },
  {
   "cell_type": "code",
   "execution_count": 6,
   "id": "d8554634-9fe4-46d1-a7c7-2778ce0bf0dd",
   "metadata": {},
   "outputs": [
    {
     "name": "stderr",
     "output_type": "stream",
     "text": [
      "D:\\Anaconda3\\envs\\nlp_torch\\Lib\\site-packages\\datasets\\load.py:1454: FutureWarning: The repository for polyglot_ner contains custom code which must be executed to correctly load the dataset. You can inspect the repository content at https://hf.co/datasets/polyglot_ner\n",
      "You can avoid this message in future by passing the argument `trust_remote_code=True`.\n",
      "Passing `trust_remote_code=True` will be mandatory to load this dataset from the next major release of `datasets`.\n",
      "  warnings.warn(\n"
     ]
    }
   ],
   "source": [
    "dataset_builder = load_dataset_builder('polyglot_ner')"
   ]
  },
  {
   "cell_type": "code",
   "execution_count": 7,
   "id": "8906378f-1532-44b9-bbd5-3b7cbf7de074",
   "metadata": {},
   "outputs": [
    {
     "name": "stdout",
     "output_type": "stream",
     "text": [
      "Available splits: dict_keys(['train'])\n"
     ]
    }
   ],
   "source": [
    "splits = dataset_builder.info.splits\n",
    "print(\"Available splits:\", splits.keys())"
   ]
  },
  {
   "cell_type": "code",
   "execution_count": 8,
   "id": "8fb9b33a-75a4-4cd2-9f71-bb7a8e644271",
   "metadata": {},
   "outputs": [
    {
     "data": {
      "text/plain": [
       "DatasetInfo(description='Polyglot-NER\\nA training dataset automatically generated from Wikipedia and Freebase the task\\nof named entity recognition. The dataset contains the basic Wikipedia based\\ntraining data for 40 languages we have (with coreference resolution) for the task of\\nnamed entity recognition. The details of the procedure of generating them is outlined in\\nSection 3 of the paper (https://arxiv.org/abs/1410.3791). Each config contains the data\\ncorresponding to a different language. For example, \"es\" includes only spanish examples.\\n', citation='@article{polyglotner,\\n         author = {Al-Rfou, Rami and Kulkarni, Vivek and Perozzi, Bryan and Skiena, Steven},\\n         title = {{Polyglot-NER}: Massive Multilingual Named Entity Recognition},\\n         journal = {{Proceedings of the 2015 {SIAM} International Conference on Data Mining, Vancouver, British Columbia, Canada, April 30- May 2, 2015}},\\n         month     = {April},\\n         year      = {2015},\\n         publisher = {SIAM},\\n}\\n', homepage='https://sites.google.com/site/rmyeid/projects/polylgot-ner', license='', features={'id': Value(dtype='string', id=None), 'lang': Value(dtype='string', id=None), 'words': Sequence(feature=Value(dtype='string', id=None), length=-1, id=None), 'ner': Sequence(feature=Value(dtype='string', id=None), length=-1, id=None)}, post_processed=None, supervised_keys=None, task_templates=None, builder_name='polyglot_ner', dataset_name='polyglot_ner', config_name='combined', version=1.0.0, splits={'train': SplitInfo(name='train', num_bytes=6286855097, num_examples=21070925, shard_lengths=None, dataset_name=None)}, download_checksums=None, download_size=1107018606, post_processing_size=None, dataset_size=6286855097, size_in_bytes=None)"
      ]
     },
     "execution_count": 8,
     "metadata": {},
     "output_type": "execute_result"
    }
   ],
   "source": [
    "dataset_builder.info"
   ]
  },
  {
   "cell_type": "code",
   "execution_count": 9,
   "id": "7b897d48-c165-4295-8def-f761c42a1def",
   "metadata": {},
   "outputs": [
    {
     "data": {
      "text/plain": [
       "SplitInfo(name='train', num_bytes=6286855097, num_examples=21070925, shard_lengths=None, dataset_name=None)"
      ]
     },
     "execution_count": 9,
     "metadata": {},
     "output_type": "execute_result"
    }
   ],
   "source": [
    "splits['train']"
   ]
  },
  {
   "cell_type": "code",
   "execution_count": 14,
   "id": "8a4df2aa-a9fd-4cd0-98f6-71c45dad8fbd",
   "metadata": {},
   "outputs": [
    {
     "name": "stderr",
     "output_type": "stream",
     "text": [
      "D:\\Anaconda3\\envs\\nlp_torch\\Lib\\site-packages\\datasets\\load.py:2516: FutureWarning: 'ignore_verifications' was deprecated in favor of 'verification_mode' in version 2.9.1 and will be removed in 3.0.0.\n",
      "You can remove this warning by passing 'verification_mode=no_checks' instead.\n",
      "  warnings.warn(\n",
      "Generating train split:   2%|▋                                    | 423982/21070925 [01:33<1:16:15, 4512.42 examples/s]\n"
     ]
    },
    {
     "name": "stdout",
     "output_type": "stream",
     "text": [
      "CPU times: total: 1min 35s\n",
      "Wall time: 1min 38s\n"
     ]
    }
   ],
   "source": [
    "%%time\n",
    "dataset = load_dataset(\"polyglot_ner\",languages=[\"en\"], ignore_verifications=True)\n",
    "# dataset = load_dataset(\"polyglot_ner\",languages=[\"en\"], download_mode='force_redownload')"
   ]
  },
  {
   "cell_type": "code",
   "execution_count": 15,
   "id": "0840fe55-aae1-485a-a08c-2ef92b456fdf",
   "metadata": {},
   "outputs": [
    {
     "data": {
      "text/plain": [
       "DatasetDict({\n",
       "    train: Dataset({\n",
       "        features: ['id', 'lang', 'words', 'ner'],\n",
       "        num_rows: 423982\n",
       "    })\n",
       "})"
      ]
     },
     "execution_count": 15,
     "metadata": {},
     "output_type": "execute_result"
    }
   ],
   "source": [
    "dataset"
   ]
  },
  {
   "cell_type": "code",
   "execution_count": 17,
   "id": "2e105202-f73d-41e6-86ea-ea94dacd31bd",
   "metadata": {},
   "outputs": [],
   "source": [
    "sample_entries = dataset[\"train\"][0:10]"
   ]
  },
  {
   "cell_type": "code",
   "execution_count": 18,
   "id": "7e1a6c6c-a4a8-4f51-9f6d-0609c0a1108c",
   "metadata": {},
   "outputs": [],
   "source": [
    "df_dataset = pd.DataFrame(dataset[\"train\"])"
   ]
  },
  {
   "cell_type": "code",
   "execution_count": 19,
   "id": "9a2790ff-8fa0-48a9-99fa-f43d5b57d7a2",
   "metadata": {},
   "outputs": [
    {
     "data": {
      "text/html": [
       "<div>\n",
       "<style scoped>\n",
       "    .dataframe tbody tr th:only-of-type {\n",
       "        vertical-align: middle;\n",
       "    }\n",
       "\n",
       "    .dataframe tbody tr th {\n",
       "        vertical-align: top;\n",
       "    }\n",
       "\n",
       "    .dataframe thead th {\n",
       "        text-align: right;\n",
       "    }\n",
       "</style>\n",
       "<table border=\"1\" class=\"dataframe\">\n",
       "  <thead>\n",
       "    <tr style=\"text-align: right;\">\n",
       "      <th></th>\n",
       "      <th>id</th>\n",
       "      <th>lang</th>\n",
       "      <th>words</th>\n",
       "      <th>ner</th>\n",
       "    </tr>\n",
       "  </thead>\n",
       "  <tbody>\n",
       "    <tr>\n",
       "      <th>0</th>\n",
       "      <td>0</td>\n",
       "      <td>en</td>\n",
       "      <td>[The, basilikon, (, ,, \", imperial, [, coin, ]...</td>\n",
       "      <td>[O, O, O, O, O, O, O, O, O, O, O, O, O, O, O, ...</td>\n",
       "    </tr>\n",
       "    <tr>\n",
       "      <th>1</th>\n",
       "      <td>1</td>\n",
       "      <td>en</td>\n",
       "      <td>[Migratory, along, the, south-eastern, coast, ...</td>\n",
       "      <td>[O, O, O, O, O, O, O, O, O, O, O, O, O, LOC, O...</td>\n",
       "    </tr>\n",
       "    <tr>\n",
       "      <th>2</th>\n",
       "      <td>2</td>\n",
       "      <td>en</td>\n",
       "      <td>[Irene, Luxbacher, ,, born, December, 10, ,, 1...</td>\n",
       "      <td>[PER, PER, O, O, O, O, O, O, O, LOC, O, LOC, O...</td>\n",
       "    </tr>\n",
       "    <tr>\n",
       "      <th>3</th>\n",
       "      <td>3</td>\n",
       "      <td>en</td>\n",
       "      <td>[The, fruit, is, a, berry, or, capsule, .]</td>\n",
       "      <td>[O, O, O, O, O, O, O, O]</td>\n",
       "    </tr>\n",
       "    <tr>\n",
       "      <th>4</th>\n",
       "      <td>4</td>\n",
       "      <td>en</td>\n",
       "      <td>[Facts, The, two, administrators, of, T&amp;D, Ind...</td>\n",
       "      <td>[O, O, O, O, O, O, O, O, O, O, ORG, O, O, O, O...</td>\n",
       "    </tr>\n",
       "  </tbody>\n",
       "</table>\n",
       "</div>"
      ],
      "text/plain": [
       "  id lang                                              words  \\\n",
       "0  0   en  [The, basilikon, (, ,, \", imperial, [, coin, ]...   \n",
       "1  1   en  [Migratory, along, the, south-eastern, coast, ...   \n",
       "2  2   en  [Irene, Luxbacher, ,, born, December, 10, ,, 1...   \n",
       "3  3   en         [The, fruit, is, a, berry, or, capsule, .]   \n",
       "4  4   en  [Facts, The, two, administrators, of, T&D, Ind...   \n",
       "\n",
       "                                                 ner  \n",
       "0  [O, O, O, O, O, O, O, O, O, O, O, O, O, O, O, ...  \n",
       "1  [O, O, O, O, O, O, O, O, O, O, O, O, O, LOC, O...  \n",
       "2  [PER, PER, O, O, O, O, O, O, O, LOC, O, LOC, O...  \n",
       "3                           [O, O, O, O, O, O, O, O]  \n",
       "4  [O, O, O, O, O, O, O, O, O, O, ORG, O, O, O, O...  "
      ]
     },
     "execution_count": 19,
     "metadata": {},
     "output_type": "execute_result"
    }
   ],
   "source": [
    "df_dataset.head()"
   ]
  },
  {
   "cell_type": "markdown",
   "id": "58c7c01d-11e1-4d4a-9a6c-4230b673420a",
   "metadata": {},
   "source": [
    "# EDA"
   ]
  },
  {
   "cell_type": "code",
   "execution_count": 25,
   "id": "ba2580ec-a4d5-42d1-b2eb-1c977da357b6",
   "metadata": {},
   "outputs": [],
   "source": [
    "col_tokens = 'words'\n",
    "col_labels = 'ner'"
   ]
  },
  {
   "cell_type": "code",
   "execution_count": 24,
   "id": "2cb4e3ae-7058-4b64-a4ca-32ee1c457eae",
   "metadata": {},
   "outputs": [
    {
     "data": {
      "image/png": "[encoded data removed]",
      "text/plain": [
       "<Figure size 1000x600 with 1 Axes>"
      ]
     },
     "metadata": {},
     "output_type": "display_data"
    }
   ],
   "source": [
    "df_dataset['total_tokens'] = df_dataset[col_tokens].apply(len)\n",
    "plt.figure(figsize=(10, 6))\n",
    "sns.histplot(df_dataset['total_tokens'], bins=30, kde=True)\n",
    "plt.title('Distribution of Total Tokens')\n",
    "plt.xlabel('# of tokens')\n",
    "plt.ylabel('Freq')\n",
    "plt.show()"
   ]
  },
  {
   "cell_type": "code",
   "execution_count": 27,
   "id": "3ccd173b-be42-4bc7-9383-02c03065e83a",
   "metadata": {},
   "outputs": [
    {
     "name": "stdout",
     "output_type": "stream",
     "text": [
      "CPU times: total: 4.52 s\n",
      "Wall time: 5.07 s\n"
     ]
    },
    {
     "data": {
      "text/html": [
       "<div>\n",
       "<style scoped>\n",
       "    .dataframe tbody tr th:only-of-type {\n",
       "        vertical-align: middle;\n",
       "    }\n",
       "\n",
       "    .dataframe tbody tr th {\n",
       "        vertical-align: top;\n",
       "    }\n",
       "\n",
       "    .dataframe thead th {\n",
       "        text-align: right;\n",
       "    }\n",
       "</style>\n",
       "<table border=\"1\" class=\"dataframe\">\n",
       "  <thead>\n",
       "    <tr style=\"text-align: right;\">\n",
       "      <th></th>\n",
       "      <th>id</th>\n",
       "      <th>token</th>\n",
       "      <th>labels</th>\n",
       "      <th>token_index</th>\n",
       "    </tr>\n",
       "  </thead>\n",
       "  <tbody>\n",
       "    <tr>\n",
       "      <th>0</th>\n",
       "      <td>0</td>\n",
       "      <td>The</td>\n",
       "      <td>O</td>\n",
       "      <td>0</td>\n",
       "    </tr>\n",
       "    <tr>\n",
       "      <th>1</th>\n",
       "      <td>0</td>\n",
       "      <td>basilikon</td>\n",
       "      <td>O</td>\n",
       "      <td>1</td>\n",
       "    </tr>\n",
       "    <tr>\n",
       "      <th>2</th>\n",
       "      <td>0</td>\n",
       "      <td>(</td>\n",
       "      <td>O</td>\n",
       "      <td>2</td>\n",
       "    </tr>\n",
       "    <tr>\n",
       "      <th>3</th>\n",
       "      <td>0</td>\n",
       "      <td>,</td>\n",
       "      <td>O</td>\n",
       "      <td>3</td>\n",
       "    </tr>\n",
       "    <tr>\n",
       "      <th>4</th>\n",
       "      <td>0</td>\n",
       "      <td>\"</td>\n",
       "      <td>O</td>\n",
       "      <td>4</td>\n",
       "    </tr>\n",
       "    <tr>\n",
       "      <th>...</th>\n",
       "      <td>...</td>\n",
       "      <td>...</td>\n",
       "      <td>...</td>\n",
       "      <td>...</td>\n",
       "    </tr>\n",
       "    <tr>\n",
       "      <th>10000236</th>\n",
       "      <td>423981</td>\n",
       "      <td>type</td>\n",
       "      <td>O</td>\n",
       "      <td>12</td>\n",
       "    </tr>\n",
       "    <tr>\n",
       "      <th>10000237</th>\n",
       "      <td>423981</td>\n",
       "      <td>of</td>\n",
       "      <td>O</td>\n",
       "      <td>13</td>\n",
       "    </tr>\n",
       "    <tr>\n",
       "      <th>10000238</th>\n",
       "      <td>423981</td>\n",
       "      <td>skiing</td>\n",
       "      <td>O</td>\n",
       "      <td>14</td>\n",
       "    </tr>\n",
       "    <tr>\n",
       "      <th>10000239</th>\n",
       "      <td>423981</td>\n",
       "      <td>competition</td>\n",
       "      <td>O</td>\n",
       "      <td>15</td>\n",
       "    </tr>\n",
       "    <tr>\n",
       "      <th>10000240</th>\n",
       "      <td>423981</td>\n",
       "      <td>.</td>\n",
       "      <td>O</td>\n",
       "      <td>16</td>\n",
       "    </tr>\n",
       "  </tbody>\n",
       "</table>\n",
       "<p>10000241 rows × 4 columns</p>\n",
       "</div>"
      ],
      "text/plain": [
       "              id        token labels token_index\n",
       "0              0          The      O           0\n",
       "1              0    basilikon      O           1\n",
       "2              0            (      O           2\n",
       "3              0            ,      O           3\n",
       "4              0            \"      O           4\n",
       "...          ...          ...    ...         ...\n",
       "10000236  423981         type      O          12\n",
       "10000237  423981           of      O          13\n",
       "10000238  423981       skiing      O          14\n",
       "10000239  423981  competition      O          15\n",
       "10000240  423981            .      O          16\n",
       "\n",
       "[10000241 rows x 4 columns]"
      ]
     },
     "execution_count": 27,
     "metadata": {},
     "output_type": "execute_result"
    }
   ],
   "source": [
    "%%time\n",
    "df_dataset['token_index'] = df_dataset[col_tokens].apply(lambda x: list(range(len(x))))\n",
    "\n",
    "# Explode the lists in each column, keep track of the original index and list index values\n",
    "df_tokens = df_dataset.set_index('id')[[col_tokens,col_labels, 'token_index']].apply(lambda col: col.explode()).reset_index(drop=False)\n",
    "df_tokens.columns = ['id', 'token', 'labels', 'token_index']\n",
    "df_tokens"
   ]
  },
  {
   "cell_type": "code",
   "execution_count": 28,
   "id": "59254e8a-07b6-4f01-86df-ee0a763641e3",
   "metadata": {
    "tags": []
   },
   "outputs": [
    {
     "data": {
      "text/plain": [
       "labels\n",
       "O      9257976\n",
       "ORG     260758\n",
       "PER     246198\n",
       "LOC     235309\n",
       "Name: count, dtype: int64"
      ]
     },
     "execution_count": 28,
     "metadata": {},
     "output_type": "execute_result"
    }
   ],
   "source": [
    "ser_value_counts = df_tokens.labels.value_counts()\n",
    "\n",
    "# # new_index = ser_value_counts.index.map(id2classes)\n",
    "\n",
    "# # Create a new Series with mapped values\n",
    "# pd.Series(ser_value_counts.values, index=new_index)\n",
    "ser_value_counts"
   ]
  }
 ],
 "metadata": {
  "kernelspec": {
   "display_name": "Python 3",
   "language": "python",
   "name": "python3"
  },
  "language_info": {
   "codemirror_mode": {
    "name": "ipython",
    "version": 3
   },
   "file_extension": ".py",
   "mimetype": "text/x-python",
   "name": "python",
   "nbconvert_exporter": "python",
   "pygments_lexer": "ipython3",
   "version": "3.6.13"
  }
 },
 "nbformat": 4,
 "nbformat_minor": 5
}
